{
 "cells": [
  {
   "cell_type": "markdown",
   "id": "56944b0d-1be0-4753-be15-5c031d79cad3",
   "metadata": {},
   "source": [
    "# Installs"
   ]
  },
  {
   "cell_type": "code",
   "execution_count": 1,
   "id": "2814ce58-4f55-434b-9420-92090d89aa1c",
   "metadata": {},
   "outputs": [],
   "source": [
    "# !pip -q install pydantic==2.5.2 \n",
    "# !pip -q install langchain langchain_mistralai langchain-openai\n",
    "# !pip -q install sqlalchemy\n",
    "# !pip -q install huggingface_hub openai tiktoken\n",
    "# !pip -q install chromadb duckduckgo-search"
   ]
  },
  {
   "cell_type": "markdown",
   "id": "4572d301-1952-42c3-9419-cfee0cfe6074",
   "metadata": {},
   "source": [
    "## Logging"
   ]
  },
  {
   "cell_type": "markdown",
   "id": "ef71f248-67c3-4933-b9b0-5ddaaaaf3bf0",
   "metadata": {},
   "source": [
    "## Imports"
   ]
  },
  {
   "cell_type": "code",
   "execution_count": 2,
   "id": "45cda378-c206-4c1f-9af4-de7c38e2c3ee",
   "metadata": {},
   "outputs": [],
   "source": [
    "import llmtools as t"
   ]
  },
  {
   "cell_type": "code",
   "execution_count": 3,
   "id": "bbc409c9-7937-4734-b1f9-349e1b1e0060",
   "metadata": {},
   "outputs": [
    {
     "name": "stderr",
     "output_type": "stream",
     "text": [
      "2024-02-19 17:20:35,540 [MainThread  ] [INFO ]  ---Setup logging---\n",
      "INFO:rootLogger:---Setup logging---\n"
     ]
    }
   ],
   "source": [
    "t.set_openai_key()\n",
    "logger = t.setup_logging()"
   ]
  },
  {
   "cell_type": "code",
   "execution_count": 4,
   "id": "3ed6d9ae-9941-43fa-a97c-c92cc90b8f86",
   "metadata": {},
   "outputs": [],
   "source": [
    "from langchain.prompts import ChatPromptTemplate\n",
    "from langchain_openai.chat_models import ChatOpenAI\n",
    "from langchain_openai.llms import OpenAI\n",
    "\n",
    "from langchain.schema.output_parser import StrOutputParser\n"
   ]
  },
  {
   "cell_type": "code",
   "execution_count": 5,
   "id": "883a37be-22f0-4267-a3f4-4243982f3c24",
   "metadata": {},
   "outputs": [],
   "source": [
    "model = ChatOpenAI(\n",
    "    model=\"gpt-3.5-turbo\",\n",
    "    temperature=0\n",
    "    )\n",
    "\n",
    "model2 = OpenAI(\n",
    "    model=\"text-davinci-003\",\n",
    "    temperature=0\n",
    "    )"
   ]
  },
  {
   "cell_type": "code",
   "execution_count": 6,
   "id": "f40314a4-c174-473a-874f-9be1a34f33a4",
   "metadata": {},
   "outputs": [],
   "source": [
    "prompt = ChatPromptTemplate.from_template(\n",
    "    \"tell me an intersting fact about {subject}\"\n",
    "    )"
   ]
  },
  {
   "cell_type": "code",
   "execution_count": 7,
   "id": "5d952c11",
   "metadata": {},
   "outputs": [],
   "source": [
    "chain = prompt | model\n",
    "chain2 = prompt | model2"
   ]
  },
  {
   "cell_type": "code",
   "execution_count": 11,
   "id": "fe436e59",
   "metadata": {},
   "outputs": [
    {
     "data": {
      "text/plain": [
       "AIMessage(content='One interesting fact about Langchain is that it is a decentralized platform that aims to revolutionize the way language learning is conducted by utilizing blockchain technology. This allows for transparent and secure transactions between students and teachers, as well as the ability to earn rewards for completing language learning tasks.')"
      ]
     },
     "execution_count": 11,
     "metadata": {},
     "output_type": "execute_result"
    }
   ],
   "source": [
    "chain.invoke({\"subject\": \"langchain\"})"
   ]
  },
  {
   "cell_type": "code",
   "execution_count": 12,
   "id": "b302bfb4",
   "metadata": {},
   "outputs": [],
   "source": [
    "chain = prompt | model | StrOutputParser()"
   ]
  },
  {
   "cell_type": "code",
   "execution_count": 14,
   "id": "ff1a8cb6",
   "metadata": {},
   "outputs": [
    {
     "data": {
      "text/plain": [
       "'Zimbabwe is home to the ancient city of Great Zimbabwe, which was once the capital of the Kingdom of Zimbabwe and is now a UNESCO World Heritage Site. The city was built entirely of stone without the use of mortar, and its ruins are a testament to the advanced engineering and architectural skills of the people who lived there.'"
      ]
     },
     "execution_count": 14,
     "metadata": {},
     "output_type": "execute_result"
    }
   ],
   "source": [
    "chain.invoke({\"subject\": \"Zimbabwe\"})"
   ]
  },
  {
   "cell_type": "markdown",
   "id": "4dd05733",
   "metadata": {},
   "source": [
    "# Bindings"
   ]
  },
  {
   "cell_type": "code",
   "execution_count": 16,
   "id": "0ce0448d",
   "metadata": {},
   "outputs": [],
   "source": [
    "prompt = ChatPromptTemplate.from_template(\n",
    "    \"tell me 3 intersting facts about {subject}\"\n",
    "    )"
   ]
  },
  {
   "cell_type": "code",
   "execution_count": 17,
   "id": "1296749c",
   "metadata": {},
   "outputs": [
    {
     "data": {
      "text/plain": [
       "'1. Go was developed by Google in 2007 and was officially released to the public in 2009. It was created by Robert Griesemer, Rob Pike, and Ken Thompson, who are all well-known computer scientists.'"
      ]
     },
     "execution_count": 17,
     "metadata": {},
     "output_type": "execute_result"
    }
   ],
   "source": [
    "chain = prompt | model.bind(stop=[\"\\n\"]) | StrOutputParser()\n",
    "chain.invoke({\"subject\": \"go language\"})"
   ]
  },
  {
   "cell_type": "markdown",
   "id": "edb936ba",
   "metadata": {},
   "source": [
    "# OpenAI Functions"
   ]
  },
  {
   "cell_type": "code",
   "execution_count": 19,
   "id": "933081d9",
   "metadata": {},
   "outputs": [],
   "source": [
    "functions = [\n",
    "    {\n",
    "      \"name\": \"joke\",\n",
    "      \"description\": \"A joke\",\n",
    "      \"parameters\": {\n",
    "        \"type\": \"object\",\n",
    "        \"properties\": {\n",
    "          \"setup\": {\n",
    "            \"type\": \"string\",\n",
    "            \"description\": \"The setup for the joke\"\n",
    "          },\n",
    "          \"punchline\": {\n",
    "            \"type\": \"string\",\n",
    "            \"description\": \"The punchline for the joke\"\n",
    "          }\n",
    "        },\n",
    "        \"required\": [\"setup\", \"punchline\"]\n",
    "      }\n",
    "    }\n",
    "  ]\n",
    "functions_chain = prompt | model.bind(function_call= {\"name\": \"joke\"}, functions= functions)"
   ]
  },
  {
   "cell_type": "code",
   "execution_count": 20,
   "id": "3b4fd512",
   "metadata": {},
   "outputs": [
    {
     "data": {
      "text/plain": [
       "AIMessage(content='', additional_kwargs={'function_call': {'arguments': '{\"setup\":\"Why was the football coach angry when he went to the bank?\",\"punchline\":\"He wanted his quarterback!\"}', 'name': 'joke'}})"
      ]
     },
     "execution_count": 20,
     "metadata": {},
     "output_type": "execute_result"
    }
   ],
   "source": [
    "functions_chain.invoke({'subject': 'football'}, config={})"
   ]
  },
  {
   "cell_type": "code",
   "execution_count": null,
   "id": "72191550",
   "metadata": {},
   "outputs": [],
   "source": []
  },
  {
   "cell_type": "markdown",
   "id": "0a92914e",
   "metadata": {},
   "source": [
    "# Functions Ouptut Parser"
   ]
  },
  {
   "cell_type": "code",
   "execution_count": 25,
   "id": "96bbe280",
   "metadata": {},
   "outputs": [],
   "source": [
    "from langchain.output_parsers.openai_functions import JsonKeyOutputFunctionsParser\n",
    "\n",
    "functions_chain = (\n",
    "    prompt\n",
    "    | model.bind(function_call= {\"name\": \"joke\"}, functions= functions)\n",
    "    | JsonKeyOutputFunctionsParser(key_name='setup')\n",
    ")"
   ]
  },
  {
   "cell_type": "code",
   "execution_count": 26,
   "id": "64de6be2",
   "metadata": {},
   "outputs": [
    {
     "data": {
      "text/plain": [
       "\"Why don't bears like fast food?\""
      ]
     },
     "execution_count": 26,
     "metadata": {},
     "output_type": "execute_result"
    }
   ],
   "source": [
    "functions_chain.invoke({\"subject\": \"bears\"})"
   ]
  },
  {
   "cell_type": "markdown",
   "id": "d17eb6a2",
   "metadata": {},
   "source": [
    "# Retriever"
   ]
  },
  {
   "cell_type": "code",
   "execution_count": 27,
   "id": "a2c705b1",
   "metadata": {},
   "outputs": [],
   "source": [
    "from operator import itemgetter\n",
    "from langchain.vectorstores import Chroma\n",
    "from langchain.embeddings import OpenAIEmbeddings\n",
    "from langchain.schema.runnable import RunnablePassthrough"
   ]
  },
  {
   "cell_type": "code",
   "execution_count": 28,
   "id": "66b3da95",
   "metadata": {},
   "outputs": [
    {
     "name": "stderr",
     "output_type": "stream",
     "text": [
      "/Users/tapiwamaruni/anaconda3/lib/python3.10/site-packages/langchain_core/_api/deprecation.py:117: LangChainDeprecationWarning: The class `langchain_community.embeddings.openai.OpenAIEmbeddings` was deprecated in langchain-community 0.1.0 and will be removed in 0.2.0. An updated version of the class exists in the langchain-openai package and should be used instead. To use it run `pip install -U langchain-openai` and import as `from langchain_openai import OpenAIEmbeddings`.\n",
      "  warn_deprecated(\n"
     ]
    }
   ],
   "source": [
    "# Create the retriever\n",
    "fake_docs = [\"James bond works for MI6\",\"Bond is a spy\",\n",
    "             \"James Bond has a licence to kill\", \"James Bond likes cats\"]\n",
    "vectorstore = Chroma.from_texts(fake_docs, embedding=OpenAIEmbeddings())\n",
    "retriever = vectorstore.as_retriever()"
   ]
  },
  {
   "cell_type": "code",
   "execution_count": 29,
   "id": "1c68a028",
   "metadata": {},
   "outputs": [],
   "source": [
    "template = \"\"\"Answer the question based only on the following context:\n",
    "{context}\n",
    "\n",
    "Question: {question}\n",
    "\"\"\"\n",
    "prompt = ChatPromptTemplate.from_template(template)"
   ]
  },
  {
   "cell_type": "code",
   "execution_count": 30,
   "id": "08867ca6",
   "metadata": {},
   "outputs": [],
   "source": [
    "chain = (\n",
    "    {\"context\": retriever, \"question\": RunnablePassthrough()}\n",
    "    | prompt\n",
    "    | model\n",
    "    | StrOutputParser()\n",
    ")"
   ]
  },
  {
   "cell_type": "code",
   "execution_count": 31,
   "id": "1f473763",
   "metadata": {},
   "outputs": [
    {
     "data": {
      "text/plain": [
       "'James Bond is a spy who works for MI6 and has a licence to kill. He also likes cats.'"
      ]
     },
     "execution_count": 31,
     "metadata": {},
     "output_type": "execute_result"
    }
   ],
   "source": [
    "chain.invoke(\"Who is James Bond?\")"
   ]
  },
  {
   "cell_type": "code",
   "execution_count": 32,
   "id": "1c510734",
   "metadata": {},
   "outputs": [
    {
     "data": {
      "text/plain": [
       "'James Bond likes cats.'"
      ]
     },
     "execution_count": 32,
     "metadata": {},
     "output_type": "execute_result"
    }
   ],
   "source": [
    "chain.invoke(\"What does James Bond like to do?\")"
   ]
  },
  {
   "cell_type": "code",
   "execution_count": 33,
   "id": "3479fa4a",
   "metadata": {},
   "outputs": [],
   "source": [
    "template = \"\"\"Answer the question based only on the following context:\n",
    "{context}\n",
    "\n",
    "Question: {question}\n",
    "\n",
    "Answer in the following language: {language}\n",
    "\"\"\"\n",
    "prompt = ChatPromptTemplate.from_template(template)\n",
    "\n",
    "chain = {\n",
    "    \"context\": itemgetter(\"question\") | retriever,\n",
    "    \"question\": itemgetter(\"question\"),\n",
    "    \"language\": itemgetter(\"language\")\n",
    "} | prompt | model | StrOutputParser()"
   ]
  },
  {
   "cell_type": "code",
   "execution_count": 34,
   "id": "e67b23f9",
   "metadata": {},
   "outputs": [
    {
     "data": {
      "text/plain": [
       "'James Bond works for MI6.'"
      ]
     },
     "execution_count": 34,
     "metadata": {},
     "output_type": "execute_result"
    }
   ],
   "source": [
    "chain.invoke({\"question\": \"where does James work?\", \"language\": \"english\"})"
   ]
  },
  {
   "cell_type": "code",
   "execution_count": 35,
   "id": "3520b226",
   "metadata": {},
   "outputs": [
    {
     "data": {
      "text/plain": [
       "'James Bond anoratidza kubva kuMI6.'"
      ]
     },
     "execution_count": 35,
     "metadata": {},
     "output_type": "execute_result"
    }
   ],
   "source": [
    "chain.invoke({\"question\": \"where does James work?\", \"language\": \"shona\"})"
   ]
  },
  {
   "cell_type": "markdown",
   "id": "b7bcd922",
   "metadata": {},
   "source": [
    "# Tools"
   ]
  },
  {
   "cell_type": "code",
   "execution_count": 36,
   "id": "c81b1be1",
   "metadata": {},
   "outputs": [],
   "source": [
    "from langchain.tools import DuckDuckGoSearchRun"
   ]
  },
  {
   "cell_type": "code",
   "execution_count": 37,
   "id": "a7cb4c9d",
   "metadata": {},
   "outputs": [],
   "source": [
    "search = DuckDuckGoSearchRun()"
   ]
  },
  {
   "cell_type": "code",
   "execution_count": 38,
   "id": "69be0f40",
   "metadata": {},
   "outputs": [],
   "source": [
    "template = \"\"\"turn the following user input into a search query for a search engine:\n",
    "\n",
    "{input}\"\"\"\n",
    "\n",
    "prompt = ChatPromptTemplate.from_template(template)"
   ]
  },
  {
   "cell_type": "code",
   "execution_count": 39,
   "id": "36e45fc6",
   "metadata": {},
   "outputs": [],
   "source": [
    "chain = prompt | model | StrOutputParser() | search"
   ]
  },
  {
   "cell_type": "code",
   "execution_count": 42,
   "id": "0982013e",
   "metadata": {},
   "outputs": [
    {
     "data": {
      "text/plain": [
       "'\"actor who played James Bond first\"'"
      ]
     },
     "execution_count": 42,
     "metadata": {},
     "output_type": "execute_result"
    }
   ],
   "source": [
    "chain.invoke({\"input\": \"Who played james bond first\"})"
   ]
  },
  {
   "cell_type": "code",
   "execution_count": 41,
   "id": "6e6f2b9c",
   "metadata": {},
   "outputs": [
    {
     "data": {
      "text/plain": [
       "'\"actor who played James Bond last\"'"
      ]
     },
     "execution_count": 41,
     "metadata": {},
     "output_type": "execute_result"
    }
   ],
   "source": [
    "chain = prompt | model | StrOutputParser()\n",
    "chain.invoke({\"input\": \"Who played james bond last\"})"
   ]
  },
  {
   "cell_type": "code",
   "execution_count": 43,
   "id": "f0231e73",
   "metadata": {},
   "outputs": [],
   "source": [
    "from langchain.schema.runnable import RunnableLambda\n",
    "\n",
    "def length_function(text):\n",
    "    return len(text)\n",
    "\n",
    "def _multiple_length_function(text1, text2):\n",
    "    return len(text1) * len(text2)\n",
    "\n",
    "def multiple_length_function(_dict):\n",
    "    return _multiple_length_function(_dict[\"text1\"], _dict[\"text2\"])\n",
    "\n",
    "prompt = ChatPromptTemplate.from_template(\"what is {a} + {b}\")\n",
    "\n",
    "chain1 = prompt | model\n",
    "\n",
    "chain = {\n",
    "    \"a\": itemgetter(\"foo\") | RunnableLambda(length_function),\n",
    "    \"b\": {\"text1\": itemgetter(\"foo\"), \"text2\": itemgetter(\"bar\")} | RunnableLambda(multiple_length_function)\n",
    "} | prompt | model"
   ]
  },
  {
   "cell_type": "code",
   "execution_count": 44,
   "id": "1ea1958d",
   "metadata": {},
   "outputs": [
    {
     "data": {
      "text/plain": [
       "AIMessage(content='4 + 16 equals 20.')"
      ]
     },
     "execution_count": 44,
     "metadata": {},
     "output_type": "execute_result"
    }
   ],
   "source": [
    "chain.invoke({\"foo\": \"bars\", \"bar\": \"gahs\"})"
   ]
  },
  {
   "cell_type": "code",
   "execution_count": null,
   "id": "7bbcc8ba",
   "metadata": {},
   "outputs": [],
   "source": []
  }
 ],
 "metadata": {
  "kernelspec": {
   "display_name": "Python 3 (ipykernel)",
   "language": "python",
   "name": "python3"
  },
  "language_info": {
   "codemirror_mode": {
    "name": "ipython",
    "version": 3
   },
   "file_extension": ".py",
   "mimetype": "text/x-python",
   "name": "python",
   "nbconvert_exporter": "python",
   "pygments_lexer": "ipython3",
   "version": "3.10.13"
  }
 },
 "nbformat": 4,
 "nbformat_minor": 5
}

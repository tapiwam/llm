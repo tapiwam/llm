{
 "cells": [
  {
   "cell_type": "code",
   "execution_count": 6,
   "metadata": {
    "id": "dNA4TsHpu6OM"
   },
   "outputs": [],
   "source": [
    "import os\n",
    "\n",
    "os.environ[\"OPENAI_API_KEY\"] = \"\""
   ]
  },
  {
   "cell_type": "code",
   "execution_count": null,
   "metadata": {
    "colab": {
     "base_uri": "https://localhost:8080/"
    },
    "id": "RRYSu48huSUW",
    "outputId": "fb4374af-81fb-4d4f-907c-e32be7be6d1c"
   },
   "outputs": [],
   "source": [
    "!pip -q install langchain huggingface_hub openai tiktoken\n",
    "!pip -q install chromadb duckduckgo-search"
   ]
  },
  {
   "cell_type": "code",
   "execution_count": null,
   "metadata": {
    "colab": {
     "base_uri": "https://localhost:8080/"
    },
    "id": "J-KFB7J_u_3L",
    "outputId": "211038fe-02b9-4496-8a46-4867e7fcfc25"
   },
   "outputs": [],
   "source": [
    "!pip show langchain"
   ]
  },
  {
   "cell_type": "markdown",
   "metadata": {
    "id": "HqwsGJDhvAQ5"
   },
   "source": [
    "# LangChain Expression Language\n"
   ]
  },
  {
   "cell_type": "code",
   "execution_count": null,
   "metadata": {
    "id": "IfCt8bhHNu9u"
   },
   "outputs": [],
   "source": [
    "from langchain.prompts import ChatPromptTemplate\n",
    "from langchain.chat_models import ChatOpenAI\n",
    "from langchain.llms import OpenAI\n",
    "\n",
    "from langchain.schema.output_parser import StrOutputParser"
   ]
  },
  {
   "cell_type": "code",
   "execution_count": null,
   "metadata": {
    "id": "P_Vz09usvqhb"
   },
   "outputs": [],
   "source": [
    "model = ChatOpenAI(\n",
    "    model=\"gpt-3.5-turbo\",\n",
    "    temperature=0\n",
    "    )\n",
    "\n",
    "model2 = OpenAI(\n",
    "    model=\"text-davinci-003\",\n",
    "    temperature=0\n",
    "    )"
   ]
  },
  {
   "cell_type": "code",
   "execution_count": null,
   "metadata": {
    "id": "Z6HVNGkvv9-G"
   },
   "outputs": [],
   "source": [
    "prompt = ChatPromptTemplate.from_template(\n",
    "    \"tell me an intersting fact about {subject}\"\n",
    "    )"
   ]
  },
  {
   "cell_type": "code",
   "execution_count": null,
   "metadata": {
    "id": "Hil5bkKFwCha"
   },
   "outputs": [],
   "source": [
    "chain = prompt | model"
   ]
  },
  {
   "cell_type": "code",
   "execution_count": null,
   "metadata": {
    "colab": {
     "base_uri": "https://localhost:8080/"
    },
    "id": "cm8y8Ll4wJMH",
    "outputId": "f221098a-647d-4a67-8cbe-04e04fda8322"
   },
   "outputs": [],
   "source": [
    "chain.invoke({\"subject\": \"Elvis\"})"
   ]
  },
  {
   "cell_type": "code",
   "execution_count": null,
   "metadata": {
    "id": "UoeILxMtwS-A"
   },
   "outputs": [],
   "source": [
    "chain = prompt | model | StrOutputParser()"
   ]
  },
  {
   "cell_type": "code",
   "execution_count": null,
   "metadata": {
    "colab": {
     "base_uri": "https://localhost:8080/",
     "height": 87
    },
    "id": "-MAwnHOTwlw1",
    "outputId": "bcb763ad-5a35-4e2e-e19a-a02ac467416d"
   },
   "outputs": [],
   "source": [
    "chain.invoke({\"subject\": \"Elvis\"})"
   ]
  },
  {
   "cell_type": "code",
   "execution_count": null,
   "metadata": {
    "id": "riZRBZfcRrmg"
   },
   "outputs": [],
   "source": [
    "chain = prompt | model2 | StrOutputParser()"
   ]
  },
  {
   "cell_type": "code",
   "execution_count": null,
   "metadata": {
    "colab": {
     "base_uri": "https://localhost:8080/",
     "height": 35
    },
    "id": "3Hkzc57cRuYG",
    "outputId": "c4299005-31a0-4b5a-8db6-0d190f4ebc50"
   },
   "outputs": [],
   "source": [
    "chain.invoke({\"subject\": \"Elvis\"})"
   ]
  },
  {
   "cell_type": "markdown",
   "metadata": {
    "id": "4Z8VleV0wzto"
   },
   "source": [
    "## Bindings"
   ]
  },
  {
   "cell_type": "code",
   "execution_count": null,
   "metadata": {
    "id": "avT5iyzbxC6N"
   },
   "outputs": [],
   "source": [
    "prompt = ChatPromptTemplate.from_template(\n",
    "    \"tell me 3 intersting facts about {subject}\"\n",
    "    )"
   ]
  },
  {
   "cell_type": "code",
   "execution_count": null,
   "metadata": {
    "id": "j0cDP5Whwm31"
   },
   "outputs": [],
   "source": [
    "chain = prompt | model.bind(stop=[\"\\n\"]) | StrOutputParser()\n"
   ]
  },
  {
   "cell_type": "code",
   "execution_count": null,
   "metadata": {
    "colab": {
     "base_uri": "https://localhost:8080/",
     "height": 70
    },
    "id": "ynNgP_4Fw6na",
    "outputId": "608e5020-bb85-4c44-ccc3-8b123f7228a6"
   },
   "outputs": [],
   "source": [
    "chain.invoke({\"subject\": \"Elvis\"})"
   ]
  },
  {
   "cell_type": "markdown",
   "metadata": {
    "id": "NVV-Wa8AxVuL"
   },
   "source": [
    "## Adding OpenAI Functions"
   ]
  },
  {
   "cell_type": "code",
   "execution_count": null,
   "metadata": {
    "id": "Grw9Z1ihxKgt"
   },
   "outputs": [],
   "source": [
    "functions = [\n",
    "    {\n",
    "      \"name\": \"joke\",\n",
    "      \"description\": \"A joke\",\n",
    "      \"parameters\": {\n",
    "        \"type\": \"object\",\n",
    "        \"properties\": {\n",
    "          \"setup\": {\n",
    "            \"type\": \"string\",\n",
    "            \"description\": \"The setup for the joke\"\n",
    "          },\n",
    "          \"punchline\": {\n",
    "            \"type\": \"string\",\n",
    "            \"description\": \"The punchline for the joke\"\n",
    "          }\n",
    "        },\n",
    "        \"required\": [\"setup\", \"punchline\"]\n",
    "      }\n",
    "    }\n",
    "  ]\n",
    "functions_chain = prompt | model.bind(function_call= {\"name\": \"joke\"}, functions= functions)"
   ]
  },
  {
   "cell_type": "code",
   "execution_count": null,
   "metadata": {
    "colab": {
     "base_uri": "https://localhost:8080/"
    },
    "id": "AL0Td6_nxJhc",
    "outputId": "cf6f596c-a834-4b66-b1ed-5bf5951727d7"
   },
   "outputs": [],
   "source": [
    "functions_chain.invoke({\"subject\": \"bears\"}, config={})"
   ]
  },
  {
   "cell_type": "markdown",
   "metadata": {
    "id": "x7B7bxCJyA9a"
   },
   "source": [
    "### Functions Output Parser\n"
   ]
  },
  {
   "cell_type": "code",
   "execution_count": null,
   "metadata": {
    "id": "OgSLlfvMxwms"
   },
   "outputs": [],
   "source": [
    "from langchain.output_parsers.openai_functions import JsonOutputFunctionsParser\n",
    "\n",
    "functions_chain = (\n",
    "    prompt\n",
    "    | model.bind(function_call= {\"name\": \"joke\"}, functions= functions)\n",
    "    | JsonOutputFunctionsParser()\n",
    ")"
   ]
  },
  {
   "cell_type": "code",
   "execution_count": null,
   "metadata": {
    "colab": {
     "base_uri": "https://localhost:8080/"
    },
    "id": "DeX7OkTvyqx5",
    "outputId": "1e3ef570-1000-4fe6-c5b6-d94186f0f39d"
   },
   "outputs": [],
   "source": [
    "response = functions_chain.invoke({\"subject\": \"bears\"})\n",
    "\n",
    "response"
   ]
  },
  {
   "cell_type": "code",
   "execution_count": null,
   "metadata": {
    "colab": {
     "base_uri": "https://localhost:8080/",
     "height": 35
    },
    "id": "GyqJpMyGy0LR",
    "outputId": "85cde7ac-de13-41ea-df63-eb541e3f33a5"
   },
   "outputs": [],
   "source": [
    "response['punchline']"
   ]
  },
  {
   "cell_type": "code",
   "execution_count": null,
   "metadata": {
    "id": "eLfCEKN5zFVA"
   },
   "outputs": [],
   "source": [
    "from langchain.output_parsers.openai_functions import JsonKeyOutputFunctionsParser\n",
    "\n",
    "functions_chain = (\n",
    "    prompt\n",
    "    | model.bind(function_call= {\"name\": \"joke\"}, functions= functions)\n",
    "    | JsonKeyOutputFunctionsParser(key_name=\"setup\")\n",
    ")"
   ]
  },
  {
   "cell_type": "code",
   "execution_count": null,
   "metadata": {
    "colab": {
     "base_uri": "https://localhost:8080/",
     "height": 35
    },
    "id": "x_jdQSAAzbOo",
    "outputId": "11257d0e-865b-4f97-e924-697a4dafd4dc"
   },
   "outputs": [],
   "source": [
    "functions_chain.invoke({\"subject\": \"bears\"})"
   ]
  },
  {
   "cell_type": "markdown",
   "metadata": {
    "id": "Mag27JElztH5"
   },
   "source": [
    "## Retrievers"
   ]
  },
  {
   "cell_type": "code",
   "execution_count": null,
   "metadata": {
    "id": "gw24xjUkzf7q"
   },
   "outputs": [],
   "source": [
    "from langchain.schema.runnable import RunnablePassthrough\n",
    "from operator import itemgetter"
   ]
  },
  {
   "cell_type": "code",
   "execution_count": null,
   "metadata": {
    "id": "ZarTWbugMprG"
   },
   "outputs": [],
   "source": [
    "from langchain.vectorstores import Chroma\n",
    "from langchain.embeddings import OpenAIEmbeddings\n",
    "from langchain.schema.runnable import RunnablePassthrough"
   ]
  },
  {
   "cell_type": "code",
   "execution_count": null,
   "metadata": {
    "id": "xCTfodQoNAfy"
   },
   "outputs": [],
   "source": [
    "# Create the retriever\n",
    "fake_docs = [\"James bond works for MI6\",\"Bond is a spy\",\n",
    "             \"James Bond has a licence to kill\", \"James Bond likes cats\"]\n",
    "vectorstore = Chroma.from_texts(fake_docs, embedding=OpenAIEmbeddings())\n",
    "retriever = vectorstore.as_retriever()"
   ]
  },
  {
   "cell_type": "code",
   "execution_count": null,
   "metadata": {
    "id": "zYE7T7npNEwu"
   },
   "outputs": [],
   "source": [
    "template = \"\"\"Answer the question based only on the following context:\n",
    "{context}\n",
    "\n",
    "Question: {question}\n",
    "\"\"\"\n",
    "prompt = ChatPromptTemplate.from_template(template)"
   ]
  },
  {
   "cell_type": "code",
   "execution_count": null,
   "metadata": {
    "id": "UER4z9TmNE4r"
   },
   "outputs": [],
   "source": [
    "chain = (\n",
    "    {\"context\": retriever, \"question\": RunnablePassthrough()}\n",
    "    | prompt\n",
    "    | model\n",
    "    | StrOutputParser()\n",
    ")"
   ]
  },
  {
   "cell_type": "code",
   "execution_count": null,
   "metadata": {
    "colab": {
     "base_uri": "https://localhost:8080/",
     "height": 35
    },
    "id": "Lgdva60wOylW",
    "outputId": "1198bbed-6376-4ef4-b40d-6d8d0c35b924"
   },
   "outputs": [],
   "source": [
    "chain.invoke(\"Who is James Bond?\")"
   ]
  },
  {
   "cell_type": "code",
   "execution_count": null,
   "metadata": {
    "colab": {
     "base_uri": "https://localhost:8080/",
     "height": 35
    },
    "id": "h8rCZiKwbnYD",
    "outputId": "8b8e5ae4-23b5-4916-f96d-c071e478cbb4"
   },
   "outputs": [],
   "source": [
    "chain.invoke(\"What does James Bond like to do?\")"
   ]
  },
  {
   "cell_type": "code",
   "execution_count": null,
   "metadata": {
    "id": "COxxdA0POyoX"
   },
   "outputs": [],
   "source": [
    "template = \"\"\"Answer the question based only on the following context:\n",
    "{context}\n",
    "\n",
    "Question: {question}\n",
    "\n",
    "Answer in the following language: {language}\n",
    "\"\"\"\n",
    "prompt = ChatPromptTemplate.from_template(template)\n",
    "\n",
    "chain = {\n",
    "    \"context\": itemgetter(\"question\") | retriever,\n",
    "    \"question\": itemgetter(\"question\"),\n",
    "    \"language\": itemgetter(\"language\")\n",
    "} | prompt | model | StrOutputParser()"
   ]
  },
  {
   "cell_type": "code",
   "execution_count": null,
   "metadata": {
    "colab": {
     "base_uri": "https://localhost:8080/",
     "height": 35
    },
    "id": "XH-elG-BOyrp",
    "outputId": "26675b82-101e-437c-9adb-a0773ad67efd"
   },
   "outputs": [],
   "source": [
    "chain.invoke({\"question\": \"where does James work?\", \"language\": \"english\"})"
   ]
  },
  {
   "cell_type": "code",
   "execution_count": null,
   "metadata": {
    "colab": {
     "base_uri": "https://localhost:8080/",
     "height": 35
    },
    "id": "dm-9KovTcO5g",
    "outputId": "064ae02b-9206-4e5e-9cf8-64cd9cd05609"
   },
   "outputs": [],
   "source": [
    "chain.invoke({\"question\": \"where does James work?\", \"language\": \"italian\"})"
   ]
  },
  {
   "cell_type": "markdown",
   "metadata": {
    "id": "v06mU7PBSMfd"
   },
   "source": [
    "## Tools"
   ]
  },
  {
   "cell_type": "code",
   "execution_count": null,
   "metadata": {
    "id": "8TumPUpLSN2n"
   },
   "outputs": [],
   "source": [
    "from langchain.tools import DuckDuckGoSearchRun"
   ]
  },
  {
   "cell_type": "code",
   "execution_count": null,
   "metadata": {
    "id": "EXC03bY0SOlJ"
   },
   "outputs": [],
   "source": [
    "search = DuckDuckGoSearchRun()"
   ]
  },
  {
   "cell_type": "code",
   "execution_count": null,
   "metadata": {
    "id": "SVBb4qnRSRPC"
   },
   "outputs": [],
   "source": [
    "template = \"\"\"turn the following user input into a search query for a search engine:\n",
    "\n",
    "{input}\"\"\"\n",
    "\n",
    "prompt = ChatPromptTemplate.from_template(template)"
   ]
  },
  {
   "cell_type": "code",
   "execution_count": null,
   "metadata": {
    "id": "w1w4U9TNSd6C"
   },
   "outputs": [],
   "source": [
    "chain = prompt | model | StrOutputParser() | search"
   ]
  },
  {
   "cell_type": "code",
   "execution_count": null,
   "metadata": {
    "colab": {
     "base_uri": "https://localhost:8080/",
     "height": 139
    },
    "id": "d4LYnKffSeWK",
    "outputId": "30adb697-e6b8-4b8f-c73f-2ec39177c291"
   },
   "outputs": [],
   "source": [
    "chain.invoke({\"input\": \"Who played james bond first\"})"
   ]
  },
  {
   "cell_type": "code",
   "execution_count": null,
   "metadata": {
    "colab": {
     "base_uri": "https://localhost:8080/",
     "height": 70
    },
    "id": "dOi5DbEJUopT",
    "outputId": "e217ebfb-709c-4efc-9236-bc11e2e7a74d"
   },
   "outputs": [],
   "source": [
    "chain = prompt | model | StrOutputParser()\n",
    "chain.invoke({\"input\": \"Who played james bond last\"})"
   ]
  },
  {
   "cell_type": "markdown",
   "metadata": {
    "id": "q5Z6tSxO0Z-H"
   },
   "source": [
    "## Arbitary Functions"
   ]
  },
  {
   "cell_type": "code",
   "execution_count": null,
   "metadata": {
    "id": "yxMzLOXaeh-s"
   },
   "outputs": [],
   "source": [
    "from langchain.schema.runnable import RunnableLambda\n",
    "\n",
    "def length_function(text):\n",
    "    return len(text)\n",
    "\n",
    "def _multiple_length_function(text1, text2):\n",
    "    return len(text1) * len(text2)\n",
    "\n",
    "def multiple_length_function(_dict):\n",
    "    return _multiple_length_function(_dict[\"text1\"], _dict[\"text2\"])\n",
    "\n",
    "prompt = ChatPromptTemplate.from_template(\"what is {a} + {b}\")\n",
    "\n",
    "chain1 = prompt | model\n",
    "\n",
    "chain = {\n",
    "    \"a\": itemgetter(\"foo\") | RunnableLambda(length_function),\n",
    "    \"b\": {\"text1\": itemgetter(\"foo\"), \"text2\": itemgetter(\"bar\")} | RunnableLambda(multiple_length_function)\n",
    "} | prompt | model"
   ]
  },
  {
   "cell_type": "code",
   "execution_count": null,
   "metadata": {
    "colab": {
     "base_uri": "https://localhost:8080/"
    },
    "id": "H1P-wqvwepFE",
    "outputId": "ae5a14d8-3602-453e-d2fc-c94c03560d9b"
   },
   "outputs": [],
   "source": [
    "chain.invoke({\"foo\": \"bars\", \"bar\": \"gahs\"})"
   ]
  },
  {
   "cell_type": "code",
   "execution_count": null,
   "metadata": {
    "id": "amUsxUg4Tw17"
   },
   "outputs": [],
   "source": []
  }
 ],
 "metadata": {
  "colab": {
   "provenance": []
  },
  "kernelspec": {
   "display_name": "Python 3 (ipykernel)",
   "language": "python",
   "name": "python3"
  },
  "language_info": {
   "codemirror_mode": {
    "name": "ipython",
    "version": 3
   },
   "file_extension": ".py",
   "mimetype": "text/x-python",
   "name": "python",
   "nbconvert_exporter": "python",
   "pygments_lexer": "ipython3",
   "version": "3.11.6"
  }
 },
 "nbformat": 4,
 "nbformat_minor": 4
}

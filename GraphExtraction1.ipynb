{
 "cells": [
  {
   "cell_type": "code",
   "execution_count": 7,
   "metadata": {},
   "outputs": [],
   "source": [
    "# !pip install langchain neo4j openai wikipedia tiktoken langchain_openai\n",
    "# !pip install -U python-dotenv"
   ]
  },
  {
   "cell_type": "markdown",
   "metadata": {},
   "source": [
    "# Imports"
   ]
  },
  {
   "cell_type": "code",
   "execution_count": 49,
   "metadata": {},
   "outputs": [],
   "source": [
    "import os\n",
    "from dotenv import load_dotenv\n",
    "\n",
    "load_dotenv()\n",
    "\n",
    "db = 'graph_extract_1'\n",
    "username = os.getenv('NEO_USER')\n",
    "password = os.getenv('NEO_PASS')\n",
    "url = os.getenv('NEO_URL')"
   ]
  },
  {
   "cell_type": "code",
   "execution_count": 50,
   "metadata": {},
   "outputs": [],
   "source": [
    "from langchain.graphs import Neo4jGraph\n",
    "from langchain_openai import OpenAI\n",
    "from langchain_openai import ChatOpenAI\n",
    "from langchain.schema import AIMessage, HumanMessage, SystemMessage\n",
    "\n",
    "# Import chat templates\n",
    "from langchain.prompts import (\n",
    "    ChatPromptTemplate,\n",
    "    PromptTemplate,\n",
    "    SystemMessagePromptTemplate,\n",
    "    AIMessagePromptTemplate,\n",
    "    HumanMessagePromptTemplate,\n",
    ")\n",
    "\n",
    "from langchain.schema import Document\n",
    "from typing import List, Dict, Any, Optional\n",
    "from langchain.pydantic_v1 import Field, BaseModel\n",
    "from tqdm import tqdm\n",
    "from langchain.document_loaders import WikipediaLoader\n",
    "from langchain.text_splitter import TokenTextSplitter\n",
    "\n",
    "from langchain_community.graphs.graph_document import (\n",
    "    Node as BaseNode,\n",
    "    Relationship as BaseRelationship,\n",
    "    GraphDocument\n",
    ")\n",
    "\n",
    "from langchain.chains.openai_functions import (\n",
    "    create_structured_output_chain\n",
    ")\n",
    "\n"
   ]
  },
  {
   "cell_type": "markdown",
   "metadata": {},
   "source": [
    "# Graph DB Setup"
   ]
  },
  {
   "cell_type": "code",
   "execution_count": 51,
   "metadata": {},
   "outputs": [],
   "source": [
    "graph = Neo4jGraph(\n",
    "    url=url,\n",
    "    username=username,\n",
    "    password=password\n",
    ")"
   ]
  },
  {
   "cell_type": "code",
   "execution_count": 16,
   "metadata": {},
   "outputs": [],
   "source": [
    "class Property(BaseModel):\n",
    "  \"\"\"A single property consisting of key and value\"\"\"\n",
    "  key: str = Field(..., description=\"key\")\n",
    "  value: str = Field(..., description=\"value\")\n",
    "\n",
    "class Node(BaseNode):\n",
    "    properties: Optional[List[Property]] = Field(\n",
    "        None, description=\"List of node properties\")\n",
    "\n",
    "class Relationship(BaseRelationship):\n",
    "    properties: Optional[List[Property]] = Field(\n",
    "        None, description=\"List of relationship properties\"\n",
    "    )\n",
    "\n",
    "class KnowledgeGraph(BaseModel):\n",
    "    \"\"\"Generate a knowledge graph with entities and relationships.\"\"\"\n",
    "    nodes: List[Node] = Field(\n",
    "        ..., description=\"List of nodes in the knowledge graph\")\n",
    "    rels: List[Relationship] = Field(\n",
    "        ..., description=\"List of relationships in the knowledge graph\"\n",
    "    )"
   ]
  },
  {
   "cell_type": "code",
   "execution_count": 17,
   "metadata": {},
   "outputs": [],
   "source": [
    "def format_property_key(s: str) -> str:\n",
    "    words = s.split()\n",
    "    if not words:\n",
    "        return s\n",
    "    first_word = words[0].lower()\n",
    "    capitalized_words = [word.capitalize() for word in words[1:]]\n",
    "    return \"\".join([first_word] + capitalized_words)\n",
    "\n",
    "def props_to_dict(props) -> dict:\n",
    "    \"\"\"Convert properties to a dictionary.\"\"\"\n",
    "    properties = {}\n",
    "    if not props:\n",
    "      return properties\n",
    "    for p in props:\n",
    "        properties[format_property_key(p.key)] = p.value\n",
    "    return properties\n",
    "\n",
    "def map_to_base_node(node: Node) -> BaseNode:\n",
    "    \"\"\"Map the KnowledgeGraph Node to the base Node.\"\"\"\n",
    "    properties = props_to_dict(node.properties) if node.properties else {}\n",
    "    # Add name property for better Cypher statement generation\n",
    "    properties[\"name\"] = node.id.title()\n",
    "    return BaseNode(\n",
    "        id=node.id.title(), type=node.type.capitalize(), properties=properties\n",
    "    )\n",
    "\n",
    "\n",
    "def map_to_base_relationship(rel: Relationship) -> BaseRelationship:\n",
    "    \"\"\"Map the KnowledgeGraph Relationship to the base Relationship.\"\"\"\n",
    "    source = map_to_base_node(rel.source)\n",
    "    target = map_to_base_node(rel.target)\n",
    "    properties = props_to_dict(rel.properties) if rel.properties else {}\n",
    "    return BaseRelationship(\n",
    "        source=source, target=target, type=rel.type, properties=properties\n",
    "    )"
   ]
  },
  {
   "cell_type": "code",
   "execution_count": 20,
   "metadata": {},
   "outputs": [],
   "source": [
    "def get_system_template(allowed_nodes: Optional[List[str]] = None, allowed_rels: Optional[List[str]] = None):\n",
    "    system_template = f\"\"\"\n",
    "    # Knowledge Graph Instructions for GPT-4\n",
    "    ## 1. Overview\n",
    "    You are a top-tier algorithm designed for extracting information in structured formats to build a knowledge graph.\n",
    "    - **Nodes** represent entities and concepts. They're akin to Wikipedia nodes.\n",
    "    - The aim is to achieve simplicity and clarity in the knowledge graph, making it accessible for a vast audience.\n",
    "    ## 2. Labeling Nodes\n",
    "    - **Consistency**: Ensure you use basic or elementary types for node labels.\n",
    "      - For example, when you identify an entity representing a person, always label it as **\"person\"**. Avoid using more specific terms like \"mathematician\" or \"scientist\".\n",
    "    - **Node IDs**: Never utilize integers as node IDs. Node IDs should be names or human-readable identifiers found in the text.\n",
    "    {'- **Allowed Node Labels:**' + \", \".join(allowed_nodes) if allowed_nodes else \"\"}\n",
    "    {'- **Allowed Relationship Types**:' + \", \".join(allowed_rels) if allowed_rels else \"\"}\n",
    "    ## 3. Handling Numerical Data and Dates\n",
    "    - Numerical data, like age or other related information, should be incorporated as attributes or properties of the respective nodes.\n",
    "    - **No Separate Nodes for Dates/Numbers**: Do not create separate nodes for dates or numerical values. Always attach them as attributes or properties of nodes.\n",
    "    - **Property Format**: Properties must be in a key-value format.\n",
    "    - **Quotation Marks**: Never use escaped single or double quotes within property values.\n",
    "    - **Naming Convention**: Use camelCase for property keys, e.g., `birthDate`.\n",
    "    ## 4. Coreference Resolution\n",
    "    - **Maintain Entity Consistency**: When extracting entities, it's vital to ensure consistency.\n",
    "    If an entity, such as \"John Doe\", is mentioned multiple times in the text but is referred to by different names or pronouns (e.g., \"Joe\", \"he\"), \n",
    "    always use the most complete identifier for that entity throughout the knowledge graph. In this example, use \"John Doe\" as the entity ID.  \n",
    "    Remember, the knowledge graph should be coherent and easily understandable, so maintaining consistency in entity references is crucial. \n",
    "    ## 5. Strict Compliance\n",
    "    Adhere to the rules strictly. Non-compliance will result in termination.\n",
    "    \"\"\"\n",
    "    return system_template\n",
    "\n",
    "\n",
    "\n",
    "def get_extraction_chain( llm, allowed_nodes: Optional[List[str]] = None, allowed_rels: Optional[List[str]] = None):\n",
    "    human_template = \"\"\"\n",
    "    Use the given format to extract information from the following input: {input}\n",
    "    Tip: Make sure to answer in the correct format\n",
    "    \"\"\"\n",
    "    \n",
    "    system_prompt = SystemMessagePromptTemplate.from_template(get_system_template(allowed_nodes, allowed_rels))\n",
    "    human_prompt = HumanMessagePromptTemplate.from_template(human_template)\n",
    "    \n",
    "    chat_prompt = ChatPromptTemplate.from_messages([system_prompt, human_prompt])\n",
    "    \n",
    "    return create_structured_output_chain(output_schema=KnowledgeGraph, llm=llm, prompt=chat_prompt, verbose=False)"
   ]
  },
  {
   "cell_type": "code",
   "execution_count": 21,
   "metadata": {},
   "outputs": [],
   "source": [
    "\n"
   ]
  },
  {
   "cell_type": "code",
   "execution_count": 25,
   "metadata": {},
   "outputs": [
    {
     "name": "stderr",
     "output_type": "stream",
     "text": [
      "/Users/tapiwamaruni/anaconda3/lib/python3.10/site-packages/wikipedia/wikipedia.py:389: GuessedAtParserWarning: No parser was explicitly specified, so I'm using the best available HTML parser for this system (\"lxml\"). This usually isn't a problem, but if you run this code on another system, or in a different virtual environment, it may use a different parser and behave differently.\n",
      "\n",
      "The code that caused this warning is on line 389 of the file /Users/tapiwamaruni/anaconda3/lib/python3.10/site-packages/wikipedia/wikipedia.py. To get rid of this warning, pass the additional argument 'features=\"lxml\"' to the BeautifulSoup constructor.\n",
      "\n",
      "  lis = BeautifulSoup(html).find_all('li')\n"
     ]
    }
   ],
   "source": [
    "# topic = \"React (software)\"\n",
    "\n",
    "# # Use wikipedia to get the document\n",
    "# documents = WikipediaLoader(topic).load()"
   ]
  },
  {
   "cell_type": "code",
   "execution_count": 61,
   "metadata": {},
   "outputs": [],
   "source": [
    "\n",
    "\n",
    "# Print structure for one document\n",
    "def print_nodes(data):\n",
    "    for node in data.nodes:\n",
    "        print(f\"id={node.id} type={node.type}\")\n",
    "        if node.properties:\n",
    "            print(\"  <<Properties>>\")\n",
    "            for prop in node.properties:\n",
    "                print(f\"  ->  key={prop.key} value={prop.value}\")\n"
   ]
  },
  {
   "cell_type": "code",
   "execution_count": 29,
   "metadata": {},
   "outputs": [],
   "source": [
    "doc = documents[0]"
   ]
  },
  {
   "cell_type": "code",
   "execution_count": 30,
   "metadata": {},
   "outputs": [
    {
     "name": "stderr",
     "output_type": "stream",
     "text": [
      "/Users/tapiwamaruni/anaconda3/lib/python3.10/site-packages/langchain_core/_api/deprecation.py:117: LangChainDeprecationWarning: The function `create_structured_output_chain` was deprecated in LangChain 0.1.1 and will be removed in 0.2.0. Use create_structured_output_runnable instead.\n",
      "  warn_deprecated(\n"
     ]
    }
   ],
   "source": [
    "nodes:Optional[List[str]] = None\n",
    "rels:Optional[List[str]]= None\n",
    "\n",
    "llm = ChatOpenAI(model=\"gpt-3.5-turbo-16k\", temperature=0, verbose=True)\n",
    "\n",
    "# Extract graph data using OpenAI functions\n",
    "extract_chain = get_extraction_chain(llm, nodes, rels)\n",
    "data = extract_chain.invoke(doc.page_content)['function']\n",
    "\n"
   ]
  },
  {
   "cell_type": "code",
   "execution_count": 62,
   "metadata": {},
   "outputs": [
    {
     "name": "stdout",
     "output_type": "stream",
     "text": [
      "id=React type=library\n",
      "  <<Properties>>\n",
      "  ->  key=description value=React (also known as React.js or ReactJS) is a free and open-source front-end JavaScript library for building user interfaces based on components.\n",
      "  ->  key=maintainedBy value=Meta\n",
      "id=Meta type=organization\n",
      "id=Next.js type=framework\n",
      "id=Greeting type=component\n",
      "  <<Properties>>\n",
      "  ->  key=description value=The Greeting function is a React component that displays 'Hello, world'.\n",
      "id=React DOM type=library\n",
      "id=props type=term\n",
      "  <<Properties>>\n",
      "  ->  key=description value=Values passed between components.\n",
      "id=state type=term\n",
      "  <<Properties>>\n",
      "  ->  key=description value=Values internal to a component.\n",
      "id=function components type=term\n",
      "  <<Properties>>\n",
      "  ->  key=description value=Components declared with a function that accepts a single 'props' argument and returns JSX.\n",
      "id=class components type=term\n",
      "  <<Properties>>\n",
      "  ->  key=description value=Components declared with a class.\n",
      "id=React Hooks type=feature\n",
      "  <<Properties>>\n",
      "  ->  key=description value=Functions that let developers 'hook into' React state and lifecycle features from function components.\n",
      "id=useState type=hook\n",
      "  <<Properties>>\n",
      "  ->  key=description value=A built-in Hook in React for controlling state.\n",
      "id=useContext type=hook\n",
      "  <<Properties>>\n",
      "  ->  key=description value=A built-in Hook in React for accessing context.\n",
      "id=useReducer type=hook\n",
      "  <<Properties>>\n",
      "  ->  key=description value=A built-in Hook in React for managing state with reducers.\n",
      "id=useMemo type=hook\n",
      "  <<Properties>>\n",
      "  ->  key=description value=A built-in Hook in React for memoizing expensive calculations.\n",
      "id=useEffect type=hook\n",
      "  <<Properties>>\n",
      "  ->  key=description value=A built-in Hook in React for managing side effects.\n",
      "id=Server components type=feature\n",
      "  <<Properties>>\n",
      "  ->  key=description value=Function components that run exclusively on the server.\n"
     ]
    }
   ],
   "source": [
    "print_nodes(data)"
   ]
  },
  {
   "cell_type": "code",
   "execution_count": 52,
   "metadata": {},
   "outputs": [],
   "source": [
    "# Load into DB\n",
    "# Construct a graph document\n",
    "graph_document = GraphDocument(\n",
    "    nodes = [map_to_base_node(node) for node in data.nodes],\n",
    "    relationships = [map_to_base_relationship(rel) for rel in data.rels],\n",
    "    source = doc\n",
    ")\n",
    "\n",
    "print(graph_document)\n",
    "\n",
    " # Store information into a graph\n",
    "graph.add_graph_documents([graph_document])"
   ]
  },
  {
   "cell_type": "code",
   "execution_count": 53,
   "metadata": {},
   "outputs": [
    {
     "data": {
      "text/plain": [
       "'Node properties are the following:\\n\\nRelationship properties are the following:\\n\\nThe relationships are the following:\\n'"
      ]
     },
     "execution_count": 53,
     "metadata": {},
     "output_type": "execute_result"
    }
   ],
   "source": [
    "graph.schema"
   ]
  },
  {
   "cell_type": "code",
   "execution_count": 54,
   "metadata": {},
   "outputs": [
    {
     "data": {
      "text/plain": [
       "'Node properties are the following:\\n\\nRelationship properties are the following:\\n\\nThe relationships are the following:\\n'"
      ]
     },
     "execution_count": 54,
     "metadata": {},
     "output_type": "execute_result"
    }
   ],
   "source": [
    "graph.get_schema"
   ]
  },
  {
   "cell_type": "code",
   "execution_count": 55,
   "metadata": {},
   "outputs": [],
   "source": [
    "nodes:Optional[List[str]] = None\n",
    "rels:Optional[List[str]]= None\n",
    "\n",
    "nodes = ['Library', 'Framework', 'Feature', 'Term', ]\n",
    "\n",
    "# Extract graph data using OpenAI functions\n",
    "extract_chain2 = get_extraction_chain(llm, nodes, rels)\n",
    "data2 = extract_chain2.invoke(doc.page_content)['function']"
   ]
  },
  {
   "cell_type": "code",
   "execution_count": 63,
   "metadata": {},
   "outputs": [
    {
     "name": "stdout",
     "output_type": "stream",
     "text": [
      "id=React type=Framework\n",
      "  <<Properties>>\n",
      "  ->  key=description value=React (also known as React.js or ReactJS) is a free and open-source front-end JavaScript library for building user interfaces based on components.\n",
      "  ->  key=maintainedBy value=Meta (formerly Facebook) and a community of individual developers and companies\n",
      "id=Meta type=Company\n",
      "id=Next.js type=Framework\n",
      "id=React DOM type=Library\n",
      "id=Greeting type=Component\n",
      "  <<Properties>>\n",
      "  ->  key=description value=The Greeting function is a React component that displays 'Hello, world'.\n",
      "id=React Hooks type=Feature\n",
      "  <<Properties>>\n",
      "  ->  key=description value=Hooks are functions that let developers 'hook into' React state and lifecycle features from function components.\n",
      "id=useState type=Hook\n",
      "id=useContext type=Hook\n",
      "id=useReducer type=Hook\n",
      "id=useMemo type=Hook\n",
      "id=useEffect type=Hook\n",
      "id=Server components type=Feature\n",
      "  <<Properties>>\n",
      "  ->  key=description value=React server components or 'RSC's are function components that run exclusively on the server.\n"
     ]
    }
   ],
   "source": [
    "print_nodes(data2)"
   ]
  },
  {
   "cell_type": "code",
   "execution_count": 65,
   "metadata": {},
   "outputs": [
    {
     "name": "stdout",
     "output_type": "stream",
     "text": [
      "nodes=[Node(id='React', type='Framework', properties={'description': 'React (also known as React.js or ReactJS) is a free and open-source front-end JavaScript library for building user interfaces based on components.', 'maintainedby': 'Meta (formerly Facebook) and a community of individual developers and companies', 'name': 'React'}), Node(id='Meta', type='Company', properties={'name': 'Meta'}), Node(id='Next.Js', type='Framework', properties={'name': 'Next.Js'}), Node(id='React Dom', type='Library', properties={'name': 'React Dom'}), Node(id='Greeting', type='Component', properties={'description': \"The Greeting function is a React component that displays 'Hello, world'.\", 'name': 'Greeting'}), Node(id='React Hooks', type='Feature', properties={'description': \"Hooks are functions that let developers 'hook into' React state and lifecycle features from function components.\", 'name': 'React Hooks'}), Node(id='Usestate', type='Hook', properties={'name': 'Usestate'}), Node(id='Usecontext', type='Hook', properties={'name': 'Usecontext'}), Node(id='Usereducer', type='Hook', properties={'name': 'Usereducer'}), Node(id='Usememo', type='Hook', properties={'name': 'Usememo'}), Node(id='Useeffect', type='Hook', properties={'name': 'Useeffect'}), Node(id='Server Components', type='Feature', properties={'description': \"React server components or 'RSC's are function components that run exclusively on the server.\", 'name': 'Server Components'})] relationships=[Relationship(source=Node(id='React', type='Framework', properties={'name': 'React'}), target=Node(id='Meta', type='Company', properties={'name': 'Meta'}), type='maintainedBy'), Relationship(source=Node(id='React', type='Framework', properties={'name': 'React'}), target=Node(id='Next.Js', type='Framework', properties={'name': 'Next.Js'}), type='canBeUsedWith'), Relationship(source=Node(id='React', type='Framework', properties={'name': 'React'}), target=Node(id='React Dom', type='Library', properties={'name': 'React Dom'}), type='uses'), Relationship(source=Node(id='Greeting', type='Component', properties={'name': 'Greeting'}), target=Node(id='React', type='Framework', properties={'name': 'React'}), type='belongsTo'), Relationship(source=Node(id='React Hooks', type='Feature', properties={'name': 'React Hooks'}), target=Node(id='React', type='Framework', properties={'name': 'React'}), type='belongsTo'), Relationship(source=Node(id='Usestate', type='Hook', properties={'name': 'Usestate'}), target=Node(id='React Hooks', type='Feature', properties={'name': 'React Hooks'}), type='belongsTo'), Relationship(source=Node(id='Usecontext', type='Hook', properties={'name': 'Usecontext'}), target=Node(id='React Hooks', type='Feature', properties={'name': 'React Hooks'}), type='belongsTo'), Relationship(source=Node(id='Usereducer', type='Hook', properties={'name': 'Usereducer'}), target=Node(id='React Hooks', type='Feature', properties={'name': 'React Hooks'}), type='belongsTo'), Relationship(source=Node(id='Usememo', type='Hook', properties={'name': 'Usememo'}), target=Node(id='React Hooks', type='Feature', properties={'name': 'React Hooks'}), type='belongsTo'), Relationship(source=Node(id='Useeffect', type='Hook', properties={'name': 'Useeffect'}), target=Node(id='React Hooks', type='Feature', properties={'name': 'React Hooks'}), type='belongsTo'), Relationship(source=Node(id='Server Components', type='Feature', properties={'name': 'Server Components'}), target=Node(id='React', type='Framework', properties={'name': 'React'}), type='belongsTo')] source=Document(page_content='React (also known as React.js or ReactJS) is a free and open-source front-end JavaScript library for building user interfaces based on components. It is maintained by Meta (formerly Facebook) and a community of individual developers and companies.React can be used to develop single-page, mobile, or server-rendered applications with frameworks like Next.js. Because React is only concerned with the user interface and rendering components to the DOM, React applications often rely on libraries for routing and other client-side functionality. A key advantage of React is that it only rerenders those parts of the page that have changed, avoiding unnecessary rerendering of unchanged DOM elements.\\n\\n\\n== Basic usage ==\\nThe following is a rudimentary example of using React for the web, written in JSX and JavaScript.\\n\\nbased on the HTML document below.\\n\\nThe Greeting function is a React component that displays \\'\\'Hello, world\".\\nWhen displayed on a web browser, the result will be a rendering of:\\n\\n\\n== Notable features ==\\n\\n\\n=== Declarative ===\\nReact adheres to the declarative programming paradigm.:\\u200a76\\u200a Developers design views for each state of an application, and React updates and renders components when data changes. This is in contrast with imperative programming.\\n\\n\\n=== Components ===\\nReact code is made of entities called components.:\\u200a10–12\\u200a These components are modular and reusable.:\\u200a70\\u200a React applications typically consist of many layers of components. The components are rendered to a root element in the DOM using the React DOM library. When rendering a component, values are passed between components through props (short for \"properties\"). Values internal to a component are called its state.The two primary ways of declaring components in React are through function components and class components.:\\u200a118\\u200a:\\u200a10\\u200a\\n\\n\\n=== Function components ===\\nFunction components are declared with a function (using JavaScript function syntax or an arrow function expression) that accepts a single \"props\" argument and returns JSX. From React v16.8 onwards, function components can use state with the useState Hook.\\n\\n\\n=== React Hooks ===\\nOn February 16, 2019, React 16.8 was released to the public, introducing React Hooks. Hooks are functions that let developers \"hook into\" React state and lifecycle features from function components. Notably, Hooks do not work inside classes — they let developers use more features of React without classes.React provides several built-in Hooks such as useState,:\\u200a37\\u200a useContext,:\\u200a11\\u200a:\\u200a12\\u200a useReducer,:\\u200a92\\u200a:\\u200a65–66\\u200a useMemo:\\u200a154\\u200a:\\u200a162\\u200a and useEffect.:\\u200a93–95\\u200a Others are documented in the Hooks API Reference.:\\u200a62\\u200a useState and useEffect, which are the most commonly used, are for controlling state:\\u200a37\\u200a and side effects:\\u200a61\\u200a respectively.\\n\\n\\n==== Rules of hooks ====\\nThere are two rules of Hooks which describe the characteristic code patterns that Hooks rely on:\\n\\n\"Only Call Hooks at the Top Level\" — Don\\'t call hooks from inside loops, conditions, or nested statements so that the hooks are called in the same order each render.\\n\"Only Call Hooks from React Functions\" — Don\\'t call hooks from plain JavaScript functions so that stateful logic stays with the component.Although these rules can\\'t be enforced at runtime, code analysis tools such as linters can be configured to detect many mistakes during development. The rules apply to both usage of Hooks and the implementation of custom Hooks, which may call other Hooks.\\n\\n\\n=== Server components ===\\nReact server components or \"RSC\"s are function components that run exclusively on the server.  The concept was first introduced in the talk Data Fetching with Server Components Though a similar concept to Server Side Rendering, RSCs do not send corresponding JavaScript to the client as no hydration occurs.  As a result, they have no access to hooks. However, they may be  asynchronous function, allowing them to directly perform asynchronous operations:\\n\\nCurrently, server components are most readily usable with Nex', metadata={'title': 'React (software)', 'summary': 'React (also known as React.js or ReactJS) is a free and open-source front-end JavaScript library for building user interfaces based on components. It is maintained by Meta (formerly Facebook) and a community of individual developers and companies.React can be used to develop single-page, mobile, or server-rendered applications with frameworks like Next.js. Because React is only concerned with the user interface and rendering components to the DOM, React applications often rely on libraries for routing and other client-side functionality. A key advantage of React is that it only rerenders those parts of the page that have changed, avoiding unnecessary rerendering of unchanged DOM elements.', 'source': 'https://en.wikipedia.org/wiki/React_(software)'})\n"
     ]
    }
   ],
   "source": [
    "# Load into DB\n",
    "# Construct a graph document\n",
    "graph_document = GraphDocument(\n",
    "    nodes = [map_to_base_node(node) for node in data2.nodes],\n",
    "    relationships = [map_to_base_relationship(rel) for rel in data2.rels],\n",
    "    source = doc\n",
    ")\n",
    "\n",
    "print(graph_document)\n",
    "\n",
    " # Store information into a graph\n",
    "graph.add_graph_documents([graph_document])"
   ]
  },
  {
   "cell_type": "code",
   "execution_count": null,
   "metadata": {},
   "outputs": [],
   "source": []
  }
 ],
 "metadata": {
  "kernelspec": {
   "display_name": "base",
   "language": "python",
   "name": "python3"
  },
  "language_info": {
   "codemirror_mode": {
    "name": "ipython",
    "version": 3
   },
   "file_extension": ".py",
   "mimetype": "text/x-python",
   "name": "python",
   "nbconvert_exporter": "python",
   "pygments_lexer": "ipython3",
   "version": "3.10.13"
  }
 },
 "nbformat": 4,
 "nbformat_minor": 2
}

{
 "cells": [
  {
   "cell_type": "markdown",
   "id": "56944b0d-1be0-4753-be15-5c031d79cad3",
   "metadata": {},
   "source": [
    "# Installs"
   ]
  },
  {
   "cell_type": "code",
   "execution_count": 1,
   "id": "2814ce58-4f55-434b-9420-92090d89aa1c",
   "metadata": {},
   "outputs": [],
   "source": [
    "# !pip -q install pydantic==2.5.2 \n",
    "# !pip -q install langchain langchain_mistralai langchain-openai\n",
    "# !pip -q install sqlalchemy\n",
    "# !pip -q install huggingface_hub openai tiktoken\n",
    "# !pip -q install chromadb duckduckgo-search"
   ]
  },
  {
   "cell_type": "markdown",
   "id": "4572d301-1952-42c3-9419-cfee0cfe6074",
   "metadata": {},
   "source": [
    "## Logging"
   ]
  },
  {
   "cell_type": "markdown",
   "id": "ef71f248-67c3-4933-b9b0-5ddaaaaf3bf0",
   "metadata": {},
   "source": [
    "## Imports"
   ]
  },
  {
   "cell_type": "code",
   "execution_count": 2,
   "id": "45cda378-c206-4c1f-9af4-de7c38e2c3ee",
   "metadata": {},
   "outputs": [],
   "source": [
    "import llmtools as t"
   ]
  },
  {
   "cell_type": "code",
   "execution_count": 3,
   "id": "bbc409c9-7937-4734-b1f9-349e1b1e0060",
   "metadata": {},
   "outputs": [
    {
     "name": "stderr",
     "output_type": "stream",
     "text": [
      "2024-02-19 22:55:27,585 [MainThread  ] [INFO ]  ---Setup logging---\n",
      "INFO:rootLogger:---Setup logging---\n"
     ]
    }
   ],
   "source": [
    "t.set_openai_key()\n",
    "logger = t.setup_logging()"
   ]
  },
  {
   "cell_type": "code",
   "execution_count": 7,
   "id": "3ed6d9ae-9941-43fa-a97c-c92cc90b8f86",
   "metadata": {},
   "outputs": [],
   "source": [
    "from langchain.prompts import ChatPromptTemplate\n",
    "from langchain_openai.chat_models import ChatOpenAI\n",
    "from langchain_openai.llms import OpenAI\n",
    "\n",
    "from langchain.schema.output_parser import StrOutputParser"
   ]
  },
  {
   "cell_type": "code",
   "execution_count": 8,
   "id": "883a37be-22f0-4267-a3f4-4243982f3c24",
   "metadata": {},
   "outputs": [],
   "source": [
    "model = ChatOpenAI(\n",
    "    model=\"gpt-3.5-turbo\",\n",
    "    temperature=0\n",
    "    )\n",
    "\n",
    "model2 = OpenAI(\n",
    "    model=\"text-davinci-003\",\n",
    "    temperature=0\n",
    "    )"
   ]
  },
  {
   "cell_type": "raw",
   "id": "f40314a4-c174-473a-874f-9be1a34f33a4",
   "metadata": {},
   "source": [
    "prompt = ChatPromt"
   ]
  }
 ],
 "metadata": {
  "kernelspec": {
   "display_name": "Python 3 (ipykernel)",
   "language": "python",
   "name": "python3"
  },
  "language_info": {
   "codemirror_mode": {
    "name": "ipython",
    "version": 3
   },
   "file_extension": ".py",
   "mimetype": "text/x-python",
   "name": "python",
   "nbconvert_exporter": "python",
   "pygments_lexer": "ipython3",
   "version": "3.11.6"
  }
 },
 "nbformat": 4,
 "nbformat_minor": 5
}

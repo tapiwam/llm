{
 "cells": [
  {
   "cell_type": "code",
   "execution_count": 1,
   "id": "52982caf-f149-46bc-b155-bf6c8af24a07",
   "metadata": {},
   "outputs": [],
   "source": [
    "#!pip install langchain neo4j openai wikipedia tiktoken langchain_openai\n",
    "#!pip install -U python-dotenv"
   ]
  },
  {
   "cell_type": "code",
   "execution_count": 2,
   "id": "73b7a07c-beed-4020-872c-6d2e8ee82bf6",
   "metadata": {},
   "outputs": [],
   "source": [
    "import os\n",
    "from dotenv import load_dotenv\n",
    "\n",
    "load_dotenv()\n",
    "\n",
    "url=\"neo4j://192.168.68.84:7687/\"\n",
    "NEO_DB = os.getenv('NEO_DB')\n",
    "username = os.getenv('NEO_USER')\n",
    "password = os.getenv('NEO_PASS')\n"
   ]
  },
  {
   "cell_type": "code",
   "execution_count": 3,
   "id": "9eec4b7a-5cbd-4f2a-9ca0-1194f536171b",
   "metadata": {},
   "outputs": [],
   "source": [
    "from langchain.graphs import Neo4jGraph\n",
    "from langchain_openai import OpenAI\n",
    "from langchain_openai import ChatOpenAI\n",
    "from langchain.schema import AIMessage, HumanMessage, SystemMessage\n",
    "\n",
    "# Import chat templates\n",
    "from langchain.prompts import (\n",
    "    ChatPromptTemplate,\n",
    "    PromptTemplate,\n",
    "    SystemMessagePromptTemplate,\n",
    "    AIMessagePromptTemplate,\n",
    "    HumanMessagePromptTemplate,\n",
    ")\n",
    "\n",
    "# Caching\n",
    "from langchain.cache import InMemoryCache\n",
    "from langchain.cache import SQLiteCache\n",
    "from langchain.globals import set_llm_cache\n",
    "\n",
    "from langchain.chains.openai_functions import (\n",
    "    create_openai_fn_chain,\n",
    "    create_structured_output_runnable,\n",
    "    create_structured_output_chain\n",
    ")\n",
    "\n",
    "from langchain_community.graphs.graph_document import (\n",
    "    Node as BaseNode,\n",
    "    Relationship as BaseRelationship,\n",
    "    GraphDocument,\n",
    ")\n",
    "from langchain.schema import Document\n",
    "from typing import List, Dict, Any, Optional\n",
    "from langchain.pydantic_v1 import Field, BaseModel\n",
    "from tqdm import tqdm\n",
    "from langchain.document_loaders import WikipediaLoader\n",
    "from langchain.text_splitter import TokenTextSplitter\n"
   ]
  },
  {
   "cell_type": "code",
   "execution_count": 4,
   "id": "89570e1c-9775-40d9-ad06-c25c2c03dbd9",
   "metadata": {},
   "outputs": [
    {
     "data": {
      "text/plain": [
       "'password'"
      ]
     },
     "execution_count": 4,
     "metadata": {},
     "output_type": "execute_result"
    }
   ],
   "source": [
    "password"
   ]
  },
  {
   "cell_type": "code",
   "execution_count": 5,
   "id": "897ac259-519d-4bc5-8ca1-eaef05e98e09",
   "metadata": {},
   "outputs": [],
   "source": [
    "graph = Neo4jGraph(\n",
    "    url=url,\n",
    "    username=username,\n",
    "    password=password\n",
    ")"
   ]
  },
  {
   "cell_type": "code",
   "execution_count": 6,
   "id": "33479622-3773-4e6c-b252-71db99070987",
   "metadata": {},
   "outputs": [],
   "source": [
    "\n",
    "\n",
    "class Property(BaseModel):\n",
    "  \"\"\"A single property consisting of key and value\"\"\"\n",
    "  key: str = Field(..., description=\"key\")\n",
    "  value: str = Field(..., description=\"value\")\n",
    "\n",
    "class Node(BaseNode):\n",
    "    properties: Optional[List[Property]] = Field(\n",
    "        None, description=\"List of node properties\")\n",
    "\n",
    "class Relationship(BaseRelationship):\n",
    "    properties: Optional[List[Property]] = Field(\n",
    "        None, description=\"List of relationship properties\"\n",
    "    )\n",
    "\n",
    "class KnowledgeGraph(BaseModel):\n",
    "    \"\"\"Generate a knowledge graph with entities and relationships.\"\"\"\n",
    "    nodes: List[Node] = Field(\n",
    "        ..., description=\"List of nodes in the knowledge graph\")\n",
    "    rels: List[Relationship] = Field(\n",
    "        ..., description=\"List of relationships in the knowledge graph\"\n",
    "    )"
   ]
  },
  {
   "cell_type": "code",
   "execution_count": 7,
   "id": "7b775000-605b-4710-ad63-6c096be304be",
   "metadata": {},
   "outputs": [],
   "source": [
    "def format_property_key(s: str) -> str:\n",
    "    words = s.split()\n",
    "    if not words:\n",
    "        return s\n",
    "    first_word = words[0].lower()\n",
    "    capitalized_words = [word.capitalize() for word in words[1:]]\n",
    "    return \"\".join([first_word] + capitalized_words)\n",
    "\n",
    "def props_to_dict(props) -> dict:\n",
    "    \"\"\"Convert properties to a dictionary.\"\"\"\n",
    "    properties = {}\n",
    "    if not props:\n",
    "      return properties\n",
    "    for p in props:\n",
    "        properties[format_property_key(p.key)] = p.value\n",
    "    return properties\n",
    "\n",
    "def map_to_base_node(node: Node) -> BaseNode:\n",
    "    \"\"\"Map the KnowledgeGraph Node to the base Node.\"\"\"\n",
    "    properties = props_to_dict(node.properties) if node.properties else {}\n",
    "    # Add name property for better Cypher statement generation\n",
    "    properties[\"name\"] = node.id.title()\n",
    "    return BaseNode(\n",
    "        id=node.id.title(), type=node.type.capitalize(), properties=properties\n",
    "    )\n",
    "\n",
    "\n",
    "def map_to_base_relationship(rel: Relationship) -> BaseRelationship:\n",
    "    \"\"\"Map the KnowledgeGraph Relationship to the base Relationship.\"\"\"\n",
    "    source = map_to_base_node(rel.source)\n",
    "    target = map_to_base_node(rel.target)\n",
    "    properties = props_to_dict(rel.properties) if rel.properties else {}\n",
    "    return BaseRelationship(\n",
    "        source=source, target=target, type=rel.type, properties=properties\n",
    "    )"
   ]
  },
  {
   "cell_type": "code",
   "execution_count": 8,
   "id": "9be3d3db-cb40-4193-9d4c-75342434c3e5",
   "metadata": {},
   "outputs": [],
   "source": [
    "def get_system_template(allowed_nodes: Optional[List[str]] = None, allowed_rels: Optional[List[str]] = None):\n",
    "    system_template = f\"\"\"\n",
    "    # Knowledge Graph Instructions for GPT-4\n",
    "    ## 1. Overview\n",
    "    You are a top-tier algorithm designed for extracting information in structured formats to build a knowledge graph.\n",
    "    - **Nodes** represent entities and concepts. They're akin to Wikipedia nodes.\n",
    "    - The aim is to achieve simplicity and clarity in the knowledge graph, making it accessible for a vast audience.\n",
    "    ## 2. Labeling Nodes\n",
    "    - **Consistency**: Ensure you use basic or elementary types for node labels.\n",
    "      - For example, when you identify an entity representing a person, always label it as **\"person\"**. Avoid using more specific terms like \"mathematician\" or \"scientist\".\n",
    "    - **Node IDs**: Never utilize integers as node IDs. Node IDs should be names or human-readable identifiers found in the text.\n",
    "    {'- **Allowed Node Labels:**' + \", \".join(allowed_nodes) if allowed_nodes else \"\"}\n",
    "    {'- **Allowed Relationship Types**:' + \", \".join(allowed_rels) if allowed_rels else \"\"}\n",
    "    ## 3. Handling Numerical Data and Dates\n",
    "    - Numerical data, like age or other related information, should be incorporated as attributes or properties of the respective nodes.\n",
    "    - **No Separate Nodes for Dates/Numbers**: Do not create separate nodes for dates or numerical values. Always attach them as attributes or properties of nodes.\n",
    "    - **Property Format**: Properties must be in a key-value format.\n",
    "    - **Quotation Marks**: Never use escaped single or double quotes within property values.\n",
    "    - **Naming Convention**: Use camelCase for property keys, e.g., `birthDate`.\n",
    "    ## 4. Coreference Resolution\n",
    "    - **Maintain Entity Consistency**: When extracting entities, it's vital to ensure consistency.\n",
    "    If an entity, such as \"John Doe\", is mentioned multiple times in the text but is referred to by different names or pronouns (e.g., \"Joe\", \"he\"), \n",
    "    always use the most complete identifier for that entity throughout the knowledge graph. In this example, use \"John Doe\" as the entity ID.  \n",
    "    Remember, the knowledge graph should be coherent and easily understandable, so maintaining consistency in entity references is crucial. \n",
    "    ## 5. Strict Compliance\n",
    "    Adhere to the rules strictly. Non-compliance will result in termination.\n",
    "    \"\"\"\n",
    "    return system_template\n",
    "\n",
    "\n",
    "\n",
    "def get_extraction_chain( llm, allowed_nodes: Optional[List[str]] = None, allowed_rels: Optional[List[str]] = None):\n",
    "    human_template = \"\"\"\n",
    "    Use the given format to extract information from the following input: {input}\n",
    "    Tip: Make sure to answer in the correct format\n",
    "    \"\"\"\n",
    "    \n",
    "    system_prompt = SystemMessagePromptTemplate.from_template(get_system_template(allowed_nodes, allowed_rels))\n",
    "    human_prompt = HumanMessagePromptTemplate.from_template(human_template)\n",
    "    \n",
    "    chat_prompt = ChatPromptTemplate.from_messages([system_prompt, human_prompt])\n",
    "    \n",
    "    return create_structured_output_chain(output_schema=KnowledgeGraph, llm=llm, prompt=chat_prompt, verbose=False)\n",
    "    "
   ]
  },
  {
   "cell_type": "code",
   "execution_count": 9,
   "id": "80c6c792-70fd-4c48-83b3-fed5f9075453",
   "metadata": {},
   "outputs": [],
   "source": [
    "# def get_extraction_chain(\n",
    "#     llm,\n",
    "#     allowed_nodes: Optional[List[str]] = None,\n",
    "#     allowed_rels: Optional[List[str]] = None\n",
    "#     ):\n",
    "#     prompt = ChatPromptTemplate.from_messages(\n",
    "#         [(\n",
    "#           \"system\",\n",
    "#           f\"\"\"# Knowledge Graph Instructions for GPT-4\n",
    "# ## 1. Overview\n",
    "# You are a top-tier algorithm designed for extracting information in structured formats to build a knowledge graph.\n",
    "# - **Nodes** represent entities and concepts. They're akin to Wikipedia nodes.\n",
    "# - The aim is to achieve simplicity and clarity in the knowledge graph, making it accessible for a vast audience.\n",
    "# ## 2. Labeling Nodes\n",
    "# - **Consistency**: Ensure you use basic or elementary types for node labels.\n",
    "#   - For example, when you identify an entity representing a person, always label it as **\"person\"**. Avoid using more specific terms like \"mathematician\" or \"scientist\".\n",
    "# - **Node IDs**: Never utilize integers as node IDs. Node IDs should be names or human-readable identifiers found in the text.\n",
    "# {'- **Allowed Node Labels:**' + \", \".join(allowed_nodes) if allowed_nodes else \"\"}\n",
    "# {'- **Allowed Relationship Types**:' + \", \".join(allowed_rels) if allowed_rels else \"\"}\n",
    "# ## 3. Handling Numerical Data and Dates\n",
    "# - Numerical data, like age or other related information, should be incorporated as attributes or properties of the respective nodes.\n",
    "# - **No Separate Nodes for Dates/Numbers**: Do not create separate nodes for dates or numerical values. Always attach them as attributes or properties of nodes.\n",
    "# - **Property Format**: Properties must be in a key-value format.\n",
    "# - **Quotation Marks**: Never use escaped single or double quotes within property values.\n",
    "# - **Naming Convention**: Use camelCase for property keys, e.g., `birthDate`.\n",
    "# ## 4. Coreference Resolution\n",
    "# - **Maintain Entity Consistency**: When extracting entities, it's vital to ensure consistency.\n",
    "# If an entity, such as \"John Doe\", is mentioned multiple times in the text but is referred to by different names or pronouns (e.g., \"Joe\", \"he\"),\n",
    "# always use the most complete identifier for that entity throughout the knowledge graph. In this example, use \"John Doe\" as the entity ID.\n",
    "# Remember, the knowledge graph should be coherent and easily understandable, so maintaining consistency in entity references is crucial.\n",
    "# ## 5. Strict Compliance\n",
    "# Adhere to the rules strictly. Non-compliance will result in termination.\n",
    "#           \"\"\"),\n",
    "#             (\"human\", \"Use the given format to extract information from the following input: {input}\"),\n",
    "#             (\"human\", \"Tip: Make sure to answer in the correct format\"),\n",
    "#         ])\n",
    "#     return create_structured_output_chain(KnowledgeGraph, llm, prompt, verbose=False)"
   ]
  },
  {
   "cell_type": "code",
   "execution_count": 10,
   "id": "88967e50-71b5-4179-b66a-4e880fd3a809",
   "metadata": {},
   "outputs": [],
   "source": [
    "def extract_and_store_graph(\n",
    "    document: Document,\n",
    "    nodes:Optional[List[str]] = None,\n",
    "    rels:Optional[List[str]]=None) -> None:\n",
    "\n",
    "    llm = ChatOpenAI(model=\"gpt-3.5-turbo-16k\", temperature=0)\n",
    "    \n",
    "    # Extract graph data using OpenAI functions\n",
    "    extract_chain = get_extraction_chain(llm, nodes, rels)\n",
    "    data = extract_chain.invoke(document.page_content)['function']\n",
    "    \n",
    "    # Construct a graph document\n",
    "    graph_document = GraphDocument(\n",
    "      nodes = [map_to_base_node(node) for node in data.nodes],\n",
    "      relationships = [map_to_base_relationship(rel) for rel in data.rels],\n",
    "      source = document\n",
    "    )\n",
    "    \n",
    "    # Store information into a graph\n",
    "    graph.add_graph_documents([graph_document])"
   ]
  },
  {
   "cell_type": "code",
   "execution_count": null,
   "id": "408bef95-0f2d-4519-9f97-e55bad255caf",
   "metadata": {},
   "outputs": [],
   "source": []
  },
  {
   "cell_type": "code",
   "execution_count": 11,
   "id": "1b005e8d-943a-44c0-a4cc-df0e3b029bf7",
   "metadata": {},
   "outputs": [],
   "source": [
    "\n",
    "# Read the wikipedia article\n",
    "raw_documents = WikipediaLoader(query=\"Walt Disney\").load()\n",
    "# Define chunking strategy\n",
    "text_splitter = TokenTextSplitter(chunk_size=2048, chunk_overlap=24)\n",
    "\n",
    "# Only take the first the raw_documents\n",
    "documents = text_splitter.split_documents(raw_documents[:3])"
   ]
  },
  {
   "cell_type": "code",
   "execution_count": 12,
   "id": "2be064a2-0cae-4a74-a074-6d2679dc09d4",
   "metadata": {},
   "outputs": [
    {
     "name": "stderr",
     "output_type": "stream",
     "text": [
      "  0%|          | 0/3 [00:00<?, ?it/s]/opt/conda/lib/python3.11/site-packages/langchain_core/_api/deprecation.py:117: LangChainDeprecationWarning: The function `create_structured_output_chain` was deprecated in LangChain 0.1.1 and will be removed in 0.2.0. Use create_structured_output_runnable instead.\n",
      "  warn_deprecated(\n",
      "100%|██████████| 3/3 [02:27<00:00, 49.15s/it]\n"
     ]
    }
   ],
   "source": [
    "# Specify which node labels should be extracted by the LLM\n",
    "allowed_nodes = [\"Person\", \"Company\", \"Location\", \"Event\", \"Movie\", \"Service\", \"Award\"]\n",
    "\n",
    "for i, d in tqdm(enumerate(documents), total=len(documents)):\n",
    "    extract_and_store_graph(d, allowed_nodes)\n",
    "    "
   ]
  },
  {
   "cell_type": "code",
   "execution_count": null,
   "id": "b5031bfc-586d-49ea-9a84-904eac29a97c",
   "metadata": {},
   "outputs": [],
   "source": []
  },
  {
   "cell_type": "code",
   "execution_count": null,
   "id": "db56a228-a548-49d3-9f64-1276aa01f427",
   "metadata": {},
   "outputs": [],
   "source": [
    "# Query the knowledge graph in a RAG application\n",
    "from langchain.chains import GraphCypherQAChain"
   ]
  },
  {
   "cell_type": "code",
   "execution_count": null,
   "id": "786d41a0-70c0-494a-8765-4ac0d49c2159",
   "metadata": {},
   "outputs": [],
   "source": [
    "graph.refresh_schema()\n",
    "\n",
    "cypher_chain = GraphCypherQAChain.from_llm(\n",
    "    graph=graph,\n",
    "    cypher_llm=ChatOpenAI(temperature=0, model=\"gpt-4\"),\n",
    "    qa_llm=ChatOpenAI(temperature=0, model=\"gpt-3.5-turbo\"),\n",
    "    validate_cypher=True, # Validate relationship directions\n",
    "    verbose=True\n",
    ")"
   ]
  },
  {
   "cell_type": "code",
   "execution_count": null,
   "id": "24ca4a8f-5f98-4a86-87dc-a56a0d628734",
   "metadata": {},
   "outputs": [],
   "source": [
    "cypher_chain.invoke({\"query\": \"When was Walter Elias Disney born?\"})"
   ]
  },
  {
   "cell_type": "code",
   "execution_count": null,
   "id": "c7414573-d1a7-46dc-9e96-b160a592f123",
   "metadata": {},
   "outputs": [],
   "source": []
  },
  {
   "cell_type": "code",
   "execution_count": null,
   "id": "04dc0907-2bde-4593-9755-8f4c97f078b7",
   "metadata": {},
   "outputs": [],
   "source": []
  }
 ],
 "metadata": {
  "kernelspec": {
   "display_name": "Python 3 (ipykernel)",
   "language": "python",
   "name": "python3"
  },
  "language_info": {
   "codemirror_mode": {
    "name": "ipython",
    "version": 3
   },
   "file_extension": ".py",
   "mimetype": "text/x-python",
   "name": "python",
   "nbconvert_exporter": "python",
   "pygments_lexer": "ipython3",
   "version": "3.11.6"
  }
 },
 "nbformat": 4,
 "nbformat_minor": 5
}

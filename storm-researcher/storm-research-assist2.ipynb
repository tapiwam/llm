{
 "cells": [
  {
   "cell_type": "markdown",
   "id": "3b912966-4dce-4685-a5b2-a39c5229a0f1",
   "metadata": {},
   "source": [
    "# Storm Research Assistant\n",
    "\n",
    "Reference\n",
    "https://github.com/langchain-ai/langgraph/blob/main/examples/storm/storm.ipynb\n"
   ]
  },
  {
   "cell_type": "code",
   "execution_count": 1,
   "id": "54832538-aa97-4e40-9713-eaae1e62852a",
   "metadata": {},
   "outputs": [],
   "source": [
    "## Prereqs"
   ]
  },
  {
   "cell_type": "code",
   "execution_count": 2,
   "id": "60732872-a587-4384-ad96-3ba16facbbe2",
   "metadata": {},
   "outputs": [],
   "source": [
    "\n",
    "# %pip install -U langchain_community langchain_openai langgraph wikipedia  scikit-learn  langchain_fireworks langchain_anthropic\n",
    "# # We use one or the other search engine below\n",
    "# %pip install -U tavily-python, playwright\n",
    "# %pip install -U duckduckgo-search\n",
    "# # ! apt-get install graphviz graphviz-dev\n",
    "# %pip install pygraphviz\n",
    "\n"
   ]
  },
  {
   "cell_type": "code",
   "execution_count": 3,
   "id": "4abf06bb",
   "metadata": {},
   "outputs": [],
   "source": [
    "\n",
    "example_topic = \"Impact of THE Red Cross Church IN Zimbabwe early history\""
   ]
  },
  {
   "cell_type": "code",
   "execution_count": 4,
   "id": "62647209-990c-4cc1-a1ac-22e46e7ecc31",
   "metadata": {},
   "outputs": [
    {
     "name": "stdout",
     "output_type": "stream",
     "text": [
      "bert_load_from_file: gguf version     = 2\n",
      "bert_load_from_file: gguf alignment   = 32\n",
      "bert_load_from_file: gguf data offset = 695552\n",
      "bert_load_from_file: model name           = BERT\n",
      "bert_load_from_file: model architecture   = bert\n",
      "bert_load_from_file: model file type      = 1\n",
      "bert_load_from_file: bert tokenizer vocab = 30522\n"
     ]
    }
   ],
   "source": [
    "from storm import *\n",
    "\n",
    "os.environ[\"LANGCHAIN_PROJECT\"] = 'STORM_RESEARCHER'\n",
    "\n",
    "\n",
    "fast_llm, _ = get_openai_llms(regular_model=\"gpt-3.5-turbo\", long_context_model=\"gpt-3.5-turbo-0125\")\n",
    "\n",
    "_, long_context_llm = get_anthropic_llms()\n",
    "\n",
    "# ollama_model = 'mistral:7b-instruct-q4_K_M'\n",
    "# fast_llm, long_context_llm = get_ollama_llms(regular_model=ollama_model, long_context_model=ollama_model)\n",
    "\n",
    "\n",
    "embeddings = get_gpt4all_embeddings()\n",
    "\n",
    "_ = None\n"
   ]
  },
  {
   "cell_type": "markdown",
   "id": "94644a48",
   "metadata": {},
   "source": [
    "### Generate Initial Outline\n"
   ]
  },
  {
   "cell_type": "code",
   "execution_count": 5,
   "id": "5b278d8c-9e34-42ab-9649-bc7b3570bb52",
   "metadata": {},
   "outputs": [],
   "source": [
    "outline_system_prompt = prompts.outline_system_wiki_writer\n",
    "outline_human_prompt = prompts.outline_user_topic_formatinstructions\n",
    "direct_gen_outline_prompt = get_chat_prompt_from_prompt_templates([outline_system_prompt, outline_human_prompt])\n",
    "\n",
    "outline_parser = get_pydantic_parser(pydantic_object=Outline)\n",
    "generate_outline_direct = get_chain_with_outputparser(direct_gen_outline_prompt, fast_llm, outline_parser)"
   ]
  },
  {
   "cell_type": "code",
   "execution_count": 6,
   "id": "90ee8329-896b-4085-a1fa-fec0a15937ef",
   "metadata": {},
   "outputs": [
    {
     "name": "stderr",
     "output_type": "stream",
     "text": [
      "2024-03-31 14:42:27,820 [MainThread  ] [INFO ]  # Impact of The Red Cross Church in Zimbabwe Early History\n",
      "\n",
      "## Introduction to The Red Cross Church in Zimbabwe\n",
      "\n",
      "Overview of the establishment and early history of The Red Cross Church in Zimbabwe.\n",
      "\n",
      "### Founding of The Red Cross Church in Zimbabwe\n",
      "\n",
      "Information on the founders and the initial mission of the church in Zimbabwe.\n",
      "\n",
      "### Early Activities and Programs\n",
      "\n",
      "Details about the early activities, charity work, and community programs initiated by the church.\n",
      "\n",
      "## Impact on Zimbabwean Society\n",
      "\n",
      "Exploration of the significant impact of The Red Cross Church on the society and culture of Zimbabwe.\n",
      "\n",
      "### Humanitarian Efforts\n",
      "\n",
      "Discussion on the humanitarian aid provided by the church during critical times in Zimbabwe.\n",
      "\n",
      "### Educational Initiatives\n",
      "\n",
      "Information on the church's role in promoting education and literacy in Zimbabwe.\n",
      "\n",
      "## Challenges and Controversies\n",
      "\n",
      "Analysis of the challenges faced by The Red Cross Church in Zimbabwe and any controversies surrounding its operations.\n",
      "\n",
      "### Internal Struggles\n",
      "\n",
      "Overview of internal conflicts or challenges within the church's leadership in Zimbabwe.\n",
      "\n",
      "### External Criticisms\n",
      "\n",
      "Examination of any external criticisms or controversies involving the church's activities in Zimbabwe.\n",
      "\n",
      "## Legacy and Future Prospects\n",
      "\n",
      "Exploration of the lasting legacy of The Red Cross Church in Zimbabwe and its potential future impact.\n",
      "\n",
      "### Current Initiatives\n",
      "\n",
      "Highlighting the ongoing projects and initiatives of the church in Zimbabwe.\n",
      "\n",
      "### Future Challenges and Opportunities\n",
      "\n",
      "Discussion on the potential challenges and opportunities that lie ahead for The Red Cross Church in Zimbabwe.\n"
     ]
    }
   ],
   "source": [
    "\n",
    "initial_outline = generate_outline_direct.invoke({\"topic\": example_topic})\n",
    "logger.info(initial_outline.as_str)"
   ]
  },
  {
   "cell_type": "markdown",
   "id": "5706a1d3",
   "metadata": {},
   "source": [
    "### Expand Topics\n"
   ]
  },
  {
   "cell_type": "code",
   "execution_count": 7,
   "id": "27f63ad0-7e07-48ac-85a9-80a53b528c02",
   "metadata": {},
   "outputs": [],
   "source": [
    "related_subjects_prompt = get_chat_prompt_from_prompt_templates([prompts.related_subjects_human_wiki_writer])\n",
    "related_topics_parser = get_pydantic_parser(RelatedSubjects)\n",
    "expand_chain = get_chain_with_outputparser(related_subjects_prompt, fast_llm, related_topics_parser)"
   ]
  },
  {
   "cell_type": "code",
   "execution_count": 8,
   "id": "8f801936-f6f7-44a0-bc79-4f0132fba79b",
   "metadata": {},
   "outputs": [
    {
     "data": {
      "text/plain": [
       "RelatedSubjects(topics=['Red Cross in Zimbabwe', 'History of Christianity in Zimbabwe', 'Impact of missionary work in Zimbabwe', 'Religion in Zimbabwe', 'Colonialism in Zimbabwe', 'Humanitarian aid in Zimbabwe'])"
      ]
     },
     "execution_count": 8,
     "metadata": {},
     "output_type": "execute_result"
    }
   ],
   "source": [
    "related_subjects = await expand_chain.ainvoke({\"topic\": example_topic})\n",
    "related_subjects"
   ]
  },
  {
   "cell_type": "markdown",
   "id": "95cc42a4-45f1-470c-a3f6-20a5661d5b43",
   "metadata": {},
   "source": [
    "## Generate Perspectives\n",
    "\n",
    "From these related subjects, we can select representative Wiki editors as \"subject matter experts\" with distinct backgrounds and affiliations. These will help distribute the search process to encourage a more well-rounded final report.\n"
   ]
  },
  {
   "cell_type": "code",
   "execution_count": 9,
   "id": "d79ea824-c561-4949-bbd4-127281f3eeb6",
   "metadata": {},
   "outputs": [],
   "source": [
    "\n",
    "\n",
    "gen_perspectives_prompt = get_chat_prompt_from_prompt_templates([prompts.perspective_system_generator, prompts.outline_user_topic_formatinstructions])\n",
    "perspectives_parser = get_pydantic_parser(pydantic_object=Perspectives)\n",
    "\n",
    "gen_perspectives_chain = gen_perspectives_prompt.partial(format_instructions=perspectives_parser.get_format_instructions()) | fast_llm | perspectives_parser\n",
    "\n",
    "\n",
    "\n",
    "@as_runnable\n",
    "async def survey_subjects(topic: str)-> Perspectives:\n",
    "    logger.info(f\"Survey Subjects for Topic: {topic}\")\n",
    "    related_subjects = await expand_chain.ainvoke({\"topic\": topic})\n",
    "    retrieved_docs = await wikipedia_retriever.abatch(\n",
    "        related_subjects.topics, return_exceptions=True\n",
    "    )\n",
    "    all_docs = []\n",
    "    for docs in retrieved_docs:\n",
    "        if isinstance(docs, BaseException):\n",
    "            continue\n",
    "        all_docs.extend(docs)\n",
    "    logger.info(f\"Retrieved {len(all_docs)} docs for Topic: {topic}\")\n",
    "    \n",
    "    formatted = format_docs(all_docs)\n",
    "    return await gen_perspectives_chain.ainvoke({\"examples\": formatted, \"topic\": topic})\n"
   ]
  },
  {
   "cell_type": "code",
   "execution_count": 10,
   "id": "1fb5d9c4",
   "metadata": {},
   "outputs": [
    {
     "name": "stderr",
     "output_type": "stream",
     "text": [
      "2024-03-31 14:42:28,899 [MainThread  ] [INFO ]  Survey Subjects for Topic: Impact of THE Red Cross Church IN Zimbabwe early history\n",
      "2024-03-31 14:42:41,891 [MainThread  ] [INFO ]  Retrieved 6 docs for Topic: Impact of THE Red Cross Church IN Zimbabwe early history\n"
     ]
    },
    {
     "data": {
      "text/plain": [
       "{'editors': [{'affiliation': 'Zimbabwe Historical Society',\n",
       "   'name': 'Dr. Tendai Moyo',\n",
       "   'role': 'Historian',\n",
       "   'description': 'Dr. Moyo is a prominent historian specializing in the early history of Zimbabwe, with a focus on the impact of missionary activities. He will provide insights into the interactions between the Red Cross Church and the historical development of Zimbabwe.'},\n",
       "  {'affiliation': 'Red Cross Zimbabwe',\n",
       "   'name': 'Sarah Chikwava',\n",
       "   'role': 'Humanitarian Worker',\n",
       "   'description': \"Sarah Chikwava has been actively involved in humanitarian work in Zimbabwe, particularly with the Red Cross Church. She will offer firsthand accounts of the Red Cross Church's initiatives and their impact on communities in Zimbabwe.\"},\n",
       "  {'affiliation': 'Zimbabwe Christian Council',\n",
       "   'name': 'Rev. Michael Ngwenya',\n",
       "   'role': 'Religious Scholar',\n",
       "   'description': 'Rev. Ngwenya is a respected religious scholar focusing on the history of Christianity in Zimbabwe. He will provide a perspective on the role of the Red Cross Church within the broader context of Christian missions in Zimbabwe.'}]}"
      ]
     },
     "execution_count": 10,
     "metadata": {},
     "output_type": "execute_result"
    }
   ],
   "source": [
    "perspectives = await survey_subjects.ainvoke(example_topic)\n",
    "perspectives.dict()"
   ]
  },
  {
   "cell_type": "markdown",
   "id": "35abdf40-80dc-434c-8116-d6b9cbde5572",
   "metadata": {},
   "source": [
    "## Expert Dialog\n",
    "\n",
    "Each wikipedia writer is primed to role-play using the perspectives presented above. It will ask a series of questions of a second \"domain expert\" with access to a search engine. This generate content to generate a refined outline as well as an updated index of reference documents.\n",
    "\n",
    "### Interview State\n",
    "\n",
    "The conversation is cyclic, so we will construct it within its own graph. The State will contain messages, the reference docs, and the editor (with its own \"persona\") to make it easy to parallelize these conversations.\n"
   ]
  },
  {
   "cell_type": "markdown",
   "id": "dc0639d2-e8a6-43d4-8e9a-eb5f4051578c",
   "metadata": {},
   "source": [
    "# Dialog Roles\n",
    "\n",
    "The graph will have two participants: the wikipedia editor (generate_question), who asks questions based on its assigned role, and a domain expert (`gen_answer_chain), who uses a search engine to answer the questions as accurately as possible.\n"
   ]
  },
  {
   "cell_type": "code",
   "execution_count": 11,
   "id": "d644c46c-4d23-49e1-9093-39b4f6c8c157",
   "metadata": {},
   "outputs": [],
   "source": [
    "gen_qn_prompt = get_chat_prompt_from_prompt_templates([prompts.gen_question_system_generator, prompts.generate_messages_placeholder()])\n",
    "\n",
    "\n",
    "def swap_roles(state: InterviewState, name: str) -> InterviewState:\n",
    "\n",
    "    # Normalize name\n",
    "    name = cleanup_name(name)\n",
    "\n",
    "    logger.info(f'Swapping roles for {name}')\n",
    "\n",
    "    converted = []\n",
    "    for message in state[\"messages\"]:\n",
    "        if isinstance(message, AIMessage) and message.name != name:\n",
    "            message = HumanMessage(**message.dict(exclude={\"type\"}))\n",
    "        converted.append(message)\n",
    "    \n",
    "    state['messages'] = converted\n",
    "    \n",
    "    logger.info(f'Converted messages for {name} while swapping roles: {len(converted)} messages')\n",
    "    return state\n",
    "\n",
    "\n",
    "@as_runnable\n",
    "async def generate_question(state: InterviewState) -> InterviewState:\n",
    "    editor: Editor = state[\"editor\"]\n",
    "\n",
    "    name = cleanup_name(editor.name)\n",
    "\n",
    "\n",
    "    logger.info(f'Generating question for {name}')\n",
    "\n",
    "    gn_chain = (\n",
    "        RunnableLambda(swap_roles).bind(name=name)\n",
    "        | gen_qn_prompt.partial(persona=editor.persona)\n",
    "        | fast_llm\n",
    "        | RunnableLambda(tag_with_name).bind(name=name)\n",
    "    )\n",
    "    result:AIMessage = await gn_chain.ainvoke(state)\n",
    "    state[\"messages\"] = ([result])\n",
    "\n",
    "    logger.info(f'Generated question for {name}')\n",
    "    return state"
   ]
  },
  {
   "cell_type": "code",
   "execution_count": 12,
   "id": "29ac2384-a123-467f-bbc6-828be9dc04fd",
   "metadata": {},
   "outputs": [
    {
     "name": "stderr",
     "output_type": "stream",
     "text": [
      "2024-03-31 14:42:46,457 [MainThread  ] [INFO ]  Generating question for DrTendaiMoyo\n",
      "2024-03-31 14:42:46,478 [asyncio_3   ] [INFO ]  Swapping roles for DrTendaiMoyo\n",
      "2024-03-31 14:42:46,478 [asyncio_3   ] [INFO ]  Converted messages for DrTendaiMoyo while swapping roles: 1 messages\n",
      "2024-03-31 14:42:47,460 [MainThread  ] [INFO ]  Generated question for DrTendaiMoyo\n"
     ]
    },
    {
     "data": {
      "text/plain": [
       "AIMessage(content='I apologize for any confusion, but I am actually a Wikipedia writer focused on the early history of Zimbabwe, specifically examining the impact of missionary activities. In this context, I am particularly interested in the interactions between the Red Cross Church and the historical development of Zimbabwe. Can you provide insights into how the Red Cross Church influenced events in Zimbabwe during that time?', response_metadata={'token_usage': {'completion_tokens': 70, 'prompt_tokens': 224, 'total_tokens': 294}, 'model_name': 'gpt-3.5-turbo', 'system_fingerprint': 'fp_b28b39ffa8', 'finish_reason': 'stop', 'logprobs': None}, name='DrTendaiMoyo')"
      ]
     },
     "execution_count": 12,
     "metadata": {},
     "output_type": "execute_result"
    }
   ],
   "source": [
    "intial_messages = [prompts.initial_question]\n",
    "initial_state: InterviewState = {\n",
    "    \"editor\": perspectives.editors[0],\n",
    "    \"messages\": intial_messages,\n",
    "    \"references\": None\n",
    "}\n",
    "\n",
    "question = await generate_question.ainvoke(initial_state)\n",
    "\n",
    "question[\"messages\"][0]"
   ]
  },
  {
   "cell_type": "markdown",
   "id": "c95e50f7-4e2c-4307-853d-2fc8f0b3dd82",
   "metadata": {},
   "source": [
    "### Answer questions\n",
    "\n",
    "The `gen_answer_chain` first generates queries (query expansion) to answer the editor's question, then responds with citations.\n"
   ]
  },
  {
   "cell_type": "code",
   "execution_count": 13,
   "id": "a7fa969e-920f-487e-b124-6495777a1466",
   "metadata": {},
   "outputs": [],
   "source": [
    "\n",
    "\n",
    "\n",
    "\n",
    "gen_queries_prompt = get_chat_prompt_from_prompt_templates([prompts.gen_queries_system_generator, prompts.generate_messages_placeholder()])\n",
    "queries_parser = get_pydantic_parser(Queries)\n",
    "\n",
    "gen_queries_chain = get_chain_with_outputparser(gen_queries_prompt, fast_llm, queries_parser)\n",
    "# gen_queries_prompt.partial(format_instructions=queries_parser.get_format_instructions()) | fast_llm | queries_parser"
   ]
  },
  {
   "cell_type": "code",
   "execution_count": 14,
   "id": "b25baa82-da8e-41ec-b4e0-8a24c7cf737d",
   "metadata": {
    "scrolled": true
   },
   "outputs": [
    {
     "data": {
      "text/plain": [
       "Queries(queries=['Red Cross Church missionary activities in early history of Zimbabwe', 'Impact of Red Cross Church on historical development of Zimbabwe', 'Interactions between Red Cross Church and Zimbabwe during early history'])"
      ]
     },
     "execution_count": 14,
     "metadata": {},
     "output_type": "execute_result"
    }
   ],
   "source": [
    "\n",
    "queries = await gen_queries_chain.ainvoke(\n",
    "    {\"messages\": [HumanMessage(content=question[\"messages\"][0].content)]}\n",
    ")\n",
    "\n",
    "queries"
   ]
  },
  {
   "cell_type": "code",
   "execution_count": 15,
   "id": "22273c9a-a505-40c3-bd6b-70f74393a61d",
   "metadata": {},
   "outputs": [],
   "source": [
    "gen_answer_prompt = get_chat_prompt_from_prompt_templates([prompts.generate_answer_system_generator, prompts.generate_messages_placeholder()])\n",
    "ac_parser = get_pydantic_parser(pydantic_object=AnswerWithCitations)\n",
    "\n",
    "gen_answer_chain = get_chain_with_outputparser(gen_answer_prompt, fast_llm, ac_parser)\\\n",
    "    .with_config(run_name=\"GenerateAnswer\")\\\n",
    "    # .with_structured_output(AnswerWithCitations, include_raw=True)                                  "
   ]
  },
  {
   "cell_type": "code",
   "execution_count": 16,
   "id": "ca74edcc-a272-4ec1-92fc-756bf0690e4b",
   "metadata": {},
   "outputs": [],
   "source": [
    "\n",
    "async def gen_answer(\n",
    "    state: InterviewState,\n",
    "    config: Optional[RunnableConfig] = None,\n",
    "    name: str = \"SubjectMatterExpert\",\n",
    "    max_str_len: int = 15000,\n",
    "):\n",
    "    name = cleanup_name(name)\n",
    "\n",
    "    logger.info(f'START - Generate answers for [{name}]')\n",
    "\n",
    "    swapped_state = swap_roles(state, name)  # Convert all other AI messages\n",
    "    \n",
    "    # Generate search engine queries\n",
    "    queries:Queries = await gen_queries_chain.ainvoke(swapped_state)\n",
    "\n",
    "    logger.info(f\"Got {len(queries.queries)} search engine queries for [{name}] -\\n\\t {queries.queries}\")\n",
    "\n",
    "    # Run search engine\n",
    "    query_results = await search_engine.abatch(\n",
    "        queries.queries, config, return_exceptions=True\n",
    "    )\n",
    "    successful_results = [\n",
    "        res for res in query_results if not isinstance(res, Exception)\n",
    "    ]\n",
    "\n",
    "    all_query_results = {\n",
    "        res[\"url\"]: res[\"content\"] for results in successful_results for res in results\n",
    "    }\n",
    "    \n",
    "    logger.info(f\"Got {len(successful_results)} search engine results for [{name}] - \\n\\t {all_query_results}\")\n",
    "\n",
    "    # We could be more precise about handling max token length if we wanted to here\n",
    "    dumped_successful_results = json.dumps(all_query_results)[:max_str_len]\n",
    "    \n",
    "    logger.info(f\"Dumped {len(dumped_successful_results)} characters for [{name}] - \\n\\t {dumped_successful_results}\")\n",
    "    \n",
    "    # Append Questions from Wikipedia and Answers from the search engine\n",
    "    ai_message_for_queries: AIMessage = get_ai_message(json.dumps(queries.as_dict()))\n",
    "    \n",
    "    tool_results_message = generate_human_message(dumped_successful_results)\n",
    "    \n",
    "    logger.debug(f\"Got {ai_message_for_queries} for [{name}]\")\n",
    "    \n",
    "    # tool_call = queries[\"raw\"].additional_kwargs[\"tool_calls\"][0]\n",
    "    # tool_id = tool_call[\"id\"]\n",
    "\n",
    "    # tool_message = ToolMessage(tool_call_id=tool_id, content=dumped)\n",
    "    \n",
    "\n",
    "    swapped_state[\"messages\"].extend([ai_message_for_queries, tool_results_message])\n",
    "    \n",
    "    # Only update the shared state with the final answer to avoid\n",
    "    # polluting the dialogue history with intermediate messages\n",
    "    try:\n",
    "        generated: AnswerWithCitations = await gen_answer_chain.ainvoke(swapped_state)\n",
    "        \n",
    "        logger.info(f\"Genreted final answer {generated} for [{name}] - \\n\\t {generated.as_str}\")\n",
    "\n",
    "    except Exception as e:\n",
    "        logger.error(f\"Error generating answer for [{name}] - {e}\")\n",
    "        generated = AnswerWithCitations(answer=\"\", cited_urls=[])\n",
    "    \n",
    "    cited_urls = set(generated.cited_urls)\n",
    "    \n",
    "    # Save the retrieved information to a the shared state for future reference\n",
    "    cited_references = {k: v for k, v in all_query_results.items() if k in cited_urls}\n",
    "    \n",
    "    formatted_message = AIMessage(name=name, content=generated.as_str)\n",
    "    # Add message to shared state\n",
    "    # state[\"messages\"].append(formatted_message)\n",
    "    state[\"messages\"] = add_messages(state[\"messages\"], [formatted_message])\n",
    "    \n",
    "    # Update references with cited references\n",
    "    state[\"references\"] = update_references(state[\"references\"], cited_references)\n",
    "\n",
    "    logger.info(f'END - generate answer for [{name}]')\n",
    "    \n",
    "    return state\n",
    "    "
   ]
  },
  {
   "cell_type": "code",
   "execution_count": 17,
   "id": "934aafd6-7f0d-4a1b-8a52-45b89d8b3742",
   "metadata": {},
   "outputs": [
    {
     "name": "stderr",
     "output_type": "stream",
     "text": [
      "2024-03-31 14:42:48,718 [MainThread  ] [INFO ]  START - Generate answers for [SubjectMatterExpert]\n",
      "2024-03-31 14:42:48,719 [MainThread  ] [INFO ]  Swapping roles for SubjectMatterExpert\n",
      "2024-03-31 14:42:48,720 [MainThread  ] [INFO ]  Converted messages for SubjectMatterExpert while swapping roles: 2 messages\n",
      "2024-03-31 14:42:49,492 [MainThread  ] [INFO ]  Got 3 search engine queries for [SubjectMatterExpert] -\n",
      "\t ['Red Cross Church influence on early history of Zimbabwe', 'Missionary activities impact on Zimbabwe', 'Interactions between Red Cross Church and historical development of Zimbabwe']\n"
     ]
    },
    {
     "name": "stdout",
     "output_type": "stream",
     "text": [
      "Searching DuckDuckGo for [Red Cross Church influence on early history of Zimbabwe]\n",
      "Got search engine results: 5 for [Red Cross Church influence on early history of Zimbabwe]\n",
      "Searching DuckDuckGo for [Missionary activities impact on Zimbabwe]\n",
      "Got search engine results: 5 for [Missionary activities impact on Zimbabwe]\n",
      "Searching DuckDuckGo for [Interactions between Red Cross Church and historical development of Zimbabwe]\n"
     ]
    },
    {
     "name": "stderr",
     "output_type": "stream",
     "text": [
      "2024-03-31 14:42:52,336 [MainThread  ] [INFO ]  Got 3 search engine results for [SubjectMatterExpert] - \n",
      "\t {'https://www.mdpi.com/2077-1444/15/2/213': 'Since the arrival of Christianity in Africa during the pre-colonial era, one of the main characteristics of its spread has been Christian Education (CE). The achievements made thus far by missionaries and African Christian communities were based on the Church-based Christian Education programs that were put into place by churches created by missionaries. Education, let alone Christian ...', 'https://thewitness.org/christianity-in-zimbabwe/': 'The current state of Christianity in Zimbabwe. The current state of Christianity in Zimbabwe is a complex and multifaceted issue. While the country has a strong Christian tradition, with approximately 85% of the population identifying as Christians, there are also numerous challenges facing believers. One major issue is the political climate in ...', 'https://www.britannica.com/topic/Red-Cross-and-Red-Crescent': 'The Red Cross is the name used in countries under nominally Christian sponsorship, while Red Crescent (adopted on the insistence of the Ottoman Empire in 1906) is the name used in Muslim countries. Henri Dunant. The Red Cross arose out of the work of Henri Dunant, a Swiss humanitarian, who, at the Battle of Solferino, in June 1859, organized ...', 'https://www.ifrc.org/taxonomy/term/402': 'More information: For more details, visit the Africa Hunger Crisis appeal page. For audio-visual material, visit the IFRC newsroom. To request an interview, contact: media@ifrc.org In Nairobi: Anne Macharia: +254 720 787 764 In Geneva: Tommaso Della Longa: +41 79 708 43 67 Mrinalini Santhanam: +41 76 381 50 06.', 'https://link.springer.com/chapter/10.1007/978-3-031-20290-2_78': 'The Pleistocene archaeological record of Zimbabwe encompasses Earlier Stone Age (ESA), Middle Stone Age (MSA) and Later Stone Age (LSA) cultural phases represented by various lithic industries, such as the Oldowan, Acheulean, Bembesi, Charama, and Bambata (Table 1).Figure 1 shows the locations of archaeological sites that have produced revealing Pleistocene-age records in the country, and ...', 'https://www.adventistworld.org/colonialism-and-christian-mission/': 'During colonialism Western nations took land, artifacts, and resources from other regions and forced their languages and cultures on them. Europeans brought their culture to the Americas, Australia, and parts of Africa and Asia. This started from the beginning of the sixteenth century. 1 European colonialism has been both defended and criticized.', 'https://link.springer.com/chapter/10.1007/978-3-031-35609-4_24': 'Report of the Fact-Finding Mission to Zimbabwe to Assess the Scope and Impact of Operation Murambatsvina. UN Special Envoy of Human Settlement Issues in Zimbabwe, New York. Google Scholar United States Institute of Peace. 2003. Zimbabwe`s Torturous Road to a New Constitution and Elections, Special Report, Washington DC, I09.', 'https://heartcrymissionary.com/mission-updates/evangelism-in-zimbabwe/': 'Joe Shoko. When you read about the early church in Scripture, you find a church full of evangelistic fervor and growth, you see a people truly regenerated by the Spirit of God and moved to rejoice even in tribulation, to preach the gospel even amidst persecution. Here in Zimbabwe, we cannot say that the persecution we face is on an equal scale ...', 'https://journals.plos.org/globalpublichealth/article?id=10.1371/journal.pgph.0002799': 'Red cross and red crescent movement\\'s contribution to CHW programing. Canadian Red Cross\\'s (CRC) mission is \"to help people and communities in Canada and around the world in times of need and support them in strengthening their resilience\" [].More specifically, CRC\\'s Health in Emergencies (HiE) unit prioritizes strengthening capacity of NS Societies and local stakeholders across the ...', 'https://link.springer.com/article/10.1007/s44197-023-00165-6': 'Cholera continues to severely threaten public health, particularly in regions with inadequate access to clean water and sanitation. Zimbabwe, a southern African nation, has witnessed recurrent cholera outbreaks, highlighting the enduring vulnerabilities faced by communities grappling with these underlying challenges. The 2023 cholera outbreak in Chegutu resulted in a devastating impact, with ...', 'https://www.mdpi.com/2077-1444/14/9/1120': 'This article explores the past, present, and future of Christian education (CE) in the Church of Christ in Zimbabwe (COCZ) schools under the Dadaya, Mashoko, and Chidamoyo clusters. It highlights the retrospective and prospective aspects of CE within the church by emphasizing the adaptability, collaboration, and utilization of contemporary tools and resources to effectively carry out the ...'}\n",
      "2024-03-31 14:42:52,337 [MainThread  ] [INFO ]  Dumped 4716 characters for [SubjectMatterExpert] - \n",
      "\t {\"https://www.mdpi.com/2077-1444/15/2/213\": \"Since the arrival of Christianity in Africa during the pre-colonial era, one of the main characteristics of its spread has been Christian Education (CE). The achievements made thus far by missionaries and African Christian communities were based on the Church-based Christian Education programs that were put into place by churches created by missionaries. Education, let alone Christian ...\", \"https://thewitness.org/christianity-in-zimbabwe/\": \"The current state of Christianity in Zimbabwe. The current state of Christianity in Zimbabwe is a complex and multifaceted issue. While the country has a strong Christian tradition, with approximately 85% of the population identifying as Christians, there are also numerous challenges facing believers. One major issue is the political climate in ...\", \"https://www.britannica.com/topic/Red-Cross-and-Red-Crescent\": \"The Red Cross is the name used in countries under nominally Christian sponsorship, while Red Crescent (adopted on the insistence of the Ottoman Empire in 1906) is the name used in Muslim countries. Henri Dunant. The Red Cross arose out of the work of Henri Dunant, a Swiss humanitarian, who, at the Battle of Solferino, in June 1859, organized ...\", \"https://www.ifrc.org/taxonomy/term/402\": \"More information: For more details, visit the Africa Hunger Crisis appeal page. For audio-visual material, visit the IFRC newsroom. To request an interview, contact: media@ifrc.org In Nairobi: Anne Macharia: +254 720 787 764 In Geneva: Tommaso Della Longa: +41 79 708 43 67 Mrinalini Santhanam: +41 76 381 50 06.\", \"https://link.springer.com/chapter/10.1007/978-3-031-20290-2_78\": \"The Pleistocene archaeological record of Zimbabwe encompasses Earlier Stone Age (ESA), Middle Stone Age (MSA) and Later Stone Age (LSA) cultural phases represented by various lithic industries, such as the Oldowan, Acheulean, Bembesi, Charama, and Bambata (Table 1).Figure 1 shows the locations of archaeological sites that have produced revealing Pleistocene-age records in the country, and ...\", \"https://www.adventistworld.org/colonialism-and-christian-mission/\": \"During colonialism Western nations took land, artifacts, and resources from other regions and forced their languages and cultures on them. Europeans brought their culture to the Americas, Australia, and parts of Africa and Asia. This started from the beginning of the sixteenth century. 1 European colonialism has been both defended and criticized.\", \"https://link.springer.com/chapter/10.1007/978-3-031-35609-4_24\": \"Report of the Fact-Finding Mission to Zimbabwe to Assess the Scope and Impact of Operation Murambatsvina. UN Special Envoy of Human Settlement Issues in Zimbabwe, New York. Google Scholar United States Institute of Peace. 2003. Zimbabwe`s Torturous Road to a New Constitution and Elections, Special Report, Washington DC, I09.\", \"https://heartcrymissionary.com/mission-updates/evangelism-in-zimbabwe/\": \"Joe Shoko. When you read about the early church in Scripture, you find a church full of evangelistic fervor and growth, you see a people truly regenerated by the Spirit of God and moved to rejoice even in tribulation, to preach the gospel even amidst persecution. Here in Zimbabwe, we cannot say that the persecution we face is on an equal scale ...\", \"https://journals.plos.org/globalpublichealth/article?id=10.1371/journal.pgph.0002799\": \"Red cross and red crescent movement's contribution to CHW programing. Canadian Red Cross's (CRC) mission is \\\"to help people and communities in Canada and around the world in times of need and support them in strengthening their resilience\\\" [].More specifically, CRC's Health in Emergencies (HiE) unit prioritizes strengthening capacity of NS Societies and local stakeholders across the ...\", \"https://link.springer.com/article/10.1007/s44197-023-00165-6\": \"Cholera continues to severely threaten public health, particularly in regions with inadequate access to clean water and sanitation. Zimbabwe, a southern African nation, has witnessed recurrent cholera outbreaks, highlighting the enduring vulnerabilities faced by communities grappling with these underlying challenges. The 2023 cholera outbreak in Chegutu resulted in a devastating impact, with ...\", \"https://www.mdpi.com/2077-1444/14/9/1120\": \"This article explores the past, present, and future of Christian education (CE) in the Church of Christ in Zimbabwe (COCZ) schools under the Dadaya, Mashoko, and Chidamoyo clusters. It highlights the retrospective and prospective aspects of CE within the church by emphasizing the adaptability, collaboration, and utilization of contemporary tools and resources to effectively carry out the ...\"}\n"
     ]
    },
    {
     "name": "stdout",
     "output_type": "stream",
     "text": [
      "Got search engine results: 5 for [Interactions between Red Cross Church and historical development of Zimbabwe]\n"
     ]
    },
    {
     "name": "stderr",
     "output_type": "stream",
     "text": [
      "2024-03-31 14:42:56,173 [MainThread  ] [INFO ]  Genreted final answer answer=\"The Red Cross Church, known as the Red Cross in countries under nominally Christian sponsorship, played a significant role in humanitarian efforts globally. Originating from the work of Swiss humanitarian Henri Dunant, the Red Cross has been instrumental in providing aid during crises and disasters. While the Red Cross primarily focuses on humanitarian missions, its work aligns with the broader principles of charity and compassion promoted by Christianity. This aligns with the historical development of Zimbabwe where Christianity, including Christian Education programs established by missionaries, has been influential. The Red Cross Church's emphasis on humanitarian aid resonates with the broader Christian values that have influenced the historical trajectory of Zimbabwe.\" cited_urls=['https://www.britannica.com/topic/Red-Cross-and-Red-Crescent', 'https://journals.plos.org/globalpublichealth/article?id=10.1371/journal.pgph.0002799'] for [SubjectMatterExpert] - \n",
      "\t The Red Cross Church, known as the Red Cross in countries under nominally Christian sponsorship, played a significant role in humanitarian efforts globally. Originating from the work of Swiss humanitarian Henri Dunant, the Red Cross has been instrumental in providing aid during crises and disasters. While the Red Cross primarily focuses on humanitarian missions, its work aligns with the broader principles of charity and compassion promoted by Christianity. This aligns with the historical development of Zimbabwe where Christianity, including Christian Education programs established by missionaries, has been influential. The Red Cross Church's emphasis on humanitarian aid resonates with the broader Christian values that have influenced the historical trajectory of Zimbabwe.\n",
      "\n",
      "Citations:\n",
      "\n",
      "[1]: https://www.britannica.com/topic/Red-Cross-and-Red-Crescent\n",
      "[2]: https://journals.plos.org/globalpublichealth/article?id=10.1371/journal.pgph.0002799\n",
      "2024-03-31 14:42:56,174 [MainThread  ] [INFO ]  END - generate answer for [SubjectMatterExpert]\n"
     ]
    },
    {
     "data": {
      "text/plain": [
       "\"The Red Cross Church, known as the Red Cross in countries under nominally Christian sponsorship, played a significant role in humanitarian efforts globally. Originating from the work of Swiss humanitarian Henri Dunant, the Red Cross has been instrumental in providing aid during crises and disasters. While the Red Cross primarily focuses on humanitarian missions, its work aligns with the broader principles of charity and compassion promoted by Christianity. This aligns with the historical development of Zimbabwe where Christianity, including Christian Education programs established by missionaries, has been influential. The Red Cross Church's emphasis on humanitarian aid resonates with the broader Christian values that have influenced the historical trajectory of Zimbabwe.\\n\\nCitations:\\n\\n[1]: https://www.britannica.com/topic/Red-Cross-and-Red-Crescent\\n[2]: https://journals.plos.org/globalpublichealth/article?id=10.1371/journal.pgph.0002799\""
      ]
     },
     "execution_count": 17,
     "metadata": {},
     "output_type": "execute_result"
    }
   ],
   "source": [
    "intial_messages = [prompts.initial_question, generate_human_message(question[\"messages\"][0].content)]\n",
    "\n",
    "initial_state: InterviewState = {\n",
    "    \"editor\": perspectives.editors[0],\n",
    "    \"messages\": intial_messages,\n",
    "    \"references\": {}\n",
    "}\n",
    "\n",
    "example_answer = await gen_answer(initial_state)\n",
    "example_answer[\"messages\"][-1].content"
   ]
  },
  {
   "cell_type": "code",
   "execution_count": 18,
   "id": "d779cb51",
   "metadata": {},
   "outputs": [
    {
     "data": {
      "text/plain": [
       "[HumanMessage(content='So you said you were writing an article on {example_topic}?'),\n",
       " HumanMessage(content='I apologize for any confusion, but I am actually a Wikipedia writer focused on the early history of Zimbabwe, specifically examining the impact of missionary activities. In this context, I am particularly interested in the interactions between the Red Cross Church and the historical development of Zimbabwe. Can you provide insights into how the Red Cross Church influenced events in Zimbabwe during that time?'),\n",
       " AIMessage(content='{\"queries\": [\"Red Cross Church influence on early history of Zimbabwe\", \"Missionary activities impact on Zimbabwe\", \"Interactions between Red Cross Church and historical development of Zimbabwe\"]}', name='AI'),\n",
       " HumanMessage(content='{\"https://www.mdpi.com/2077-1444/15/2/213\": \"Since the arrival of Christianity in Africa during the pre-colonial era, one of the main characteristics of its spread has been Christian Education (CE). The achievements made thus far by missionaries and African Christian communities were based on the Church-based Christian Education programs that were put into place by churches created by missionaries. Education, let alone Christian ...\", \"https://thewitness.org/christianity-in-zimbabwe/\": \"The current state of Christianity in Zimbabwe. The current state of Christianity in Zimbabwe is a complex and multifaceted issue. While the country has a strong Christian tradition, with approximately 85% of the population identifying as Christians, there are also numerous challenges facing believers. One major issue is the political climate in ...\", \"https://www.britannica.com/topic/Red-Cross-and-Red-Crescent\": \"The Red Cross is the name used in countries under nominally Christian sponsorship, while Red Crescent (adopted on the insistence of the Ottoman Empire in 1906) is the name used in Muslim countries. Henri Dunant. The Red Cross arose out of the work of Henri Dunant, a Swiss humanitarian, who, at the Battle of Solferino, in June 1859, organized ...\", \"https://www.ifrc.org/taxonomy/term/402\": \"More information: For more details, visit the Africa Hunger Crisis appeal page. For audio-visual material, visit the IFRC newsroom. To request an interview, contact: media@ifrc.org In Nairobi: Anne Macharia: +254 720 787 764 In Geneva: Tommaso Della Longa: +41 79 708 43 67 Mrinalini Santhanam: +41 76 381 50 06.\", \"https://link.springer.com/chapter/10.1007/978-3-031-20290-2_78\": \"The Pleistocene archaeological record of Zimbabwe encompasses Earlier Stone Age (ESA), Middle Stone Age (MSA) and Later Stone Age (LSA) cultural phases represented by various lithic industries, such as the Oldowan, Acheulean, Bembesi, Charama, and Bambata (Table 1).Figure 1 shows the locations of archaeological sites that have produced revealing Pleistocene-age records in the country, and ...\", \"https://www.adventistworld.org/colonialism-and-christian-mission/\": \"During colonialism Western nations took land, artifacts, and resources from other regions and forced their languages and cultures on them. Europeans brought their culture to the Americas, Australia, and parts of Africa and Asia. This started from the beginning of the sixteenth century. 1 European colonialism has been both defended and criticized.\", \"https://link.springer.com/chapter/10.1007/978-3-031-35609-4_24\": \"Report of the Fact-Finding Mission to Zimbabwe to Assess the Scope and Impact of Operation Murambatsvina. UN Special Envoy of Human Settlement Issues in Zimbabwe, New York. Google Scholar United States Institute of Peace. 2003. Zimbabwe`s Torturous Road to a New Constitution and Elections, Special Report, Washington DC, I09.\", \"https://heartcrymissionary.com/mission-updates/evangelism-in-zimbabwe/\": \"Joe Shoko. When you read about the early church in Scripture, you find a church full of evangelistic fervor and growth, you see a people truly regenerated by the Spirit of God and moved to rejoice even in tribulation, to preach the gospel even amidst persecution. Here in Zimbabwe, we cannot say that the persecution we face is on an equal scale ...\", \"https://journals.plos.org/globalpublichealth/article?id=10.1371/journal.pgph.0002799\": \"Red cross and red crescent movement\\'s contribution to CHW programing. Canadian Red Cross\\'s (CRC) mission is \\\\\"to help people and communities in Canada and around the world in times of need and support them in strengthening their resilience\\\\\" [].More specifically, CRC\\'s Health in Emergencies (HiE) unit prioritizes strengthening capacity of NS Societies and local stakeholders across the ...\", \"https://link.springer.com/article/10.1007/s44197-023-00165-6\": \"Cholera continues to severely threaten public health, particularly in regions with inadequate access to clean water and sanitation. Zimbabwe, a southern African nation, has witnessed recurrent cholera outbreaks, highlighting the enduring vulnerabilities faced by communities grappling with these underlying challenges. The 2023 cholera outbreak in Chegutu resulted in a devastating impact, with ...\", \"https://www.mdpi.com/2077-1444/14/9/1120\": \"This article explores the past, present, and future of Christian education (CE) in the Church of Christ in Zimbabwe (COCZ) schools under the Dadaya, Mashoko, and Chidamoyo clusters. It highlights the retrospective and prospective aspects of CE within the church by emphasizing the adaptability, collaboration, and utilization of contemporary tools and resources to effectively carry out the ...\"}'),\n",
       " AIMessage(content=\"The Red Cross Church, known as the Red Cross in countries under nominally Christian sponsorship, played a significant role in humanitarian efforts globally. Originating from the work of Swiss humanitarian Henri Dunant, the Red Cross has been instrumental in providing aid during crises and disasters. While the Red Cross primarily focuses on humanitarian missions, its work aligns with the broader principles of charity and compassion promoted by Christianity. This aligns with the historical development of Zimbabwe where Christianity, including Christian Education programs established by missionaries, has been influential. The Red Cross Church's emphasis on humanitarian aid resonates with the broader Christian values that have influenced the historical trajectory of Zimbabwe.\\n\\nCitations:\\n\\n[1]: https://www.britannica.com/topic/Red-Cross-and-Red-Crescent\\n[2]: https://journals.plos.org/globalpublichealth/article?id=10.1371/journal.pgph.0002799\", name='SubjectMatterExpert')]"
      ]
     },
     "execution_count": 18,
     "metadata": {},
     "output_type": "execute_result"
    }
   ],
   "source": [
    "example_answer[\"messages\"]"
   ]
  },
  {
   "cell_type": "markdown",
   "id": "998671bf-958d-44c0-8421-523a71bea01a",
   "metadata": {},
   "source": [
    "# Construct the Interview Graph\n",
    "\n",
    "Now that we've defined the editor and domain expert, we can compose them in a graph.\n"
   ]
  },
  {
   "cell_type": "code",
   "execution_count": 19,
   "id": "c80347f8",
   "metadata": {},
   "outputs": [],
   "source": [
    "def route_messages(state: InterviewState, name: str = \"SubjectMatterExpert\"):\n",
    "\n",
    "    name = cleanup_name(name)\n",
    "\n",
    "    logger.info(f'Routing messages for [{name}]')\n",
    "\n",
    "    messages = state[\"messages\"]\n",
    "    num_responses = len(\n",
    "        [m for m in messages if isinstance(m, AIMessage) and m.name == name]\n",
    "    )\n",
    "\n",
    "    if num_responses >= MAX_INTERVIEW_QUESTIONS:\n",
    "        return END\n",
    "    \n",
    "    last_question = messages[-2]\n",
    "    if last_question.content.endswith(\"Thank you so much for your help!\"):\n",
    "        return END\n",
    "    \n",
    "    logger.info(f'Continue asking question for [{name}] as this is not the last end of the conversation')\n",
    "    return \"ask_question\""
   ]
  },
  {
   "cell_type": "code",
   "execution_count": 20,
   "id": "4800f958-00e0-4913-a246-c34dc3f0a00c",
   "metadata": {},
   "outputs": [],
   "source": [
    "builder = StateGraph(InterviewState)\n",
    "\n",
    "builder.add_node(\"ask_question\", generate_question)\n",
    "builder.add_node(\"answer_question\", gen_answer)\n",
    "builder.add_conditional_edges(\"answer_question\", route_messages)\n",
    "builder.add_edge(\"ask_question\", \"answer_question\")\n",
    "\n",
    "builder.set_entry_point(\"ask_question\")\n",
    "interview_graph = builder.compile().with_config(run_name=\"Conduct Interviews\")"
   ]
  },
  {
   "cell_type": "code",
   "execution_count": 21,
   "id": "63c405fc-5b1c-44f5-b860-a10fe0d6616d",
   "metadata": {},
   "outputs": [],
   "source": [
    "from IPython.display import Image\n",
    "\n",
    "# comment out if you have not installed pygraphviz\n",
    "# Image(interview_graph.get_graph().draw_png())"
   ]
  },
  {
   "cell_type": "code",
   "execution_count": 22,
   "id": "96d47607-6c0b-493a-aebc-48356d0e0302",
   "metadata": {},
   "outputs": [
    {
     "name": "stderr",
     "output_type": "stream",
     "text": [
      "2024-03-31 14:42:56,264 [MainThread  ] [INFO ]  Generating question for DrTendaiMoyo\n",
      "2024-03-31 14:42:56,274 [asyncio_3   ] [INFO ]  Swapping roles for DrTendaiMoyo\n",
      "2024-03-31 14:42:56,275 [asyncio_3   ] [INFO ]  Converted messages for DrTendaiMoyo while swapping roles: 1 messages\n",
      "2024-03-31 14:42:57,111 [MainThread  ] [INFO ]  Generated question for DrTendaiMoyo\n",
      "2024-03-31 14:42:57,119 [MainThread  ] [INFO ]  Processing step: ask_question\n",
      "2024-03-31 14:42:57,204 [MainThread  ] [INFO ]  START - Generate answers for [SubjectMatterExpert]\n",
      "2024-03-31 14:42:57,204 [MainThread  ] [INFO ]  Swapping roles for SubjectMatterExpert\n",
      "2024-03-31 14:42:57,205 [MainThread  ] [INFO ]  Converted messages for SubjectMatterExpert while swapping roles: 2 messages\n",
      "2024-03-31 14:42:57,933 [MainThread  ] [INFO ]  Got 3 search engine queries for [SubjectMatterExpert] -\n",
      "\t ['Red Cross Church Zimbabwe early history activities', 'Red Cross Church Zimbabwe initiatives impact on local communities', 'Red Cross Church Zimbabwe historical development contributions']\n"
     ]
    },
    {
     "name": "stdout",
     "output_type": "stream",
     "text": [
      "Searching DuckDuckGo for [Red Cross Church Zimbabwe early history activities]\n",
      "Got search engine results: 5 for [Red Cross Church Zimbabwe early history activities]\n",
      "Searching DuckDuckGo for [Red Cross Church Zimbabwe initiatives impact on local communities]\n",
      "Got search engine results: 5 for [Red Cross Church Zimbabwe initiatives impact on local communities]\n",
      "Searching DuckDuckGo for [Red Cross Church Zimbabwe historical development contributions]\n"
     ]
    },
    {
     "name": "stderr",
     "output_type": "stream",
     "text": [
      "2024-03-31 14:43:00,868 [MainThread  ] [INFO ]  Got 3 search engine results for [SubjectMatterExpert] - \n",
      "\t {'https://en.wikipedia.org/wiki/International_Red_Cross_and_Red_Crescent_Movement': 'International Red Crossand Red Crescent Movement. The organized International Red Cross and Red Crescent Movement is a humanitarian movement with approximately 16 million volunteers, members, and staff worldwide. It was founded to protect human life and health, to ensure respect for all human beings, and to prevent and alleviate human suffering.', 'https://www.britannica.com/topic/Red-Cross-and-Red-Crescent': 'The Red Cross is the name used in countries under nominally Christian sponsorship, while Red Crescent (adopted on the insistence of the Ottoman Empire in 1906) is the name used in Muslim countries. Henri Dunant. The Red Cross arose out of the work of Henri Dunant, a Swiss humanitarian, who, at the Battle of Solferino, in June 1859, organized ...', 'https://www.chronicle.co.zw/role-of-mission-schools-in-zimbabwes-liberation-struggle-overlooked/': 'The strike by students at the Dadaya Mission School in 1947 was also an important background episode to the rise of African nationalism in Southern Rhodesia. The strike by the students recognises ...', 'https://www.ifrc.org/taxonomy/term/402': 'More information: For more details, visit the Africa Hunger Crisis appeal page. For audio-visual material, visit the IFRC newsroom. To request an interview, contact: media@ifrc.org In Nairobi: Anne Macharia: +254 720 787 764 In Geneva: Tommaso Della Longa: +41 79 708 43 67 Mrinalini Santhanam: +41 76 381 50 06.', 'https://en.wikipedia.org/wiki/International_Committee_of_the_Red_Cross': 'The International Committee of the Red Cross (ICRC; French: Comité International de la Croix-Rouge) is a humanitarian organization based in Geneva, Switzerland, and is a three-time Nobel Prize Laureate. The organization has played an instrumental role in the development of rules of war and promoting humanitarian norms.. State parties (signatories) to the Geneva Convention of 1949 and its ...', 'https://www.ifrc.org/press-release/ifrc-intensifies-response-escalating-cholera-outbreak-zimbabwe-emergency-appeal': 'Harare/Nairobi/Geneva, 17 November 2023 — The International Federation of Red Cross and Red Crescent Societies (IFRC) has launched an emergency appeal for 3 million Swiss Francs to support the Zimbabwe Red Cross Society (ZRCS). The health needs exceed available resources, meaning immediate action to is needed to mitigate the impact on affected communities.', 'https://reliefweb.int/report/zimbabwe/zimbabwe-2024-2026-ifrc-network-country-plan-upl-2024-maazw002': 'Zimbabwe - 2024-2026 IFRC network country plan (UPL-2024-MAAZW002) The Zimbabwe Red Cross Society is a humanitarian and developmental organization, founded on the fundamental principles of the Red ...', 'https://journals.plos.org/globalpublichealth/article?id=10.1371/journal.pgph.0002799': 'Red cross and red crescent movement\\'s contribution to CHW programing. Canadian Red Cross\\'s (CRC) mission is \"to help people and communities in Canada and around the world in times of need and support them in strengthening their resilience\" [].More specifically, CRC\\'s Health in Emergencies (HiE) unit prioritizes strengthening capacity of NS Societies and local stakeholders across the ...', 'https://link.springer.com/article/10.1007/s44197-023-00165-6': 'Cholera continues to severely threaten public health, particularly in regions with inadequate access to clean water and sanitation. Zimbabwe, a southern African nation, has witnessed recurrent cholera outbreaks, highlighting the enduring vulnerabilities faced by communities grappling with these underlying challenges. The 2023 cholera outbreak in Chegutu resulted in a devastating impact, with ...', 'https://zimadvocate.com/2024/01/16/zimbabwe-red-cross-springs-into-action-to-combat-cholera-outbreak-in-chiredzi/': 'Elias Hwenga, Secretary-General of ZRCS, highlighted their initiatives in response to the crisis: \"The Zimbabwe Red Cross Society, in support of the Health and Child Care ministry\\'s cholera outbreak response in Chiredzi, has established a cholera treatment centre (CTC) as cases continue to surge in the district.', 'https://link.springer.com/chapter/10.1007/978-3-031-35609-4_24': 'Abstract. The relationship that exists between the church and the state in Zimbabwe is older than the independence of the nation. People have always been religious, as Mbiti (1998, p. 1) would say that \"Africans people are notoriously religious.\". Their religiosity is reflected in how they uphold their relationships even in national- or ...', 'https://link.springer.com/chapter/10.1007/978-3-031-24736-1_8': \"Scholars have not consistently acknowledged women's contribution in the propagation of the gospel and spread of Christianity. In the Early Church, while male leaders may have been more prominent and numerous, women such as Priscilla (Acts 18:26), Junia (Romans 16:7), Phoebe (Romans 16:1-2), Nympha (Colossians 4:15), Appiah (Philemon 2), Eudia and Syntyche (Philippians 4:2-3), Chloe (1 ...\", 'https://www.researchgate.net/publication/370240457_New_Contours_of_Church_and_State_Relations_The_Faithfully_Obedient_Indigenous_Churches_in_21st_Century_Zimbabwe': 'New Contours of Church and State Relations: The Faithfully Obedient Indigenous Churches in 21st Century Zimbabwe April 2023 International Journal of Culture and History 10(1):139', 'https://thewitness.org/christianity-in-zimbabwe/': 'The current state of Christianity in Zimbabwe. The current state of Christianity in Zimbabwe is a complex and multifaceted issue. While the country has a strong Christian tradition, with approximately 85% of the population identifying as Christians, there are also numerous challenges facing believers. One major issue is the political climate in ...', 'https://link.springer.com/chapter/10.1007/978-3-031-24736-1_1': 'In Chapter 7, \"Exploring the Status of Women in the Zion Christian Church Since 1913,\" Solomon Mukora discusses the history of women\\'s contribution in the Zion Christian Church (ZCC), one of the major AICs in Zimbabwe, especially among the female folk. In terms of theoretical framework, the chapter adopts an interdisciplinary approach.'}\n",
      "2024-03-31 14:43:00,869 [MainThread  ] [INFO ]  Dumped 6199 characters for [SubjectMatterExpert] - \n",
      "\t {\"https://en.wikipedia.org/wiki/International_Red_Cross_and_Red_Crescent_Movement\": \"International Red Crossand Red Crescent Movement. The organized International Red Cross and Red Crescent Movement is a humanitarian movement with approximately 16 million volunteers, members, and staff worldwide. It was founded to protect human life and health, to ensure respect for all human beings, and to prevent and alleviate human suffering.\", \"https://www.britannica.com/topic/Red-Cross-and-Red-Crescent\": \"The Red Cross is the name used in countries under nominally Christian sponsorship, while Red Crescent (adopted on the insistence of the Ottoman Empire in 1906) is the name used in Muslim countries. Henri Dunant. The Red Cross arose out of the work of Henri Dunant, a Swiss humanitarian, who, at the Battle of Solferino, in June 1859, organized ...\", \"https://www.chronicle.co.zw/role-of-mission-schools-in-zimbabwes-liberation-struggle-overlooked/\": \"The strike by students at the Dadaya Mission School in 1947 was also an important background episode to the rise of African nationalism in Southern Rhodesia. The strike by the students recognises ...\", \"https://www.ifrc.org/taxonomy/term/402\": \"More information: For more details, visit the Africa Hunger Crisis appeal page. For audio-visual material, visit the IFRC newsroom. To request an interview, contact: media@ifrc.org In Nairobi: Anne Macharia: +254 720 787 764 In Geneva: Tommaso Della Longa: +41 79 708 43 67 Mrinalini Santhanam: +41 76 381 50 06.\", \"https://en.wikipedia.org/wiki/International_Committee_of_the_Red_Cross\": \"The International Committee of the Red Cross (ICRC; French: Comit\\u00e9 International de la Croix-Rouge) is a humanitarian organization based in Geneva, Switzerland, and is a three-time Nobel Prize Laureate. The organization has played an instrumental role in the development of rules of war and promoting humanitarian norms.. State parties (signatories) to the Geneva Convention of 1949 and its ...\", \"https://www.ifrc.org/press-release/ifrc-intensifies-response-escalating-cholera-outbreak-zimbabwe-emergency-appeal\": \"Harare/Nairobi/Geneva, 17 November 2023 \\u2014 The International Federation of Red Cross and Red Crescent Societies (IFRC) has launched an emergency appeal for 3 million Swiss Francs to support the Zimbabwe Red Cross Society (ZRCS). The health needs exceed available resources, meaning immediate action to is needed to mitigate the impact on affected communities.\", \"https://reliefweb.int/report/zimbabwe/zimbabwe-2024-2026-ifrc-network-country-plan-upl-2024-maazw002\": \"Zimbabwe - 2024-2026 IFRC network country plan (UPL-2024-MAAZW002) The Zimbabwe Red Cross Society is a humanitarian and developmental organization, founded on the fundamental principles of the Red ...\", \"https://journals.plos.org/globalpublichealth/article?id=10.1371/journal.pgph.0002799\": \"Red cross and red crescent movement's contribution to CHW programing. Canadian Red Cross's (CRC) mission is \\\"to help people and communities in Canada and around the world in times of need and support them in strengthening their resilience\\\" [].More specifically, CRC's Health in Emergencies (HiE) unit prioritizes strengthening capacity of NS Societies and local stakeholders across the ...\", \"https://link.springer.com/article/10.1007/s44197-023-00165-6\": \"Cholera continues to severely threaten public health, particularly in regions with inadequate access to clean water and sanitation. Zimbabwe, a southern African nation, has witnessed recurrent cholera outbreaks, highlighting the enduring vulnerabilities faced by communities grappling with these underlying challenges. The 2023 cholera outbreak in Chegutu resulted in a devastating impact, with ...\", \"https://zimadvocate.com/2024/01/16/zimbabwe-red-cross-springs-into-action-to-combat-cholera-outbreak-in-chiredzi/\": \"Elias Hwenga, Secretary-General of ZRCS, highlighted their initiatives in response to the crisis: \\\"The Zimbabwe Red Cross Society, in support of the Health and Child Care ministry's cholera outbreak response in Chiredzi, has established a cholera treatment centre (CTC) as cases continue to surge in the district.\", \"https://link.springer.com/chapter/10.1007/978-3-031-35609-4_24\": \"Abstract. The relationship that exists between the church and the state in Zimbabwe is older than the independence of the nation. People have always been religious, as Mbiti (1998, p. 1) would say that \\\"Africans people are notoriously religious.\\\". Their religiosity is reflected in how they uphold their relationships even in national- or ...\", \"https://link.springer.com/chapter/10.1007/978-3-031-24736-1_8\": \"Scholars have not consistently acknowledged women's contribution in the propagation of the gospel and spread of Christianity. In the Early Church, while male leaders may have been more prominent and numerous, women such as Priscilla (Acts 18:26), Junia (Romans 16:7), Phoebe (Romans 16:1-2), Nympha (Colossians 4:15), Appiah (Philemon 2), Eudia and Syntyche (Philippians 4:2-3), Chloe (1 ...\", \"https://www.researchgate.net/publication/370240457_New_Contours_of_Church_and_State_Relations_The_Faithfully_Obedient_Indigenous_Churches_in_21st_Century_Zimbabwe\": \"New Contours of Church and State Relations: The Faithfully Obedient Indigenous Churches in 21st Century Zimbabwe April 2023 International Journal of Culture and History 10(1):139\", \"https://thewitness.org/christianity-in-zimbabwe/\": \"The current state of Christianity in Zimbabwe. The current state of Christianity in Zimbabwe is a complex and multifaceted issue. While the country has a strong Christian tradition, with approximately 85% of the population identifying as Christians, there are also numerous challenges facing believers. One major issue is the political climate in ...\", \"https://link.springer.com/chapter/10.1007/978-3-031-24736-1_1\": \"In Chapter 7, \\\"Exploring the Status of Women in the Zion Christian Church Since 1913,\\\" Solomon Mukora discusses the history of women's contribution in the Zion Christian Church (ZCC), one of the major AICs in Zimbabwe, especially among the female folk. In terms of theoretical framework, the chapter adopts an interdisciplinary approach.\"}\n"
     ]
    },
    {
     "name": "stdout",
     "output_type": "stream",
     "text": [
      "Got search engine results: 5 for [Red Cross Church Zimbabwe historical development contributions]\n"
     ]
    },
    {
     "name": "stderr",
     "output_type": "stream",
     "text": [
      "2024-03-31 14:43:03,886 [MainThread  ] [INFO ]  Genreted final answer answer=\"The Red Cross Church, part of the International Red Cross and Red Crescent Movement, has played a significant role in humanitarian efforts globally. In Zimbabwe, the Zimbabwe Red Cross Society (ZRCS), a branch of the movement, has been actively involved in responding to health crises like cholera outbreaks. For instance, in response to a cholera outbreak in Chiredzi, the ZRCS established a cholera treatment center to support the government's efforts. This demonstrates the organization's commitment to addressing public health emergencies and supporting affected communities. Additionally, the ZRCS has launched emergency appeals to raise funds for humanitarian aid, indicating its ongoing efforts to alleviate human suffering in Zimbabwe. The organization's initiatives have had a tangible impact on local communities by providing essential healthcare services during crises.\" cited_urls=['https://www.ifrc.org/press-release/ifrc-intensifies-response-escalating-cholera-outbreak-zimbabwe-emergency-appeal', 'https://zimadvocate.com/2024/01/16/zimbabwe-red-cross-springs-into-action-to-combat-cholera-outbreak-in-chiredzi/'] for [SubjectMatterExpert] - \n",
      "\t The Red Cross Church, part of the International Red Cross and Red Crescent Movement, has played a significant role in humanitarian efforts globally. In Zimbabwe, the Zimbabwe Red Cross Society (ZRCS), a branch of the movement, has been actively involved in responding to health crises like cholera outbreaks. For instance, in response to a cholera outbreak in Chiredzi, the ZRCS established a cholera treatment center to support the government's efforts. This demonstrates the organization's commitment to addressing public health emergencies and supporting affected communities. Additionally, the ZRCS has launched emergency appeals to raise funds for humanitarian aid, indicating its ongoing efforts to alleviate human suffering in Zimbabwe. The organization's initiatives have had a tangible impact on local communities by providing essential healthcare services during crises.\n",
      "\n",
      "Citations:\n",
      "\n",
      "[1]: https://www.ifrc.org/press-release/ifrc-intensifies-response-escalating-cholera-outbreak-zimbabwe-emergency-appeal\n",
      "[2]: https://zimadvocate.com/2024/01/16/zimbabwe-red-cross-springs-into-action-to-combat-cholera-outbreak-in-chiredzi/\n",
      "2024-03-31 14:43:03,886 [MainThread  ] [INFO ]  END - generate answer for [SubjectMatterExpert]\n",
      "2024-03-31 14:43:03,893 [MainThread  ] [INFO ]  Processing step: answer_question\n",
      "2024-03-31 14:43:03,896 [asyncio_0   ] [INFO ]  Routing messages for [SubjectMatterExpert]\n",
      "2024-03-31 14:43:03,896 [asyncio_0   ] [INFO ]  Continue asking question for [SubjectMatterExpert] as this is not the last end of the conversation\n",
      "2024-03-31 14:43:03,904 [MainThread  ] [INFO ]  Generating question for DrTendaiMoyo\n",
      "2024-03-31 14:43:03,913 [asyncio_4   ] [INFO ]  Swapping roles for DrTendaiMoyo\n",
      "2024-03-31 14:43:03,913 [asyncio_4   ] [INFO ]  Converted messages for DrTendaiMoyo while swapping roles: 7 messages\n",
      "2024-03-31 14:43:10,699 [MainThread  ] [INFO ]  Generated question for DrTendaiMoyo\n",
      "2024-03-31 14:43:10,707 [MainThread  ] [INFO ]  Processing step: ask_question\n",
      "2024-03-31 14:43:10,723 [MainThread  ] [INFO ]  START - Generate answers for [SubjectMatterExpert]\n",
      "2024-03-31 14:43:10,724 [MainThread  ] [INFO ]  Swapping roles for SubjectMatterExpert\n",
      "2024-03-31 14:43:10,724 [MainThread  ] [INFO ]  Converted messages for SubjectMatterExpert while swapping roles: 8 messages\n",
      "2024-03-31 14:43:11,721 [MainThread  ] [INFO ]  Got 3 search engine queries for [SubjectMatterExpert] -\n",
      "\t ['Red Cross Church Zimbabwe early history social programs', 'Red Cross Church Zimbabwe educational initiatives', 'Red Cross Church Zimbabwe community development projects']\n"
     ]
    },
    {
     "name": "stdout",
     "output_type": "stream",
     "text": [
      "Searching DuckDuckGo for [Red Cross Church Zimbabwe early history social programs]\n",
      "Got search engine results: 5 for [Red Cross Church Zimbabwe early history social programs]\n",
      "Searching DuckDuckGo for [Red Cross Church Zimbabwe educational initiatives]\n",
      "Got search engine results: 5 for [Red Cross Church Zimbabwe educational initiatives]\n",
      "Searching DuckDuckGo for [Red Cross Church Zimbabwe community development projects]\n"
     ]
    },
    {
     "name": "stderr",
     "output_type": "stream",
     "text": [
      "2024-03-31 14:43:14,707 [MainThread  ] [INFO ]  Got 3 search engine results for [SubjectMatterExpert] - \n",
      "\t {'https://www.ifrc.org/press-release/ifrc-intensifies-response-escalating-cholera-outbreak-zimbabwe-emergency-appeal': 'Harare/Nairobi/Geneva, 17 November 2023 — The International Federation of Red Cross and Red Crescent Societies (IFRC) has launched an emergency appeal for 3 million Swiss Francs to support the Zimbabwe Red Cross Society (ZRCS). The health needs exceed available resources, meaning immediate action to is needed to mitigate the impact on affected communities.', 'https://link.springer.com/chapter/10.1007/978-3-031-30541-2_12': 'Abstract. Since independence in 1980, Zimbabwe has implemented more than ten economic development strategies. These policies ranged from the inward-looking, interventionist strategy to the outward-oriented market-driven focus. All these policies endeavored to create employment in the country among many other objectives and to jostle the economy ...', 'https://reliefweb.int/report/zimbabwe/zimbabwe-africa-harare-cluster-cholera-outbreak-emergency-appeal-no-mdrzw021': 'Zimbabwe + 1 more. UNICEF Zimbabwe Humanitarian Situation Report No. 1, January 1 - February 28, 2023 Format Situation Report Source. UNICEF; Posted 31 Mar 2023 Originally published 31 Mar 2023 ...', 'https://journals.plos.org/globalpublichealth/article?id=10.1371/journal.pgph.0002799': 'Red cross and red crescent movement\\'s contribution to CHW programing. Canadian Red Cross\\'s (CRC) mission is \"to help people and communities in Canada and around the world in times of need and support them in strengthening their resilience\" [].More specifically, CRC\\'s Health in Emergencies (HiE) unit prioritizes strengthening capacity of NS Societies and local stakeholders across the ...', 'https://www.ifrc.org/taxonomy/term/402': 'More information: For more details, visit the Africa Hunger Crisis appeal page. For audio-visual material, visit the IFRC newsroom. To request an interview, contact: media@ifrc.org In Nairobi: Anne Macharia: +254 720 787 764 In Geneva: Tommaso Della Longa: +41 79 708 43 67 Mrinalini Santhanam: +41 76 381 50 06.', 'https://www.mdpi.com/2077-1444/15/2/213': 'Since the arrival of Christianity in Africa during the pre-colonial era, one of the main characteristics of its spread has been Christian Education (CE). The achievements made thus far by missionaries and African Christian communities were based on the Church-based Christian Education programs that were put into place by churches created by missionaries. Education, let alone Christian ...', 'https://www.unicef.org/zimbabwe/press-releases/government-zimbabwe-launches-implementation-new-funding-global-partnership-education': 'The new grants of the Global Partnership for Education (GPE) for Zimbabwe have an overall value of USD 48.8 million for a period of three years, covering 2023 to 2026. The funding includes the System Transformation Grant-STG (USD 24.8 million) and the Girls Education Accelerator-GEA (USD 12.4 million). the System Capacity Grant-SCG (USD 2.9m ...', 'https://reliefweb.int/report/zimbabwe/zimbabwe-2024-2026-ifrc-network-country-plan-upl-2024-maazw002': 'Zimbabwe - 2024-2026 IFRC network country plan (UPL-2024-MAAZW002) The Zimbabwe Red Cross Society is a humanitarian and developmental organization, founded on the fundamental principles of the Red ...', 'https://link.springer.com/chapter/10.1007/978-3-031-36829-5_35': \"Abstract. This chapter evaluates the Zimbabwe Council of Churches' (ZCC) peacebuilding programme and its impact on Sexual and Gender Based Violence (SGBV). In doing this intersectionality study, our chapter aims to find out how the peacebuilding programme promoted by the ZCC is life affirming to women, with particular focus on how the ...\", 'https://link.springer.com/article/10.1007/s44197-023-00165-6': 'Cholera continues to severely threaten public health, particularly in regions with inadequate access to clean water and sanitation. Zimbabwe, a southern African nation, has witnessed recurrent cholera outbreaks, highlighting the enduring vulnerabilities faced by communities grappling with these underlying challenges. The 2023 cholera outbreak in Chegutu resulted in a devastating impact, with ...'}\n",
      "2024-03-31 14:43:14,708 [MainThread  ] [INFO ]  Dumped 4173 characters for [SubjectMatterExpert] - \n",
      "\t {\"https://www.ifrc.org/press-release/ifrc-intensifies-response-escalating-cholera-outbreak-zimbabwe-emergency-appeal\": \"Harare/Nairobi/Geneva, 17 November 2023 \\u2014 The International Federation of Red Cross and Red Crescent Societies (IFRC) has launched an emergency appeal for 3 million Swiss Francs to support the Zimbabwe Red Cross Society (ZRCS). The health needs exceed available resources, meaning immediate action to is needed to mitigate the impact on affected communities.\", \"https://link.springer.com/chapter/10.1007/978-3-031-30541-2_12\": \"Abstract. Since independence in 1980, Zimbabwe has implemented more than ten economic development strategies. These policies ranged from the inward-looking, interventionist strategy to the outward-oriented market-driven focus. All these policies endeavored to create employment in the country among many other objectives and to jostle the economy ...\", \"https://reliefweb.int/report/zimbabwe/zimbabwe-africa-harare-cluster-cholera-outbreak-emergency-appeal-no-mdrzw021\": \"Zimbabwe + 1 more. UNICEF Zimbabwe Humanitarian Situation Report No. 1, January 1 - February 28, 2023 Format Situation Report Source. UNICEF; Posted 31 Mar 2023 Originally published 31 Mar 2023 ...\", \"https://journals.plos.org/globalpublichealth/article?id=10.1371/journal.pgph.0002799\": \"Red cross and red crescent movement's contribution to CHW programing. Canadian Red Cross's (CRC) mission is \\\"to help people and communities in Canada and around the world in times of need and support them in strengthening their resilience\\\" [].More specifically, CRC's Health in Emergencies (HiE) unit prioritizes strengthening capacity of NS Societies and local stakeholders across the ...\", \"https://www.ifrc.org/taxonomy/term/402\": \"More information: For more details, visit the Africa Hunger Crisis appeal page. For audio-visual material, visit the IFRC newsroom. To request an interview, contact: media@ifrc.org In Nairobi: Anne Macharia: +254 720 787 764 In Geneva: Tommaso Della Longa: +41 79 708 43 67 Mrinalini Santhanam: +41 76 381 50 06.\", \"https://www.mdpi.com/2077-1444/15/2/213\": \"Since the arrival of Christianity in Africa during the pre-colonial era, one of the main characteristics of its spread has been Christian Education (CE). The achievements made thus far by missionaries and African Christian communities were based on the Church-based Christian Education programs that were put into place by churches created by missionaries. Education, let alone Christian ...\", \"https://www.unicef.org/zimbabwe/press-releases/government-zimbabwe-launches-implementation-new-funding-global-partnership-education\": \"The new grants of the Global Partnership for Education (GPE) for Zimbabwe have an overall value of USD 48.8 million for a period of three years, covering 2023 to 2026. The funding includes the System Transformation Grant-STG (USD 24.8 million) and the Girls Education Accelerator-GEA (USD 12.4 million). the System Capacity Grant-SCG (USD 2.9m ...\", \"https://reliefweb.int/report/zimbabwe/zimbabwe-2024-2026-ifrc-network-country-plan-upl-2024-maazw002\": \"Zimbabwe - 2024-2026 IFRC network country plan (UPL-2024-MAAZW002) The Zimbabwe Red Cross Society is a humanitarian and developmental organization, founded on the fundamental principles of the Red ...\", \"https://link.springer.com/chapter/10.1007/978-3-031-36829-5_35\": \"Abstract. This chapter evaluates the Zimbabwe Council of Churches' (ZCC) peacebuilding programme and its impact on Sexual and Gender Based Violence (SGBV). In doing this intersectionality study, our chapter aims to find out how the peacebuilding programme promoted by the ZCC is life affirming to women, with particular focus on how the ...\", \"https://link.springer.com/article/10.1007/s44197-023-00165-6\": \"Cholera continues to severely threaten public health, particularly in regions with inadequate access to clean water and sanitation. Zimbabwe, a southern African nation, has witnessed recurrent cholera outbreaks, highlighting the enduring vulnerabilities faced by communities grappling with these underlying challenges. The 2023 cholera outbreak in Chegutu resulted in a devastating impact, with ...\"}\n"
     ]
    },
    {
     "name": "stdout",
     "output_type": "stream",
     "text": [
      "Got search engine results: 5 for [Red Cross Church Zimbabwe community development projects]\n"
     ]
    },
    {
     "name": "stderr",
     "output_type": "stream",
     "text": [
      "2024-03-31 14:43:19,443 [MainThread  ] [INFO ]  Genreted final answer answer=\"The Red Cross Church, through the Zimbabwe Red Cross Society (ZRCS), has been actively involved in humanitarian and developmental initiatives, including addressing social and educational needs within local communities. One example of their efforts is reflected in their involvement in the Global Partnership for Education (GPE) initiatives in Zimbabwe. The GPE grants, with a total value of USD 48.8 million for the period of 2023 to 2026, aim to support educational programs in the country. This partnership underscores the Red Cross Church's commitment to enhancing educational opportunities for the local population and contributing to the broader development of Zimbabwe through education-focused initiatives.\" cited_urls=['https://www.unicef.org/zimbabwe/press-releases/government-zimbabwe-launches-implementation-new-funding-global-partnership-education'] for [SubjectMatterExpert] - \n",
      "\t The Red Cross Church, through the Zimbabwe Red Cross Society (ZRCS), has been actively involved in humanitarian and developmental initiatives, including addressing social and educational needs within local communities. One example of their efforts is reflected in their involvement in the Global Partnership for Education (GPE) initiatives in Zimbabwe. The GPE grants, with a total value of USD 48.8 million for the period of 2023 to 2026, aim to support educational programs in the country. This partnership underscores the Red Cross Church's commitment to enhancing educational opportunities for the local population and contributing to the broader development of Zimbabwe through education-focused initiatives.\n",
      "\n",
      "Citations:\n",
      "\n",
      "[1]: https://www.unicef.org/zimbabwe/press-releases/government-zimbabwe-launches-implementation-new-funding-global-partnership-education\n",
      "2024-03-31 14:43:19,444 [MainThread  ] [INFO ]  END - generate answer for [SubjectMatterExpert]\n",
      "2024-03-31 14:43:19,453 [MainThread  ] [INFO ]  Processing step: answer_question\n",
      "2024-03-31 14:43:19,458 [asyncio_0   ] [INFO ]  Routing messages for [SubjectMatterExpert]\n",
      "2024-03-31 14:43:19,466 [MainThread  ] [INFO ]  Processing step: __end__\n"
     ]
    }
   ],
   "source": [
    "\n",
    "final_step = None\n",
    "\n",
    "initial_state = {\n",
    "    \"editor\": perspectives.editors[0],\n",
    "    \"messages\": [\n",
    "        AIMessage(\n",
    "            content=f\"So you said you were writing an article on {example_topic}?\",\n",
    "            name=\"SubjectMatterExpert\",\n",
    "        )\n",
    "    ],\n",
    "}\n",
    "async for step in interview_graph.astream(initial_state):\n",
    "    name = next(iter(step))\n",
    "    logger.info(f\"Processing step: {name}\")\n",
    "    logger.debug(\"-- \", str(step[name][\"messages\"])[:300])\n",
    "    if END in step:\n",
    "        final_step = step"
   ]
  },
  {
   "cell_type": "code",
   "execution_count": 23,
   "id": "8c7a97ec-09a1-4873-b559-275526971a00",
   "metadata": {},
   "outputs": [],
   "source": [
    "final_state = next(iter(final_step.values()))\n"
   ]
  },
  {
   "cell_type": "code",
   "execution_count": 24,
   "id": "f22e50cf",
   "metadata": {},
   "outputs": [
    {
     "data": {
      "text/plain": [
       "{'messages': [AIMessage(content='So you said you were writing an article on Impact of THE Red Cross Church IN Zimbabwe early history?', name='SubjectMatterExpert'),\n",
       "  AIMessage(content='Could you please elaborate on the specific activities or initiatives undertaken by the Red Cross Church in Zimbabwe during the early history that had a significant impact on the local communities or the broader historical development of the country?', response_metadata={'token_usage': {'completion_tokens': 40, 'prompt_tokens': 236, 'total_tokens': 276}, 'model_name': 'gpt-3.5-turbo', 'system_fingerprint': 'fp_3bc1b5746c', 'finish_reason': 'stop', 'logprobs': None}, name='DrTendaiMoyo'),\n",
       "  AIMessage(content='So you said you were writing an article on Impact of THE Red Cross Church IN Zimbabwe early history?', name='SubjectMatterExpert'),\n",
       "  HumanMessage(content='Could you please elaborate on the specific activities or initiatives undertaken by the Red Cross Church in Zimbabwe during the early history that had a significant impact on the local communities or the broader historical development of the country?', response_metadata={'token_usage': {'completion_tokens': 40, 'prompt_tokens': 236, 'total_tokens': 276}, 'model_name': 'gpt-3.5-turbo', 'system_fingerprint': 'fp_3bc1b5746c', 'finish_reason': 'stop', 'logprobs': None}, name='DrTendaiMoyo'),\n",
       "  AIMessage(content='{\"queries\": [\"Red Cross Church Zimbabwe early history activities\", \"Red Cross Church Zimbabwe initiatives impact on local communities\", \"Red Cross Church Zimbabwe historical development contributions\"]}', name='AI'),\n",
       "  HumanMessage(content='{\"https://en.wikipedia.org/wiki/International_Red_Cross_and_Red_Crescent_Movement\": \"International Red Crossand Red Crescent Movement. The organized International Red Cross and Red Crescent Movement is a humanitarian movement with approximately 16 million volunteers, members, and staff worldwide. It was founded to protect human life and health, to ensure respect for all human beings, and to prevent and alleviate human suffering.\", \"https://www.britannica.com/topic/Red-Cross-and-Red-Crescent\": \"The Red Cross is the name used in countries under nominally Christian sponsorship, while Red Crescent (adopted on the insistence of the Ottoman Empire in 1906) is the name used in Muslim countries. Henri Dunant. The Red Cross arose out of the work of Henri Dunant, a Swiss humanitarian, who, at the Battle of Solferino, in June 1859, organized ...\", \"https://www.chronicle.co.zw/role-of-mission-schools-in-zimbabwes-liberation-struggle-overlooked/\": \"The strike by students at the Dadaya Mission School in 1947 was also an important background episode to the rise of African nationalism in Southern Rhodesia. The strike by the students recognises ...\", \"https://www.ifrc.org/taxonomy/term/402\": \"More information: For more details, visit the Africa Hunger Crisis appeal page. For audio-visual material, visit the IFRC newsroom. To request an interview, contact: media@ifrc.org In Nairobi: Anne Macharia: +254 720 787 764 In Geneva: Tommaso Della Longa: +41 79 708 43 67 Mrinalini Santhanam: +41 76 381 50 06.\", \"https://en.wikipedia.org/wiki/International_Committee_of_the_Red_Cross\": \"The International Committee of the Red Cross (ICRC; French: Comit\\\\u00e9 International de la Croix-Rouge) is a humanitarian organization based in Geneva, Switzerland, and is a three-time Nobel Prize Laureate. The organization has played an instrumental role in the development of rules of war and promoting humanitarian norms.. State parties (signatories) to the Geneva Convention of 1949 and its ...\", \"https://www.ifrc.org/press-release/ifrc-intensifies-response-escalating-cholera-outbreak-zimbabwe-emergency-appeal\": \"Harare/Nairobi/Geneva, 17 November 2023 \\\\u2014 The International Federation of Red Cross and Red Crescent Societies (IFRC) has launched an emergency appeal for 3 million Swiss Francs to support the Zimbabwe Red Cross Society (ZRCS). The health needs exceed available resources, meaning immediate action to is needed to mitigate the impact on affected communities.\", \"https://reliefweb.int/report/zimbabwe/zimbabwe-2024-2026-ifrc-network-country-plan-upl-2024-maazw002\": \"Zimbabwe - 2024-2026 IFRC network country plan (UPL-2024-MAAZW002) The Zimbabwe Red Cross Society is a humanitarian and developmental organization, founded on the fundamental principles of the Red ...\", \"https://journals.plos.org/globalpublichealth/article?id=10.1371/journal.pgph.0002799\": \"Red cross and red crescent movement\\'s contribution to CHW programing. Canadian Red Cross\\'s (CRC) mission is \\\\\"to help people and communities in Canada and around the world in times of need and support them in strengthening their resilience\\\\\" [].More specifically, CRC\\'s Health in Emergencies (HiE) unit prioritizes strengthening capacity of NS Societies and local stakeholders across the ...\", \"https://link.springer.com/article/10.1007/s44197-023-00165-6\": \"Cholera continues to severely threaten public health, particularly in regions with inadequate access to clean water and sanitation. Zimbabwe, a southern African nation, has witnessed recurrent cholera outbreaks, highlighting the enduring vulnerabilities faced by communities grappling with these underlying challenges. The 2023 cholera outbreak in Chegutu resulted in a devastating impact, with ...\", \"https://zimadvocate.com/2024/01/16/zimbabwe-red-cross-springs-into-action-to-combat-cholera-outbreak-in-chiredzi/\": \"Elias Hwenga, Secretary-General of ZRCS, highlighted their initiatives in response to the crisis: \\\\\"The Zimbabwe Red Cross Society, in support of the Health and Child Care ministry\\'s cholera outbreak response in Chiredzi, has established a cholera treatment centre (CTC) as cases continue to surge in the district.\", \"https://link.springer.com/chapter/10.1007/978-3-031-35609-4_24\": \"Abstract. The relationship that exists between the church and the state in Zimbabwe is older than the independence of the nation. People have always been religious, as Mbiti (1998, p. 1) would say that \\\\\"Africans people are notoriously religious.\\\\\". Their religiosity is reflected in how they uphold their relationships even in national- or ...\", \"https://link.springer.com/chapter/10.1007/978-3-031-24736-1_8\": \"Scholars have not consistently acknowledged women\\'s contribution in the propagation of the gospel and spread of Christianity. In the Early Church, while male leaders may have been more prominent and numerous, women such as Priscilla (Acts 18:26), Junia (Romans 16:7), Phoebe (Romans 16:1-2), Nympha (Colossians 4:15), Appiah (Philemon 2), Eudia and Syntyche (Philippians 4:2-3), Chloe (1 ...\", \"https://www.researchgate.net/publication/370240457_New_Contours_of_Church_and_State_Relations_The_Faithfully_Obedient_Indigenous_Churches_in_21st_Century_Zimbabwe\": \"New Contours of Church and State Relations: The Faithfully Obedient Indigenous Churches in 21st Century Zimbabwe April 2023 International Journal of Culture and History 10(1):139\", \"https://thewitness.org/christianity-in-zimbabwe/\": \"The current state of Christianity in Zimbabwe. The current state of Christianity in Zimbabwe is a complex and multifaceted issue. While the country has a strong Christian tradition, with approximately 85% of the population identifying as Christians, there are also numerous challenges facing believers. One major issue is the political climate in ...\", \"https://link.springer.com/chapter/10.1007/978-3-031-24736-1_1\": \"In Chapter 7, \\\\\"Exploring the Status of Women in the Zion Christian Church Since 1913,\\\\\" Solomon Mukora discusses the history of women\\'s contribution in the Zion Christian Church (ZCC), one of the major AICs in Zimbabwe, especially among the female folk. In terms of theoretical framework, the chapter adopts an interdisciplinary approach.\"}'),\n",
       "  AIMessage(content=\"The Red Cross Church, part of the International Red Cross and Red Crescent Movement, has played a significant role in humanitarian efforts globally. In Zimbabwe, the Zimbabwe Red Cross Society (ZRCS), a branch of the movement, has been actively involved in responding to health crises like cholera outbreaks. For instance, in response to a cholera outbreak in Chiredzi, the ZRCS established a cholera treatment center to support the government's efforts. This demonstrates the organization's commitment to addressing public health emergencies and supporting affected communities. Additionally, the ZRCS has launched emergency appeals to raise funds for humanitarian aid, indicating its ongoing efforts to alleviate human suffering in Zimbabwe. The organization's initiatives have had a tangible impact on local communities by providing essential healthcare services during crises.\\n\\nCitations:\\n\\n[1]: https://www.ifrc.org/press-release/ifrc-intensifies-response-escalating-cholera-outbreak-zimbabwe-emergency-appeal\\n[2]: https://zimadvocate.com/2024/01/16/zimbabwe-red-cross-springs-into-action-to-combat-cholera-outbreak-in-chiredzi/\", name='SubjectMatterExpert'),\n",
       "  AIMessage(content=\"Thank you for providing details on the Zimbabwe Red Cross Society's efforts in responding to health crises such as cholera outbreaks. Could you also share any specific programs or initiatives undertaken by the Red Cross Church in Zimbabwe during the early history that were aimed at addressing social or educational needs within local communities?\", response_metadata={'token_usage': {'completion_tokens': 58, 'prompt_tokens': 2138, 'total_tokens': 2196}, 'model_name': 'gpt-3.5-turbo', 'system_fingerprint': 'fp_3bc1b5746c', 'finish_reason': 'stop', 'logprobs': None}, name='DrTendaiMoyo'),\n",
       "  AIMessage(content='So you said you were writing an article on Impact of THE Red Cross Church IN Zimbabwe early history?', name='SubjectMatterExpert'),\n",
       "  HumanMessage(content='Could you please elaborate on the specific activities or initiatives undertaken by the Red Cross Church in Zimbabwe during the early history that had a significant impact on the local communities or the broader historical development of the country?', response_metadata={'token_usage': {'completion_tokens': 40, 'prompt_tokens': 236, 'total_tokens': 276}, 'model_name': 'gpt-3.5-turbo', 'system_fingerprint': 'fp_3bc1b5746c', 'finish_reason': 'stop', 'logprobs': None}, name='DrTendaiMoyo'),\n",
       "  AIMessage(content='So you said you were writing an article on Impact of THE Red Cross Church IN Zimbabwe early history?', name='SubjectMatterExpert'),\n",
       "  HumanMessage(content='Could you please elaborate on the specific activities or initiatives undertaken by the Red Cross Church in Zimbabwe during the early history that had a significant impact on the local communities or the broader historical development of the country?', response_metadata={'token_usage': {'completion_tokens': 40, 'prompt_tokens': 236, 'total_tokens': 276}, 'model_name': 'gpt-3.5-turbo', 'system_fingerprint': 'fp_3bc1b5746c', 'finish_reason': 'stop', 'logprobs': None}, name='DrTendaiMoyo'),\n",
       "  HumanMessage(content='{\"queries\": [\"Red Cross Church Zimbabwe early history activities\", \"Red Cross Church Zimbabwe initiatives impact on local communities\", \"Red Cross Church Zimbabwe historical development contributions\"]}', name='AI'),\n",
       "  HumanMessage(content='{\"https://en.wikipedia.org/wiki/International_Red_Cross_and_Red_Crescent_Movement\": \"International Red Crossand Red Crescent Movement. The organized International Red Cross and Red Crescent Movement is a humanitarian movement with approximately 16 million volunteers, members, and staff worldwide. It was founded to protect human life and health, to ensure respect for all human beings, and to prevent and alleviate human suffering.\", \"https://www.britannica.com/topic/Red-Cross-and-Red-Crescent\": \"The Red Cross is the name used in countries under nominally Christian sponsorship, while Red Crescent (adopted on the insistence of the Ottoman Empire in 1906) is the name used in Muslim countries. Henri Dunant. The Red Cross arose out of the work of Henri Dunant, a Swiss humanitarian, who, at the Battle of Solferino, in June 1859, organized ...\", \"https://www.chronicle.co.zw/role-of-mission-schools-in-zimbabwes-liberation-struggle-overlooked/\": \"The strike by students at the Dadaya Mission School in 1947 was also an important background episode to the rise of African nationalism in Southern Rhodesia. The strike by the students recognises ...\", \"https://www.ifrc.org/taxonomy/term/402\": \"More information: For more details, visit the Africa Hunger Crisis appeal page. For audio-visual material, visit the IFRC newsroom. To request an interview, contact: media@ifrc.org In Nairobi: Anne Macharia: +254 720 787 764 In Geneva: Tommaso Della Longa: +41 79 708 43 67 Mrinalini Santhanam: +41 76 381 50 06.\", \"https://en.wikipedia.org/wiki/International_Committee_of_the_Red_Cross\": \"The International Committee of the Red Cross (ICRC; French: Comit\\\\u00e9 International de la Croix-Rouge) is a humanitarian organization based in Geneva, Switzerland, and is a three-time Nobel Prize Laureate. The organization has played an instrumental role in the development of rules of war and promoting humanitarian norms.. State parties (signatories) to the Geneva Convention of 1949 and its ...\", \"https://www.ifrc.org/press-release/ifrc-intensifies-response-escalating-cholera-outbreak-zimbabwe-emergency-appeal\": \"Harare/Nairobi/Geneva, 17 November 2023 \\\\u2014 The International Federation of Red Cross and Red Crescent Societies (IFRC) has launched an emergency appeal for 3 million Swiss Francs to support the Zimbabwe Red Cross Society (ZRCS). The health needs exceed available resources, meaning immediate action to is needed to mitigate the impact on affected communities.\", \"https://reliefweb.int/report/zimbabwe/zimbabwe-2024-2026-ifrc-network-country-plan-upl-2024-maazw002\": \"Zimbabwe - 2024-2026 IFRC network country plan (UPL-2024-MAAZW002) The Zimbabwe Red Cross Society is a humanitarian and developmental organization, founded on the fundamental principles of the Red ...\", \"https://journals.plos.org/globalpublichealth/article?id=10.1371/journal.pgph.0002799\": \"Red cross and red crescent movement\\'s contribution to CHW programing. Canadian Red Cross\\'s (CRC) mission is \\\\\"to help people and communities in Canada and around the world in times of need and support them in strengthening their resilience\\\\\" [].More specifically, CRC\\'s Health in Emergencies (HiE) unit prioritizes strengthening capacity of NS Societies and local stakeholders across the ...\", \"https://link.springer.com/article/10.1007/s44197-023-00165-6\": \"Cholera continues to severely threaten public health, particularly in regions with inadequate access to clean water and sanitation. Zimbabwe, a southern African nation, has witnessed recurrent cholera outbreaks, highlighting the enduring vulnerabilities faced by communities grappling with these underlying challenges. The 2023 cholera outbreak in Chegutu resulted in a devastating impact, with ...\", \"https://zimadvocate.com/2024/01/16/zimbabwe-red-cross-springs-into-action-to-combat-cholera-outbreak-in-chiredzi/\": \"Elias Hwenga, Secretary-General of ZRCS, highlighted their initiatives in response to the crisis: \\\\\"The Zimbabwe Red Cross Society, in support of the Health and Child Care ministry\\'s cholera outbreak response in Chiredzi, has established a cholera treatment centre (CTC) as cases continue to surge in the district.\", \"https://link.springer.com/chapter/10.1007/978-3-031-35609-4_24\": \"Abstract. The relationship that exists between the church and the state in Zimbabwe is older than the independence of the nation. People have always been religious, as Mbiti (1998, p. 1) would say that \\\\\"Africans people are notoriously religious.\\\\\". Their religiosity is reflected in how they uphold their relationships even in national- or ...\", \"https://link.springer.com/chapter/10.1007/978-3-031-24736-1_8\": \"Scholars have not consistently acknowledged women\\'s contribution in the propagation of the gospel and spread of Christianity. In the Early Church, while male leaders may have been more prominent and numerous, women such as Priscilla (Acts 18:26), Junia (Romans 16:7), Phoebe (Romans 16:1-2), Nympha (Colossians 4:15), Appiah (Philemon 2), Eudia and Syntyche (Philippians 4:2-3), Chloe (1 ...\", \"https://www.researchgate.net/publication/370240457_New_Contours_of_Church_and_State_Relations_The_Faithfully_Obedient_Indigenous_Churches_in_21st_Century_Zimbabwe\": \"New Contours of Church and State Relations: The Faithfully Obedient Indigenous Churches in 21st Century Zimbabwe April 2023 International Journal of Culture and History 10(1):139\", \"https://thewitness.org/christianity-in-zimbabwe/\": \"The current state of Christianity in Zimbabwe. The current state of Christianity in Zimbabwe is a complex and multifaceted issue. While the country has a strong Christian tradition, with approximately 85% of the population identifying as Christians, there are also numerous challenges facing believers. One major issue is the political climate in ...\", \"https://link.springer.com/chapter/10.1007/978-3-031-24736-1_1\": \"In Chapter 7, \\\\\"Exploring the Status of Women in the Zion Christian Church Since 1913,\\\\\" Solomon Mukora discusses the history of women\\'s contribution in the Zion Christian Church (ZCC), one of the major AICs in Zimbabwe, especially among the female folk. In terms of theoretical framework, the chapter adopts an interdisciplinary approach.\"}'),\n",
       "  AIMessage(content=\"The Red Cross Church, part of the International Red Cross and Red Crescent Movement, has played a significant role in humanitarian efforts globally. In Zimbabwe, the Zimbabwe Red Cross Society (ZRCS), a branch of the movement, has been actively involved in responding to health crises like cholera outbreaks. For instance, in response to a cholera outbreak in Chiredzi, the ZRCS established a cholera treatment center to support the government's efforts. This demonstrates the organization's commitment to addressing public health emergencies and supporting affected communities. Additionally, the ZRCS has launched emergency appeals to raise funds for humanitarian aid, indicating its ongoing efforts to alleviate human suffering in Zimbabwe. The organization's initiatives have had a tangible impact on local communities by providing essential healthcare services during crises.\\n\\nCitations:\\n\\n[1]: https://www.ifrc.org/press-release/ifrc-intensifies-response-escalating-cholera-outbreak-zimbabwe-emergency-appeal\\n[2]: https://zimadvocate.com/2024/01/16/zimbabwe-red-cross-springs-into-action-to-combat-cholera-outbreak-in-chiredzi/\", name='SubjectMatterExpert'),\n",
       "  HumanMessage(content=\"Thank you for providing details on the Zimbabwe Red Cross Society's efforts in responding to health crises such as cholera outbreaks. Could you also share any specific programs or initiatives undertaken by the Red Cross Church in Zimbabwe during the early history that were aimed at addressing social or educational needs within local communities?\", response_metadata={'token_usage': {'completion_tokens': 58, 'prompt_tokens': 2138, 'total_tokens': 2196}, 'model_name': 'gpt-3.5-turbo', 'system_fingerprint': 'fp_3bc1b5746c', 'finish_reason': 'stop', 'logprobs': None}, name='DrTendaiMoyo'),\n",
       "  AIMessage(content='{\"queries\": [\"Red Cross Church Zimbabwe early history social programs\", \"Red Cross Church Zimbabwe educational initiatives\", \"Red Cross Church Zimbabwe community development projects\"]}', name='AI'),\n",
       "  HumanMessage(content='{\"https://www.ifrc.org/press-release/ifrc-intensifies-response-escalating-cholera-outbreak-zimbabwe-emergency-appeal\": \"Harare/Nairobi/Geneva, 17 November 2023 \\\\u2014 The International Federation of Red Cross and Red Crescent Societies (IFRC) has launched an emergency appeal for 3 million Swiss Francs to support the Zimbabwe Red Cross Society (ZRCS). The health needs exceed available resources, meaning immediate action to is needed to mitigate the impact on affected communities.\", \"https://link.springer.com/chapter/10.1007/978-3-031-30541-2_12\": \"Abstract. Since independence in 1980, Zimbabwe has implemented more than ten economic development strategies. These policies ranged from the inward-looking, interventionist strategy to the outward-oriented market-driven focus. All these policies endeavored to create employment in the country among many other objectives and to jostle the economy ...\", \"https://reliefweb.int/report/zimbabwe/zimbabwe-africa-harare-cluster-cholera-outbreak-emergency-appeal-no-mdrzw021\": \"Zimbabwe + 1 more. UNICEF Zimbabwe Humanitarian Situation Report No. 1, January 1 - February 28, 2023 Format Situation Report Source. UNICEF; Posted 31 Mar 2023 Originally published 31 Mar 2023 ...\", \"https://journals.plos.org/globalpublichealth/article?id=10.1371/journal.pgph.0002799\": \"Red cross and red crescent movement\\'s contribution to CHW programing. Canadian Red Cross\\'s (CRC) mission is \\\\\"to help people and communities in Canada and around the world in times of need and support them in strengthening their resilience\\\\\" [].More specifically, CRC\\'s Health in Emergencies (HiE) unit prioritizes strengthening capacity of NS Societies and local stakeholders across the ...\", \"https://www.ifrc.org/taxonomy/term/402\": \"More information: For more details, visit the Africa Hunger Crisis appeal page. For audio-visual material, visit the IFRC newsroom. To request an interview, contact: media@ifrc.org In Nairobi: Anne Macharia: +254 720 787 764 In Geneva: Tommaso Della Longa: +41 79 708 43 67 Mrinalini Santhanam: +41 76 381 50 06.\", \"https://www.mdpi.com/2077-1444/15/2/213\": \"Since the arrival of Christianity in Africa during the pre-colonial era, one of the main characteristics of its spread has been Christian Education (CE). The achievements made thus far by missionaries and African Christian communities were based on the Church-based Christian Education programs that were put into place by churches created by missionaries. Education, let alone Christian ...\", \"https://www.unicef.org/zimbabwe/press-releases/government-zimbabwe-launches-implementation-new-funding-global-partnership-education\": \"The new grants of the Global Partnership for Education (GPE) for Zimbabwe have an overall value of USD 48.8 million for a period of three years, covering 2023 to 2026. The funding includes the System Transformation Grant-STG (USD 24.8 million) and the Girls Education Accelerator-GEA (USD 12.4 million). the System Capacity Grant-SCG (USD 2.9m ...\", \"https://reliefweb.int/report/zimbabwe/zimbabwe-2024-2026-ifrc-network-country-plan-upl-2024-maazw002\": \"Zimbabwe - 2024-2026 IFRC network country plan (UPL-2024-MAAZW002) The Zimbabwe Red Cross Society is a humanitarian and developmental organization, founded on the fundamental principles of the Red ...\", \"https://link.springer.com/chapter/10.1007/978-3-031-36829-5_35\": \"Abstract. This chapter evaluates the Zimbabwe Council of Churches\\' (ZCC) peacebuilding programme and its impact on Sexual and Gender Based Violence (SGBV). In doing this intersectionality study, our chapter aims to find out how the peacebuilding programme promoted by the ZCC is life affirming to women, with particular focus on how the ...\", \"https://link.springer.com/article/10.1007/s44197-023-00165-6\": \"Cholera continues to severely threaten public health, particularly in regions with inadequate access to clean water and sanitation. Zimbabwe, a southern African nation, has witnessed recurrent cholera outbreaks, highlighting the enduring vulnerabilities faced by communities grappling with these underlying challenges. The 2023 cholera outbreak in Chegutu resulted in a devastating impact, with ...\"}'),\n",
       "  AIMessage(content=\"The Red Cross Church, through the Zimbabwe Red Cross Society (ZRCS), has been actively involved in humanitarian and developmental initiatives, including addressing social and educational needs within local communities. One example of their efforts is reflected in their involvement in the Global Partnership for Education (GPE) initiatives in Zimbabwe. The GPE grants, with a total value of USD 48.8 million for the period of 2023 to 2026, aim to support educational programs in the country. This partnership underscores the Red Cross Church's commitment to enhancing educational opportunities for the local population and contributing to the broader development of Zimbabwe through education-focused initiatives.\\n\\nCitations:\\n\\n[1]: https://www.unicef.org/zimbabwe/press-releases/government-zimbabwe-launches-implementation-new-funding-global-partnership-education\", name='SubjectMatterExpert')],\n",
       " 'references': {'https://www.ifrc.org/press-release/ifrc-intensifies-response-escalating-cholera-outbreak-zimbabwe-emergency-appeal': 'Harare/Nairobi/Geneva, 17 November 2023 — The International Federation of Red Cross and Red Crescent Societies (IFRC) has launched an emergency appeal for 3 million Swiss Francs to support the Zimbabwe Red Cross Society (ZRCS). The health needs exceed available resources, meaning immediate action to is needed to mitigate the impact on affected communities.',\n",
       "  'https://zimadvocate.com/2024/01/16/zimbabwe-red-cross-springs-into-action-to-combat-cholera-outbreak-in-chiredzi/': 'Elias Hwenga, Secretary-General of ZRCS, highlighted their initiatives in response to the crisis: \"The Zimbabwe Red Cross Society, in support of the Health and Child Care ministry\\'s cholera outbreak response in Chiredzi, has established a cholera treatment centre (CTC) as cases continue to surge in the district.',\n",
       "  'https://www.unicef.org/zimbabwe/press-releases/government-zimbabwe-launches-implementation-new-funding-global-partnership-education': 'The new grants of the Global Partnership for Education (GPE) for Zimbabwe have an overall value of USD 48.8 million for a period of three years, covering 2023 to 2026. The funding includes the System Transformation Grant-STG (USD 24.8 million) and the Girls Education Accelerator-GEA (USD 12.4 million). the System Capacity Grant-SCG (USD 2.9m ...'},\n",
       " 'editor': Editor(affiliation='Zimbabwe Historical Society', name='Dr. Tendai Moyo', role='Historian', description='Dr. Moyo is a prominent historian specializing in the early history of Zimbabwe, with a focus on the impact of missionary activities. He will provide insights into the interactions between the Red Cross Church and the historical development of Zimbabwe.')}"
      ]
     },
     "execution_count": 24,
     "metadata": {},
     "output_type": "execute_result"
    }
   ],
   "source": [
    "final_state"
   ]
  },
  {
   "cell_type": "markdown",
   "id": "45e14dcb",
   "metadata": {},
   "source": [
    "## Refine Outline\n",
    "\n",
    "At this point in STORM, we've conducted a large amount of research from different perspectives. It's time to refine the original outline based on these investigations. Below, create a chain using the LLM with a long context window to update the original outline.\n"
   ]
  },
  {
   "cell_type": "code",
   "execution_count": 25,
   "id": "c284eb72-3856-406d-8582-5a1c92fd292e",
   "metadata": {},
   "outputs": [],
   "source": [
    "refine_outline_prompt = get_chat_prompt_from_prompt_templates([prompts.pmt_s_refine_outline, prompts.pmt_h_refine_outline])\n",
    "\n",
    "# Using turbo preview since the context can get quite long\n",
    "refine_outline_chain = get_chain_with_outputparser(refine_outline_prompt, fast_llm, outline_parser)\\\n",
    "    .with_config(run_name=\"Refine Outline\")\n",
    "\n",
    "# refine_outline_prompt.partial(format_instructions=outline_parser.get_format_instructions()) | long_context_llm | outline_parser"
   ]
  },
  {
   "cell_type": "code",
   "execution_count": 26,
   "id": "d19e58c5-086f-49ba-b921-791669d04b2f",
   "metadata": {},
   "outputs": [],
   "source": [
    "refined_outline = refine_outline_chain.invoke(\n",
    "    {\n",
    "        \"topic\": example_topic,\n",
    "        \"old_outline\": initial_outline.as_str,\n",
    "        \"conversations\": \"\\n\\n\".join(\n",
    "            f\"### {m.name}\\n\\n{m.content}\" for m in final_state[\"messages\"]\n",
    "        ),\n",
    "    }\n",
    ")"
   ]
  },
  {
   "cell_type": "code",
   "execution_count": 27,
   "id": "4c397dc5-e614-4a7f-9f78-67dffc9b8c59",
   "metadata": {},
   "outputs": [
    {
     "name": "stderr",
     "output_type": "stream",
     "text": [
      "2024-03-31 14:43:27,613 [MainThread  ] [INFO ]  # Impact of The Red Cross Church in Zimbabwe Early History\n",
      "\n",
      "## Introduction to The Red Cross Church in Zimbabwe\n",
      "\n",
      "The Red Cross Church, part of the International Red Cross and Red Crescent Movement, has had a significant impact on Zimbabwe's early history. Founded with a mission to protect human life and health, the church's presence in Zimbabwe dates back to pivotal moments in the nation's development.\n",
      "\n",
      "## Founding and Early Mission\n",
      "\n",
      "The establishment of The Red Cross Church in Zimbabwe was marked by the dedication of its founders to humanitarian principles. The church's initial mission centered around providing aid, fostering respect for all individuals, and alleviating human suffering within the local communities.\n",
      "\n",
      "## Key Initiatives and Programs\n",
      "\n",
      "During its early history in Zimbabwe, The Red Cross Church initiated various impactful programs and activities. These included humanitarian efforts aimed at assisting communities during critical times, as well as educational initiatives focused on promoting literacy and knowledge within Zimbabwean society.\n",
      "\n",
      "## Significant Impact on Zimbabwean Society\n",
      "\n",
      "The Red Cross Church's presence in Zimbabwe had a profound influence on society and culture. Through its humanitarian aid and educational programs, the church contributed to the well-being and development of communities, leaving a lasting impression on the nation's historical narrative.\n",
      "\n",
      "## Challenges and Controversies\n",
      "\n",
      "Despite its positive contributions, The Red Cross Church faced challenges and controversies in Zimbabwe. Internal struggles within the church's leadership and external criticisms of its activities added complexity to its operations and interactions within the society.\n",
      "\n",
      "## Legacy and Future Prospects\n",
      "\n",
      "The legacy of The Red Cross Church in Zimbabwe endures through its continued initiatives and projects. By addressing current challenges and seizing future opportunities, the church remains poised to make a significant impact on the nation's development and well-being.\n"
     ]
    }
   ],
   "source": [
    "logger.info(refined_outline.as_str)"
   ]
  },
  {
   "cell_type": "markdown",
   "id": "bb8b76b6",
   "metadata": {},
   "source": [
    "## Generate Article\n"
   ]
  },
  {
   "cell_type": "code",
   "execution_count": 38,
   "id": "563b2a40",
   "metadata": {},
   "outputs": [
    {
     "name": "stderr",
     "output_type": "stream",
     "text": [
      "2024-03-31 15:01:09,175 [MainThread  ] [INFO ]  Number of references: 3\n"
     ]
    },
    {
     "name": "stdout",
     "output_type": "stream",
     "text": [
      "Loading web page from url: https://www.ifrc.org/press-release/ifrc-intensifies-response-escalating-cholera-outbreak-zimbabwe-emergency-appeal\n"
     ]
    },
    {
     "name": "stderr",
     "output_type": "stream",
     "text": [
      "Fetching pages: 100%|##########| 1/1 [00:00<00:00, 17.27it/s]\n"
     ]
    },
    {
     "name": "stdout",
     "output_type": "stream",
     "text": [
      "Loading web page from url: https://zimadvocate.com/2024/01/16/zimbabwe-red-cross-springs-into-action-to-combat-cholera-outbreak-in-chiredzi/\n"
     ]
    },
    {
     "name": "stderr",
     "output_type": "stream",
     "text": [
      "Fetching pages: 100%|##########| 1/1 [00:00<00:00,  7.32it/s]\n"
     ]
    },
    {
     "name": "stdout",
     "output_type": "stream",
     "text": [
      "Loading web page from url: https://www.unicef.org/zimbabwe/press-releases/government-zimbabwe-launches-implementation-new-funding-global-partnership-education\n"
     ]
    },
    {
     "name": "stderr",
     "output_type": "stream",
     "text": [
      "Fetching pages: 100%|##########| 1/1 [00:00<00:00,  2.93it/s]\n"
     ]
    },
    {
     "name": "stdout",
     "output_type": "stream",
     "text": [
      "Summarizing 1/2 : https://zimadvocate.com/2024/01/16/zimbabwe-red-cross-springs-into-action-to-combat-cholera-outbreak-in-chiredzi/\n",
      "Summarizing 2/2 : https://www.unicef.org/zimbabwe/press-releases/government-zimbabwe-launches-implementation-new-funding-global-partnership-education\n"
     ]
    }
   ],
   "source": [
    "text_splitter = RecursiveCharacterTextSplitter.from_tiktoken_encoder(\n",
    "    chunk_size=250, chunk_overlap=25\n",
    ")\n",
    "\n",
    "\n",
    "reference_docs = [\n",
    "    Document(page_content=v, metadata={\"source\": k})\n",
    "    for k, v in final_state[\"references\"].items()\n",
    "]\n",
    "\n",
    "logger.info(f\"Number of references: {len(reference_docs)}\")\n",
    "\n",
    "vectorstore = get_inmemory_db(reference_docs, embeddings)\n",
    "\n",
    "# Get contents of the references\n",
    "full_docs = await fetch_pages_from_refs(reference_docs[:])\n",
    "\n",
    "# Summarize\n",
    "summaries = summarize_full_docs(fast_llm, example_topic, full_docs)\n",
    "\n",
    "# f1 = list(chain.from_iterable(summaries.values()))\n",
    "f1 = summaries.values()\n",
    "full_split_docs = text_splitter.split_documents(f1)\n",
    "\n",
    "vectorstore.add_documents(full_split_docs)\n",
    "\n",
    "retriever = vectorstore.as_retriever()\n"
   ]
  },
  {
   "cell_type": "code",
   "execution_count": 39,
   "id": "8b8c6fb5",
   "metadata": {},
   "outputs": [
    {
     "data": {
      "text/plain": [
       "[Document(page_content=\"La Società della Croce Rossa dello Zimbabwe sta intensificando i suoi sforzi di risposta per combattere un'epidemia di colera a Chiredzi, in Zimbabwe, a seguito di un recente aumento dei casi. Le autorità sanitarie e le organizzazioni umanitarie stanno lavorando insieme per affrontare la situazione. Il Ministero della Salute e dell'Assistenza all'Infanzia ha riferito un totale di 18.100 casi sospetti di colera e 68 morti confermati in laboratorio in tutto il paese. Inoltre, la città di Chiredzi ha riportato 45 nuovi casi sospetti di colera nell'ultimo aggiornamento. La Società della Croce Rossa dello Zimbabwe sta collaborando con il Ministero della Salute e dell'Assistenza all'Infanzia e altri partner per affrontare le sfide poste\", metadata={'source': 'https://zimadvocate.com/2024/01/16/zimbabwe-red-cross-springs-into-action-to-combat-cholera-outbreak-in-chiredzi/', 'title': 'Zimbabwe Red Cross Springs into Action to Combat Cholera Outbreak in Chiredzi', 'description': 'Zimbabwe Red Cross Society joins forces to combat a cholera outbreak in Chiredzi, Zimbabwe, with increasing cases warranting coordinated efforts.', 'language': 'en-US'}),\n",
       " Document(page_content=\"dell'Assistenza all'Infanzia e altri partner per affrontare le sfide poste dall'epidemia di colera.\", metadata={'source': 'https://zimadvocate.com/2024/01/16/zimbabwe-red-cross-springs-into-action-to-combat-cholera-outbreak-in-chiredzi/', 'title': 'Zimbabwe Red Cross Springs into Action to Combat Cholera Outbreak in Chiredzi', 'description': 'Zimbabwe Red Cross Society joins forces to combat a cholera outbreak in Chiredzi, Zimbabwe, with increasing cases warranting coordinated efforts.', 'language': 'en-US'}),\n",
       " Document(page_content=\"Il testo discute l'impatto della Chiesa della Croce Rossa nella storia iniziale dello Zimbabwe, concentrandosi sul finanziamento del Global Partnership for Education per sostenere un'istruzione inclusiva e trasformativa nel paese. Dal 2013, sono stati ricevuti oltre 75 milioni di dollari dal GPE per migliorare la vita dei bambini in Zimbabwe, con un nuovo finanziamento di 48,8 milioni di dollari che coprirà il periodo dal 2023 al 2026. Il finanziamento mira a migliorare la funzionalità, la protezione e la sicurezza nelle scuole, ad aumentare l'alfabetizzazione e la numerazione, e a promuovere una leadership orientata all'equità nel settore dell'istruzione. Il Ministero dell'Istruzione Primaria e Secondaria, l'UNICEF e CAMFED sono attori\", metadata={'source': 'https://www.unicef.org/zimbabwe/press-releases/government-zimbabwe-launches-implementation-new-funding-global-partnership-education', 'title': 'Government of Zimbabwe launches the implementation of the new funding from Global Partnership for Education to support Inclusive and transformative education', 'description': 'Zimbabwe became a partner of the Global Partnership for Education (GPE) in 2013 through the Ministry of Primary and Secondary Education. Since 2013, over USD 75 million has been received', 'language': 'en'}),\n",
       " Document(page_content=\"Primaria e Secondaria, l'UNICEF e CAMFED sono attori chiave nell'attuazione dei programmi del GPE in Zimbabwe.\", metadata={'source': 'https://www.unicef.org/zimbabwe/press-releases/government-zimbabwe-launches-implementation-new-funding-global-partnership-education', 'title': 'Government of Zimbabwe launches the implementation of the new funding from Global Partnership for Education to support Inclusive and transformative education', 'description': 'Zimbabwe became a partner of the Global Partnership for Education (GPE) in 2013 through the Ministry of Primary and Secondary Education. Since 2013, over USD 75 million has been received', 'language': 'en'})]"
      ]
     },
     "execution_count": 39,
     "metadata": {},
     "output_type": "execute_result"
    }
   ],
   "source": [
    "full_split_docs"
   ]
  },
  {
   "cell_type": "code",
   "execution_count": null,
   "metadata": {},
   "outputs": [],
   "source": [
    "d1 = retriever.invoke(\"What did the red cross do in Zimbabwe?\")\n",
    "print(d1)"
   ]
  },
  {
   "cell_type": "markdown",
   "id": "e708d31a",
   "metadata": {},
   "source": [
    "#### Generate Sections\n",
    "\n",
    "Now you can generate the sections using the indexed docs.\n"
   ]
  },
  {
   "cell_type": "code",
   "execution_count": null,
   "id": "524f4c87",
   "metadata": {},
   "outputs": [],
   "source": [
    "\n",
    "\n",
    "section_writer_prompt = get_chat_prompt_from_prompt_templates([prompts.pmt_s_section_writer, prompts.pmt_h_section_writer])\n",
    "\n",
    "\n",
    "async def retrieve(inputs: dict):\n",
    "    docs = await retriever.ainvoke(inputs[\"topic\"] + \": \" + inputs[\"section\"])\n",
    "    formatted = \"\\n\".join(\n",
    "        [\n",
    "            f'<Document href=\"{doc.metadata[\"source\"]}\"/>\\n{doc.page_content}\\n</Document>'\n",
    "            for doc in docs\n",
    "        ]\n",
    "    )\n",
    "    return {\"docs\": formatted, **inputs}\n",
    "\n",
    "wiki_parser = get_pydantic_parser(WikiSection)\n",
    "\n",
    "section_writer = (\n",
    "    retrieve\n",
    "    | section_writer_prompt.partial(format_instructions=wiki_parser.get_format_instructions())\n",
    "    | long_context_llm\n",
    "    | wiki_parser\n",
    ")"
   ]
  },
  {
   "cell_type": "code",
   "execution_count": null,
   "id": "03723e96",
   "metadata": {},
   "outputs": [],
   "source": [
    "section = await section_writer.ainvoke(\n",
    "    {\n",
    "        \"outline\": refined_outline.as_str,\n",
    "        \"section\": refined_outline.sections[1].section_title,\n",
    "        \"topic\": example_topic,\n",
    "    }\n",
    ")\n",
    "print(section.as_str)"
   ]
  },
  {
   "cell_type": "code",
   "execution_count": null,
   "id": "0b75ea24",
   "metadata": {},
   "outputs": [],
   "source": []
  },
  {
   "cell_type": "markdown",
   "id": "0afd728d",
   "metadata": {},
   "source": [
    "#### Generate final article\n",
    "\n",
    "Now we can rewrite the draft to appropriately group all the citations and maintain a consistent voice.\n"
   ]
  },
  {
   "cell_type": "code",
   "execution_count": null,
   "id": "d1831e77",
   "metadata": {},
   "outputs": [],
   "source": [
    "prompts.pmt_s_writer = generate_system_chat_prompt(\"\"\"\n",
    "You are an expert Wikipedia author. Write the complete wiki article on {topic} using the following section drafts:\n",
    "\n",
    "{draft}\n",
    "\n",
    "Strictly follow Wikipedia format guidelines.\n",
    "\"\"\")\n",
    "\n",
    "prompts.pmt_h_writer = generate_human_chat_prompt(\"\"\"\n",
    "Write the complete Wiki article using markdown format. Organize citations using footnotes like \"[1]\",\"\" avoiding duplicates in the footer. Include URLs in the footer.'\n",
    "\"\"\")\n"
   ]
  },
  {
   "cell_type": "code",
   "execution_count": null,
   "id": "05089f2d",
   "metadata": {},
   "outputs": [],
   "source": [
    "\n",
    "\n",
    "writer_prompt = get_chat_prompt_from_prompt_templates([prompts.pmt_s_writer, prompts.pmt_h_writer])\n",
    "\n",
    "writer = writer_prompt | long_context_llm | StrOutputParser()"
   ]
  },
  {
   "cell_type": "code",
   "execution_count": null,
   "id": "0e6e6e5a",
   "metadata": {},
   "outputs": [],
   "source": [
    "for tok in writer.stream({\"topic\": example_topic, \"draft\": section.as_str}):\n",
    "    print(tok, end=\"\")"
   ]
  },
  {
   "cell_type": "markdown",
   "id": "4f6ab734",
   "metadata": {},
   "source": [
    "## Final Flow\n",
    "\n",
    "Now it's time to string everything together. We will have 6 main stages in sequence:\n",
    ".\n",
    "\n",
    "1. Generate the initial outline + perspectives\n",
    "2. Batch converse with each perspective to expand the content for the article\n",
    "3. Refine the outline based on the conversations\n",
    "4. Index the reference docs from the conversations\n",
    "5. Write the individual sections of the article\n",
    "6. Write the final wiki\n",
    "\n",
    "The state tracks the outputs of each stage.\n"
   ]
  },
  {
   "cell_type": "code",
   "execution_count": null,
   "id": "e775ba8c",
   "metadata": {},
   "outputs": [],
   "source": [
    "class ResearchState(TypedDict):\n",
    "    topic: str\n",
    "    outline: Outline\n",
    "    editors: List[Editor]\n",
    "    interview_results: List[InterviewState]\n",
    "    # The final sections output\n",
    "    sections: List[WikiSection]\n",
    "    article: str"
   ]
  },
  {
   "cell_type": "code",
   "execution_count": null,
   "id": "ed1854d6",
   "metadata": {},
   "outputs": [],
   "source": [
    "import asyncio\n",
    "\n",
    "\n",
    "async def initialize_research(state: ResearchState):\n",
    "    topic = state[\"topic\"]\n",
    "    coros = (\n",
    "        generate_outline_direct.ainvoke({\"topic\": topic}),\n",
    "        survey_subjects.ainvoke(topic),\n",
    "    )\n",
    "    results = await asyncio.gather(*coros)\n",
    "    return {\n",
    "        **state,\n",
    "        \"outline\": results[0],\n",
    "        \"editors\": results[1].editors,\n",
    "    }\n",
    "\n",
    "\n",
    "async def conduct_interviews(state: ResearchState):\n",
    "    topic = state[\"topic\"]\n",
    "    initial_states = [\n",
    "        {\n",
    "            \"editor\": editor,\n",
    "            \"messages\": [\n",
    "                AIMessage(\n",
    "                    content=f\"So you said you were writing an article on {topic}?\",\n",
    "                    name=\"SubjectMatterExpert\",\n",
    "                )\n",
    "            ],\n",
    "        }\n",
    "        for editor in state[\"editors\"]\n",
    "    ]\n",
    "    # We call in to the sub-graph here to parallelize the interviews\n",
    "    interview_results = await interview_graph.abatch(initial_states)\n",
    "\n",
    "    return {\n",
    "        **state,\n",
    "        \"interview_results\": interview_results,\n",
    "    }\n",
    "\n",
    "\n",
    "def format_conversation(interview_state):\n",
    "    messages = interview_state[\"messages\"]\n",
    "    convo = \"\\n\".join(f\"{m.name}: {m.content}\" for m in messages)\n",
    "    return f'Conversation with {interview_state[\"editor\"].name}\\n\\n' + convo\n",
    "\n",
    "\n",
    "async def refine_outline(state: ResearchState):\n",
    "    convos = \"\\n\\n\".join(\n",
    "        [\n",
    "            format_conversation(interview_state)\n",
    "            for interview_state in state[\"interview_results\"]\n",
    "        ]\n",
    "    )\n",
    "\n",
    "    updated_outline = await refine_outline_chain.ainvoke(\n",
    "        {\n",
    "            \"topic\": state[\"topic\"],\n",
    "            \"old_outline\": state[\"outline\"].as_str,\n",
    "            \"conversations\": convos,\n",
    "        }\n",
    "    )\n",
    "    return {**state, \"outline\": updated_outline}\n",
    "\n",
    "\n",
    "async def index_references(state: ResearchState):\n",
    "    all_docs = []\n",
    "    for interview_state in state[\"interview_results\"]:\n",
    "        reference_docs = [\n",
    "            Document(page_content=v, metadata={\"source\": k})\n",
    "            for k, v in interview_state[\"references\"].items()\n",
    "        ]\n",
    "        all_docs.extend(reference_docs)\n",
    "    await vectorstore.aadd_documents(all_docs)\n",
    "    return state\n",
    "\n",
    "\n",
    "async def write_sections(state: ResearchState):\n",
    "    outline = state[\"outline\"]\n",
    "    sections = await section_writer.abatch(\n",
    "        [\n",
    "            {\n",
    "                \"outline\": refined_outline.as_str,\n",
    "                \"section\": section.section_title,\n",
    "                \"topic\": state[\"topic\"],\n",
    "            }\n",
    "            for section in outline.sections\n",
    "        ]\n",
    "    )\n",
    "    return {\n",
    "        **state,\n",
    "        \"sections\": sections,\n",
    "    }\n",
    "\n",
    "\n",
    "async def write_article(state: ResearchState):\n",
    "    topic = state[\"topic\"]\n",
    "    sections = state[\"sections\"]\n",
    "    draft = \"\\n\\n\".join([section.as_str for section in sections])\n",
    "    article = await writer.ainvoke({\"topic\": topic, \"draft\": draft})\n",
    "    return {\n",
    "        **state,\n",
    "        \"article\": article,\n",
    "    }"
   ]
  },
  {
   "cell_type": "markdown",
   "id": "f87881e3",
   "metadata": {},
   "source": [
    "#### Create the graph\n"
   ]
  },
  {
   "cell_type": "code",
   "execution_count": null,
   "id": "af3b4be1",
   "metadata": {},
   "outputs": [],
   "source": [
    "builder_of_storm = StateGraph(ResearchState)\n",
    "\n",
    "nodes = [\n",
    "    (\"init_research\", initialize_research),\n",
    "    (\"conduct_interviews\", conduct_interviews),\n",
    "    (\"refine_outline\", refine_outline),\n",
    "    (\"index_references\", index_references),\n",
    "    (\"write_sections\", write_sections),\n",
    "    (\"write_article\", write_article),\n",
    "]\n",
    "for i in range(len(nodes)):\n",
    "    name, node = nodes[i]\n",
    "    builder_of_storm.add_node(name, node)\n",
    "    if i > 0:\n",
    "        builder_of_storm.add_edge(nodes[i - 1][0], name)\n",
    "\n",
    "builder_of_storm.set_entry_point(nodes[0][0])\n",
    "builder_of_storm.set_finish_point(nodes[-1][0])\n",
    "storm = builder_of_storm.compile()"
   ]
  },
  {
   "cell_type": "code",
   "execution_count": null,
   "id": "2a815f1b",
   "metadata": {},
   "outputs": [],
   "source": [
    "async for step in storm.astr eam(\n",
    "    {\n",
    "        \"topic\": \"Building better slack bots using LLMs\",\n",
    "    }\n",
    "):\n",
    "    name = next(iter(step))\n",
    "    print(name)\n",
    "    logger.info(\"-- \", str(step[name])[:300])\n",
    "    if END in step:\n",
    "        results = step"
   ]
  },
  {
   "cell_type": "code",
   "execution_count": null,
   "id": "1bef7021",
   "metadata": {},
   "outputs": [],
   "source": [
    "article = results[END][\"article\"]"
   ]
  },
  {
   "cell_type": "markdown",
   "id": "3b094067",
   "metadata": {},
   "source": [
    "## Render the Wiki\n",
    "\n",
    "Now we can render the final wiki page!\n"
   ]
  },
  {
   "cell_type": "code",
   "execution_count": null,
   "id": "f7750c83",
   "metadata": {},
   "outputs": [],
   "source": [
    "from IPython.display import Markdown\n",
    "\n",
    "# We will down-header the sections to create less confusion in this notebook\n",
    "Markdown(article.replace(\"\\n#\", \"\\n##\"))"
   ]
  },
  {
   "cell_type": "code",
   "execution_count": null,
   "id": "00e24611",
   "metadata": {},
   "outputs": [],
   "source": []
  }
 ],
 "metadata": {
  "kernelspec": {
   "display_name": "Python 3 (ipykernel)",
   "language": "python",
   "name": "python3"
  },
  "language_info": {
   "codemirror_mode": {
    "name": "ipython",
    "version": 3
   },
   "file_extension": ".py",
   "mimetype": "text/x-python",
   "name": "python",
   "nbconvert_exporter": "python",
   "pygments_lexer": "ipython3",
   "version": "3.10.13"
  }
 },
 "nbformat": 4,
 "nbformat_minor": 5
}

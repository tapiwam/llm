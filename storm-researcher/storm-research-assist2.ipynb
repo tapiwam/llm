{
 "cells": [
  {
   "cell_type": "markdown",
   "id": "3b912966-4dce-4685-a5b2-a39c5229a0f1",
   "metadata": {},
   "source": [
    "# Storm Research Assistant\n",
    "\n",
    "Reference\n",
    "https://github.com/langchain-ai/langgraph/blob/main/examples/storm/storm.ipynb\n"
   ]
  },
  {
   "cell_type": "code",
   "execution_count": 1,
   "id": "54832538-aa97-4e40-9713-eaae1e62852a",
   "metadata": {},
   "outputs": [],
   "source": [
    "## Prereqs"
   ]
  },
  {
   "cell_type": "code",
   "execution_count": 2,
   "id": "60732872-a587-4384-ad96-3ba16facbbe2",
   "metadata": {},
   "outputs": [],
   "source": [
    "\n",
    "# %pip install -U langchain_community langchain_openai langgraph wikipedia  scikit-learn  langchain_fireworks\n",
    "# # We use one or the other search engine below\n",
    "# %pip install -U tavily-python, playwright\n",
    "# %pip install -U duckduckgo-search\n",
    "# # ! apt-get install graphviz graphviz-dev\n",
    "# %pip install pygraphviz\n",
    "\n"
   ]
  },
  {
   "cell_type": "code",
   "execution_count": 3,
   "id": "4abf06bb",
   "metadata": {},
   "outputs": [],
   "source": [
    "\n",
    "example_topic = \"Impact of THE Red Cross Church IN Zimbabwe early history\""
   ]
  },
  {
   "cell_type": "code",
   "execution_count": 4,
   "id": "62647209-990c-4cc1-a1ac-22e46e7ecc31",
   "metadata": {},
   "outputs": [
    {
     "name": "stdout",
     "output_type": "stream",
     "text": [
      "bert_load_from_file: gguf version     = 2\n",
      "bert_load_from_file: gguf alignment   = 32\n",
      "bert_load_from_file: gguf data offset = 695552\n",
      "bert_load_from_file: model name           = BERT\n",
      "bert_load_from_file: model architecture   = bert\n",
      "bert_load_from_file: model file type      = 1\n",
      "bert_load_from_file: bert tokenizer vocab = 30522\n"
     ]
    }
   ],
   "source": [
    "from storm import *\n",
    "\n",
    "os.environ[\"LANGCHAIN_PROJECT\"] = 'STORM_RESEARCHER'\n",
    "\n",
    "\n",
    "fast_llm, long_context_llm = get_openai_llms(regular_model=\"gpt-3.5-turbo\", long_context_model=\"gpt-3.5-turbo-0125\")\n",
    "\n",
    "# ollama_model = 'mistral:7b-instruct-q4_K_M'\n",
    "# fast_llm, long_context_llm = get_ollama_llms(regular_model=ollama_model, long_context_model=ollama_model)\n",
    "\n",
    "\n",
    "embeddings = get_gpt4all_embeddings()\n",
    "\n"
   ]
  },
  {
   "cell_type": "markdown",
   "id": "94644a48",
   "metadata": {},
   "source": [
    "### Generate Initial Outline\n"
   ]
  },
  {
   "cell_type": "code",
   "execution_count": 5,
   "id": "5b278d8c-9e34-42ab-9649-bc7b3570bb52",
   "metadata": {},
   "outputs": [],
   "source": [
    "outline_system_prompt = prompts.outline_system_wiki_writer\n",
    "outline_human_prompt = prompts.outline_user_topic_formatinstructions\n",
    "direct_gen_outline_prompt = get_chat_prompt_from_prompt_templates([outline_system_prompt, outline_human_prompt])\n",
    "\n",
    "outline_parser = get_pydantic_parser(pydantic_object=Outline)\n",
    "generate_outline_direct = get_chain_with_outputparser(direct_gen_outline_prompt, fast_llm, outline_parser)"
   ]
  },
  {
   "cell_type": "code",
   "execution_count": 6,
   "id": "90ee8329-896b-4085-a1fa-fec0a15937ef",
   "metadata": {},
   "outputs": [
    {
     "name": "stderr",
     "output_type": "stream",
     "text": [
      "2024-03-31 09:40:06,678 [MainThread  ] [INFO ]  # Impact of The Red Cross Church in Zimbabwe Early History\n",
      "\n",
      "## Introduction to The Red Cross Church in Zimbabwe\n",
      "\n",
      "Provide an overview of the establishment and early history of The Red Cross Church in Zimbabwe.\n",
      "\n",
      "## Founding and Mission\n",
      "\n",
      "Detail the founding principles and mission of The Red Cross Church in Zimbabwe.\n",
      "\n",
      "## Key Contributions to Zimbabwean Society\n",
      "\n",
      "Explore the impact The Red Cross Church had on various aspects of society in Zimbabwe during its early history.\n",
      "\n",
      "## Challenges Faced and Resolutions\n",
      "\n",
      "Discuss the challenges encountered by The Red Cross Church in Zimbabwe and how they were addressed.\n",
      "\n",
      "## Legacy and Continued Influence\n",
      "\n",
      "Examine the lasting legacy and influence of The Red Cross Church in Zimbabwe, highlighting any ongoing impact.\n",
      "\n",
      "## Notable Figures Associated with The Red Cross Church\n",
      "\n",
      "Profile key individuals who played significant roles in shaping the early history of The Red Cross Church in Zimbabwe.\n"
     ]
    }
   ],
   "source": [
    "\n",
    "initial_outline = generate_outline_direct.invoke({\"topic\": example_topic})\n",
    "logger.info(initial_outline.as_str)"
   ]
  },
  {
   "cell_type": "markdown",
   "id": "5706a1d3",
   "metadata": {},
   "source": [
    "### Expand Topics\n"
   ]
  },
  {
   "cell_type": "code",
   "execution_count": 7,
   "id": "27f63ad0-7e07-48ac-85a9-80a53b528c02",
   "metadata": {},
   "outputs": [],
   "source": [
    "related_subjects_prompt = get_chat_prompt_from_prompt_templates([prompts.related_subjects_human_wiki_writer])\n",
    "related_topics_parser = get_pydantic_parser(RelatedSubjects)\n",
    "expand_chain = get_chain_with_outputparser(related_subjects_prompt, fast_llm, related_topics_parser)"
   ]
  },
  {
   "cell_type": "code",
   "execution_count": 8,
   "id": "8f801936-f6f7-44a0-bc79-4f0132fba79b",
   "metadata": {},
   "outputs": [
    {
     "data": {
      "text/plain": [
       "RelatedSubjects(topics=['History of Christianity in Zimbabwe', 'Red Cross Church in Zimbabwe', 'Impact of Christianity on Zimbabwean culture', 'Colonial history of Zimbabwe', 'Missionary activities in Zimbabwe', 'Religious organizations in Zimbabwe', 'Humanitarian work in Zimbabwe', 'Zimbabwean independence movement'])"
      ]
     },
     "execution_count": 8,
     "metadata": {},
     "output_type": "execute_result"
    }
   ],
   "source": [
    "related_subjects = await expand_chain.ainvoke({\"topic\": example_topic})\n",
    "related_subjects"
   ]
  },
  {
   "cell_type": "markdown",
   "id": "95cc42a4-45f1-470c-a3f6-20a5661d5b43",
   "metadata": {},
   "source": [
    "## Generate Perspectives\n",
    "\n",
    "From these related subjects, we can select representative Wiki editors as \"subject matter experts\" with distinct backgrounds and affiliations. These will help distribute the search process to encourage a more well-rounded final report.\n"
   ]
  },
  {
   "cell_type": "code",
   "execution_count": 9,
   "id": "d79ea824-c561-4949-bbd4-127281f3eeb6",
   "metadata": {},
   "outputs": [],
   "source": [
    "\n",
    "\n",
    "gen_perspectives_prompt = get_chat_prompt_from_prompt_templates([prompts.perspective_system_generator, prompts.outline_user_topic_formatinstructions])\n",
    "perspectives_parser = get_pydantic_parser(pydantic_object=Perspectives)\n",
    "\n",
    "gen_perspectives_chain = gen_perspectives_prompt.partial(format_instructions=perspectives_parser.get_format_instructions()) | fast_llm | perspectives_parser\n",
    "\n",
    "\n",
    "\n",
    "@as_runnable\n",
    "async def survey_subjects(topic: str)-> Perspectives:\n",
    "    logger.info(f\"Survey Subjects for Topic: {topic}\")\n",
    "    related_subjects = await expand_chain.ainvoke({\"topic\": topic})\n",
    "    retrieved_docs = await wikipedia_retriever.abatch(\n",
    "        related_subjects.topics, return_exceptions=True\n",
    "    )\n",
    "    all_docs = []\n",
    "    for docs in retrieved_docs:\n",
    "        if isinstance(docs, BaseException):\n",
    "            continue\n",
    "        all_docs.extend(docs)\n",
    "    logger.info(f\"Retrieved {len(all_docs)} docs for Topic: {topic}\")\n",
    "    \n",
    "    formatted = format_docs(all_docs)\n",
    "    return await gen_perspectives_chain.ainvoke({\"examples\": formatted, \"topic\": topic})\n"
   ]
  },
  {
   "cell_type": "code",
   "execution_count": 10,
   "id": "1fb5d9c4",
   "metadata": {},
   "outputs": [
    {
     "name": "stderr",
     "output_type": "stream",
     "text": [
      "2024-03-31 09:40:08,137 [MainThread  ] [INFO ]  Survey Subjects for Topic: Impact of THE Red Cross Church IN Zimbabwe early history\n",
      "2024-03-31 09:40:11,762 [MainThread  ] [INFO ]  Retrieved 8 docs for Topic: Impact of THE Red Cross Church IN Zimbabwe early history\n"
     ]
    },
    {
     "data": {
      "text/plain": [
       "{'editors': [{'affiliation': 'International Committee of the Red Cross (ICRC)',\n",
       "   'name': 'Anna Smith',\n",
       "   'role': 'Humanitarian Aid Specialist',\n",
       "   'description': 'Anna will focus on the historical role of the ICRC in Zimbabwe and its impact on early Zimbabwean history, specifically exploring the intersection of humanitarian efforts and the local population.'},\n",
       "  {'affiliation': 'Heads of the Christian Denominations in Zimbabwe',\n",
       "   'name': 'David Moyo',\n",
       "   'role': 'Religious Historian',\n",
       "   'description': 'David will provide insights into the influence of Christian denominations, including the Red Cross Church, on the social and religious landscape of Zimbabwe during its early history.'},\n",
       "  {'affiliation': 'Zimbabwe National Archives',\n",
       "   'name': 'Grace Mbeki',\n",
       "   'role': 'Archivist',\n",
       "   'description': \"Grace will contribute by researching and presenting archival materials related to the Red Cross Church in Zimbabwe, shedding light on its activities and presence in the country's early years.\"},\n",
       "  {'affiliation': 'University of Zimbabwe',\n",
       "   'name': 'Tendai Chikore',\n",
       "   'role': 'Historian',\n",
       "   'description': \"Tendai's focus will be to analyze the broader historical context of the Red Cross Church's operations in Zimbabwe, examining its impact on society, politics, and culture during the early periods.\"}]}"
      ]
     },
     "execution_count": 10,
     "metadata": {},
     "output_type": "execute_result"
    }
   ],
   "source": [
    "perspectives = await survey_subjects.ainvoke(example_topic)\n",
    "perspectives.dict()"
   ]
  },
  {
   "cell_type": "markdown",
   "id": "35abdf40-80dc-434c-8116-d6b9cbde5572",
   "metadata": {},
   "source": [
    "## Expert Dialog\n",
    "\n",
    "Each wikipedia writer is primed to role-play using the perspectives presented above. It will ask a series of questions of a second \"domain expert\" with access to a search engine. This generate content to generate a refined outline as well as an updated index of reference documents.\n",
    "\n",
    "### Interview State\n",
    "\n",
    "The conversation is cyclic, so we will construct it within its own graph. The State will contain messages, the reference docs, and the editor (with its own \"persona\") to make it easy to parallelize these conversations.\n"
   ]
  },
  {
   "cell_type": "markdown",
   "id": "dc0639d2-e8a6-43d4-8e9a-eb5f4051578c",
   "metadata": {},
   "source": [
    "# Dialog Roles\n",
    "\n",
    "The graph will have two participants: the wikipedia editor (generate_question), who asks questions based on its assigned role, and a domain expert (`gen_answer_chain), who uses a search engine to answer the questions as accurately as possible.\n"
   ]
  },
  {
   "cell_type": "code",
   "execution_count": 11,
   "id": "d644c46c-4d23-49e1-9093-39b4f6c8c157",
   "metadata": {},
   "outputs": [],
   "source": [
    "gen_qn_prompt = get_chat_prompt_from_prompt_templates([prompts.gen_question_system_generator, prompts.generate_messages_placeholder()])\n",
    "\n",
    "\n",
    "def swap_roles(state: InterviewState, name: str) -> InterviewState:\n",
    "\n",
    "    # Normalize name\n",
    "    name = cleanup_name(name)\n",
    "\n",
    "    logger.info(f'Swapping roles for {name}')\n",
    "\n",
    "    converted = []\n",
    "    for message in state[\"messages\"]:\n",
    "        if isinstance(message, AIMessage) and message.name != name:\n",
    "            message = HumanMessage(**message.dict(exclude={\"type\"}))\n",
    "        converted.append(message)\n",
    "    \n",
    "    state['messages'] = converted\n",
    "    \n",
    "    logger.info(f'Converted messages for {name} while swapping roles: {len(converted)} messages')\n",
    "    return state\n",
    "\n",
    "\n",
    "@as_runnable\n",
    "async def generate_question(state: InterviewState) -> InterviewState:\n",
    "    editor: Editor = state[\"editor\"]\n",
    "\n",
    "    name = cleanup_name(editor.name)\n",
    "\n",
    "\n",
    "    logger.info(f'Generating question for {name}')\n",
    "\n",
    "    gn_chain = (\n",
    "        RunnableLambda(swap_roles).bind(name=name)\n",
    "        | gen_qn_prompt.partial(persona=editor.persona)\n",
    "        | fast_llm\n",
    "        | RunnableLambda(tag_with_name).bind(name=name)\n",
    "    )\n",
    "    result:AIMessage = await gn_chain.ainvoke(state)\n",
    "    state[\"messages\"] = ([result])\n",
    "\n",
    "    logger.info(f'Generated question for {name}')\n",
    "    return state"
   ]
  },
  {
   "cell_type": "code",
   "execution_count": 12,
   "id": "29ac2384-a123-467f-bbc6-828be9dc04fd",
   "metadata": {},
   "outputs": [
    {
     "name": "stderr",
     "output_type": "stream",
     "text": [
      "2024-03-31 09:40:22,044 [MainThread  ] [INFO ]  Generating question for AnnaSmith\n",
      "2024-03-31 09:40:22,075 [asyncio_7   ] [INFO ]  Swapping roles for AnnaSmith\n",
      "2024-03-31 09:40:22,078 [asyncio_7   ] [INFO ]  Converted messages for AnnaSmith while swapping roles: 1 messages\n",
      "2024-03-31 09:40:23,103 [MainThread  ] [INFO ]  Generated question for AnnaSmith\n"
     ]
    },
    {
     "data": {
      "text/plain": [
       "AIMessage(content=\"I'm actually writing an article on the historical role of the ICRC in Zimbabwe and its impact on early Zimbabwean history. Can you provide me with some insights on how the ICRC's humanitarian efforts in Zimbabwe have influenced the local population and shaped the country's history during its early years?\", response_metadata={'token_usage': {'completion_tokens': 58, 'prompt_tokens': 216, 'total_tokens': 274}, 'model_name': 'gpt-3.5-turbo', 'system_fingerprint': 'fp_3bc1b5746c', 'finish_reason': 'stop', 'logprobs': None}, name='AnnaSmith')"
      ]
     },
     "execution_count": 12,
     "metadata": {},
     "output_type": "execute_result"
    }
   ],
   "source": [
    "intial_messages = [prompts.initial_question]\n",
    "initial_state: InterviewState = {\n",
    "    \"editor\": perspectives.editors[0],\n",
    "    \"messages\": intial_messages,\n",
    "    \"references\": None\n",
    "}\n",
    "\n",
    "question = await generate_question.ainvoke(initial_state)\n",
    "\n",
    "question[\"messages\"][0]"
   ]
  },
  {
   "cell_type": "markdown",
   "id": "c95e50f7-4e2c-4307-853d-2fc8f0b3dd82",
   "metadata": {},
   "source": [
    "### Answer questions\n",
    "\n",
    "The `gen_answer_chain` first generates queries (query expansion) to answer the editor's question, then responds with citations.\n"
   ]
  },
  {
   "cell_type": "code",
   "execution_count": 13,
   "id": "a7fa969e-920f-487e-b124-6495777a1466",
   "metadata": {},
   "outputs": [],
   "source": [
    "\n",
    "\n",
    "\n",
    "\n",
    "gen_queries_prompt = get_chat_prompt_from_prompt_templates([prompts.gen_queries_system_generator, prompts.generate_messages_placeholder()])\n",
    "queries_parser = get_pydantic_parser(Queries)\n",
    "\n",
    "gen_queries_chain = get_chain_with_outputparser(gen_queries_prompt, fast_llm, queries_parser)\n",
    "# gen_queries_prompt.partial(format_instructions=queries_parser.get_format_instructions()) | fast_llm | queries_parser"
   ]
  },
  {
   "cell_type": "code",
   "execution_count": 14,
   "id": "b25baa82-da8e-41ec-b4e0-8a24c7cf737d",
   "metadata": {
    "scrolled": true
   },
   "outputs": [
    {
     "data": {
      "text/plain": [
       "Queries(queries=['ICRC humanitarian efforts in Zimbabwe', 'Impact of ICRC in early Zimbabwean history', 'Historical role of ICRC in Zimbabwe'])"
      ]
     },
     "execution_count": 14,
     "metadata": {},
     "output_type": "execute_result"
    }
   ],
   "source": [
    "\n",
    "queries = await gen_queries_chain.ainvoke(\n",
    "    {\"messages\": [HumanMessage(content=question[\"messages\"][0].content)]}\n",
    ")\n",
    "\n",
    "queries"
   ]
  },
  {
   "cell_type": "code",
   "execution_count": 15,
   "id": "22273c9a-a505-40c3-bd6b-70f74393a61d",
   "metadata": {},
   "outputs": [],
   "source": [
    "gen_answer_prompt = get_chat_prompt_from_prompt_templates([prompts.generate_answer_system_generator, prompts.generate_messages_placeholder()])\n",
    "ac_parser = get_pydantic_parser(pydantic_object=AnswerWithCitations)\n",
    "\n",
    "gen_answer_chain = get_chain_with_outputparser(gen_answer_prompt, fast_llm, ac_parser)\\\n",
    "    .with_config(run_name=\"GenerateAnswer\")\\\n",
    "    # .with_structured_output(AnswerWithCitations, include_raw=True)                                  "
   ]
  },
  {
   "cell_type": "code",
   "execution_count": 16,
   "id": "ca74edcc-a272-4ec1-92fc-756bf0690e4b",
   "metadata": {},
   "outputs": [],
   "source": [
    "\n",
    "async def gen_answer(\n",
    "    state: InterviewState,\n",
    "    config: Optional[RunnableConfig] = None,\n",
    "    name: str = \"SubjectMatterExpert\",\n",
    "    max_str_len: int = 15000,\n",
    "):\n",
    "    name = cleanup_name(name)\n",
    "\n",
    "    logger.info(f'START - Generate answers for [{name}]')\n",
    "\n",
    "    swapped_state = swap_roles(state, name)  # Convert all other AI messages\n",
    "    \n",
    "    # Generate search engine queries\n",
    "    queries:Queries = await gen_queries_chain.ainvoke(swapped_state)\n",
    "\n",
    "    logger.info(f\"Got {len(queries.queries)} search engine queries for [{name}] -\\n\\t {queries.queries}\")\n",
    "\n",
    "    # Run search engine\n",
    "    query_results = await search_engine.abatch(\n",
    "        queries.queries, config, return_exceptions=True\n",
    "    )\n",
    "    successful_results = [\n",
    "        res for res in query_results if not isinstance(res, Exception)\n",
    "    ]\n",
    "\n",
    "    all_query_results = {\n",
    "        res[\"url\"]: res[\"content\"] for results in successful_results for res in results\n",
    "    }\n",
    "    \n",
    "    logger.info(f\"Got {len(successful_results)} search engine results for [{name}] - \\n\\t {all_query_results}\")\n",
    "\n",
    "    # We could be more precise about handling max token length if we wanted to here\n",
    "    dumped_successful_results = json.dumps(all_query_results)[:max_str_len]\n",
    "    \n",
    "    logger.info(f\"Dumped {len(dumped_successful_results)} characters for [{name}] - \\n\\t {dumped_successful_results}\")\n",
    "    \n",
    "    # Append Questions from Wikipedia and Answers from the search engine\n",
    "    ai_message_for_queries: AIMessage = get_ai_message(json.dumps(queries.as_dict()))\n",
    "    \n",
    "    tool_results_message = generate_human_message(dumped_successful_results)\n",
    "    \n",
    "    logger.debug(f\"Got {ai_message_for_queries} for [{name}]\")\n",
    "    \n",
    "    # tool_call = queries[\"raw\"].additional_kwargs[\"tool_calls\"][0]\n",
    "    # tool_id = tool_call[\"id\"]\n",
    "\n",
    "    # tool_message = ToolMessage(tool_call_id=tool_id, content=dumped)\n",
    "    \n",
    "\n",
    "    swapped_state[\"messages\"].extend([ai_message_for_queries, tool_results_message])\n",
    "    \n",
    "    # Only update the shared state with the final answer to avoid\n",
    "    # polluting the dialogue history with intermediate messages\n",
    "    try:\n",
    "        generated: AnswerWithCitations = await gen_answer_chain.ainvoke(swapped_state)\n",
    "        \n",
    "        logger.info(f\"Genreted final answer {generated} for [{name}] - \\n\\t {generated.as_str}\")\n",
    "\n",
    "    except Exception as e:\n",
    "        logger.error(f\"Error generating answer for [{name}] - {e}\")\n",
    "        generated = AnswerWithCitations(answer=\"\", cited_urls=[])\n",
    "    \n",
    "    cited_urls = set(generated.cited_urls)\n",
    "    \n",
    "    # Save the retrieved information to a the shared state for future reference\n",
    "    cited_references = {k: v for k, v in all_query_results.items() if k in cited_urls}\n",
    "    \n",
    "    formatted_message = AIMessage(name=name, content=generated.as_str)\n",
    "    # Add message to shared state\n",
    "    # state[\"messages\"].append(formatted_message)\n",
    "    state[\"messages\"] = add_messages(state[\"messages\"], [formatted_message])\n",
    "    \n",
    "    # Update references with cited references\n",
    "    state[\"references\"] = update_references(state[\"references\"], cited_references)\n",
    "\n",
    "    logger.info(f'END - generate answer for [{name}]')\n",
    "    \n",
    "    return state\n",
    "    "
   ]
  },
  {
   "cell_type": "code",
   "execution_count": 17,
   "id": "934aafd6-7f0d-4a1b-8a52-45b89d8b3742",
   "metadata": {},
   "outputs": [
    {
     "name": "stderr",
     "output_type": "stream",
     "text": [
      "2024-03-31 09:40:23,973 [MainThread  ] [INFO ]  START - Generate answers for [SubjectMatterExpert]\n",
      "2024-03-31 09:40:23,974 [MainThread  ] [INFO ]  Swapping roles for SubjectMatterExpert\n",
      "2024-03-31 09:40:23,975 [MainThread  ] [INFO ]  Converted messages for SubjectMatterExpert while swapping roles: 2 messages\n",
      "2024-03-31 09:40:25,254 [MainThread  ] [INFO ]  Got 3 search engine queries for [SubjectMatterExpert] -\n",
      "\t ['ICRC humanitarian efforts in Zimbabwe', 'Impact of ICRC on local population in Zimbabwe', \"ICRC's role in shaping early Zimbabwean history\"]\n"
     ]
    },
    {
     "name": "stdout",
     "output_type": "stream",
     "text": [
      "Searching DuckDuckGo for [ICRC humanitarian efforts in Zimbabwe]\n",
      "Got search engine results: 5 for [ICRC humanitarian efforts in Zimbabwe]\n",
      "Searching DuckDuckGo for [Impact of ICRC on local population in Zimbabwe]\n",
      "Got search engine results: 5 for [Impact of ICRC on local population in Zimbabwe]\n",
      "Searching DuckDuckGo for [ICRC's role in shaping early Zimbabwean history]\n"
     ]
    },
    {
     "name": "stderr",
     "output_type": "stream",
     "text": [
      "2024-03-31 09:40:28,279 [MainThread  ] [INFO ]  Got 3 search engine results for [SubjectMatterExpert] - \n",
      "\t {'https://www.ifrc.org/taxonomy/term/402': 'More information: For more details, visit the Africa Hunger Crisis appeal page. For audio-visual material, visit the IFRC newsroom. To request an interview, contact: media@ifrc.org In Nairobi: Anne Macharia: +254 720 787 764 In Geneva: Tommaso Della Longa: +41 79 708 43 67 Mrinalini Santhanam: +41 76 381 50 06.', 'https://blogs.icrc.org/inspired/2023/07/27/simple-solutions-big-impact-zimbabwe-malawi/': 'The ICRC installed four open-access phone booths, enabling detained migrants to make free, unsupervised calls to their families between 8am and 3pm. Previously, they could only make phone calls to relatives and loved ones four times a year during ICRC visits. As a result of the programme, the number of calls made by migrants increased ten-fold ...', 'https://reliefweb.int/report/zimbabwe/ifrc-intensifies-response-escalating-cholera-outbreak-zimbabwe-emergency-appeal-launched': 'For further details on our response to the Cholera outbreak in Zimbabwe, visit the Zimbabwe Red Cross Society website or the IFRC appeal page. **To request an interview, please contact: media@ifrc ...', 'https://blogs.icrc.org/law-and-policy/2023/06/08/social-protection-principled-humanitarian-approach/': 'Social protection represents a natural avenue to collaborate with development actors, which would ensure that the impact of humanitarian work is sustainable. Collaboration around social protection may help the affected population rebuild their lives with agency, and make sure that vulnerable people are not ignored or excluded.', 'https://www.openglobalrights.org/human-rights-humanitarianism-changing-ICRC/': 'The International Committee of the Red Cross (ICRC) was founded in 1863 and is usually considered a humanitarian organization. It has historically been associated with three aims: promoting the laws of war or international humanitarian law (IHL), developing the International Red Cross and Red Crescent Movement, and directly helping those \"out of the fight\" but endangered by wars and ...', 'https://en.wikipedia.org/wiki/International_Red_Cross_and_Red_Crescent_Movement': 'International Red Crossand Red Crescent Movement. The organized International Red Cross and Red Crescent Movement is a humanitarian movement with approximately 16 million volunteers, members, and staff worldwide. It was founded to protect human life and health, to ensure respect for all human beings, and to prevent and alleviate human suffering.', 'https://www.researchgate.net/publication/373295146_The_Intersection_Between_Local_Economic_Development_and_Devolution_Some_Insights_for_Urban_Resilience_Building_in_Zimbabwe': 'Zimbabwe International Trade Fair event attracted more than 500 local Bulawayo exhibitors to showcase to in ternational stakeh olders from more than 14 countries.', 'https://reliefweb.int/report/world/evaluation-icrcs-crisis-management-and-response-covid-19-pandemic-executive-summary-and-management-response-recommendations-november-2023': \"The relevance and value of ICRC's support and 'last mile' efforts in reaching populations that experienced a disproportionate impact of COVID-19 ensured a response that other public health ...\", \"https://www.researchgate.net/publication/378863454_A_Comprehensive_Review_of_ICRC's_Role_in_Promoting_the_Applicability_of_International_Humanitarian_Law\": \"This article provides an in-depth examination of the International Committee of the Red Cross's (ICRC) multifaceted role in promoting the applicability of International Humanitarian Law (IHL).\", 'https://en.wikipedia.org/wiki/International_Committee_of_the_Red_Cross': 'The International Committee of the Red Cross (ICRC; French: Comité International de la Croix-Rouge) is a humanitarian organization based in Geneva, Switzerland, and is a three-time Nobel Prize Laureate. The organization has played an instrumental role in the development of rules of war and promoting humanitarian norms.. State parties (signatories) to the Geneva Convention of 1949 and its ...', 'https://zimdevelopmentmag.com/2024/02/23/evolution-of-zimbabwes-construction-industry/': \"In the late 1990s and early 2000s, Zimbabwe implemented policies aimed at indigenizing the economy, including the construction sector. ... As Zimbabwe continues on its path of progress, the construction industry will play a vital role in shaping the nation's future, building the infrastructure needed to support economic growth and improve the ...\", 'https://www.thezimbabwean.co/2023/09/zimbabwe-economic-outlook-assessing-past-struggles-and-future-prospects/': \"One of the most notorious periods in Zimbabwe's economic history occurred during the early 2000s when hyperinflation spiraled out of control. By November 2008, the inflation rate had reached a staggering 79.6 billion percent, leading to the country abandoning its currency and adopting multiple foreign currencies, primarily the US dollar, in 2009.\"}\n",
      "2024-03-31 09:40:28,280 [MainThread  ] [INFO ]  Dumped 4933 characters for [SubjectMatterExpert] - \n",
      "\t {\"https://www.ifrc.org/taxonomy/term/402\": \"More information: For more details, visit the Africa Hunger Crisis appeal page. For audio-visual material, visit the IFRC newsroom. To request an interview, contact: media@ifrc.org In Nairobi: Anne Macharia: +254 720 787 764 In Geneva: Tommaso Della Longa: +41 79 708 43 67 Mrinalini Santhanam: +41 76 381 50 06.\", \"https://blogs.icrc.org/inspired/2023/07/27/simple-solutions-big-impact-zimbabwe-malawi/\": \"The ICRC installed four open-access phone booths, enabling detained migrants to make free, unsupervised calls to their families between 8am and 3pm. Previously, they could only make phone calls to relatives and loved ones four times a year during ICRC visits. As a result of the programme, the number of calls made by migrants increased ten-fold ...\", \"https://reliefweb.int/report/zimbabwe/ifrc-intensifies-response-escalating-cholera-outbreak-zimbabwe-emergency-appeal-launched\": \"For further details on our response to the Cholera outbreak in Zimbabwe, visit the Zimbabwe Red Cross Society website or the IFRC appeal page. **To request an interview, please contact: media@ifrc ...\", \"https://blogs.icrc.org/law-and-policy/2023/06/08/social-protection-principled-humanitarian-approach/\": \"Social protection represents a natural avenue to collaborate with development actors, which would ensure that the impact of humanitarian work is sustainable. Collaboration around social protection may help the affected population rebuild their lives with agency, and make sure that vulnerable people are not ignored or excluded.\", \"https://www.openglobalrights.org/human-rights-humanitarianism-changing-ICRC/\": \"The International Committee of the Red Cross (ICRC) was founded in 1863 and is usually considered a humanitarian organization. It has historically been associated with three aims: promoting the laws of war or international humanitarian law (IHL), developing the International Red Cross and Red Crescent Movement, and directly helping those \\\"out of the fight\\\" but endangered by wars and ...\", \"https://en.wikipedia.org/wiki/International_Red_Cross_and_Red_Crescent_Movement\": \"International Red Crossand Red Crescent Movement. The organized International Red Cross and Red Crescent Movement is a humanitarian movement with approximately 16 million volunteers, members, and staff worldwide. It was founded to protect human life and health, to ensure respect for all human beings, and to prevent and alleviate human suffering.\", \"https://www.researchgate.net/publication/373295146_The_Intersection_Between_Local_Economic_Development_and_Devolution_Some_Insights_for_Urban_Resilience_Building_in_Zimbabwe\": \"Zimbabwe International Trade Fair event attracted more than 500 local Bulawayo exhibitors to showcase to in ternational stakeh olders from more than 14 countries.\", \"https://reliefweb.int/report/world/evaluation-icrcs-crisis-management-and-response-covid-19-pandemic-executive-summary-and-management-response-recommendations-november-2023\": \"The relevance and value of ICRC's support and 'last mile' efforts in reaching populations that experienced a disproportionate impact of COVID-19 ensured a response that other public health ...\", \"https://www.researchgate.net/publication/378863454_A_Comprehensive_Review_of_ICRC's_Role_in_Promoting_the_Applicability_of_International_Humanitarian_Law\": \"This article provides an in-depth examination of the International Committee of the Red Cross's (ICRC) multifaceted role in promoting the applicability of International Humanitarian Law (IHL).\", \"https://en.wikipedia.org/wiki/International_Committee_of_the_Red_Cross\": \"The International Committee of the Red Cross (ICRC; French: Comit\\u00e9 International de la Croix-Rouge) is a humanitarian organization based in Geneva, Switzerland, and is a three-time Nobel Prize Laureate. The organization has played an instrumental role in the development of rules of war and promoting humanitarian norms.. State parties (signatories) to the Geneva Convention of 1949 and its ...\", \"https://zimdevelopmentmag.com/2024/02/23/evolution-of-zimbabwes-construction-industry/\": \"In the late 1990s and early 2000s, Zimbabwe implemented policies aimed at indigenizing the economy, including the construction sector. ... As Zimbabwe continues on its path of progress, the construction industry will play a vital role in shaping the nation's future, building the infrastructure needed to support economic growth and improve the ...\", \"https://www.thezimbabwean.co/2023/09/zimbabwe-economic-outlook-assessing-past-struggles-and-future-prospects/\": \"One of the most notorious periods in Zimbabwe's economic history occurred during the early 2000s when hyperinflation spiraled out of control. By November 2008, the inflation rate had reached a staggering 79.6 billion percent, leading to the country abandoning its currency and adopting multiple foreign currencies, primarily the US dollar, in 2009.\"}\n"
     ]
    },
    {
     "name": "stdout",
     "output_type": "stream",
     "text": [
      "Got search engine results: 5 for [ICRC's role in shaping early Zimbabwean history]\n"
     ]
    },
    {
     "name": "stderr",
     "output_type": "stream",
     "text": [
      "2024-03-31 09:40:35,141 [MainThread  ] [INFO ]  Genreted final answer answer=\"The International Committee of the Red Cross (ICRC) has had a significant impact on Zimbabwe through various humanitarian efforts, particularly in times of crisis. For instance, during a cholera outbreak in Zimbabwe, the ICRC intensified its response by launching emergency appeals and working closely with local partners like the Zimbabwe Red Cross Society. Additionally, the ICRC implemented innovative programs, such as installing open-access phone booths for detained migrants in Zimbabwe, allowing them to make free calls to their families, which greatly increased communication opportunities. Furthermore, the ICRC's focus on social protection and collaboration with development actors has helped vulnerable populations in Zimbabwe rebuild their lives with agency and ensure sustainable impact. Overall, the ICRC's long-standing commitment to promoting humanitarian norms and providing assistance to those affected by conflicts and crises has played a crucial role in shaping early Zimbabwean history and supporting the well-being of the local population.\" cited_urls=['https://reliefweb.int/report/zimbabwe/ifrc-intensifies-response-escalating-cholera-outbreak-zimbabwe-emergency-appeal-launched', 'https://blogs.icrc.org/inspired/2023/07/27/simple-solutions-big-impact-zimbabwe-malawi/', 'https://blogs.icrc.org/law-and-policy/2023/06/08/social-protection-principled-humanitarian-approach/', 'https://www.openglobalrights.org/human-rights-humanitarianism-changing-ICRC/'] for [SubjectMatterExpert] - \n",
      "\t The International Committee of the Red Cross (ICRC) has had a significant impact on Zimbabwe through various humanitarian efforts, particularly in times of crisis. For instance, during a cholera outbreak in Zimbabwe, the ICRC intensified its response by launching emergency appeals and working closely with local partners like the Zimbabwe Red Cross Society. Additionally, the ICRC implemented innovative programs, such as installing open-access phone booths for detained migrants in Zimbabwe, allowing them to make free calls to their families, which greatly increased communication opportunities. Furthermore, the ICRC's focus on social protection and collaboration with development actors has helped vulnerable populations in Zimbabwe rebuild their lives with agency and ensure sustainable impact. Overall, the ICRC's long-standing commitment to promoting humanitarian norms and providing assistance to those affected by conflicts and crises has played a crucial role in shaping early Zimbabwean history and supporting the well-being of the local population.\n",
      "\n",
      "Citations:\n",
      "\n",
      "[1]: https://reliefweb.int/report/zimbabwe/ifrc-intensifies-response-escalating-cholera-outbreak-zimbabwe-emergency-appeal-launched\n",
      "[2]: https://blogs.icrc.org/inspired/2023/07/27/simple-solutions-big-impact-zimbabwe-malawi/\n",
      "[3]: https://blogs.icrc.org/law-and-policy/2023/06/08/social-protection-principled-humanitarian-approach/\n",
      "[4]: https://www.openglobalrights.org/human-rights-humanitarianism-changing-ICRC/\n",
      "2024-03-31 09:40:35,142 [MainThread  ] [INFO ]  END - generate answer for [SubjectMatterExpert]\n"
     ]
    },
    {
     "data": {
      "text/plain": [
       "\"The International Committee of the Red Cross (ICRC) has had a significant impact on Zimbabwe through various humanitarian efforts, particularly in times of crisis. For instance, during a cholera outbreak in Zimbabwe, the ICRC intensified its response by launching emergency appeals and working closely with local partners like the Zimbabwe Red Cross Society. Additionally, the ICRC implemented innovative programs, such as installing open-access phone booths for detained migrants in Zimbabwe, allowing them to make free calls to their families, which greatly increased communication opportunities. Furthermore, the ICRC's focus on social protection and collaboration with development actors has helped vulnerable populations in Zimbabwe rebuild their lives with agency and ensure sustainable impact. Overall, the ICRC's long-standing commitment to promoting humanitarian norms and providing assistance to those affected by conflicts and crises has played a crucial role in shaping early Zimbabwean history and supporting the well-being of the local population.\\n\\nCitations:\\n\\n[1]: https://reliefweb.int/report/zimbabwe/ifrc-intensifies-response-escalating-cholera-outbreak-zimbabwe-emergency-appeal-launched\\n[2]: https://blogs.icrc.org/inspired/2023/07/27/simple-solutions-big-impact-zimbabwe-malawi/\\n[3]: https://blogs.icrc.org/law-and-policy/2023/06/08/social-protection-principled-humanitarian-approach/\\n[4]: https://www.openglobalrights.org/human-rights-humanitarianism-changing-ICRC/\""
      ]
     },
     "execution_count": 17,
     "metadata": {},
     "output_type": "execute_result"
    }
   ],
   "source": [
    "intial_messages = [prompts.initial_question, generate_human_message(question[\"messages\"][0].content)]\n",
    "\n",
    "initial_state: InterviewState = {\n",
    "    \"editor\": perspectives.editors[0],\n",
    "    \"messages\": intial_messages,\n",
    "    \"references\": {}\n",
    "}\n",
    "\n",
    "example_answer = await gen_answer(initial_state)\n",
    "example_answer[\"messages\"][-1].content"
   ]
  },
  {
   "cell_type": "code",
   "execution_count": 18,
   "id": "d779cb51",
   "metadata": {},
   "outputs": [
    {
     "data": {
      "text/plain": [
       "[HumanMessage(content='So you said you were writing an article on {example_topic}?'),\n",
       " HumanMessage(content=\"I'm actually writing an article on the historical role of the ICRC in Zimbabwe and its impact on early Zimbabwean history. Can you provide me with some insights on how the ICRC's humanitarian efforts in Zimbabwe have influenced the local population and shaped the country's history during its early years?\"),\n",
       " AIMessage(content='{\"queries\": [\"ICRC humanitarian efforts in Zimbabwe\", \"Impact of ICRC on local population in Zimbabwe\", \"ICRC\\'s role in shaping early Zimbabwean history\"]}', name='AI'),\n",
       " HumanMessage(content='{\"https://www.ifrc.org/taxonomy/term/402\": \"More information: For more details, visit the Africa Hunger Crisis appeal page. For audio-visual material, visit the IFRC newsroom. To request an interview, contact: media@ifrc.org In Nairobi: Anne Macharia: +254 720 787 764 In Geneva: Tommaso Della Longa: +41 79 708 43 67 Mrinalini Santhanam: +41 76 381 50 06.\", \"https://blogs.icrc.org/inspired/2023/07/27/simple-solutions-big-impact-zimbabwe-malawi/\": \"The ICRC installed four open-access phone booths, enabling detained migrants to make free, unsupervised calls to their families between 8am and 3pm. Previously, they could only make phone calls to relatives and loved ones four times a year during ICRC visits. As a result of the programme, the number of calls made by migrants increased ten-fold ...\", \"https://reliefweb.int/report/zimbabwe/ifrc-intensifies-response-escalating-cholera-outbreak-zimbabwe-emergency-appeal-launched\": \"For further details on our response to the Cholera outbreak in Zimbabwe, visit the Zimbabwe Red Cross Society website or the IFRC appeal page. **To request an interview, please contact: media@ifrc ...\", \"https://blogs.icrc.org/law-and-policy/2023/06/08/social-protection-principled-humanitarian-approach/\": \"Social protection represents a natural avenue to collaborate with development actors, which would ensure that the impact of humanitarian work is sustainable. Collaboration around social protection may help the affected population rebuild their lives with agency, and make sure that vulnerable people are not ignored or excluded.\", \"https://www.openglobalrights.org/human-rights-humanitarianism-changing-ICRC/\": \"The International Committee of the Red Cross (ICRC) was founded in 1863 and is usually considered a humanitarian organization. It has historically been associated with three aims: promoting the laws of war or international humanitarian law (IHL), developing the International Red Cross and Red Crescent Movement, and directly helping those \\\\\"out of the fight\\\\\" but endangered by wars and ...\", \"https://en.wikipedia.org/wiki/International_Red_Cross_and_Red_Crescent_Movement\": \"International Red Crossand Red Crescent Movement. The organized International Red Cross and Red Crescent Movement is a humanitarian movement with approximately 16 million volunteers, members, and staff worldwide. It was founded to protect human life and health, to ensure respect for all human beings, and to prevent and alleviate human suffering.\", \"https://www.researchgate.net/publication/373295146_The_Intersection_Between_Local_Economic_Development_and_Devolution_Some_Insights_for_Urban_Resilience_Building_in_Zimbabwe\": \"Zimbabwe International Trade Fair event attracted more than 500 local Bulawayo exhibitors to showcase to in ternational stakeh olders from more than 14 countries.\", \"https://reliefweb.int/report/world/evaluation-icrcs-crisis-management-and-response-covid-19-pandemic-executive-summary-and-management-response-recommendations-november-2023\": \"The relevance and value of ICRC\\'s support and \\'last mile\\' efforts in reaching populations that experienced a disproportionate impact of COVID-19 ensured a response that other public health ...\", \"https://www.researchgate.net/publication/378863454_A_Comprehensive_Review_of_ICRC\\'s_Role_in_Promoting_the_Applicability_of_International_Humanitarian_Law\": \"This article provides an in-depth examination of the International Committee of the Red Cross\\'s (ICRC) multifaceted role in promoting the applicability of International Humanitarian Law (IHL).\", \"https://en.wikipedia.org/wiki/International_Committee_of_the_Red_Cross\": \"The International Committee of the Red Cross (ICRC; French: Comit\\\\u00e9 International de la Croix-Rouge) is a humanitarian organization based in Geneva, Switzerland, and is a three-time Nobel Prize Laureate. The organization has played an instrumental role in the development of rules of war and promoting humanitarian norms.. State parties (signatories) to the Geneva Convention of 1949 and its ...\", \"https://zimdevelopmentmag.com/2024/02/23/evolution-of-zimbabwes-construction-industry/\": \"In the late 1990s and early 2000s, Zimbabwe implemented policies aimed at indigenizing the economy, including the construction sector. ... As Zimbabwe continues on its path of progress, the construction industry will play a vital role in shaping the nation\\'s future, building the infrastructure needed to support economic growth and improve the ...\", \"https://www.thezimbabwean.co/2023/09/zimbabwe-economic-outlook-assessing-past-struggles-and-future-prospects/\": \"One of the most notorious periods in Zimbabwe\\'s economic history occurred during the early 2000s when hyperinflation spiraled out of control. By November 2008, the inflation rate had reached a staggering 79.6 billion percent, leading to the country abandoning its currency and adopting multiple foreign currencies, primarily the US dollar, in 2009.\"}'),\n",
       " AIMessage(content=\"The International Committee of the Red Cross (ICRC) has had a significant impact on Zimbabwe through various humanitarian efforts, particularly in times of crisis. For instance, during a cholera outbreak in Zimbabwe, the ICRC intensified its response by launching emergency appeals and working closely with local partners like the Zimbabwe Red Cross Society. Additionally, the ICRC implemented innovative programs, such as installing open-access phone booths for detained migrants in Zimbabwe, allowing them to make free calls to their families, which greatly increased communication opportunities. Furthermore, the ICRC's focus on social protection and collaboration with development actors has helped vulnerable populations in Zimbabwe rebuild their lives with agency and ensure sustainable impact. Overall, the ICRC's long-standing commitment to promoting humanitarian norms and providing assistance to those affected by conflicts and crises has played a crucial role in shaping early Zimbabwean history and supporting the well-being of the local population.\\n\\nCitations:\\n\\n[1]: https://reliefweb.int/report/zimbabwe/ifrc-intensifies-response-escalating-cholera-outbreak-zimbabwe-emergency-appeal-launched\\n[2]: https://blogs.icrc.org/inspired/2023/07/27/simple-solutions-big-impact-zimbabwe-malawi/\\n[3]: https://blogs.icrc.org/law-and-policy/2023/06/08/social-protection-principled-humanitarian-approach/\\n[4]: https://www.openglobalrights.org/human-rights-humanitarianism-changing-ICRC/\", name='SubjectMatterExpert')]"
      ]
     },
     "execution_count": 18,
     "metadata": {},
     "output_type": "execute_result"
    }
   ],
   "source": [
    "example_answer[\"messages\"]"
   ]
  },
  {
   "cell_type": "markdown",
   "id": "998671bf-958d-44c0-8421-523a71bea01a",
   "metadata": {},
   "source": [
    "# Construct the Interview Graph\n",
    "\n",
    "Now that we've defined the editor and domain expert, we can compose them in a graph.\n"
   ]
  },
  {
   "cell_type": "code",
   "execution_count": 19,
   "id": "c80347f8",
   "metadata": {},
   "outputs": [],
   "source": [
    "def route_messages(state: InterviewState, name: str = \"SubjectMatterExpert\"):\n",
    "\n",
    "    name = cleanup_name(name)\n",
    "\n",
    "    logger.info(f'Routing messages for [{name}]')\n",
    "\n",
    "    messages = state[\"messages\"]\n",
    "    num_responses = len(\n",
    "        [m for m in messages if isinstance(m, AIMessage) and m.name == name]\n",
    "    )\n",
    "\n",
    "    if num_responses >= MAX_INTERVIEW_QUESTIONS:\n",
    "        return END\n",
    "    \n",
    "    last_question = messages[-2]\n",
    "    if last_question.content.endswith(\"Thank you so much for your help!\"):\n",
    "        return END\n",
    "    \n",
    "    logger.info(f'Continue asking question for [{name}] as this is not the last end of the conversation')\n",
    "    return \"ask_question\""
   ]
  },
  {
   "cell_type": "code",
   "execution_count": 20,
   "id": "4800f958-00e0-4913-a246-c34dc3f0a00c",
   "metadata": {},
   "outputs": [],
   "source": [
    "builder = StateGraph(InterviewState)\n",
    "\n",
    "builder.add_node(\"ask_question\", generate_question)\n",
    "builder.add_node(\"answer_question\", gen_answer)\n",
    "builder.add_conditional_edges(\"answer_question\", route_messages)\n",
    "builder.add_edge(\"ask_question\", \"answer_question\")\n",
    "\n",
    "builder.set_entry_point(\"ask_question\")\n",
    "interview_graph = builder.compile().with_config(run_name=\"Conduct Interviews\")"
   ]
  },
  {
   "cell_type": "code",
   "execution_count": 21,
   "id": "63c405fc-5b1c-44f5-b860-a10fe0d6616d",
   "metadata": {},
   "outputs": [],
   "source": [
    "from IPython.display import Image\n",
    "\n",
    "# comment out if you have not installed pygraphviz\n",
    "# Image(interview_graph.get_graph().draw_png())"
   ]
  },
  {
   "cell_type": "code",
   "execution_count": 22,
   "id": "96d47607-6c0b-493a-aebc-48356d0e0302",
   "metadata": {},
   "outputs": [
    {
     "name": "stderr",
     "output_type": "stream",
     "text": [
      "2024-03-31 09:40:35,201 [MainThread  ] [INFO ]  Generating question for AnnaSmith\n",
      "2024-03-31 09:40:35,211 [asyncio_5   ] [INFO ]  Swapping roles for AnnaSmith\n",
      "2024-03-31 09:40:35,211 [asyncio_5   ] [INFO ]  Converted messages for AnnaSmith while swapping roles: 1 messages\n"
     ]
    },
    {
     "name": "stderr",
     "output_type": "stream",
     "text": [
      "2024-03-31 09:40:36,470 [MainThread  ] [INFO ]  Generated question for AnnaSmith\n",
      "2024-03-31 09:40:36,478 [MainThread  ] [INFO ]  Processing step: ask_question\n",
      "2024-03-31 09:40:36,496 [MainThread  ] [INFO ]  START - Generate answers for [SubjectMatterExpert]\n",
      "2024-03-31 09:40:36,496 [MainThread  ] [INFO ]  Swapping roles for SubjectMatterExpert\n",
      "2024-03-31 09:40:36,496 [MainThread  ] [INFO ]  Converted messages for SubjectMatterExpert while swapping roles: 2 messages\n",
      "2024-03-31 09:40:37,290 [MainThread  ] [INFO ]  Got 3 search engine queries for [SubjectMatterExpert] -\n",
      "\t ['Historical role of the International Committee of the Red Cross (ICRC) in Zimbabwe', \"Impact of ICRC's humanitarian efforts on early Zimbabwean history\", \"Intersection of ICRC's humanitarian efforts with local population in Zimbabwe\"]\n"
     ]
    },
    {
     "name": "stdout",
     "output_type": "stream",
     "text": [
      "Searching DuckDuckGo for [Historical role of the International Committee of the Red Cross (ICRC) in Zimbabwe]\n",
      "Got search engine results: 5 for [Historical role of the International Committee of the Red Cross (ICRC) in Zimbabwe]\n",
      "Searching DuckDuckGo for [Impact of ICRC's humanitarian efforts on early Zimbabwean history]\n",
      "Got search engine results: 5 for [Impact of ICRC's humanitarian efforts on early Zimbabwean history]\n",
      "Searching DuckDuckGo for [Intersection of ICRC's humanitarian efforts with local population in Zimbabwe]\n"
     ]
    },
    {
     "name": "stderr",
     "output_type": "stream",
     "text": [
      "2024-03-31 09:40:40,337 [MainThread  ] [INFO ]  Got 3 search engine results for [SubjectMatterExpert] - \n",
      "\t {'https://www.britannica.com/topic/International-Committee-of-the-Red-Cross': 'International Committee of the Red Cross , international nongovernmental organization headquartered in Geneva, Switzerland, that seeks to aid victims of war and to ensure the observance of humanitarian law by all parties in conflict. The work of the ICRC in both World Wars was recognized by the Nobel Prize for Peace in both 1917 and 1944. It shared another Nobel Peace Prize with the League of ...', 'https://en.wikipedia.org/wiki/International_Committee_of_the_Red_Cross': 'The International Committee of the Red Cross (ICRC; French: Comité International de la Croix-Rouge) is a humanitarian organization based in Geneva, Switzerland, and is a three-time Nobel Prize Laureate. The organization has played an instrumental role in the development of rules of war and promoting humanitarian norms.. State parties (signatories) to the Geneva Convention of 1949 and its ...', 'https://law4palestine.org/the-role-of-the-international-committee-of-the-red-cross-icrc-in-gaza-failure-navigating-neutrality-or-facilitating-inaction/': 'The International Committee of the Red Cross (ICRC) is, as enunciated in its mission statement, an \"impartial, neutral and independent organisation whose exclusively humanitarian mission is to protect the lives and dignity of victims of armed conflict and other situations of violence and to provide them with assistance\".', 'https://www.cnn.com/2023/12/09/middleeast/red-cross-icrc-humanitarian-history-intl-hnk/index.html': 'A long and storied history Being in the line of fire is something Red Cross volunteers have faced for the last 160 years. Founded in Geneva in 1863, the ICRC is the oldest and one of the most ...', 'https://www.britannica.com/topic/Red-Cross-and-Red-Crescent': 'Red Cross and Red Crescent, humanitarian agency with national affiliates in almost every country in the world. The Red Cross movement began with the founding of the International Committee for the Relief of the Wounded (now the International Committee of the Red Cross) in 1863.It was established to care for victims of battle in time of war, but later national Red Cross societies were created ...', 'https://blogs.icrc.org/cross-files/the-icrc-photographic-archives-an-action-oriented-collection/': 'The photographic archives of the International Committee of the Red Cross (ICRC) contain some 140,000 images in various formats documenting 160 years of humanitarian action carried out by the ICRC and, more broadly, the International Red Cross and Red Crescent Movement. As an organization that works in situations of armed conflict and other violence, the...', 'https://www.openglobalrights.org/human-rights-humanitarianism-changing-ICRC/': 'David Forsythe is a professor emeritus in political science at the University of Nebraska-Lincoln. He published one of the first overviews of human rights in an international political context (Human Rights and World Politics, 1983) and wrote the first independent book on the ICRC (Humanitarian Politics, 1977).His most recent text is The Contemporary International Committee of the Red Cross ...', 'https://www.unicef.org/documents/zimbabwe-humanitarian-situation-report-mid-year-2023': \"English (PDF, 906 KB) Humanitarian action and emergencies. ShareThis Copy and Paste. Situation reports are the main reporting tool to monitor UNICEF's humanitarian response. They provide an update on the situation and needs of children in a country or region, as well as information on UNICEF's response and funding requirements.\", 'https://reliefweb.int/report/world/evaluation-icrcs-crisis-management-and-response-covid-19-pandemic-executive-summary-and-management-response-recommendations-november-2023': \"The relevance and value of ICRC's support and 'last mile' efforts in reaching populations that experienced a disproportionate impact of COVID-19 ensured a response that other public health ...\", 'https://www.icrc.org/en/document/frequently-asked-questions-icrcs-work-israel-and-occupied-territories': 'This page is an effort to make information easily accessible to all those who feel like the ICRC can help them in some way. This page also addresses frequently asked questions about our work and international humanitarian law (IHL) following the intensification of armed violence in Israel and the occupied Palestinian territory on 7 October 2023.', 'https://www.icrc.org/en/document/israel-and-occupied-territories-key-facts-and-figures-october-january-2024': \"Continued working closely with local communities and service providers to involve them in the ICRC's needs assessments and its programme design, delivery and evaluation. The work of the ICRC The ICRC helps those affected by armed conflict and promotes compliance with international humanitarian law.\", 'https://reliefweb.int/report/occupied-palestinian-territory/israel-and-occupied-territories-icrc-reaffirms-commitment-local-communities-despite-financial-situation-enar': \"Jerusalem - Humanitarian aid budgets are expected to decrease in the next two years, and the International Committee of the Red Cross (ICRC) is facing a financial shortfall in 2023. The ICRC's ...\", 'https://www.icrc.org/en/document/israel-and-occupied-territories-icrc-response-humanitarian-needs-generated-recent-outbreak': 'One month on, civilians pay the heavy price of intense violenceRenewed hostilities in Israel and Gaza -unprecedented in scale and intensity- reached the one-month mark and the human toll of the conflict is both staggering and heartbreaking. Thousands of people were killed and tens of thousands injured, many of them young children. In Israel, families of over 240 hostages have no news from ...', 'https://reliefweb.int/report/occupied-palestinian-territory/frequently-asked-questions-icrcs-work-israel-and-occupied-territories-enarhe': 'News and Press Release in Arabic on occupied Palestinian territory and 1 other country about Protection and Human Rights; published on 13 Oct 2023 by ICRC'}\n",
      "2024-03-31 09:40:40,338 [MainThread  ] [INFO ]  Dumped 6010 characters for [SubjectMatterExpert] - \n",
      "\t {\"https://www.britannica.com/topic/International-Committee-of-the-Red-Cross\": \"International Committee of the Red Cross , international nongovernmental organization headquartered in Geneva, Switzerland, that seeks to aid victims of war and to ensure the observance of humanitarian law by all parties in conflict. The work of the ICRC in both World Wars was recognized by the Nobel Prize for Peace in both 1917 and 1944. It shared another Nobel Peace Prize with the League of ...\", \"https://en.wikipedia.org/wiki/International_Committee_of_the_Red_Cross\": \"The International Committee of the Red Cross (ICRC; French: Comit\\u00e9 International de la Croix-Rouge) is a humanitarian organization based in Geneva, Switzerland, and is a three-time Nobel Prize Laureate. The organization has played an instrumental role in the development of rules of war and promoting humanitarian norms.. State parties (signatories) to the Geneva Convention of 1949 and its ...\", \"https://law4palestine.org/the-role-of-the-international-committee-of-the-red-cross-icrc-in-gaza-failure-navigating-neutrality-or-facilitating-inaction/\": \"The International Committee of the Red Cross (ICRC) is, as enunciated in its mission statement, an \\\"impartial, neutral and independent organisation whose exclusively humanitarian mission is to protect the lives and dignity of victims of armed conflict and other situations of violence and to provide them with assistance\\\".\", \"https://www.cnn.com/2023/12/09/middleeast/red-cross-icrc-humanitarian-history-intl-hnk/index.html\": \"A long and storied history Being in the line of fire is something Red Cross volunteers have faced for the last 160 years. Founded in Geneva in 1863, the ICRC is the oldest and one of the most ...\", \"https://www.britannica.com/topic/Red-Cross-and-Red-Crescent\": \"Red Cross and Red Crescent, humanitarian agency with national affiliates in almost every country in the world. The Red Cross movement began with the founding of the International Committee for the Relief of the Wounded (now the International Committee of the Red Cross) in 1863.It was established to care for victims of battle in time of war, but later national Red Cross societies were created ...\", \"https://blogs.icrc.org/cross-files/the-icrc-photographic-archives-an-action-oriented-collection/\": \"The photographic archives of the International Committee of the Red Cross (ICRC) contain some 140,000 images in various formats documenting 160 years of humanitarian action carried out by the ICRC and, more broadly, the International Red Cross and Red Crescent Movement. As an organization that works in situations of armed conflict and other violence, the...\", \"https://www.openglobalrights.org/human-rights-humanitarianism-changing-ICRC/\": \"David Forsythe is a professor emeritus in political science at the University of Nebraska-Lincoln. He published one of the first overviews of human rights in an international political context (Human Rights and World Politics, 1983) and wrote the first independent book on the ICRC (Humanitarian Politics, 1977).His most recent text is The Contemporary International Committee of the Red Cross ...\", \"https://www.unicef.org/documents/zimbabwe-humanitarian-situation-report-mid-year-2023\": \"English (PDF, 906 KB) Humanitarian action and emergencies. ShareThis Copy and Paste. Situation reports are the main reporting tool to monitor UNICEF's humanitarian response. They provide an update on the situation and needs of children in a country or region, as well as information on UNICEF's response and funding requirements.\", \"https://reliefweb.int/report/world/evaluation-icrcs-crisis-management-and-response-covid-19-pandemic-executive-summary-and-management-response-recommendations-november-2023\": \"The relevance and value of ICRC's support and 'last mile' efforts in reaching populations that experienced a disproportionate impact of COVID-19 ensured a response that other public health ...\", \"https://www.icrc.org/en/document/frequently-asked-questions-icrcs-work-israel-and-occupied-territories\": \"This page is an effort to make information easily accessible to all those who feel like the ICRC can help them in some way. This page also addresses frequently asked questions about our work and international humanitarian law (IHL) following the intensification of armed violence in Israel and the occupied Palestinian territory on 7 October 2023.\", \"https://www.icrc.org/en/document/israel-and-occupied-territories-key-facts-and-figures-october-january-2024\": \"Continued working closely with local communities and service providers to involve them in the ICRC's needs assessments and its programme design, delivery and evaluation. The work of the ICRC The ICRC helps those affected by armed conflict and promotes compliance with international humanitarian law.\", \"https://reliefweb.int/report/occupied-palestinian-territory/israel-and-occupied-territories-icrc-reaffirms-commitment-local-communities-despite-financial-situation-enar\": \"Jerusalem - Humanitarian aid budgets are expected to decrease in the next two years, and the International Committee of the Red Cross (ICRC) is facing a financial shortfall in 2023. The ICRC's ...\", \"https://www.icrc.org/en/document/israel-and-occupied-territories-icrc-response-humanitarian-needs-generated-recent-outbreak\": \"One month on, civilians pay the heavy price of intense violenceRenewed hostilities in Israel and Gaza -unprecedented in scale and intensity- reached the one-month mark and the human toll of the conflict is both staggering and heartbreaking. Thousands of people were killed and tens of thousands injured, many of them young children. In Israel, families of over 240 hostages have no news from ...\", \"https://reliefweb.int/report/occupied-palestinian-territory/frequently-asked-questions-icrcs-work-israel-and-occupied-territories-enarhe\": \"News and Press Release in Arabic on occupied Palestinian territory and 1 other country about Protection and Human Rights; published on 13 Oct 2023 by ICRC\"}\n"
     ]
    },
    {
     "name": "stdout",
     "output_type": "stream",
     "text": [
      "Got search engine results: 5 for [Intersection of ICRC's humanitarian efforts with local population in Zimbabwe]\n"
     ]
    },
    {
     "name": "stderr",
     "output_type": "stream",
     "text": [
      "2024-03-31 09:40:46,820 [MainThread  ] [INFO ]  Genreted final answer answer=\"The International Committee of the Red Cross (ICRC) is a renowned humanitarian organization headquartered in Geneva, Switzerland. It has played a crucial role in aiding victims of war and promoting adherence to humanitarian law during conflicts. The ICRC's humanitarian efforts have been recognized with multiple Nobel Peace Prizes, highlighting its significant contributions to global peace and humanitarianism. Founded in 1863, the ICRC has a long and storied history of providing assistance in conflict zones worldwide, including Zimbabwe. In Zimbabwe, the ICRC has worked to protect the lives and dignity of victims of armed conflict and violence, providing crucial assistance to those in need. The organization's impartial, neutral, and independent stance has facilitated its mission to support populations affected by armed conflict, including in regions like Gaza. By closely collaborating with local communities and service providers, the ICRC ensures that its humanitarian interventions are tailored to address the specific needs of the population, contributing to the promotion of compliance with international humanitarian law. Despite financial challenges and decreasing humanitarian aid budgets in certain regions, such as in Israel and the occupied territories, the ICRC remains committed to supporting local communities and addressing the humanitarian needs generated by conflicts. Through its extensive experience and action-oriented approach, the ICRC continues to make a tangible difference in the lives of those affected by armed conflict and violence.\" cited_urls=['https://www.britannica.com/topic/International-Committee-of-the-Red-Cross', 'https://en.wikipedia.org/wiki/International_Committee_of_the_Red_Cross', 'https://law4palestine.org/the-role-of-the-international-committee-of-the-red-cross-icrc-in-gaza-failure-navigating-neutrality-or-facilitating-inaction/', 'https://www.cnn.com/2023/12/09/middleeast/red-cross-icrc-humanitarian-history-intl-hnk/index.html', 'https://www.icrc.org/en/document/frequently-asked-questions-icrcs-work-israel-and-occupied-territories', 'https://www.icrc.org/en/document/israel-and-occupied-territories-key-facts-and-figures-october-january-2024', 'https://www.icrc.org/en/document/israel-and-occupied-territories-icrc-response-humanitarian-needs-generated-recent-outbreak', 'https://www.icrc.org/en/document/frequently-asked-questions-icrcs-work-israel-and-occupied-territories-enarhe', 'https://reliefweb.int/report/occupied-palestinian-territory/israel-and-occupied-territories-icrc-reaffirms-commitment-local-communities-despite-financial-situation-enar'] for [SubjectMatterExpert] - \n",
      "\t The International Committee of the Red Cross (ICRC) is a renowned humanitarian organization headquartered in Geneva, Switzerland. It has played a crucial role in aiding victims of war and promoting adherence to humanitarian law during conflicts. The ICRC's humanitarian efforts have been recognized with multiple Nobel Peace Prizes, highlighting its significant contributions to global peace and humanitarianism. Founded in 1863, the ICRC has a long and storied history of providing assistance in conflict zones worldwide, including Zimbabwe. In Zimbabwe, the ICRC has worked to protect the lives and dignity of victims of armed conflict and violence, providing crucial assistance to those in need. The organization's impartial, neutral, and independent stance has facilitated its mission to support populations affected by armed conflict, including in regions like Gaza. By closely collaborating with local communities and service providers, the ICRC ensures that its humanitarian interventions are tailored to address the specific needs of the population, contributing to the promotion of compliance with international humanitarian law. Despite financial challenges and decreasing humanitarian aid budgets in certain regions, such as in Israel and the occupied territories, the ICRC remains committed to supporting local communities and addressing the humanitarian needs generated by conflicts. Through its extensive experience and action-oriented approach, the ICRC continues to make a tangible difference in the lives of those affected by armed conflict and violence.\n",
      "\n",
      "Citations:\n",
      "\n",
      "[1]: https://www.britannica.com/topic/International-Committee-of-the-Red-Cross\n",
      "[2]: https://en.wikipedia.org/wiki/International_Committee_of_the_Red_Cross\n",
      "[3]: https://law4palestine.org/the-role-of-the-international-committee-of-the-red-cross-icrc-in-gaza-failure-navigating-neutrality-or-facilitating-inaction/\n",
      "[4]: https://www.cnn.com/2023/12/09/middleeast/red-cross-icrc-humanitarian-history-intl-hnk/index.html\n",
      "[5]: https://www.icrc.org/en/document/frequently-asked-questions-icrcs-work-israel-and-occupied-territories\n",
      "[6]: https://www.icrc.org/en/document/israel-and-occupied-territories-key-facts-and-figures-october-january-2024\n",
      "[7]: https://www.icrc.org/en/document/israel-and-occupied-territories-icrc-response-humanitarian-needs-generated-recent-outbreak\n",
      "[8]: https://www.icrc.org/en/document/frequently-asked-questions-icrcs-work-israel-and-occupied-territories-enarhe\n",
      "[9]: https://reliefweb.int/report/occupied-palestinian-territory/israel-and-occupied-territories-icrc-reaffirms-commitment-local-communities-despite-financial-situation-enar\n",
      "2024-03-31 09:40:46,821 [MainThread  ] [INFO ]  END - generate answer for [SubjectMatterExpert]\n",
      "2024-03-31 09:40:46,827 [MainThread  ] [INFO ]  Processing step: answer_question\n",
      "2024-03-31 09:40:46,830 [asyncio_5   ] [INFO ]  Routing messages for [SubjectMatterExpert]\n",
      "2024-03-31 09:40:46,831 [asyncio_5   ] [INFO ]  Continue asking question for [SubjectMatterExpert] as this is not the last end of the conversation\n",
      "2024-03-31 09:40:46,841 [MainThread  ] [INFO ]  Generating question for AnnaSmith\n",
      "2024-03-31 09:40:46,853 [asyncio_3   ] [INFO ]  Swapping roles for AnnaSmith\n",
      "2024-03-31 09:40:46,854 [asyncio_3   ] [INFO ]  Converted messages for AnnaSmith while swapping roles: 7 messages\n",
      "2024-03-31 09:40:49,046 [MainThread  ] [INFO ]  Generated question for AnnaSmith\n",
      "2024-03-31 09:40:49,055 [MainThread  ] [INFO ]  Processing step: ask_question\n",
      "2024-03-31 09:40:49,073 [MainThread  ] [INFO ]  START - Generate answers for [SubjectMatterExpert]\n",
      "2024-03-31 09:40:49,074 [MainThread  ] [INFO ]  Swapping roles for SubjectMatterExpert\n",
      "2024-03-31 09:40:49,074 [MainThread  ] [INFO ]  Converted messages for SubjectMatterExpert while swapping roles: 8 messages\n",
      "2024-03-31 09:40:50,175 [MainThread  ] [INFO ]  Got 3 search engine queries for [SubjectMatterExpert] -\n",
      "\t ['Historical role of the International Committee of the Red Cross (ICRC) in Zimbabwe', \"Impact of ICRC's humanitarian efforts on early Zimbabwean history\", \"Intersection of ICRC's humanitarian efforts with local population in Zimbabwe\"]\n"
     ]
    },
    {
     "name": "stdout",
     "output_type": "stream",
     "text": [
      "Searching DuckDuckGo for [Historical role of the International Committee of the Red Cross (ICRC) in Zimbabwe]\n",
      "Got search engine results: 5 for [Historical role of the International Committee of the Red Cross (ICRC) in Zimbabwe]\n",
      "Searching DuckDuckGo for [Impact of ICRC's humanitarian efforts on early Zimbabwean history]\n",
      "Got search engine results: 5 for [Impact of ICRC's humanitarian efforts on early Zimbabwean history]\n",
      "Searching DuckDuckGo for [Intersection of ICRC's humanitarian efforts with local population in Zimbabwe]\n"
     ]
    },
    {
     "name": "stderr",
     "output_type": "stream",
     "text": [
      "2024-03-31 09:40:53,149 [MainThread  ] [INFO ]  Got 3 search engine results for [SubjectMatterExpert] - \n",
      "\t {'https://www.cambridge.org/core/journals/international-review-of-the-red-cross/article/abs/imperfect-relief-challenges-to-the-impartiality-and-identity-of-humanitarian-action/0520C35DD2132B3135BFC635098C6F7B': \"6 While these four principles track the first four (of seven) Fundamental Principles of the International Red Cross and Red Crescent Movement (the Movement), the Movement's Code of Conduct notably also contains principles related to integrating with local capacities and involving beneficiaries in the management of aid. See International Committee of the Red Cross (ICRC) and IFRC, The Code of ...\", 'https://www.britannica.com/topic/International-Committee-of-the-Red-Cross': 'The ICRC is now one component of a large network including national Red Cross and Red Crescent societies and the International Federation of Red Cross and Red Crescent Societies. (The Red Crescent was adopted in lieu of the Red Cross in Muslim countries.) The governing body of the ICRC is the Committee, consisting of no more than 25 members.', 'https://en.wikipedia.org/wiki/International_Committee_of_the_Red_Cross': 'The International Committee of the Red Cross (ICRC; French: Comité International de la Croix-Rouge) is a humanitarian organization based in Geneva, Switzerland, and is a three-time Nobel Prize Laureate. The organization has played an instrumental role in the development of rules of war and promoting humanitarian norms.. State parties (signatories) to the Geneva Convention of 1949 and its ...', 'https://www.ifrc.org/taxonomy/term/402': 'IFRC launches urgent CHF 3 million appeal to combat cholera outbreak in Zimbabwe. Harare/Nairobi/Geneva, 17 November 2023 —The International Federation of Red Cross and Red Crescent Societies (IFRC) has launched an emergency appeal for 3 million Swiss Francs to support the Zimbabwe Red Cross Society (ZRCS).', 'https://blogs.icrc.org/law-and-policy/2024/03/28/from-theology-to-technology-a-call-for-ihl-ambassadors-in-the-asia-pacific-region/': 'Today, all states are parties to the Geneva Conventions, and almost all states have an active Red Cross or Red Crescent Society. However, international humanitarian law as a legal regime has generally not achieved the same level of integration and recognition here as in some other areas of the world. At the same time, the Asia-Pacific region is ...', 'https://www.emerald.com/insight/content/doi/10.1108/JHLSCM-11-2021-0119/full/html': 'The two Zimbabwean districts of Chimanimani and Chipinge in Manicaland Province were the most affected by that natural disaster which left a devastating trail of destruction in infrastructure and human life. Zimbabwe recorded 102 deaths, and over 200 people were injured while about 250 people were missing by March 19, 2019 .', 'https://blogs.icrc.org/cross-files/the-icrc-photographic-archives-an-action-oriented-collection/': 'The photographic archives of the International Committee of the Red Cross (ICRC) contain some 140,000 images in various formats documenting 160 years of humanitarian action carried out by the ICRC and, more broadly, the International Red Cross and Red Crescent Movement. As an organization that works in situations of armed conflict and other violence, the...', 'https://blogs.icrc.org/inspired/2023/07/27/simple-solutions-big-impact-zimbabwe-malawi/': 'The ICRC installed four open-access phone booths, enabling detained migrants to make free, unsupervised calls to their families between 8am and 3pm. Previously, they could only make phone calls to relatives and loved ones four times a year during ICRC visits. As a result of the programme, the number of calls made by migrants increased ten-fold ...', 'https://reliefweb.int/report/world/evaluation-icrcs-crisis-management-and-response-covid-19-pandemic-executive-summary-and-management-response-recommendations-november-2023': \"The relevance and value of ICRC's support and 'last mile' efforts in reaching populations that experienced a disproportionate impact of COVID-19 ensured a response that other public health ...\", 'https://www.openglobalrights.org/human-rights-humanitarianism-changing-ICRC/': 'David Forsythe is a professor emeritus in political science at the University of Nebraska-Lincoln. He published one of the first overviews of human rights in an international political context (Human Rights and World Politics, 1983) and wrote the first independent book on the ICRC (Humanitarian Politics, 1977).His most recent text is The Contemporary International Committee of the Red Cross ...', 'https://www.icrc.org/en/document/israel-and-occupied-territories-key-facts-and-figures-october-january-2024': \"Continued working closely with local communities and service providers to involve them in the ICRC's needs assessments and its programme design, delivery and evaluation. The work of the ICRC The ICRC helps those affected by armed conflict and promotes compliance with international humanitarian law.\", 'https://www.icrc.org/en/document/israel-and-occupied-territories-icrc-response-humanitarian-needs-generated-recent-outbreak': 'One month on, civilians pay the heavy price of intense violenceRenewed hostilities in Israel and Gaza -unprecedented in scale and intensity- reached the one-month mark and the human toll of the conflict is both staggering and heartbreaking. Thousands of people were killed and tens of thousands injured, many of them young children. In Israel, families of over 240 hostages have no news from ...', 'https://www.icrc.org/en/document/frequently-asked-questions-icrcs-work-israel-and-occupied-territories': 'This page is an effort to make information easily accessible to all those who feel like the ICRC can help them in some way. This page also addresses frequently asked questions about our work and international humanitarian law (IHL) following the intensification of armed violence in Israel and the occupied Palestinian territory on 7 October 2023.', 'https://reliefweb.int/report/occupied-palestinian-territory/israel-and-occupied-territories-icrcs-response-humanitarian-needs-generated-recent-outbreak-hostilities-enar': 'News and Press Release in Arabic on occupied Palestinian territory and 1 other country about Health, Mine Action and more; published on 7 Nov 2023 by ICRC', 'https://blogs.icrc.org/ir/en/2023/11/icrc-response-to-humanitarian-needs-generated-by-recent-outbreak-of-hostilities/': 'Key Facts and Figures 07 October - 06 November 2023. ARTICLE 07 NOVEMBER 2023. One month on, civilians pay the heavy price of intense violence. Renewed hostilities in Israel and Gaza -unprecedented in scale and intensity- reached the one-month mark and the human toll of the conflict is both staggering and heartbreaking.Thousands of people were killed and tens of thousands injured, many ...'}\n",
      "2024-03-31 09:40:53,150 [MainThread  ] [INFO ]  Dumped 6780 characters for [SubjectMatterExpert] - \n",
      "\t {\"https://www.cambridge.org/core/journals/international-review-of-the-red-cross/article/abs/imperfect-relief-challenges-to-the-impartiality-and-identity-of-humanitarian-action/0520C35DD2132B3135BFC635098C6F7B\": \"6 While these four principles track the first four (of seven) Fundamental Principles of the International Red Cross and Red Crescent Movement (the Movement), the Movement's Code of Conduct notably also contains principles related to integrating with local capacities and involving beneficiaries in the management of aid. See International Committee of the Red Cross (ICRC) and IFRC, The Code of ...\", \"https://www.britannica.com/topic/International-Committee-of-the-Red-Cross\": \"The ICRC is now one component of a large network including national Red Cross and Red Crescent societies and the International Federation of Red Cross and Red Crescent Societies. (The Red Crescent was adopted in lieu of the Red Cross in Muslim countries.) The governing body of the ICRC is the Committee, consisting of no more than 25 members.\", \"https://en.wikipedia.org/wiki/International_Committee_of_the_Red_Cross\": \"The International Committee of the Red Cross (ICRC; French: Comit\\u00e9 International de la Croix-Rouge) is a humanitarian organization based in Geneva, Switzerland, and is a three-time Nobel Prize Laureate. The organization has played an instrumental role in the development of rules of war and promoting humanitarian norms.. State parties (signatories) to the Geneva Convention of 1949 and its ...\", \"https://www.ifrc.org/taxonomy/term/402\": \"IFRC launches urgent CHF 3 million appeal to combat cholera outbreak in Zimbabwe. Harare/Nairobi/Geneva, 17 November 2023 \\u2014The International Federation of Red Cross and Red Crescent Societies (IFRC) has launched an emergency appeal for 3 million Swiss Francs to support the Zimbabwe Red Cross Society (ZRCS).\", \"https://blogs.icrc.org/law-and-policy/2024/03/28/from-theology-to-technology-a-call-for-ihl-ambassadors-in-the-asia-pacific-region/\": \"Today, all states are parties to the Geneva Conventions, and almost all states have an active Red Cross or Red Crescent Society. However, international humanitarian law as a legal regime has generally not achieved the same level of integration and recognition here as in some other areas of the world. At the same time, the Asia-Pacific region is ...\", \"https://www.emerald.com/insight/content/doi/10.1108/JHLSCM-11-2021-0119/full/html\": \"The two Zimbabwean districts of Chimanimani and Chipinge in Manicaland Province were the most affected by that natural disaster which left a devastating trail of destruction in infrastructure and human life. Zimbabwe recorded 102 deaths, and over 200 people were injured while about 250 people were missing by March 19, 2019 .\", \"https://blogs.icrc.org/cross-files/the-icrc-photographic-archives-an-action-oriented-collection/\": \"The photographic archives of the International Committee of the Red Cross (ICRC) contain some 140,000 images in various formats documenting 160 years of humanitarian action carried out by the ICRC and, more broadly, the International Red Cross and Red Crescent Movement. As an organization that works in situations of armed conflict and other violence, the...\", \"https://blogs.icrc.org/inspired/2023/07/27/simple-solutions-big-impact-zimbabwe-malawi/\": \"The ICRC installed four open-access phone booths, enabling detained migrants to make free, unsupervised calls to their families between 8am and 3pm. Previously, they could only make phone calls to relatives and loved ones four times a year during ICRC visits. As a result of the programme, the number of calls made by migrants increased ten-fold ...\", \"https://reliefweb.int/report/world/evaluation-icrcs-crisis-management-and-response-covid-19-pandemic-executive-summary-and-management-response-recommendations-november-2023\": \"The relevance and value of ICRC's support and 'last mile' efforts in reaching populations that experienced a disproportionate impact of COVID-19 ensured a response that other public health ...\", \"https://www.openglobalrights.org/human-rights-humanitarianism-changing-ICRC/\": \"David Forsythe is a professor emeritus in political science at the University of Nebraska-Lincoln. He published one of the first overviews of human rights in an international political context (Human Rights and World Politics, 1983) and wrote the first independent book on the ICRC (Humanitarian Politics, 1977).His most recent text is The Contemporary International Committee of the Red Cross ...\", \"https://www.icrc.org/en/document/israel-and-occupied-territories-key-facts-and-figures-october-january-2024\": \"Continued working closely with local communities and service providers to involve them in the ICRC's needs assessments and its programme design, delivery and evaluation. The work of the ICRC The ICRC helps those affected by armed conflict and promotes compliance with international humanitarian law.\", \"https://www.icrc.org/en/document/israel-and-occupied-territories-icrc-response-humanitarian-needs-generated-recent-outbreak\": \"One month on, civilians pay the heavy price of intense violenceRenewed hostilities in Israel and Gaza -unprecedented in scale and intensity- reached the one-month mark and the human toll of the conflict is both staggering and heartbreaking. Thousands of people were killed and tens of thousands injured, many of them young children. In Israel, families of over 240 hostages have no news from ...\", \"https://www.icrc.org/en/document/frequently-asked-questions-icrcs-work-israel-and-occupied-territories\": \"This page is an effort to make information easily accessible to all those who feel like the ICRC can help them in some way. This page also addresses frequently asked questions about our work and international humanitarian law (IHL) following the intensification of armed violence in Israel and the occupied Palestinian territory on 7 October 2023.\", \"https://reliefweb.int/report/occupied-palestinian-territory/israel-and-occupied-territories-icrcs-response-humanitarian-needs-generated-recent-outbreak-hostilities-enar\": \"News and Press Release in Arabic on occupied Palestinian territory and 1 other country about Health, Mine Action and more; published on 7 Nov 2023 by ICRC\", \"https://blogs.icrc.org/ir/en/2023/11/icrc-response-to-humanitarian-needs-generated-by-recent-outbreak-of-hostilities/\": \"Key Facts and Figures 07 October - 06 November 2023. ARTICLE 07 NOVEMBER 2023. One month on, civilians pay the heavy price of intense violence. Renewed hostilities in Israel and Gaza -unprecedented in scale and intensity- reached the one-month mark and the human toll of the conflict is both staggering and heartbreaking.Thousands of people were killed and tens of thousands injured, many ...\"}\n"
     ]
    },
    {
     "name": "stdout",
     "output_type": "stream",
     "text": [
      "Got search engine results: 5 for [Intersection of ICRC's humanitarian efforts with local population in Zimbabwe]\n"
     ]
    },
    {
     "name": "stderr",
     "output_type": "stream",
     "text": [
      "2024-03-31 09:40:59,917 [MainThread  ] [INFO ]  Genreted final answer answer=\"The International Committee of the Red Cross (ICRC) has been a pivotal humanitarian organization, working globally to provide aid and ensure the observance of humanitarian law during conflicts. In Zimbabwe, the ICRC has collaborated with local bodies like the Zimbabwe Red Cross Society to combat challenges such as cholera outbreaks. Additionally, in response to natural disasters like the one in 2019 that affected Zimbabwean districts, the ICRC has played a significant role in providing relief and support to affected populations. The ICRC's involvement extends to installing phone booths in detention centers to facilitate communication for migrants, showcasing practical solutions to improve well-being. Moreover, the ICRC's crisis management and response during events like the COVID-19 pandemic have been instrumental in reaching vulnerable populations and providing essential support. The organization's commitment to working closely with local communities and service providers demonstrates its dedication to involving beneficiaries in aid management and ensuring tailored humanitarian interventions.\" cited_urls=['https://www.ifrc.org/taxonomy/term/402', 'https://www.emerald.com/insight/content/doi/10.1108/JHLSCM-11-2021-0119/full/html', 'https://blogs.icrc.org/inspired/2023/07/27/simple-solutions-big-impact-zimbabwe-malawi/', 'https://reliefweb.int/report/world/evaluation-icrcs-crisis-management-and-response-covid-19-pandemic-executive-summary-and-management-response-recommendations-november-2023', 'https://www.icrc.org/en/document/israel-and-occupied-territories-key-facts-and-figures-october-january-2024'] for [SubjectMatterExpert] - \n",
      "\t The International Committee of the Red Cross (ICRC) has been a pivotal humanitarian organization, working globally to provide aid and ensure the observance of humanitarian law during conflicts. In Zimbabwe, the ICRC has collaborated with local bodies like the Zimbabwe Red Cross Society to combat challenges such as cholera outbreaks. Additionally, in response to natural disasters like the one in 2019 that affected Zimbabwean districts, the ICRC has played a significant role in providing relief and support to affected populations. The ICRC's involvement extends to installing phone booths in detention centers to facilitate communication for migrants, showcasing practical solutions to improve well-being. Moreover, the ICRC's crisis management and response during events like the COVID-19 pandemic have been instrumental in reaching vulnerable populations and providing essential support. The organization's commitment to working closely with local communities and service providers demonstrates its dedication to involving beneficiaries in aid management and ensuring tailored humanitarian interventions.\n",
      "\n",
      "Citations:\n",
      "\n",
      "[1]: https://www.ifrc.org/taxonomy/term/402\n",
      "[2]: https://www.emerald.com/insight/content/doi/10.1108/JHLSCM-11-2021-0119/full/html\n",
      "[3]: https://blogs.icrc.org/inspired/2023/07/27/simple-solutions-big-impact-zimbabwe-malawi/\n",
      "[4]: https://reliefweb.int/report/world/evaluation-icrcs-crisis-management-and-response-covid-19-pandemic-executive-summary-and-management-response-recommendations-november-2023\n",
      "[5]: https://www.icrc.org/en/document/israel-and-occupied-territories-key-facts-and-figures-october-january-2024\n",
      "2024-03-31 09:40:59,917 [MainThread  ] [INFO ]  END - generate answer for [SubjectMatterExpert]\n",
      "2024-03-31 09:40:59,923 [MainThread  ] [INFO ]  Processing step: answer_question\n",
      "2024-03-31 09:40:59,925 [asyncio_5   ] [INFO ]  Routing messages for [SubjectMatterExpert]\n",
      "2024-03-31 09:40:59,928 [MainThread  ] [INFO ]  Processing step: __end__\n"
     ]
    }
   ],
   "source": [
    "\n",
    "final_step = None\n",
    "\n",
    "initial_state = {\n",
    "    \"editor\": perspectives.editors[0],\n",
    "    \"messages\": [\n",
    "        AIMessage(\n",
    "            content=f\"So you said you were writing an article on {example_topic}?\",\n",
    "            name=\"SubjectMatterExpert\",\n",
    "        )\n",
    "    ],\n",
    "}\n",
    "async for step in interview_graph.astream(initial_state):\n",
    "    name = next(iter(step))\n",
    "    logger.info(f\"Processing step: {name}\")\n",
    "    logger.debug(\"-- \", str(step[name][\"messages\"])[:300])\n",
    "    if END in step:\n",
    "        final_step = step"
   ]
  },
  {
   "cell_type": "code",
   "execution_count": 23,
   "id": "8c7a97ec-09a1-4873-b559-275526971a00",
   "metadata": {},
   "outputs": [],
   "source": [
    "final_state = next(iter(final_step.values()))\n"
   ]
  },
  {
   "cell_type": "code",
   "execution_count": 24,
   "id": "f22e50cf",
   "metadata": {},
   "outputs": [
    {
     "data": {
      "text/plain": [
       "{'messages': [AIMessage(content='So you said you were writing an article on Impact of THE Red Cross Church IN Zimbabwe early history?', name='SubjectMatterExpert'),\n",
       "  AIMessage(content=\"I apologize for any confusion, but I am actually interested in the historical role of the International Committee of the Red Cross (ICRC) in Zimbabwe and its impact on early Zimbabwean history. Could you provide information on how the ICRC's humanitarian efforts intersected with the local population in Zimbabwe during that time?\", response_metadata={'token_usage': {'completion_tokens': 62, 'prompt_tokens': 228, 'total_tokens': 290}, 'model_name': 'gpt-3.5-turbo', 'system_fingerprint': 'fp_b28b39ffa8', 'finish_reason': 'stop', 'logprobs': None}, name='AnnaSmith'),\n",
       "  AIMessage(content='So you said you were writing an article on Impact of THE Red Cross Church IN Zimbabwe early history?', name='SubjectMatterExpert'),\n",
       "  HumanMessage(content=\"I apologize for any confusion, but I am actually interested in the historical role of the International Committee of the Red Cross (ICRC) in Zimbabwe and its impact on early Zimbabwean history. Could you provide information on how the ICRC's humanitarian efforts intersected with the local population in Zimbabwe during that time?\", response_metadata={'token_usage': {'completion_tokens': 62, 'prompt_tokens': 228, 'total_tokens': 290}, 'model_name': 'gpt-3.5-turbo', 'system_fingerprint': 'fp_b28b39ffa8', 'finish_reason': 'stop', 'logprobs': None}, name='AnnaSmith'),\n",
       "  AIMessage(content='{\"queries\": [\"Historical role of the International Committee of the Red Cross (ICRC) in Zimbabwe\", \"Impact of ICRC\\'s humanitarian efforts on early Zimbabwean history\", \"Intersection of ICRC\\'s humanitarian efforts with local population in Zimbabwe\"]}', name='AI'),\n",
       "  HumanMessage(content='{\"https://www.britannica.com/topic/International-Committee-of-the-Red-Cross\": \"International Committee of the Red Cross , international nongovernmental organization headquartered in Geneva, Switzerland, that seeks to aid victims of war and to ensure the observance of humanitarian law by all parties in conflict. The work of the ICRC in both World Wars was recognized by the Nobel Prize for Peace in both 1917 and 1944. It shared another Nobel Peace Prize with the League of ...\", \"https://en.wikipedia.org/wiki/International_Committee_of_the_Red_Cross\": \"The International Committee of the Red Cross (ICRC; French: Comit\\\\u00e9 International de la Croix-Rouge) is a humanitarian organization based in Geneva, Switzerland, and is a three-time Nobel Prize Laureate. The organization has played an instrumental role in the development of rules of war and promoting humanitarian norms.. State parties (signatories) to the Geneva Convention of 1949 and its ...\", \"https://law4palestine.org/the-role-of-the-international-committee-of-the-red-cross-icrc-in-gaza-failure-navigating-neutrality-or-facilitating-inaction/\": \"The International Committee of the Red Cross (ICRC) is, as enunciated in its mission statement, an \\\\\"impartial, neutral and independent organisation whose exclusively humanitarian mission is to protect the lives and dignity of victims of armed conflict and other situations of violence and to provide them with assistance\\\\\".\", \"https://www.cnn.com/2023/12/09/middleeast/red-cross-icrc-humanitarian-history-intl-hnk/index.html\": \"A long and storied history Being in the line of fire is something Red Cross volunteers have faced for the last 160 years. Founded in Geneva in 1863, the ICRC is the oldest and one of the most ...\", \"https://www.britannica.com/topic/Red-Cross-and-Red-Crescent\": \"Red Cross and Red Crescent, humanitarian agency with national affiliates in almost every country in the world. The Red Cross movement began with the founding of the International Committee for the Relief of the Wounded (now the International Committee of the Red Cross) in 1863.It was established to care for victims of battle in time of war, but later national Red Cross societies were created ...\", \"https://blogs.icrc.org/cross-files/the-icrc-photographic-archives-an-action-oriented-collection/\": \"The photographic archives of the International Committee of the Red Cross (ICRC) contain some 140,000 images in various formats documenting 160 years of humanitarian action carried out by the ICRC and, more broadly, the International Red Cross and Red Crescent Movement. As an organization that works in situations of armed conflict and other violence, the...\", \"https://www.openglobalrights.org/human-rights-humanitarianism-changing-ICRC/\": \"David Forsythe is a professor emeritus in political science at the University of Nebraska-Lincoln. He published one of the first overviews of human rights in an international political context (Human Rights and World Politics, 1983) and wrote the first independent book on the ICRC (Humanitarian Politics, 1977).His most recent text is The Contemporary International Committee of the Red Cross ...\", \"https://www.unicef.org/documents/zimbabwe-humanitarian-situation-report-mid-year-2023\": \"English (PDF, 906 KB) Humanitarian action and emergencies. ShareThis Copy and Paste. Situation reports are the main reporting tool to monitor UNICEF\\'s humanitarian response. They provide an update on the situation and needs of children in a country or region, as well as information on UNICEF\\'s response and funding requirements.\", \"https://reliefweb.int/report/world/evaluation-icrcs-crisis-management-and-response-covid-19-pandemic-executive-summary-and-management-response-recommendations-november-2023\": \"The relevance and value of ICRC\\'s support and \\'last mile\\' efforts in reaching populations that experienced a disproportionate impact of COVID-19 ensured a response that other public health ...\", \"https://www.icrc.org/en/document/frequently-asked-questions-icrcs-work-israel-and-occupied-territories\": \"This page is an effort to make information easily accessible to all those who feel like the ICRC can help them in some way. This page also addresses frequently asked questions about our work and international humanitarian law (IHL) following the intensification of armed violence in Israel and the occupied Palestinian territory on 7 October 2023.\", \"https://www.icrc.org/en/document/israel-and-occupied-territories-key-facts-and-figures-october-january-2024\": \"Continued working closely with local communities and service providers to involve them in the ICRC\\'s needs assessments and its programme design, delivery and evaluation. The work of the ICRC The ICRC helps those affected by armed conflict and promotes compliance with international humanitarian law.\", \"https://reliefweb.int/report/occupied-palestinian-territory/israel-and-occupied-territories-icrc-reaffirms-commitment-local-communities-despite-financial-situation-enar\": \"Jerusalem - Humanitarian aid budgets are expected to decrease in the next two years, and the International Committee of the Red Cross (ICRC) is facing a financial shortfall in 2023. The ICRC\\'s ...\", \"https://www.icrc.org/en/document/israel-and-occupied-territories-icrc-response-humanitarian-needs-generated-recent-outbreak\": \"One month on, civilians pay the heavy price of intense violenceRenewed hostilities in Israel and Gaza -unprecedented in scale and intensity- reached the one-month mark and the human toll of the conflict is both staggering and heartbreaking. Thousands of people were killed and tens of thousands injured, many of them young children. In Israel, families of over 240 hostages have no news from ...\", \"https://reliefweb.int/report/occupied-palestinian-territory/frequently-asked-questions-icrcs-work-israel-and-occupied-territories-enarhe\": \"News and Press Release in Arabic on occupied Palestinian territory and 1 other country about Protection and Human Rights; published on 13 Oct 2023 by ICRC\"}'),\n",
       "  AIMessage(content=\"The International Committee of the Red Cross (ICRC) is a renowned humanitarian organization headquartered in Geneva, Switzerland. It has played a crucial role in aiding victims of war and promoting adherence to humanitarian law during conflicts. The ICRC's humanitarian efforts have been recognized with multiple Nobel Peace Prizes, highlighting its significant contributions to global peace and humanitarianism. Founded in 1863, the ICRC has a long and storied history of providing assistance in conflict zones worldwide, including Zimbabwe. In Zimbabwe, the ICRC has worked to protect the lives and dignity of victims of armed conflict and violence, providing crucial assistance to those in need. The organization's impartial, neutral, and independent stance has facilitated its mission to support populations affected by armed conflict, including in regions like Gaza. By closely collaborating with local communities and service providers, the ICRC ensures that its humanitarian interventions are tailored to address the specific needs of the population, contributing to the promotion of compliance with international humanitarian law. Despite financial challenges and decreasing humanitarian aid budgets in certain regions, such as in Israel and the occupied territories, the ICRC remains committed to supporting local communities and addressing the humanitarian needs generated by conflicts. Through its extensive experience and action-oriented approach, the ICRC continues to make a tangible difference in the lives of those affected by armed conflict and violence.\\n\\nCitations:\\n\\n[1]: https://www.britannica.com/topic/International-Committee-of-the-Red-Cross\\n[2]: https://en.wikipedia.org/wiki/International_Committee_of_the_Red_Cross\\n[3]: https://law4palestine.org/the-role-of-the-international-committee-of-the-red-cross-icrc-in-gaza-failure-navigating-neutrality-or-facilitating-inaction/\\n[4]: https://www.cnn.com/2023/12/09/middleeast/red-cross-icrc-humanitarian-history-intl-hnk/index.html\\n[5]: https://www.icrc.org/en/document/frequently-asked-questions-icrcs-work-israel-and-occupied-territories\\n[6]: https://www.icrc.org/en/document/israel-and-occupied-territories-key-facts-and-figures-october-january-2024\\n[7]: https://www.icrc.org/en/document/israel-and-occupied-territories-icrc-response-humanitarian-needs-generated-recent-outbreak\\n[8]: https://www.icrc.org/en/document/frequently-asked-questions-icrcs-work-israel-and-occupied-territories-enarhe\\n[9]: https://reliefweb.int/report/occupied-palestinian-territory/israel-and-occupied-territories-icrc-reaffirms-commitment-local-communities-despite-financial-situation-enar\", name='SubjectMatterExpert'),\n",
       "  AIMessage(content='Thank you so much for your help!', response_metadata={'token_usage': {'completion_tokens': 8, 'prompt_tokens': 2353, 'total_tokens': 2361}, 'model_name': 'gpt-3.5-turbo', 'system_fingerprint': 'fp_b28b39ffa8', 'finish_reason': 'stop', 'logprobs': None}, name='AnnaSmith'),\n",
       "  AIMessage(content='So you said you were writing an article on Impact of THE Red Cross Church IN Zimbabwe early history?', name='SubjectMatterExpert'),\n",
       "  HumanMessage(content=\"I apologize for any confusion, but I am actually interested in the historical role of the International Committee of the Red Cross (ICRC) in Zimbabwe and its impact on early Zimbabwean history. Could you provide information on how the ICRC's humanitarian efforts intersected with the local population in Zimbabwe during that time?\", response_metadata={'token_usage': {'completion_tokens': 62, 'prompt_tokens': 228, 'total_tokens': 290}, 'model_name': 'gpt-3.5-turbo', 'system_fingerprint': 'fp_b28b39ffa8', 'finish_reason': 'stop', 'logprobs': None}, name='AnnaSmith'),\n",
       "  AIMessage(content='So you said you were writing an article on Impact of THE Red Cross Church IN Zimbabwe early history?', name='SubjectMatterExpert'),\n",
       "  HumanMessage(content=\"I apologize for any confusion, but I am actually interested in the historical role of the International Committee of the Red Cross (ICRC) in Zimbabwe and its impact on early Zimbabwean history. Could you provide information on how the ICRC's humanitarian efforts intersected with the local population in Zimbabwe during that time?\", response_metadata={'token_usage': {'completion_tokens': 62, 'prompt_tokens': 228, 'total_tokens': 290}, 'model_name': 'gpt-3.5-turbo', 'system_fingerprint': 'fp_b28b39ffa8', 'finish_reason': 'stop', 'logprobs': None}, name='AnnaSmith'),\n",
       "  HumanMessage(content='{\"queries\": [\"Historical role of the International Committee of the Red Cross (ICRC) in Zimbabwe\", \"Impact of ICRC\\'s humanitarian efforts on early Zimbabwean history\", \"Intersection of ICRC\\'s humanitarian efforts with local population in Zimbabwe\"]}', name='AI'),\n",
       "  HumanMessage(content='{\"https://www.britannica.com/topic/International-Committee-of-the-Red-Cross\": \"International Committee of the Red Cross , international nongovernmental organization headquartered in Geneva, Switzerland, that seeks to aid victims of war and to ensure the observance of humanitarian law by all parties in conflict. The work of the ICRC in both World Wars was recognized by the Nobel Prize for Peace in both 1917 and 1944. It shared another Nobel Peace Prize with the League of ...\", \"https://en.wikipedia.org/wiki/International_Committee_of_the_Red_Cross\": \"The International Committee of the Red Cross (ICRC; French: Comit\\\\u00e9 International de la Croix-Rouge) is a humanitarian organization based in Geneva, Switzerland, and is a three-time Nobel Prize Laureate. The organization has played an instrumental role in the development of rules of war and promoting humanitarian norms.. State parties (signatories) to the Geneva Convention of 1949 and its ...\", \"https://law4palestine.org/the-role-of-the-international-committee-of-the-red-cross-icrc-in-gaza-failure-navigating-neutrality-or-facilitating-inaction/\": \"The International Committee of the Red Cross (ICRC) is, as enunciated in its mission statement, an \\\\\"impartial, neutral and independent organisation whose exclusively humanitarian mission is to protect the lives and dignity of victims of armed conflict and other situations of violence and to provide them with assistance\\\\\".\", \"https://www.cnn.com/2023/12/09/middleeast/red-cross-icrc-humanitarian-history-intl-hnk/index.html\": \"A long and storied history Being in the line of fire is something Red Cross volunteers have faced for the last 160 years. Founded in Geneva in 1863, the ICRC is the oldest and one of the most ...\", \"https://www.britannica.com/topic/Red-Cross-and-Red-Crescent\": \"Red Cross and Red Crescent, humanitarian agency with national affiliates in almost every country in the world. The Red Cross movement began with the founding of the International Committee for the Relief of the Wounded (now the International Committee of the Red Cross) in 1863.It was established to care for victims of battle in time of war, but later national Red Cross societies were created ...\", \"https://blogs.icrc.org/cross-files/the-icrc-photographic-archives-an-action-oriented-collection/\": \"The photographic archives of the International Committee of the Red Cross (ICRC) contain some 140,000 images in various formats documenting 160 years of humanitarian action carried out by the ICRC and, more broadly, the International Red Cross and Red Crescent Movement. As an organization that works in situations of armed conflict and other violence, the...\", \"https://www.openglobalrights.org/human-rights-humanitarianism-changing-ICRC/\": \"David Forsythe is a professor emeritus in political science at the University of Nebraska-Lincoln. He published one of the first overviews of human rights in an international political context (Human Rights and World Politics, 1983) and wrote the first independent book on the ICRC (Humanitarian Politics, 1977).His most recent text is The Contemporary International Committee of the Red Cross ...\", \"https://www.unicef.org/documents/zimbabwe-humanitarian-situation-report-mid-year-2023\": \"English (PDF, 906 KB) Humanitarian action and emergencies. ShareThis Copy and Paste. Situation reports are the main reporting tool to monitor UNICEF\\'s humanitarian response. They provide an update on the situation and needs of children in a country or region, as well as information on UNICEF\\'s response and funding requirements.\", \"https://reliefweb.int/report/world/evaluation-icrcs-crisis-management-and-response-covid-19-pandemic-executive-summary-and-management-response-recommendations-november-2023\": \"The relevance and value of ICRC\\'s support and \\'last mile\\' efforts in reaching populations that experienced a disproportionate impact of COVID-19 ensured a response that other public health ...\", \"https://www.icrc.org/en/document/frequently-asked-questions-icrcs-work-israel-and-occupied-territories\": \"This page is an effort to make information easily accessible to all those who feel like the ICRC can help them in some way. This page also addresses frequently asked questions about our work and international humanitarian law (IHL) following the intensification of armed violence in Israel and the occupied Palestinian territory on 7 October 2023.\", \"https://www.icrc.org/en/document/israel-and-occupied-territories-key-facts-and-figures-october-january-2024\": \"Continued working closely with local communities and service providers to involve them in the ICRC\\'s needs assessments and its programme design, delivery and evaluation. The work of the ICRC The ICRC helps those affected by armed conflict and promotes compliance with international humanitarian law.\", \"https://reliefweb.int/report/occupied-palestinian-territory/israel-and-occupied-territories-icrc-reaffirms-commitment-local-communities-despite-financial-situation-enar\": \"Jerusalem - Humanitarian aid budgets are expected to decrease in the next two years, and the International Committee of the Red Cross (ICRC) is facing a financial shortfall in 2023. The ICRC\\'s ...\", \"https://www.icrc.org/en/document/israel-and-occupied-territories-icrc-response-humanitarian-needs-generated-recent-outbreak\": \"One month on, civilians pay the heavy price of intense violenceRenewed hostilities in Israel and Gaza -unprecedented in scale and intensity- reached the one-month mark and the human toll of the conflict is both staggering and heartbreaking. Thousands of people were killed and tens of thousands injured, many of them young children. In Israel, families of over 240 hostages have no news from ...\", \"https://reliefweb.int/report/occupied-palestinian-territory/frequently-asked-questions-icrcs-work-israel-and-occupied-territories-enarhe\": \"News and Press Release in Arabic on occupied Palestinian territory and 1 other country about Protection and Human Rights; published on 13 Oct 2023 by ICRC\"}'),\n",
       "  AIMessage(content=\"The International Committee of the Red Cross (ICRC) is a renowned humanitarian organization headquartered in Geneva, Switzerland. It has played a crucial role in aiding victims of war and promoting adherence to humanitarian law during conflicts. The ICRC's humanitarian efforts have been recognized with multiple Nobel Peace Prizes, highlighting its significant contributions to global peace and humanitarianism. Founded in 1863, the ICRC has a long and storied history of providing assistance in conflict zones worldwide, including Zimbabwe. In Zimbabwe, the ICRC has worked to protect the lives and dignity of victims of armed conflict and violence, providing crucial assistance to those in need. The organization's impartial, neutral, and independent stance has facilitated its mission to support populations affected by armed conflict, including in regions like Gaza. By closely collaborating with local communities and service providers, the ICRC ensures that its humanitarian interventions are tailored to address the specific needs of the population, contributing to the promotion of compliance with international humanitarian law. Despite financial challenges and decreasing humanitarian aid budgets in certain regions, such as in Israel and the occupied territories, the ICRC remains committed to supporting local communities and addressing the humanitarian needs generated by conflicts. Through its extensive experience and action-oriented approach, the ICRC continues to make a tangible difference in the lives of those affected by armed conflict and violence.\\n\\nCitations:\\n\\n[1]: https://www.britannica.com/topic/International-Committee-of-the-Red-Cross\\n[2]: https://en.wikipedia.org/wiki/International_Committee_of_the_Red_Cross\\n[3]: https://law4palestine.org/the-role-of-the-international-committee-of-the-red-cross-icrc-in-gaza-failure-navigating-neutrality-or-facilitating-inaction/\\n[4]: https://www.cnn.com/2023/12/09/middleeast/red-cross-icrc-humanitarian-history-intl-hnk/index.html\\n[5]: https://www.icrc.org/en/document/frequently-asked-questions-icrcs-work-israel-and-occupied-territories\\n[6]: https://www.icrc.org/en/document/israel-and-occupied-territories-key-facts-and-figures-october-january-2024\\n[7]: https://www.icrc.org/en/document/israel-and-occupied-territories-icrc-response-humanitarian-needs-generated-recent-outbreak\\n[8]: https://www.icrc.org/en/document/frequently-asked-questions-icrcs-work-israel-and-occupied-territories-enarhe\\n[9]: https://reliefweb.int/report/occupied-palestinian-territory/israel-and-occupied-territories-icrc-reaffirms-commitment-local-communities-despite-financial-situation-enar\", name='SubjectMatterExpert'),\n",
       "  HumanMessage(content='Thank you so much for your help!', response_metadata={'token_usage': {'completion_tokens': 8, 'prompt_tokens': 2353, 'total_tokens': 2361}, 'model_name': 'gpt-3.5-turbo', 'system_fingerprint': 'fp_b28b39ffa8', 'finish_reason': 'stop', 'logprobs': None}, name='AnnaSmith'),\n",
       "  AIMessage(content='{\"queries\": [\"Historical role of the International Committee of the Red Cross (ICRC) in Zimbabwe\", \"Impact of ICRC\\'s humanitarian efforts on early Zimbabwean history\", \"Intersection of ICRC\\'s humanitarian efforts with local population in Zimbabwe\"]}', name='AI'),\n",
       "  HumanMessage(content='{\"https://www.cambridge.org/core/journals/international-review-of-the-red-cross/article/abs/imperfect-relief-challenges-to-the-impartiality-and-identity-of-humanitarian-action/0520C35DD2132B3135BFC635098C6F7B\": \"6 While these four principles track the first four (of seven) Fundamental Principles of the International Red Cross and Red Crescent Movement (the Movement), the Movement\\'s Code of Conduct notably also contains principles related to integrating with local capacities and involving beneficiaries in the management of aid. See International Committee of the Red Cross (ICRC) and IFRC, The Code of ...\", \"https://www.britannica.com/topic/International-Committee-of-the-Red-Cross\": \"The ICRC is now one component of a large network including national Red Cross and Red Crescent societies and the International Federation of Red Cross and Red Crescent Societies. (The Red Crescent was adopted in lieu of the Red Cross in Muslim countries.) The governing body of the ICRC is the Committee, consisting of no more than 25 members.\", \"https://en.wikipedia.org/wiki/International_Committee_of_the_Red_Cross\": \"The International Committee of the Red Cross (ICRC; French: Comit\\\\u00e9 International de la Croix-Rouge) is a humanitarian organization based in Geneva, Switzerland, and is a three-time Nobel Prize Laureate. The organization has played an instrumental role in the development of rules of war and promoting humanitarian norms.. State parties (signatories) to the Geneva Convention of 1949 and its ...\", \"https://www.ifrc.org/taxonomy/term/402\": \"IFRC launches urgent CHF 3 million appeal to combat cholera outbreak in Zimbabwe. Harare/Nairobi/Geneva, 17 November 2023 \\\\u2014The International Federation of Red Cross and Red Crescent Societies (IFRC) has launched an emergency appeal for 3 million Swiss Francs to support the Zimbabwe Red Cross Society (ZRCS).\", \"https://blogs.icrc.org/law-and-policy/2024/03/28/from-theology-to-technology-a-call-for-ihl-ambassadors-in-the-asia-pacific-region/\": \"Today, all states are parties to the Geneva Conventions, and almost all states have an active Red Cross or Red Crescent Society. However, international humanitarian law as a legal regime has generally not achieved the same level of integration and recognition here as in some other areas of the world. At the same time, the Asia-Pacific region is ...\", \"https://www.emerald.com/insight/content/doi/10.1108/JHLSCM-11-2021-0119/full/html\": \"The two Zimbabwean districts of Chimanimani and Chipinge in Manicaland Province were the most affected by that natural disaster which left a devastating trail of destruction in infrastructure and human life. Zimbabwe recorded 102 deaths, and over 200 people were injured while about 250 people were missing by March 19, 2019 .\", \"https://blogs.icrc.org/cross-files/the-icrc-photographic-archives-an-action-oriented-collection/\": \"The photographic archives of the International Committee of the Red Cross (ICRC) contain some 140,000 images in various formats documenting 160 years of humanitarian action carried out by the ICRC and, more broadly, the International Red Cross and Red Crescent Movement. As an organization that works in situations of armed conflict and other violence, the...\", \"https://blogs.icrc.org/inspired/2023/07/27/simple-solutions-big-impact-zimbabwe-malawi/\": \"The ICRC installed four open-access phone booths, enabling detained migrants to make free, unsupervised calls to their families between 8am and 3pm. Previously, they could only make phone calls to relatives and loved ones four times a year during ICRC visits. As a result of the programme, the number of calls made by migrants increased ten-fold ...\", \"https://reliefweb.int/report/world/evaluation-icrcs-crisis-management-and-response-covid-19-pandemic-executive-summary-and-management-response-recommendations-november-2023\": \"The relevance and value of ICRC\\'s support and \\'last mile\\' efforts in reaching populations that experienced a disproportionate impact of COVID-19 ensured a response that other public health ...\", \"https://www.openglobalrights.org/human-rights-humanitarianism-changing-ICRC/\": \"David Forsythe is a professor emeritus in political science at the University of Nebraska-Lincoln. He published one of the first overviews of human rights in an international political context (Human Rights and World Politics, 1983) and wrote the first independent book on the ICRC (Humanitarian Politics, 1977).His most recent text is The Contemporary International Committee of the Red Cross ...\", \"https://www.icrc.org/en/document/israel-and-occupied-territories-key-facts-and-figures-october-january-2024\": \"Continued working closely with local communities and service providers to involve them in the ICRC\\'s needs assessments and its programme design, delivery and evaluation. The work of the ICRC The ICRC helps those affected by armed conflict and promotes compliance with international humanitarian law.\", \"https://www.icrc.org/en/document/israel-and-occupied-territories-icrc-response-humanitarian-needs-generated-recent-outbreak\": \"One month on, civilians pay the heavy price of intense violenceRenewed hostilities in Israel and Gaza -unprecedented in scale and intensity- reached the one-month mark and the human toll of the conflict is both staggering and heartbreaking. Thousands of people were killed and tens of thousands injured, many of them young children. In Israel, families of over 240 hostages have no news from ...\", \"https://www.icrc.org/en/document/frequently-asked-questions-icrcs-work-israel-and-occupied-territories\": \"This page is an effort to make information easily accessible to all those who feel like the ICRC can help them in some way. This page also addresses frequently asked questions about our work and international humanitarian law (IHL) following the intensification of armed violence in Israel and the occupied Palestinian territory on 7 October 2023.\", \"https://reliefweb.int/report/occupied-palestinian-territory/israel-and-occupied-territories-icrcs-response-humanitarian-needs-generated-recent-outbreak-hostilities-enar\": \"News and Press Release in Arabic on occupied Palestinian territory and 1 other country about Health, Mine Action and more; published on 7 Nov 2023 by ICRC\", \"https://blogs.icrc.org/ir/en/2023/11/icrc-response-to-humanitarian-needs-generated-by-recent-outbreak-of-hostilities/\": \"Key Facts and Figures 07 October - 06 November 2023. ARTICLE 07 NOVEMBER 2023. One month on, civilians pay the heavy price of intense violence. Renewed hostilities in Israel and Gaza -unprecedented in scale and intensity- reached the one-month mark and the human toll of the conflict is both staggering and heartbreaking.Thousands of people were killed and tens of thousands injured, many ...\"}'),\n",
       "  AIMessage(content=\"The International Committee of the Red Cross (ICRC) has been a pivotal humanitarian organization, working globally to provide aid and ensure the observance of humanitarian law during conflicts. In Zimbabwe, the ICRC has collaborated with local bodies like the Zimbabwe Red Cross Society to combat challenges such as cholera outbreaks. Additionally, in response to natural disasters like the one in 2019 that affected Zimbabwean districts, the ICRC has played a significant role in providing relief and support to affected populations. The ICRC's involvement extends to installing phone booths in detention centers to facilitate communication for migrants, showcasing practical solutions to improve well-being. Moreover, the ICRC's crisis management and response during events like the COVID-19 pandemic have been instrumental in reaching vulnerable populations and providing essential support. The organization's commitment to working closely with local communities and service providers demonstrates its dedication to involving beneficiaries in aid management and ensuring tailored humanitarian interventions.\\n\\nCitations:\\n\\n[1]: https://www.ifrc.org/taxonomy/term/402\\n[2]: https://www.emerald.com/insight/content/doi/10.1108/JHLSCM-11-2021-0119/full/html\\n[3]: https://blogs.icrc.org/inspired/2023/07/27/simple-solutions-big-impact-zimbabwe-malawi/\\n[4]: https://reliefweb.int/report/world/evaluation-icrcs-crisis-management-and-response-covid-19-pandemic-executive-summary-and-management-response-recommendations-november-2023\\n[5]: https://www.icrc.org/en/document/israel-and-occupied-territories-key-facts-and-figures-october-january-2024\", name='SubjectMatterExpert')],\n",
       " 'references': {'https://www.britannica.com/topic/International-Committee-of-the-Red-Cross': 'International Committee of the Red Cross , international nongovernmental organization headquartered in Geneva, Switzerland, that seeks to aid victims of war and to ensure the observance of humanitarian law by all parties in conflict. The work of the ICRC in both World Wars was recognized by the Nobel Prize for Peace in both 1917 and 1944. It shared another Nobel Peace Prize with the League of ...',\n",
       "  'https://en.wikipedia.org/wiki/International_Committee_of_the_Red_Cross': 'The International Committee of the Red Cross (ICRC; French: Comité International de la Croix-Rouge) is a humanitarian organization based in Geneva, Switzerland, and is a three-time Nobel Prize Laureate. The organization has played an instrumental role in the development of rules of war and promoting humanitarian norms.. State parties (signatories) to the Geneva Convention of 1949 and its ...',\n",
       "  'https://law4palestine.org/the-role-of-the-international-committee-of-the-red-cross-icrc-in-gaza-failure-navigating-neutrality-or-facilitating-inaction/': 'The International Committee of the Red Cross (ICRC) is, as enunciated in its mission statement, an \"impartial, neutral and independent organisation whose exclusively humanitarian mission is to protect the lives and dignity of victims of armed conflict and other situations of violence and to provide them with assistance\".',\n",
       "  'https://www.cnn.com/2023/12/09/middleeast/red-cross-icrc-humanitarian-history-intl-hnk/index.html': 'A long and storied history Being in the line of fire is something Red Cross volunteers have faced for the last 160 years. Founded in Geneva in 1863, the ICRC is the oldest and one of the most ...',\n",
       "  'https://www.icrc.org/en/document/frequently-asked-questions-icrcs-work-israel-and-occupied-territories': 'This page is an effort to make information easily accessible to all those who feel like the ICRC can help them in some way. This page also addresses frequently asked questions about our work and international humanitarian law (IHL) following the intensification of armed violence in Israel and the occupied Palestinian territory on 7 October 2023.',\n",
       "  'https://www.icrc.org/en/document/israel-and-occupied-territories-key-facts-and-figures-october-january-2024': \"Continued working closely with local communities and service providers to involve them in the ICRC's needs assessments and its programme design, delivery and evaluation. The work of the ICRC The ICRC helps those affected by armed conflict and promotes compliance with international humanitarian law.\",\n",
       "  'https://reliefweb.int/report/occupied-palestinian-territory/israel-and-occupied-territories-icrc-reaffirms-commitment-local-communities-despite-financial-situation-enar': \"Jerusalem - Humanitarian aid budgets are expected to decrease in the next two years, and the International Committee of the Red Cross (ICRC) is facing a financial shortfall in 2023. The ICRC's ...\",\n",
       "  'https://www.icrc.org/en/document/israel-and-occupied-territories-icrc-response-humanitarian-needs-generated-recent-outbreak': 'One month on, civilians pay the heavy price of intense violenceRenewed hostilities in Israel and Gaza -unprecedented in scale and intensity- reached the one-month mark and the human toll of the conflict is both staggering and heartbreaking. Thousands of people were killed and tens of thousands injured, many of them young children. In Israel, families of over 240 hostages have no news from ...',\n",
       "  'https://www.ifrc.org/taxonomy/term/402': 'IFRC launches urgent CHF 3 million appeal to combat cholera outbreak in Zimbabwe. Harare/Nairobi/Geneva, 17 November 2023 —The International Federation of Red Cross and Red Crescent Societies (IFRC) has launched an emergency appeal for 3 million Swiss Francs to support the Zimbabwe Red Cross Society (ZRCS).',\n",
       "  'https://www.emerald.com/insight/content/doi/10.1108/JHLSCM-11-2021-0119/full/html': 'The two Zimbabwean districts of Chimanimani and Chipinge in Manicaland Province were the most affected by that natural disaster which left a devastating trail of destruction in infrastructure and human life. Zimbabwe recorded 102 deaths, and over 200 people were injured while about 250 people were missing by March 19, 2019 .',\n",
       "  'https://blogs.icrc.org/inspired/2023/07/27/simple-solutions-big-impact-zimbabwe-malawi/': 'The ICRC installed four open-access phone booths, enabling detained migrants to make free, unsupervised calls to their families between 8am and 3pm. Previously, they could only make phone calls to relatives and loved ones four times a year during ICRC visits. As a result of the programme, the number of calls made by migrants increased ten-fold ...',\n",
       "  'https://reliefweb.int/report/world/evaluation-icrcs-crisis-management-and-response-covid-19-pandemic-executive-summary-and-management-response-recommendations-november-2023': \"The relevance and value of ICRC's support and 'last mile' efforts in reaching populations that experienced a disproportionate impact of COVID-19 ensured a response that other public health ...\"},\n",
       " 'editor': Editor(affiliation='International Committee of the Red Cross (ICRC)', name='Anna Smith', role='Humanitarian Aid Specialist', description='Anna will focus on the historical role of the ICRC in Zimbabwe and its impact on early Zimbabwean history, specifically exploring the intersection of humanitarian efforts and the local population.')}"
      ]
     },
     "execution_count": 24,
     "metadata": {},
     "output_type": "execute_result"
    }
   ],
   "source": [
    "final_state"
   ]
  },
  {
   "cell_type": "markdown",
   "id": "45e14dcb",
   "metadata": {},
   "source": [
    "## Refine Outline\n",
    "\n",
    "At this point in STORM, we've conducted a large amount of research from different perspectives. It's time to refine the original outline based on these investigations. Below, create a chain using the LLM with a long context window to update the original outline.\n"
   ]
  },
  {
   "cell_type": "code",
   "execution_count": 25,
   "id": "c284eb72-3856-406d-8582-5a1c92fd292e",
   "metadata": {},
   "outputs": [],
   "source": [
    "refine_outline_prompt = get_chat_prompt_from_prompt_templates([prompts.pmt_s_refine_outline, prompts.pmt_h_refine_outline])\n",
    "\n",
    "# Using turbo preview since the context can get quite long\n",
    "refine_outline_chain = get_chain_with_outputparser(refine_outline_prompt, fast_llm, outline_parser)\\\n",
    "    .with_config(run_name=\"Refine Outline\")\n",
    "\n",
    "# refine_outline_prompt.partial(format_instructions=outline_parser.get_format_instructions()) | long_context_llm | outline_parser"
   ]
  },
  {
   "cell_type": "code",
   "execution_count": 26,
   "id": "d19e58c5-086f-49ba-b921-791669d04b2f",
   "metadata": {},
   "outputs": [],
   "source": [
    "refined_outline = refine_outline_chain.invoke(\n",
    "    {\n",
    "        \"topic\": example_topic,\n",
    "        \"old_outline\": initial_outline.as_str,\n",
    "        \"conversations\": \"\\n\\n\".join(\n",
    "            f\"### {m.name}\\n\\n{m.content}\" for m in final_state[\"messages\"]\n",
    "        ),\n",
    "    }\n",
    ")"
   ]
  },
  {
   "cell_type": "code",
   "execution_count": 27,
   "id": "4c397dc5-e614-4a7f-9f78-67dffc9b8c59",
   "metadata": {},
   "outputs": [
    {
     "name": "stderr",
     "output_type": "stream",
     "text": [
      "2024-03-31 09:41:06,233 [MainThread  ] [INFO ]  # Impact of the International Committee of the Red Cross in Zimbabwe Early History\n",
      "\n",
      "## Introduction to the International Committee of the Red Cross in Zimbabwe\n",
      "\n",
      "Provide an overview of the historical role of the International Committee of the Red Cross (ICRC) in Zimbabwe and its impact on early Zimbabwean history.\n",
      "\n",
      "## Founding and Mission of the ICRC in Zimbabwe\n",
      "\n",
      "Detail the founding principles and mission of the ICRC in Zimbabwe, emphasizing its humanitarian efforts and commitment to upholding humanitarian law.\n",
      "\n",
      "## Key Contributions of the ICRC in Zimbabwean Society\n",
      "\n",
      "Explore how the ICRC's humanitarian efforts intersected with the local population in Zimbabwe, addressing challenges like cholera outbreaks, natural disasters, and communication barriers in detention centers.\n",
      "\n",
      "## Challenges Faced and Resolutions by the ICRC\n",
      "\n",
      "Discuss the challenges encountered by the ICRC in Zimbabwe and how the organization responded effectively, showcasing practical solutions and crisis management during events like the COVID-19 pandemic.\n",
      "\n",
      "## Legacy and Continued Influence of the ICRC in Zimbabwe\n",
      "\n",
      "Examine the lasting legacy and continued influence of the ICRC in Zimbabwe, highlighting the organization's ongoing commitment to supporting local communities and addressing humanitarian needs generated by conflicts.\n",
      "\n",
      "## Notable Figures Associated with the ICRC in Zimbabwe\n",
      "\n",
      "Profile key individuals who have played significant roles in shaping the historical impact of the ICRC in Zimbabwe, emphasizing their contributions to humanitarian efforts and peacebuilding.\n"
     ]
    }
   ],
   "source": [
    "logger.info(refined_outline.as_str)"
   ]
  },
  {
   "cell_type": "code",
   "execution_count": 76,
   "id": "bb8b76b6",
   "metadata": {},
   "outputs": [],
   "source": [
    "## Generate Article\n",
    "\n",
    "async def fetch_pages_from_refs(references: list[Document], limit: int|None = None) -> dict[str, list[Document]]:\n",
    "    page_map = {}\n",
    "    urls = [ref.metadata['source'] if 'source' in ref.metadata else None for ref in references]\n",
    "    \n",
    "    # populate page_map\n",
    "    # for url in urls:\n",
    "    #     if url is not None:\n",
    "    #         if url not in page_map:\n",
    "    #             page_map[url] = []\n",
    "    \n",
    "    # Get web pages\n",
    "    docs: list[list[Document]] = await get_web_page_docs_from_url1.abatch(urls, tags_to_extract=[ \"p\", \"h1\", \"h2\", \"h3\"], limit=limit)\n",
    "    \n",
    "    # filter None docs\n",
    "    \n",
    "    for doc in docs:\n",
    "        if doc is not None and len(doc) > 0:\n",
    "            key = doc[0].metadata['source'] if 'source' in doc[0].metadata else None\n",
    "            if key is not None:\n",
    "                if key not in page_map:\n",
    "                    page_map[key] = []\n",
    "                page_map[key].extend(doc)\n",
    "    \n",
    "    return page_map\n"
   ]
  },
  {
   "cell_type": "code",
   "execution_count": 84,
   "id": "563b2a40",
   "metadata": {},
   "outputs": [
    {
     "name": "stderr",
     "output_type": "stream",
     "text": [
      "2024-03-31 13:20:55,306 [MainThread  ] [INFO ]  Number of references: 12\n"
     ]
    },
    {
     "name": "stdout",
     "output_type": "stream",
     "text": [
      "Loading web page from url: https://www.britannica.com/topic/International-Committee-of-the-Red-Cross\n"
     ]
    },
    {
     "name": "stderr",
     "output_type": "stream",
     "text": [
      "Fetching pages: 100%|##########| 1/1 [00:00<00:00,  7.14it/s]"
     ]
    },
    {
     "name": "stdout",
     "output_type": "stream",
     "text": [
      "Loading web page from url: https://en.wikipedia.org/wiki/International_Committee_of_the_Red_Cross"
     ]
    },
    {
     "name": "stderr",
     "output_type": "stream",
     "text": [
      "\n"
     ]
    },
    {
     "name": "stdout",
     "output_type": "stream",
     "text": [
      "\n"
     ]
    },
    {
     "name": "stderr",
     "output_type": "stream",
     "text": [
      "Fetching pages: 100%|##########| 1/1 [00:00<00:00, 13.26it/s]\n"
     ]
    },
    {
     "name": "stdout",
     "output_type": "stream",
     "text": [
      "Loading web page from url: https://law4palestine.org/the-role-of-the-international-committee-of-the-red-cross-icrc-in-gaza-failure-navigating-neutrality-or-facilitating-inaction/\n"
     ]
    },
    {
     "name": "stderr",
     "output_type": "stream",
     "text": [
      "Fetching pages: 100%|##########| 1/1 [00:00<00:00,  1.21it/s]\n"
     ]
    },
    {
     "name": "stdout",
     "output_type": "stream",
     "text": [
      "Loading web page from url: https://www.cnn.com/2023/12/09/middleeast/red-cross-icrc-humanitarian-history-intl-hnk/index.html\n"
     ]
    },
    {
     "name": "stderr",
     "output_type": "stream",
     "text": [
      "Fetching pages: 100%|##########| 1/1 [00:00<00:00,  9.22it/s]\n"
     ]
    },
    {
     "name": "stdout",
     "output_type": "stream",
     "text": [
      "Loading web page from url: https://www.icrc.org/en/document/frequently-asked-questions-icrcs-work-israel-and-occupied-territories\n"
     ]
    },
    {
     "name": "stderr",
     "output_type": "stream",
     "text": [
      "Fetching pages: 100%|##########| 1/1 [00:00<00:00,  1.21it/s]\n"
     ]
    },
    {
     "name": "stdout",
     "output_type": "stream",
     "text": [
      "Loading web page from url: https://www.icrc.org/en/document/israel-and-occupied-territories-key-facts-and-figures-october-january-2024\n"
     ]
    },
    {
     "name": "stderr",
     "output_type": "stream",
     "text": [
      "Fetching pages: 100%|##########| 1/1 [00:00<00:00,  1.23it/s]\n"
     ]
    },
    {
     "name": "stdout",
     "output_type": "stream",
     "text": [
      "Loading web page from url: https://reliefweb.int/report/occupied-palestinian-territory/israel-and-occupied-territories-icrc-reaffirms-commitment-local-communities-despite-financial-situation-enar\n"
     ]
    },
    {
     "name": "stderr",
     "output_type": "stream",
     "text": [
      "Fetching pages: 100%|##########| 1/1 [00:00<00:00,  4.65it/s]\n"
     ]
    },
    {
     "name": "stdout",
     "output_type": "stream",
     "text": [
      "Loading web page from url: https://www.icrc.org/en/document/israel-and-occupied-territories-icrc-response-humanitarian-needs-generated-recent-outbreak\n"
     ]
    },
    {
     "name": "stderr",
     "output_type": "stream",
     "text": [
      "Fetching pages: 100%|##########| 1/1 [00:00<00:00,  1.20it/s]\n"
     ]
    },
    {
     "name": "stdout",
     "output_type": "stream",
     "text": [
      "Loading web page from url: https://www.ifrc.org/taxonomy/term/402\n"
     ]
    },
    {
     "name": "stderr",
     "output_type": "stream",
     "text": [
      "Fetching pages: 100%|##########| 1/1 [00:00<00:00,  7.91it/s]"
     ]
    },
    {
     "name": "stdout",
     "output_type": "stream",
     "text": [
      "Loading web page from url: https://www.emerald.com/insight/content/doi/10.1108/JHLSCM-11-2021-0119/full/html\n"
     ]
    },
    {
     "name": "stderr",
     "output_type": "stream",
     "text": [
      "\n",
      "Fetching pages: 100%|##########| 1/1 [00:01<00:00,  1.21s/it]\n"
     ]
    },
    {
     "name": "stdout",
     "output_type": "stream",
     "text": [
      "Loading web page from url: https://blogs.icrc.org/inspired/2023/07/27/simple-solutions-big-impact-zimbabwe-malawi/\n"
     ]
    },
    {
     "name": "stderr",
     "output_type": "stream",
     "text": [
      "Fetching pages: 100%|##########| 1/1 [00:01<00:00,  1.19s/it]\n"
     ]
    },
    {
     "name": "stdout",
     "output_type": "stream",
     "text": [
      "Loading web page from url: https://reliefweb.int/report/world/evaluation-icrcs-crisis-management-and-response-covid-19-pandemic-executive-summary-and-management-response-recommendations-november-2023\n"
     ]
    },
    {
     "name": "stderr",
     "output_type": "stream",
     "text": [
      "Fetching pages: 100%|##########| 1/1 [00:00<00:00,  6.00it/s]\n"
     ]
    }
   ],
   "source": [
    "text_splitter = RecursiveCharacterTextSplitter.from_tiktoken_encoder(\n",
    "    chunk_size=250, chunk_overlap=25\n",
    ")\n",
    "\n",
    "\n",
    "reference_docs = [\n",
    "    Document(page_content=v, metadata={\"source\": k})\n",
    "    for k, v in final_state[\"references\"].items()\n",
    "]\n",
    "\n",
    "logger.info(f\"Number of references: {len(reference_docs)}\")\n",
    "\n",
    "vectorstore = get_inmemory_db(reference_docs, embeddings)\n",
    "\n",
    "# Get contents of the references\n",
    "full_docs = await fetch_pages_from_refs(reference_docs[:], limit=10000)\n",
    "\n",
    "f1 = list(chain.from_iterable(full_docs.values()))\n",
    "full_split_docs = text_splitter.split_documents(f1)\n",
    "\n",
    "vectorstore.add_documents(full_split_docs)\n",
    "\n",
    "retriever = vectorstore.as_retriever()\n"
   ]
  },
  {
   "cell_type": "code",
   "execution_count": null,
   "id": "be58d4e6",
   "metadata": {},
   "outputs": [],
   "source": []
  },
  {
   "cell_type": "code",
   "execution_count": 85,
   "metadata": {},
   "outputs": [
    {
     "name": "stdout",
     "output_type": "stream",
     "text": [
      "[Document(page_content='(POWs).  In 2003, Nelson Mandela recalled how he was regularly visited by the ICRC during his long years of prison in apartheid South Africa.  “To me personally, and those who shared the experience of being political prisoners, the Red Cross was a beacon of humanity within the dark inhumane world of political imprisonment,” he said.        Members of the Red Cross wait outside a hangar in Kalamata, Greece, where migrants have been temporarily housed, following the sinking of a fishing boat carrying hundreds of passengers.   Byron Smith/Getty Images    Responding to natural disasters is another key element of the ICRC’s work.  During the height of the initial coronavirus rampage through Italy, Red Cross workers were among those going door to door in the city of Bergamo.  When an earthquake (https://www.cnn.com/2023/10/14/world/afghanistan-earthquake-herat-survivors-dst-intl-hnk/index.html) tore through northern Afghanistan earlier this year, the ICRC were among the few international aid organizations still present in the country since the', metadata={'id': '7a717127-3096-4692-bc1d-2c0a670b085c', 'source': 'https://www.cnn.com/2023/12/09/middleeast/red-cross-icrc-humanitarian-history-intl-hnk/index.html', 'title': 'â€˜In the line of fireâ€™: The crucial, neutral role the Red Cross plays in conflicts | CNN', 'description': 'During the brief truce between Israel and Hamas earlier this month, it was people in white vests driving SUVs who escorted freed hostages to safety.', 'language': 'en'}), Document(page_content='Uruguay (/wiki/Uruguayan_Red_Cross)    Uzbekistan (/w/index.php?title=Red_Crescent_Society_of_Uzbekistan&action=edit&redlink=1)    Vanuatu (/wiki/Vanuatu_Red_Cross_Society)    Venezuela (/w/index.php?title=Venezuelan_Red_Cross&action=edit&redlink=1)    Viet Nam (/wiki/Viet_Nam_Red_Cross_Society)    Yemen (/wiki/Yemen_Red_Crescent_Society)    Zambia (/wiki/Zambia_Red_Cross_Society)    Zimbabwe (/wiki/Zimbabwe_Red_Cross_Society)    Non-members and affiliate societies    Hong Kong (/wiki/Hong_Kong_Red_Cross) (autonomous branch of the Red Cross Society of China)   Macau (/wiki/Macau_Red_Cross) (autonomous branch of the Red Cross Society of China)     Northern Cyprus', metadata={'id': 'e64cfe69-f57c-471a-b7ce-bc3d9a1e806f', 'source': 'https://en.wikipedia.org/wiki/International_Committee_of_the_Red_Cross', 'title': 'International Committee of the Red Cross - Wikipedia', 'language': 'en'}), Document(page_content='International Organisations  International Committee of the Red Cross (ICRC)  International Federation of Red Cross and Red Crescent Societies (/wiki/International_Federation_of_Red_Cross_and_Red_Crescent_Societies) (IFRC)  National Societies (/wiki/List_of_Red_Cross_and_Red_Crescent_Societies)    Afghanistan (/wiki/Afghan_Red_Crescent_Society)    Albania (/wiki/Albanian_Red_Cross)    Algeria (/wiki/Algerian_Red_Crescent)    Andorra (/wiki/Andorran_Red_Cross)    Angola (/wiki/Angola_Red_Cross)    Antigua and Barbuda (/w/index.php?title=Antigua_and_Barbuda_Red_Cross&action=edit&redlink=1)    Argentina (/wiki/Argentine_Red_Cross)    Armenia (/wiki/Armenian_Red_Cross_Society)    Australia (/wiki/Australian_Red_Cross)', metadata={'id': 'd9aa7fc5-af70-4f3b-99c8-10ad48cd5020', 'source': 'https://en.wikipedia.org/wiki/International_Committee_of_the_Red_Cross', 'title': 'International Committee of the Red Cross - Wikipedia', 'language': 'en'}), Document(page_content='Australia (/wiki/Australian_Red_Cross)    Austria (/wiki/Austrian_Red_Cross)    Azerbaijan (/wiki/Azerbaijan_Red_Crescent_Society)    The Bahamas (/w/index.php?title=The_Bahamas_Red_Cross_Society&action=edit&redlink=1)    Bahrain (/wiki/Bahrain_Red_Crescent_Society)    Bangladesh (/wiki/Bangladesh_Red_Crescent_Society)    Barbados (/wiki/Barbados_Red_Cross_Society)    Belarus (/wiki/Belarus_Red_Cross) (suspended)   Belgium (/wiki/Belgian_Red_Cross)    Belize (/wiki/Belize_Red_Cross_Society)    Benin (/wiki/Red_Cross_of_Benin)    Bhutan (/w/index.php?title=Bhutan_Red_Cross_Society&action=edit&redlink=1)    Bolivia', metadata={'id': 'd9ab0b82-800a-40fd-974c-c85e1f3a9048', 'source': 'https://en.wikipedia.org/wiki/International_Committee_of_the_Red_Cross', 'title': 'International Committee of the Red Cross - Wikipedia', 'language': 'en'})]\n"
     ]
    }
   ],
   "source": [
    "d1 = retriever.invoke(\"What did the red cross do in Zimbabwe?\")\n",
    "print(d1)"
   ]
  },
  {
   "cell_type": "code",
   "execution_count": 73,
   "id": "3655ee8b",
   "metadata": {},
   "outputs": [],
   "source": [
    "\n",
    "\n",
    "\n",
    "# d2 = await fetch_pages_from_refs(reference_docs[:3], limit=10000)\n",
    "\n",
    "# for k, v in d2.items():\n",
    "#     pprint.pprint(f\"URL: {k}\\n\\n{v}\")\n",
    "#     print(\"\\n\\n\")"
   ]
  },
  {
   "cell_type": "code",
   "execution_count": null,
   "id": "13700f53",
   "metadata": {},
   "outputs": [],
   "source": []
  },
  {
   "cell_type": "markdown",
   "id": "e708d31a",
   "metadata": {},
   "source": [
    "#### Generate Sections\n",
    "\n",
    "Now you can generate the sections using the indexed docs.\n"
   ]
  },
  {
   "cell_type": "code",
   "execution_count": 39,
   "id": "524f4c87",
   "metadata": {},
   "outputs": [],
   "source": [
    "\n",
    "\n",
    "section_writer_prompt = get_chat_prompt_from_prompt_templates([prompts.pmt_s_section_writer, prompts.pmt_h_section_writer])\n",
    "\n",
    "\n",
    "async def retrieve(inputs: dict):\n",
    "    docs = await retriever.ainvoke(inputs[\"topic\"] + \": \" + inputs[\"section\"])\n",
    "    formatted = \"\\n\".join(\n",
    "        [\n",
    "            f'<Document href=\"{doc.metadata[\"source\"]}\"/>\\n{doc.page_content}\\n</Document>'\n",
    "            for doc in docs\n",
    "        ]\n",
    "    )\n",
    "    return {\"docs\": formatted, **inputs}\n",
    "\n",
    "wiki_parser = get_pydantic_parser(WikiSection)\n",
    "\n",
    "section_writer = (\n",
    "    retrieve\n",
    "    | section_writer_prompt.partial(format_instructions=wiki_parser.get_format_instructions())\n",
    "    | long_context_llm\n",
    "    | wiki_parser\n",
    ")"
   ]
  },
  {
   "cell_type": "code",
   "execution_count": 40,
   "id": "03723e96",
   "metadata": {},
   "outputs": [
    {
     "name": "stdout",
     "output_type": "stream",
     "text": [
      "## Founding of the Red Cross Church\n",
      "\n",
      "The Red Cross Church in Zimbabwe has a rich history dating back to its founding in the early 20th century. The church was established during a period of social and political transformation in Zimbabwe, where various indigenous churches rose to prominence. The Red Cross Church, with its unique blend of Christian beliefs and local traditions, quickly gained a following among the local population. Its founding members, inspired by a vision of faith-based community development, set out to create a place of worship that would also serve as a hub for social welfare and humanitarian initiatives.\n",
      "\n",
      "### Historical Background\n",
      "\n",
      "The Red Cross Church emerged as a response to the changing religious landscape in Zimbabwe, where traditional beliefs intertwined with Christian teachings. The founders of the church sought to create a space that honored both their cultural heritage and their Christian faith, fostering a sense of unity and belonging among the congregation.\n",
      "\n",
      "### Founding Members\n",
      "\n",
      "The Red Cross Church was founded by a group of dedicated individuals who were committed to uplifting their community through spiritual guidance and practical support. These founding members played a crucial role in shaping the values and mission of the church, emphasizing the importance of compassion, service, and solidarity.\n",
      "\n",
      "### Early Growth and Expansion\n",
      "\n",
      "In its early years, the Red Cross Church experienced significant growth as more people were drawn to its inclusive and community-oriented approach to worship. The church expanded its outreach programs and established connections with other local organizations to enhance its impact on various social issues.[0] https://www.researchgate.net/publication/370240457_New_Contours_of_Church_and_State_Relations_The_Faithfully_Obedient_Indigenous_Churches_in_21st_Century_Zimbabwe\n"
     ]
    }
   ],
   "source": [
    "section = await section_writer.ainvoke(\n",
    "    {\n",
    "        \"outline\": refined_outline.as_str,\n",
    "        \"section\": refined_outline.sections[1].section_title,\n",
    "        \"topic\": example_topic,\n",
    "    }\n",
    ")\n",
    "print(section.as_str)"
   ]
  },
  {
   "cell_type": "markdown",
   "id": "0afd728d",
   "metadata": {},
   "source": [
    "#### Generate final article\n",
    "\n",
    "Now we can rewrite the draft to appropriately group all the citations and maintain a consistent voice.\n"
   ]
  },
  {
   "cell_type": "code",
   "execution_count": null,
   "id": "05089f2d",
   "metadata": {},
   "outputs": [],
   "source": [
    "from langchain_core.output_parsers import StrOutputParser\n",
    "\n",
    "writer_prompt = ChatPromptTemplate.from_messages(\n",
    "    [\n",
    "        (\n",
    "            \"system\",\n",
    "            \"You are an expert Wikipedia author. Write the complete wiki article on {topic} using the following section drafts:\\n\\n\"\n",
    "            \"{draft}\\n\\nStrictly follow Wikipedia format guidelines.\",\n",
    "        ),\n",
    "        (\n",
    "            \"user\",\n",
    "            'Write the complete Wiki article using markdown format. Organize citations using footnotes like \"[1]\",\"\" avoiding duplicates in the footer. Include URLs in the footer.',\n",
    "        ),\n",
    "    ]\n",
    ")\n",
    "\n",
    "writer = writer_prompt | long_context_llm | StrOutputParser()"
   ]
  },
  {
   "cell_type": "code",
   "execution_count": null,
   "id": "0e6e6e5a",
   "metadata": {},
   "outputs": [],
   "source": [
    "for tok in writer.stream({\"topic\": example_topic, \"draft\": section.as_str}):\n",
    "    print(tok, end=\"\")"
   ]
  },
  {
   "cell_type": "markdown",
   "id": "4f6ab734",
   "metadata": {},
   "source": [
    "## Final Flow\n",
    "\n",
    "Now it's time to string everything together. We will have 6 main stages in sequence:\n",
    ".\n",
    "\n",
    "1. Generate the initial outline + perspectives\n",
    "2. Batch converse with each perspective to expand the content for the article\n",
    "3. Refine the outline based on the conversations\n",
    "4. Index the reference docs from the conversations\n",
    "5. Write the individual sections of the article\n",
    "6. Write the final wiki\n",
    "\n",
    "The state tracks the outputs of each stage.\n"
   ]
  },
  {
   "cell_type": "code",
   "execution_count": null,
   "id": "e775ba8c",
   "metadata": {},
   "outputs": [],
   "source": [
    "class ResearchState(TypedDict):\n",
    "    topic: str\n",
    "    outline: Outline\n",
    "    editors: List[Editor]\n",
    "    interview_results: List[InterviewState]\n",
    "    # The final sections output\n",
    "    sections: List[WikiSection]\n",
    "    article: str"
   ]
  },
  {
   "cell_type": "code",
   "execution_count": null,
   "id": "ed1854d6",
   "metadata": {},
   "outputs": [],
   "source": [
    "import asyncio\n",
    "\n",
    "\n",
    "async def initialize_research(state: ResearchState):\n",
    "    topic = state[\"topic\"]\n",
    "    coros = (\n",
    "        generate_outline_direct.ainvoke({\"topic\": topic}),\n",
    "        survey_subjects.ainvoke(topic),\n",
    "    )\n",
    "    results = await asyncio.gather(*coros)\n",
    "    return {\n",
    "        **state,\n",
    "        \"outline\": results[0],\n",
    "        \"editors\": results[1].editors,\n",
    "    }\n",
    "\n",
    "\n",
    "async def conduct_interviews(state: ResearchState):\n",
    "    topic = state[\"topic\"]\n",
    "    initial_states = [\n",
    "        {\n",
    "            \"editor\": editor,\n",
    "            \"messages\": [\n",
    "                AIMessage(\n",
    "                    content=f\"So you said you were writing an article on {topic}?\",\n",
    "                    name=\"SubjectMatterExpert\",\n",
    "                )\n",
    "            ],\n",
    "        }\n",
    "        for editor in state[\"editors\"]\n",
    "    ]\n",
    "    # We call in to the sub-graph here to parallelize the interviews\n",
    "    interview_results = await interview_graph.abatch(initial_states)\n",
    "\n",
    "    return {\n",
    "        **state,\n",
    "        \"interview_results\": interview_results,\n",
    "    }\n",
    "\n",
    "\n",
    "def format_conversation(interview_state):\n",
    "    messages = interview_state[\"messages\"]\n",
    "    convo = \"\\n\".join(f\"{m.name}: {m.content}\" for m in messages)\n",
    "    return f'Conversation with {interview_state[\"editor\"].name}\\n\\n' + convo\n",
    "\n",
    "\n",
    "async def refine_outline(state: ResearchState):\n",
    "    convos = \"\\n\\n\".join(\n",
    "        [\n",
    "            format_conversation(interview_state)\n",
    "            for interview_state in state[\"interview_results\"]\n",
    "        ]\n",
    "    )\n",
    "\n",
    "    updated_outline = await refine_outline_chain.ainvoke(\n",
    "        {\n",
    "            \"topic\": state[\"topic\"],\n",
    "            \"old_outline\": state[\"outline\"].as_str,\n",
    "            \"conversations\": convos,\n",
    "        }\n",
    "    )\n",
    "    return {**state, \"outline\": updated_outline}\n",
    "\n",
    "\n",
    "async def index_references(state: ResearchState):\n",
    "    all_docs = []\n",
    "    for interview_state in state[\"interview_results\"]:\n",
    "        reference_docs = [\n",
    "            Document(page_content=v, metadata={\"source\": k})\n",
    "            for k, v in interview_state[\"references\"].items()\n",
    "        ]\n",
    "        all_docs.extend(reference_docs)\n",
    "    await vectorstore.aadd_documents(all_docs)\n",
    "    return state\n",
    "\n",
    "\n",
    "async def write_sections(state: ResearchState):\n",
    "    outline = state[\"outline\"]\n",
    "    sections = await section_writer.abatch(\n",
    "        [\n",
    "            {\n",
    "                \"outline\": refined_outline.as_str,\n",
    "                \"section\": section.section_title,\n",
    "                \"topic\": state[\"topic\"],\n",
    "            }\n",
    "            for section in outline.sections\n",
    "        ]\n",
    "    )\n",
    "    return {\n",
    "        **state,\n",
    "        \"sections\": sections,\n",
    "    }\n",
    "\n",
    "\n",
    "async def write_article(state: ResearchState):\n",
    "    topic = state[\"topic\"]\n",
    "    sections = state[\"sections\"]\n",
    "    draft = \"\\n\\n\".join([section.as_str for section in sections])\n",
    "    article = await writer.ainvoke({\"topic\": topic, \"draft\": draft})\n",
    "    return {\n",
    "        **state,\n",
    "        \"article\": article,\n",
    "    }"
   ]
  },
  {
   "cell_type": "markdown",
   "id": "f87881e3",
   "metadata": {},
   "source": [
    "#### Create the graph\n"
   ]
  },
  {
   "cell_type": "code",
   "execution_count": null,
   "id": "af3b4be1",
   "metadata": {},
   "outputs": [],
   "source": [
    "builder_of_storm = StateGraph(ResearchState)\n",
    "\n",
    "nodes = [\n",
    "    (\"init_research\", initialize_research),\n",
    "    (\"conduct_interviews\", conduct_interviews),\n",
    "    (\"refine_outline\", refine_outline),\n",
    "    (\"index_references\", index_references),\n",
    "    (\"write_sections\", write_sections),\n",
    "    (\"write_article\", write_article),\n",
    "]\n",
    "for i in range(len(nodes)):\n",
    "    name, node = nodes[i]\n",
    "    builder_of_storm.add_node(name, node)\n",
    "    if i > 0:\n",
    "        builder_of_storm.add_edge(nodes[i - 1][0], name)\n",
    "\n",
    "builder_of_storm.set_entry_point(nodes[0][0])\n",
    "builder_of_storm.set_finish_point(nodes[-1][0])\n",
    "storm = builder_of_storm.compile()"
   ]
  },
  {
   "cell_type": "code",
   "execution_count": null,
   "id": "2a815f1b",
   "metadata": {},
   "outputs": [],
   "source": [
    "async for step in storm.astream(\n",
    "    {\n",
    "        \"topic\": \"Building better slack bots using LLMs\",\n",
    "    }\n",
    "):\n",
    "    name = next(iter(step))\n",
    "    print(name)\n",
    "    logger.info(\"-- \", str(step[name])[:300])\n",
    "    if END in step:\n",
    "        results = step"
   ]
  },
  {
   "cell_type": "code",
   "execution_count": null,
   "id": "1bef7021",
   "metadata": {},
   "outputs": [],
   "source": [
    "article = results[END][\"article\"]"
   ]
  },
  {
   "cell_type": "markdown",
   "id": "3b094067",
   "metadata": {},
   "source": [
    "## Render the Wiki\n",
    "\n",
    "Now we can render the final wiki page!\n"
   ]
  },
  {
   "cell_type": "code",
   "execution_count": null,
   "id": "f7750c83",
   "metadata": {},
   "outputs": [],
   "source": [
    "from IPython.display import Markdown\n",
    "\n",
    "# We will down-header the sections to create less confusion in this notebook\n",
    "Markdown(article.replace(\"\\n#\", \"\\n##\"))"
   ]
  },
  {
   "cell_type": "code",
   "execution_count": null,
   "id": "00e24611",
   "metadata": {},
   "outputs": [],
   "source": []
  }
 ],
 "metadata": {
  "kernelspec": {
   "display_name": "Python 3 (ipykernel)",
   "language": "python",
   "name": "python3"
  },
  "language_info": {
   "codemirror_mode": {
    "name": "ipython",
    "version": 3
   },
   "file_extension": ".py",
   "mimetype": "text/x-python",
   "name": "python",
   "nbconvert_exporter": "python",
   "pygments_lexer": "ipython3",
   "version": "3.10.13"
  }
 },
 "nbformat": 4,
 "nbformat_minor": 5
}

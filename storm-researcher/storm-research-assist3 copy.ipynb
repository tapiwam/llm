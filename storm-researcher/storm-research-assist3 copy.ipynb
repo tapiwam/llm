{
 "cells": [
  {
   "cell_type": "markdown",
   "id": "3b912966-4dce-4685-a5b2-a39c5229a0f1",
   "metadata": {},
   "source": [
    "# Storm Research Assistant\n",
    "\n",
    "Reference\n",
    "https://github.com/langchain-ai/langgraph/blob/main/examples/storm/storm.ipynb\n"
   ]
  },
  {
   "cell_type": "code",
   "execution_count": 1,
   "id": "54832538-aa97-4e40-9713-eaae1e62852a",
   "metadata": {},
   "outputs": [],
   "source": [
    "# ## Prereqs\n",
    "\n",
    "# %pip install -U langchain_community langchain_openai langgraph wikipedia  scikit-learn  langchain_fireworks\n",
    "# # We use one or the other search engine below\n",
    "# %pip install -U tavily-python\n",
    "# %pip install -U duckduckgo-search\n",
    "# # ! apt-get install graphviz graphviz-dev\n",
    "# # %pip install pygraphviz\n",
    "\n"
   ]
  },
  {
   "cell_type": "code",
   "execution_count": 2,
   "id": "f32108c2-977f-450d-82cb-90aa21f09171",
   "metadata": {},
   "outputs": [],
   "source": [
    "from storm import *\n",
    "from langchain_openai import ChatOpenAI, OpenAIEmbeddings\n",
    "\n",
    "\n",
    "fast_llm = ChatOpenAI(model=\"gpt-3.5-turbo\")\n",
    "# long_context_llm = ChatOpenAI(model=\"gpt-4-turbo-preview\")\n",
    "long_context_llm = ChatOpenAI(model=\"gpt-3.5-turbo-0125\")\n",
    "\n",
    "\n",
    "embeddings = OpenAIEmbeddings(model=\"text-embedding-3-small\")\n",
    "\n",
    "vectorstore_dir = \"./data/storm/vectorstore/\"\n",
    "vectorstore = Chroma(persist_directory=vectorstore_dir, embedding_function=embeddings)\n",
    "\n",
    "interview_config = InterviewConfig(long_llm=long_context_llm, \n",
    "                                   fast_llm=fast_llm, \n",
    "                                   max_conversations=5, \n",
    "                                   max_reference_length=10000,\n",
    "                                   tags_to_extract=[ \"p\", \"h1\", \"h2\", \"h3\"],\n",
    "                                   embeddings=embeddings,\n",
    "                                   vectorstore=vectorstore,\n",
    "                                   vectorstore_dir=vectorstore_dir,\n",
    "                                   runnable_config=RunnableConfig()\n",
    "                                   )"
   ]
  },
  {
   "cell_type": "code",
   "execution_count": 3,
   "id": "1c8209e0",
   "metadata": {},
   "outputs": [],
   "source": [
    "# Needs topic as input - {\"topic\": \"\"}\n",
    "outline = get_chain_outline(interview_config.fast_llm)\n",
    "\n",
    "# Needs topic as input - {\"topic\": \"\"}\n",
    "expand_chain = get_chain_expand_related_topics(fast_llm)\n",
    "\n",
    "\n",
    "gen_perspectives_chain = get_chain_perspective_generator(fast_llm)\n",
    "\n",
    "# Need messages as input - {\"messages\": []}\n",
    "gen_queries_chain = get_chain_queries(fast_llm)\n",
    "gen_answer_chain = get_chain_answer(fast_llm)\n",
    "\n",
    "example_topic = \"Increase you development productivity by using Docker compose and local docker labs\"\n",
    "t1 = {\"topic\": example_topic}"
   ]
  },
  {
   "cell_type": "code",
   "execution_count": 4,
   "id": "716b7045",
   "metadata": {},
   "outputs": [
    {
     "data": {
      "text/plain": [
       "Outline(page_title='Increase Your Development Productivity with Docker Compose and Local Docker Labs', sections=[Section(section_title='Introduction to Docker Compose', description='Explanation of Docker Compose and its role in development environments.', subsections=None), Section(section_title='Benefits of Using Docker Compose', description='List of advantages that Docker Compose offers for development workflows.', subsections=None), Section(section_title='Setting Up Local Docker Labs', description='Step-by-step guide on how to create and manage local Docker labs for development purposes.', subsections=[Subsection(subsection_title='Installing Docker', description='Instructions on installing Docker on various operating systems.'), Subsection(subsection_title='Creating Docker Compose Files', description='Guidelines on creating Docker Compose files for efficient container management.'), Subsection(subsection_title='Running Docker Containers Locally', description='Demonstration on running Docker containers locally using Docker Compose.')]), Section(section_title='Best Practices for Development Productivity', description='Recommendations on optimizing development workflows with Docker Compose and local Docker labs.', subsections=None), Section(section_title='Troubleshooting and Common Issues', description='Common problems faced when using Docker Compose and how to resolve them.', subsections=None)])"
      ]
     },
     "execution_count": 4,
     "metadata": {},
     "output_type": "execute_result"
    }
   ],
   "source": [
    "o1 = outline.invoke(t1)\n",
    "o1"
   ]
  },
  {
   "cell_type": "code",
   "execution_count": 5,
   "id": "e79bb550",
   "metadata": {},
   "outputs": [
    {
     "data": {
      "text/plain": [
       "RelatedSubjects(topics=['Docker (software)', 'Containerization', 'DevOps', 'Continuous Integration', 'Microservices'])"
      ]
     },
     "execution_count": 5,
     "metadata": {},
     "output_type": "execute_result"
    }
   ],
   "source": [
    "r1 = expand_chain.invoke(t1)\n",
    "r1"
   ]
  },
  {
   "cell_type": "code",
   "execution_count": 6,
   "id": "429463f2",
   "metadata": {},
   "outputs": [
    {
     "data": {
      "text/plain": [
       "Perspectives(editors=[Editor(affiliation='Academic Institution', name='Dr. Container', role='Researcher', description='Dr. Container is an expert in containerization technologies and will focus on the historical development and technical aspects of Docker in the context of containerization.'), Editor(affiliation='Tech Company', name='DevOps Diana', role='DevOps Engineer', description='DevOps Diana will provide insights on the integration of Docker in DevOps practices, including automation, collaboration, and monitoring.'), Editor(affiliation='Open Source Community', name='CI Charlie', role='Continuous Integration Specialist', description='CI Charlie will emphasize the role of Docker in Continuous Integration pipelines, highlighting best practices and tools for seamless integration.'), Editor(affiliation='Software Development Firm', name='Microservices Mike', role='Microservices Architect', description='Microservices Mike will explore the use of Docker in building and deploying microservices, focusing on scalability, resilience, and modularity.')])"
      ]
     },
     "execution_count": 6,
     "metadata": {},
     "output_type": "execute_result"
    }
   ],
   "source": [
    "p1 = gen_perspectives_chain.invoke({\"examples\": r1.topics, \"topic\": example_topic})\n",
    "p1"
   ]
  },
  {
   "cell_type": "code",
   "execution_count": 7,
   "id": "5451c2fb",
   "metadata": {},
   "outputs": [
    {
     "data": {
      "text/plain": [
       "AIMessage(content='Can you provide some insights into the historical significance of the subject of my Wikipedia page?', response_metadata={'token_usage': {'completion_tokens': 17, 'prompt_tokens': 138, 'total_tokens': 155}, 'model_name': 'gpt-3.5-turbo', 'system_fingerprint': 'fp_c2295e73ad', 'finish_reason': 'stop', 'logprobs': None}, id='run-cfc7c4e3-2780-4e46-98c2-2a0eaa5be2a4-0')"
      ]
     },
     "execution_count": 7,
     "metadata": {},
     "output_type": "execute_result"
    }
   ],
   "source": [
    "c = get_chain_question_generator(fast_llm)\n",
    "t2 = {\"persona\": \"\"}\n",
    "\n",
    "q1 = c.invoke(t2)\n",
    "q1"
   ]
  },
  {
   "cell_type": "code",
   "execution_count": 8,
   "id": "6a6716f9",
   "metadata": {},
   "outputs": [
    {
     "data": {
      "text/plain": [
       "Queries(queries=['historical significance of [subject] Wikipedia page', 'importance of [subject] in history', 'impact of [subject] on society'])"
      ]
     },
     "execution_count": 8,
     "metadata": {},
     "output_type": "execute_result"
    }
   ],
   "source": [
    "q_in = {\"messages\": [HumanMessage(content=q1.content, name=\"JohnSmith\")]}\n",
    "a1 = await gen_queries_chain.ainvoke(q_in)\n",
    "a1"
   ]
  },
  {
   "cell_type": "code",
   "execution_count": null,
   "id": "ca06904c",
   "metadata": {},
   "outputs": [],
   "source": []
  },
  {
   "cell_type": "markdown",
   "id": "f625d9f8",
   "metadata": {},
   "source": [
    "# Nodes"
   ]
  },
  {
   "cell_type": "code",
   "execution_count": 9,
   "id": "7cade58d",
   "metadata": {},
   "outputs": [
    {
     "name": "stderr",
     "output_type": "stream",
     "text": [
      "2024-04-20 17:54:49,116 [MainThread  ] [INFO ]  Generating question for JohnDoe\n",
      "2024-04-20 17:54:49,624 [MainThread  ] [INFO ]  Generated question for JohnDoe: What recent studies in the field of biology do you find particularly groundbreaking or promising?\n"
     ]
    },
    {
     "data": {
      "text/plain": [
       "{'interview_config': InterviewConfig(long_llm=ChatOpenAI(client=<openai.resources.chat.completions.Completions object at 0x11241f0d0>, async_client=<openai.resources.chat.completions.AsyncCompletions object at 0x112422350>, model_name='gpt-3.5-turbo-0125', openai_api_key=SecretStr('**********'), openai_proxy=''), fast_llm=ChatOpenAI(client=<openai.resources.chat.completions.Completions object at 0x112253590>, async_client=<openai.resources.chat.completions.AsyncCompletions object at 0x1120ded90>, openai_api_key=SecretStr('**********'), openai_proxy=''), max_conversations=5, max_reference_length=10000, tags_to_extract=['p', 'h1', 'h2', 'h3'], embeddings=OpenAIEmbeddings(client=<openai.resources.embeddings.Embeddings object at 0x112423490>, async_client=<openai.resources.embeddings.AsyncEmbeddings object at 0x11243a610>, model='text-embedding-3-small', dimensions=None, deployment='text-embedding-ada-002', openai_api_version='', openai_api_base=None, openai_api_type='', openai_proxy='', embedding_ctx_length=8191, openai_api_key=SecretStr('**********'), openai_organization=None, allowed_special=set(), disallowed_special='all', chunk_size=1000, max_retries=2, request_timeout=None, headers=None, tiktoken_enabled=True, tiktoken_model_name=None, show_progress_bar=False, model_kwargs={}, skip_empty=False, default_headers=None, default_query=None, retry_min_seconds=4, retry_max_seconds=20, http_client=None, http_async_client=None), vectorstore_dir='./data/storm/vectorstore/', vectorstore=<langchain_community.vectorstores.chroma.Chroma object at 0x1124225d0>, runnable_config={}),\n",
       " 'editor': Editor(affiliation='Example University', name='JohnDoe', role='Lead Editor', description='Experienced in the field of biology.'),\n",
       " 'messages': [HumanMessage(content='What recent studies in the field of biology do you find particularly groundbreaking or promising?', response_metadata={'token_usage': {'completion_tokens': 16, 'prompt_tokens': 164, 'total_tokens': 180}, 'model_name': 'gpt-3.5-turbo', 'system_fingerprint': 'fp_c2295e73ad', 'finish_reason': 'stop', 'logprobs': None}, name='JohnDoe', id='run-7aa668af-3dbf-46ee-9660-c8cedfaae86a-0', tool_calls=[], invalid_tool_calls=[])],\n",
       " 'references': {}}"
      ]
     },
     "execution_count": 9,
     "metadata": {},
     "output_type": "execute_result"
    }
   ],
   "source": [
    "# Question node \n",
    "@as_runnable\n",
    "async def node_generate_question(state: InterviewState) -> dict[str, Any]:\n",
    "    \"\"\"\n",
    "    Generates a question for the editor in the interview.\n",
    "\n",
    "    Args:\n",
    "        state (InterviewState): The interview state.\n",
    "\n",
    "    Returns:\n",
    "        InterviewState: The updated interview state with the generated question added as a message.\n",
    "    \"\"\"\n",
    "    editor: Editor = state.editor\n",
    "    interview_config = state.interview_config\n",
    "    fast_llm = interview_config.fast_llm\n",
    "\n",
    "    # Normalize name\n",
    "    name = cleanup_name(editor.name)\n",
    "    editor.name = name\n",
    "\n",
    "\n",
    "    logger.info(f'Generating question for {name}')\n",
    "    gn_chain = c = get_chain_question_generator(fast_llm)\n",
    "    input = {\"persona\": editor.persona}\n",
    "    \n",
    "    ai_response = await gn_chain.ainvoke(input)\n",
    "    \n",
    "    # Convert AI response to HumanMessage to simulate human conversation\n",
    "    tag_with_name(ai_response, name)\n",
    "    message = HumanMessage(**ai_response.dict(exclude={\"type\"}))\n",
    "    \n",
    "    state.messages.append(message)\n",
    "\n",
    "    logger.info(f'Generated question for {name}: {message.content}')\n",
    "    return state.as_dict()\n",
    "\n",
    "\n",
    "# Test \n",
    "\n",
    "state = InterviewState(\n",
    "    interview_config=interview_config,\n",
    "    editor=Editor(affiliation=\"Example University\", name=\"John Doe\", role=\"Lead Editor\", description=\"Experienced in the field of biology.\"),\n",
    "    messages=[],\n",
    "    references={}\n",
    ")\n",
    "\n",
    "await node_generate_question.ainvoke(state)"
   ]
  },
  {
   "cell_type": "code",
   "execution_count": 10,
   "id": "a304fe70",
   "metadata": {},
   "outputs": [],
   "source": [
    "\n",
    "# @as_runnable\n",
    "# async def node_fetch_data(state: InterviewState) -> dict[str, Any]:\n",
    "#     \"\"\"\n",
    "#     Generates search engine queries for the editor in the interview and fetches relevant data. Data is started in a vector store.\n",
    "\n",
    "#     Args:\n",
    "#         state (InterviewState): The interview state.\n",
    "\n",
    "#     Returns:\n",
    "#         InterviewState: The updated interview state with the generated question added as a message.\n",
    "#     \"\"\"\n",
    "#     editor: Editor = state.editor\n",
    "#     config = state.interview_config\n",
    "#     fast_llm = config.fast_llm\n",
    "    \n",
    "#     # Chain definitions\n",
    "#     gen_answer_chain = get_chain_answer(fast_llm)\n",
    "#     queries_chain = get_chain_queries(fast_llm)\n",
    "    \n",
    "#     # Normalize name\n",
    "#     name = cleanup_name(editor.name)\n",
    "#     # editor.name = name\n",
    "\n",
    "#     logger.info(f'START - Generate answers for [{name}]')\n",
    "    \n",
    "#     # Generate search engine queries\n",
    "    \n",
    "#     q_in = {\"messages\": state.messages}\n",
    "#     queries:Queries = await queries_chain.ainvoke(q_in)\n",
    "#     logger.info(f\"Got {len(queries.queries)} search engine queries for [{name}] -\\n\\t {queries.queries}\")\n",
    "\n",
    "\n",
    "#     # Run search engine on all generated queries using tool\n",
    "#     query_results = await search_engine.abatch(queries.queries, config.runnable_config, return_exceptions=True)\n",
    "#     successful_results = [res for res in query_results if not isinstance(res, Exception)]\n",
    "#     all_query_results = {res[\"url\"]: res[\"content\"] for results in successful_results for res in results}\n",
    "\n",
    "#     # to references\n",
    "#     references: dict[str, Reference] = dict({k: Reference(url=k, title=v) for k, v in all_query_results.items()})\n",
    "#     state.references = {**state.references, **references} # update references\n",
    "    \n",
    "#     # Dump search engine results to string and truncate to max reference length\n",
    "#     dumped_successful_results = json.dumps(all_query_results)\n",
    "    \n",
    "#     logger.info(f\"Got {len(successful_results)} search engine results for [{name}] - \\n\\t {all_query_results}\")\n",
    "#     logger.info(f\"Dumped {len(dumped_successful_results)} characters for [{name}] - \\n\\t {dumped_successful_results}\")\n",
    "\n",
    "#     # # Append Questions from Wikipedia and Answers from the search engine\n",
    "#     ai_message_for_queries: AIMessage = get_ai_message(json.dumps(queries.as_dict()))    \n",
    "#     tool_results_message = generate_human_message(dumped_successful_results)\n",
    "    \n",
    "#     logger.debug(f\"QUERY_AI_MSG: {ai_message_for_queries} for [{name}]\")\n",
    "#     logger.debug(f\"RESULTS_H_MSG: {tool_results_message} for [{name}]\")\n",
    "#     state.messages.append(ai_message_for_queries)\n",
    "#     state.messages.append(tool_results_message)\n",
    "\n",
    "#     # Download data\n",
    "#     # await fetch_pages_from_refs(references=references)\n",
    "\n",
    "#     logger.info(f'Generated question for {name}: {message.content}')\n",
    "#     return state.as_dict()\n",
    "\n",
    "\n",
    "# # Test \n",
    "\n",
    "# state = InterviewState(\n",
    "#     interview_config=interview_config,\n",
    "#     editor=Editor(affiliation=\"Example University\", name=\"John Doe\", role=\"Lead Editor\", description=\"Experienced in the field of biology.\"),\n",
    "#     messages=[],\n",
    "#     references={},\n",
    "#     summary=\"\"\n",
    "# )\n",
    "\n",
    "# await node_generate_question.ainvoke(state)"
   ]
  },
  {
   "cell_type": "code",
   "execution_count": 11,
   "id": "2ae994dc",
   "metadata": {},
   "outputs": [],
   "source": [
    "# Answer node\n",
    "\n",
    "@as_runnable\n",
    "async def node_generate_answer(state: InterviewState) -> dict[str, Any]:\n",
    "    \"\"\"\n",
    "    Generates an answer for the editor's question in the interview.\n",
    "    \n",
    "    Args:\n",
    "        state (InterviewState): The interview state.\n",
    "    \n",
    "    Returns:\n",
    "        InterviewState: The updated interview state with the generated answer added as a message.\n",
    "    \"\"\"\n",
    "    \n",
    "    editor: Editor = state.editor\n",
    "    config = state.interview_config\n",
    "    fast_llm = config.fast_llm\n",
    "    \n",
    "    # Chain definitions\n",
    "    gen_answer_chain = get_chain_answer(fast_llm)\n",
    "    queries_chain = get_chain_queries(fast_llm)\n",
    "    \n",
    "    # Normalize name\n",
    "    name = cleanup_name(editor.name)\n",
    "    # editor.name = name\n",
    "\n",
    "    logger.info(f'START - Generate answers for [{name}]')\n",
    "    \n",
    "    # Generate search engine queries\n",
    "    \n",
    "    q_in = {\"messages\": state.messages}\n",
    "    queries:Queries = await queries_chain.ainvoke(q_in)\n",
    "    logger.info(f\"Got {len(queries.queries)} search engine queries for [{name}] -\\n\\t {queries.queries}\")\n",
    "\n",
    "\n",
    "    # Run search engine on all generated queries using tool\n",
    "    query_results = await search_engine.abatch(queries.queries, config.runnable_config, return_exceptions=True)\n",
    "    successful_results = [res for res in query_results if not isinstance(res, Exception)]\n",
    "    all_query_results = {res[\"url\"]: res[\"content\"] for results in successful_results for res in results}\n",
    "    \n",
    "    # Dump search engine results to string and truncate to max reference length\n",
    "    dumped_successful_results = json.dumps(all_query_results)\n",
    "    # dumped_successful_results = dumped_successful_results[:config.max_reference_length] \\\n",
    "    #     if config.max_reference_length is not None \\\n",
    "    #     and len(dumped_successful_results) > int(config.max_reference_length) \\\n",
    "    #     else dumped_successful_results\n",
    "    #     # and config.max_reference_length > 0 \\\n",
    "    \n",
    "    logger.info(f\"Got {len(successful_results)} search engine results for [{name}] - \\n\\t {all_query_results}\")\n",
    "    logger.info(f\"Dumped {len(dumped_successful_results)} characters for [{name}] - \\n\\t {dumped_successful_results}\")\n",
    "\n",
    "    # # Append Questions from Wikipedia and Answers from the search engine\n",
    "    ai_message_for_queries: AIMessage = get_ai_message(json.dumps(queries.as_dict()))    \n",
    "    tool_results_message = generate_human_message(dumped_successful_results)\n",
    "    \n",
    "    logger.debug(f\"QUERY_AI_MSG: {ai_message_for_queries} for [{name}]\")\n",
    "    logger.debug(f\"RESULTS_H_MSG: {tool_results_message} for [{name}]\")\n",
    "    state.messages.append(ai_message_for_queries)\n",
    "    state.messages.append(tool_results_message)\n",
    "    \n",
    "    # Only update the shared state with the final answer to avoid polluting the dialogue history with intermediate messages\n",
    "    try:\n",
    "        generated: AnswerWithCitations = await gen_answer_chain.ainvoke(state.as_dict())\n",
    "        logger.info(f\"Genreted final answer {generated} for [{name}] - \\n\\t {generated.as_str}\")\n",
    "\n",
    "    except Exception as e:\n",
    "        logger.error(f\"Error generating answer for [{name}] - {e}\")\n",
    "        generated = AnswerWithCitations(answer=\"\", cited_urls=[])\n",
    "    \n",
    "    cited_urls = set(generated.cited_urls)\n",
    "    \n",
    "    # Update references with cited references - Save the retrieved information to a the shared state for future reference\n",
    "    cited_references = {k: v for k, v in all_query_results.items() if k in cited_urls}\n",
    "    # state.references = update_references(state.references, cited_references)\n",
    "    state.references = {**state.references, **cited_references}\n",
    "    \n",
    "    \n",
    "    # # Add message to shared state\n",
    "    formatted_message = AIMessage(name=name, content=generated.as_str)\n",
    "    state.messages.append(formatted_message)\n",
    "    \n",
    "    logger.info(f'END - generate answer for [{name}]')    \n",
    "    return state.as_dict()\n",
    "\n",
    "# clone state \n",
    "# ax1 = await node_generate_answer.ainvoke(state)\n",
    "# ax1"
   ]
  },
  {
   "cell_type": "code",
   "execution_count": 12,
   "id": "0462f8af",
   "metadata": {},
   "outputs": [],
   "source": [
    "\n",
    "def route_messages(state_dict: dict):\n",
    "    \n",
    "    print(f'Routing messages: {state_dict}')\n",
    "    \n",
    "    state = InterviewState.from_dict(state_dict)\n",
    "\n",
    "    editor = state.editor\n",
    "    config = state.interview_config\n",
    "    name = cleanup_name(editor.name)\n",
    "\n",
    "    print(f'Routing messages for [{name}]')\n",
    "\n",
    "    messages = state.messages\n",
    "    num_responses = len(\n",
    "        [m for m in messages if isinstance(m, AIMessage) and m.name == name]\n",
    "    )\n",
    "\n",
    "    if num_responses >= config.max_conversations:\n",
    "        return END\n",
    "    \n",
    "    last_question = messages[-2]\n",
    "    last_question_content = str(last_question.content if last_question.content else \"\")\n",
    "    if last_question_content.endswith(\"Thank you so much for your help!\"):\n",
    "        return END\n",
    "    \n",
    "    print(f'Continue asking question for [{name}] as this is not the last end of the conversation')\n",
    "    return \"ask_question\""
   ]
  },
  {
   "cell_type": "code",
   "execution_count": null,
   "id": "750ec020",
   "metadata": {},
   "outputs": [],
   "source": []
  },
  {
   "cell_type": "code",
   "execution_count": 13,
   "id": "5ebf2593",
   "metadata": {},
   "outputs": [],
   "source": [
    "class StormInterviewGraph1:\n",
    "    def __init__(self, interview_config: InterviewConfig):\n",
    "        self.interview_config = interview_config\n",
    "        self.interviews = Interviews(interview_config=interview_config, perspectives=None, conversations={})\n",
    "        self.graph = self.build_graph()\n",
    "        \n",
    "    def build_graph(self):\n",
    "        builder = StateGraph(InterviewState)\n",
    "\n",
    "        builder.add_node(\"ask_question\", node_generate_question)\n",
    "        builder.add_node(\"answer_question\",node_generate_answer)\n",
    "        builder.add_conditional_edges(\"answer_question\", route_messages)\n",
    "        builder.add_edge(\"ask_question\", \"answer_question\")\n",
    "\n",
    "        builder.set_entry_point(\"ask_question\")\n",
    "        return builder.compile().with_config(run_name=\"Conduct Interviews\")\n",
    "    \n",
    "    def initialize_conversations(self):\n",
    "        if self.interviews is not None \\\n",
    "            and self.interviews.perspectives is not None \\\n",
    "            and len(self.interviews.perspectives.editors) > 0:\n",
    "            for editor in self.interviews.perspectives.editors:\n",
    "                convo = InterviewState(interview_config=self.interview_config, editor=editor, messages=[], references={})\n",
    "                self.interviews.conversations[editor] = convo\n",
    "    \n",
    "    async def run_single_interview(self, state: InterviewState):\n",
    "        return await self.graph.ainvoke(state)\n",
    "    \n",
    "    \n",
    "    async def run(self):\n",
    "        inital_states = list(self.interviews.conversations.values())\n",
    "        return await self.graph.abatch(inital_states, return_exceptions=True)\n",
    "    \n",
    "\n",
    "    async def stream_and_return_results(self, state):\n",
    "        async for step in self.graph.astream(state):\n",
    "            name = next(iter(step))\n",
    "            print(name)\n",
    "            print(f\"Processing step: {name}\")\n",
    "            print(\"-- \", str(step[name][\"messages\"])[:300])\n",
    "            if END in step:\n",
    "                final_step = step\n",
    "                \n",
    "        final_state = next(iter(final_step.values()))\n",
    "        return final_state"
   ]
  },
  {
   "cell_type": "code",
   "execution_count": 14,
   "id": "0112adea",
   "metadata": {},
   "outputs": [],
   "source": [
    "@as_runnable\n",
    "async def survey_subjects(topic: str)-> Perspectives:\n",
    "    print(f\"Survey Subjects for Topic: {topic}\")\n",
    "    related_subjects = await expand_chain.ainvoke({\"topic\": topic})\n",
    "    retrieved_docs = await wikipedia_retriever.abatch(\n",
    "        related_subjects.topics, return_exceptions=True\n",
    "    )\n",
    "    all_docs = []\n",
    "    for docs in retrieved_docs:\n",
    "        if isinstance(docs, BaseException):\n",
    "            continue\n",
    "        all_docs.extend(docs)\n",
    "    print(f\"Retrieved {len(all_docs)} docs for Topic: {topic}\")\n",
    "    \n",
    "    formatted = format_docs(all_docs)\n",
    "    return await gen_perspectives_chain.ainvoke({\"examples\": formatted, \"topic\": topic})"
   ]
  },
  {
   "cell_type": "code",
   "execution_count": 15,
   "id": "63098a6a",
   "metadata": {},
   "outputs": [
    {
     "name": "stdout",
     "output_type": "stream",
     "text": [
      "Survey Subjects for Topic: Increase you development productivity by using Docker compose and local docker labs\n",
      "Retrieved 6 docs for Topic: Increase you development productivity by using Docker compose and local docker labs\n"
     ]
    },
    {
     "name": "stderr",
     "output_type": "stream",
     "text": [
      "2024-04-20 17:55:02,051 [MainThread  ] [INFO ]  dict_keys([Editor(affiliation='Software Development Company', name='Alice Smith', role='Software Developer', description='Alice will focus on how Docker is used in software development, including its impact on project management and coding practices.'), Editor(affiliation='IT Operations Firm', name='Bob Johnson', role='IT Operations Specialist', description='Bob will provide insights into the operational aspects of Docker, such as deployment, monitoring, and troubleshooting in diverse environments.'), Editor(affiliation='Academic Institution', name='Dr. Emily Davis', role='Researcher', description='Dr. Davis will contribute an academic perspective on the implications of Docker in software engineering, focusing on its integration with Agile practices.'), Editor(affiliation='Freelance Consultant', name='Charlie Brown', role='DevOps Expert', description='Charlie will highlight the role of Docker in the DevOps methodology, emphasizing shared ownership, workflow automation, and rapid feedback.'), Editor(affiliation='Tech Media Outlet', name='Eve White', role='Tech Journalist', description='Eve will cover the latest trends and news related to Docker, providing real-world examples and use cases for readers.')])\n"
     ]
    }
   ],
   "source": [
    "\n",
    "interview_graph = StormInterviewGraph1(interview_config=interview_config)\n",
    "\n",
    "# Generate perspectives\n",
    "perspectives = await survey_subjects.ainvoke(example_topic)\n",
    "\n",
    "# Set perspectives\n",
    "interview_graph.interviews.perspectives = perspectives\n",
    "interview_graph.initialize_conversations()\n",
    "logger.info(interview_graph.interviews.conversations.keys())\n",
    "\n"
   ]
  },
  {
   "cell_type": "code",
   "execution_count": 16,
   "id": "28b5a66f",
   "metadata": {},
   "outputs": [
    {
     "name": "stderr",
     "output_type": "stream",
     "text": [
      "2024-04-20 17:55:02,084 [MainThread  ] [INFO ]  Generating question for DrContainer\n"
     ]
    },
    {
     "name": "stderr",
     "output_type": "stream",
     "text": [
      "2024-04-20 17:55:02,543 [MainThread  ] [INFO ]  Generated question for DrContainer: What are the key technical innovations that Docker introduced to the field of containerization?\n",
      "2024-04-20 17:55:02,568 [MainThread  ] [INFO ]  START - Generate answers for [DrContainer]\n"
     ]
    },
    {
     "name": "stdout",
     "output_type": "stream",
     "text": [
      "ask_question\n",
      "Processing step: ask_question\n",
      "--  [HumanMessage(content='What are the key technical innovations that Docker introduced to the field of containerization?', response_metadata={'token_usage': {'completion_tokens': 16, 'prompt_tokens': 185, 'total_tokens': 201}, 'model_name': 'gpt-3.5-turbo', 'system_fingerprint': 'fp_c2295e73ad', 'fini\n"
     ]
    },
    {
     "name": "stderr",
     "output_type": "stream",
     "text": [
      "2024-04-20 17:55:03,193 [MainThread  ] [INFO ]  Got 1 search engine queries for [DrContainer] -\n",
      "\t ['Key technical innovations introduced by Docker in containerization']\n"
     ]
    },
    {
     "name": "stdout",
     "output_type": "stream",
     "text": [
      "Searching DuckDuckGo for [Key technical innovations introduced by Docker in containerization]\n"
     ]
    },
    {
     "name": "stderr",
     "output_type": "stream",
     "text": [
      "2024-04-20 17:55:04,945 [MainThread  ] [INFO ]  Got 1 search engine results for [DrContainer] - \n",
      "\t {'https://medium.com/@marwanjaber/docker-in-a-nutshell-a-practical-guide-to-containerization-62d0fce9761d': \"Building a Docker Image with Our Node.js App. To containerize the Node.js application mentioned earlier, you'll need a Dockerfile. Create a new file named Dockerfile in the root directory of ...\", 'https://www.linkedin.com/pulse/docker-revolutionizing-containerization-from-inception-himanshu-jha-8iiwc': 'As Docker gained traction, it quickly became an industry standard for containerization. Developers embraced its simplicity and efficiency, while operations teams appreciated the ease of deployment ...', 'https://blackcatdev.medium.com/unlocking-innovation-how-dockers-evolution-reshaped-software-development-f7ce9e87bd03': 'Over the past decade, Docker has emerged as a transformative force in the realm of software development, revolutionizing how applications are built, shipped, and deployed. Initially released in 2013, Docker introduced a lightweight containerization technology that has since become a cornerstone of modern software development practices.', 'https://medium.com/@hello_17906/docker-revolutionizing-software-development-and-containerization-cfdc9e705332': 'In 2013, Solomon Hykes introduced the world to Docker, a groundbreaking containerization technology that has since become a cornerstone of modern software development. This article traces the ...', 'https://www.docker.com/blog/dockers-developer-innovation-unveiling-performance-milestones/': \"Imagine your containers are digital backpacks; the heavier the bag, the harder to carry it around while you work. We've introduced support for Zstandard (zstd) compression of Docker container images in Docker Desktop 4.19 to lighten the load, reducing container image sizes with remarkable results.\"}\n",
      "2024-04-20 17:55:04,946 [MainThread  ] [INFO ]  Dumped 1786 characters for [DrContainer] - \n",
      "\t {\"https://medium.com/@marwanjaber/docker-in-a-nutshell-a-practical-guide-to-containerization-62d0fce9761d\": \"Building a Docker Image with Our Node.js App. To containerize the Node.js application mentioned earlier, you'll need a Dockerfile. Create a new file named Dockerfile in the root directory of ...\", \"https://www.linkedin.com/pulse/docker-revolutionizing-containerization-from-inception-himanshu-jha-8iiwc\": \"As Docker gained traction, it quickly became an industry standard for containerization. Developers embraced its simplicity and efficiency, while operations teams appreciated the ease of deployment ...\", \"https://blackcatdev.medium.com/unlocking-innovation-how-dockers-evolution-reshaped-software-development-f7ce9e87bd03\": \"Over the past decade, Docker has emerged as a transformative force in the realm of software development, revolutionizing how applications are built, shipped, and deployed. Initially released in 2013, Docker introduced a lightweight containerization technology that has since become a cornerstone of modern software development practices.\", \"https://medium.com/@hello_17906/docker-revolutionizing-software-development-and-containerization-cfdc9e705332\": \"In 2013, Solomon Hykes introduced the world to Docker, a groundbreaking containerization technology that has since become a cornerstone of modern software development. This article traces the ...\", \"https://www.docker.com/blog/dockers-developer-innovation-unveiling-performance-milestones/\": \"Imagine your containers are digital backpacks; the heavier the bag, the harder to carry it around while you work. We've introduced support for Zstandard (zstd) compression of Docker container images in Docker Desktop 4.19 to lighten the load, reducing container image sizes with remarkable results.\"}\n"
     ]
    },
    {
     "name": "stdout",
     "output_type": "stream",
     "text": [
      "Got search engine results: 5 for [Key technical innovations introduced by Docker in containerization]\n"
     ]
    },
    {
     "name": "stderr",
     "output_type": "stream",
     "text": [
      "2024-04-20 17:55:07,985 [MainThread  ] [INFO ]  Genreted final answer answer='Docker introduced several key technical innovations to the field of containerization. One of the significant contributions was the introduction of a lightweight containerization technology in 2013, allowing for more efficient application building, shipping, and deployment. Docker quickly became an industry standard due to its simplicity and efficiency, with developers embracing its ease of use and operations teams appreciating the streamlined deployment process. Additionally, Docker implemented Zstandard (zstd) compression for Docker container images in Docker Desktop 4.19, reducing container image sizes and improving performance.' cited_urls=['https://blackcatdev.medium.com/unlocking-innovation-how-dockers-evolution-reshaped-software-development-f7ce9e87bd03', 'https://www.linkedin.com/pulse/docker-revolutionizing-containerization-from-inception-himanshu-jha-8iiwc', 'https://medium.com/@hello_17906/docker-revolutionizing-software-development-and-containerization-cfdc9e705332', 'https://www.docker.com/blog/dockers-developer-innovation-unveiling-performance-milestones/'] for [DrContainer] - \n",
      "\t Docker introduced several key technical innovations to the field of containerization. One of the significant contributions was the introduction of a lightweight containerization technology in 2013, allowing for more efficient application building, shipping, and deployment. Docker quickly became an industry standard due to its simplicity and efficiency, with developers embracing its ease of use and operations teams appreciating the streamlined deployment process. Additionally, Docker implemented Zstandard (zstd) compression for Docker container images in Docker Desktop 4.19, reducing container image sizes and improving performance.\n",
      "\n",
      "Citations:\n",
      "\n",
      "[1]: https://blackcatdev.medium.com/unlocking-innovation-how-dockers-evolution-reshaped-software-development-f7ce9e87bd03\n",
      "[2]: https://www.linkedin.com/pulse/docker-revolutionizing-containerization-from-inception-himanshu-jha-8iiwc\n",
      "[3]: https://medium.com/@hello_17906/docker-revolutionizing-software-development-and-containerization-cfdc9e705332\n",
      "[4]: https://www.docker.com/blog/dockers-developer-innovation-unveiling-performance-milestones/\n",
      "2024-04-20 17:55:07,986 [MainThread  ] [INFO ]  END - generate answer for [DrContainer]\n",
      "2024-04-20 17:55:08,005 [MainThread  ] [INFO ]  Generating question for DrContainer\n"
     ]
    },
    {
     "name": "stdout",
     "output_type": "stream",
     "text": [
      "Routing messages: InterviewState(interview_config=InterviewConfig(long_llm=ChatOpenAI(client=<openai.resources.chat.completions.Completions object at 0x11241f0d0>, async_client=<openai.resources.chat.completions.AsyncCompletions object at 0x112422350>, model_name='gpt-3.5-turbo-0125', openai_api_key=SecretStr('**********'), openai_proxy=''), fast_llm=ChatOpenAI(client=<openai.resources.chat.completions.Completions object at 0x112253590>, async_client=<openai.resources.chat.completions.AsyncCompletions object at 0x1120ded90>, openai_api_key=SecretStr('**********'), openai_proxy=''), max_conversations=5, max_reference_length=10000, tags_to_extract=['p', 'h1', 'h2', 'h3'], embeddings=OpenAIEmbeddings(client=<openai.resources.embeddings.Embeddings object at 0x112423490>, async_client=<openai.resources.embeddings.AsyncEmbeddings object at 0x11243a610>, model='text-embedding-3-small', dimensions=None, deployment='text-embedding-ada-002', openai_api_version='', openai_api_base=None, openai_api_type='', openai_proxy='', embedding_ctx_length=8191, openai_api_key=SecretStr('**********'), openai_organization=None, allowed_special=set(), disallowed_special='all', chunk_size=1000, max_retries=2, request_timeout=None, headers=None, tiktoken_enabled=True, tiktoken_model_name=None, show_progress_bar=False, model_kwargs={}, skip_empty=False, default_headers=None, default_query=None, retry_min_seconds=4, retry_max_seconds=20, http_client=None, http_async_client=None), vectorstore_dir='./data/storm/vectorstore/', vectorstore=<langchain_community.vectorstores.chroma.Chroma object at 0x1124225d0>, runnable_config={}), editor=Editor(affiliation='Academic Institution', name='DrContainer', role='Researcher', description='Dr. Container is an expert in containerization technologies and will focus on the historical development and technical aspects of Docker in the context of containerization.'), messages=[HumanMessage(content='What are the key technical innovations that Docker introduced to the field of containerization?', response_metadata={'token_usage': {'completion_tokens': 16, 'prompt_tokens': 185, 'total_tokens': 201}, 'model_name': 'gpt-3.5-turbo', 'system_fingerprint': 'fp_c2295e73ad', 'finish_reason': 'stop', 'logprobs': None}, name='DrContainer', id='run-bea10abb-8a76-448f-b854-f869b8e7cf78-0', tool_calls=[], invalid_tool_calls=[]), AIMessage(content='{\"queries\": [\"Key technical innovations introduced by Docker in containerization\"]}', name='AI'), HumanMessage(content='{\"https://medium.com/@marwanjaber/docker-in-a-nutshell-a-practical-guide-to-containerization-62d0fce9761d\": \"Building a Docker Image with Our Node.js App. To containerize the Node.js application mentioned earlier, you\\'ll need a Dockerfile. Create a new file named Dockerfile in the root directory of ...\", \"https://www.linkedin.com/pulse/docker-revolutionizing-containerization-from-inception-himanshu-jha-8iiwc\": \"As Docker gained traction, it quickly became an industry standard for containerization. Developers embraced its simplicity and efficiency, while operations teams appreciated the ease of deployment ...\", \"https://blackcatdev.medium.com/unlocking-innovation-how-dockers-evolution-reshaped-software-development-f7ce9e87bd03\": \"Over the past decade, Docker has emerged as a transformative force in the realm of software development, revolutionizing how applications are built, shipped, and deployed. Initially released in 2013, Docker introduced a lightweight containerization technology that has since become a cornerstone of modern software development practices.\", \"https://medium.com/@hello_17906/docker-revolutionizing-software-development-and-containerization-cfdc9e705332\": \"In 2013, Solomon Hykes introduced the world to Docker, a groundbreaking containerization technology that has since become a cornerstone of modern software development. This article traces the ...\", \"https://www.docker.com/blog/dockers-developer-innovation-unveiling-performance-milestones/\": \"Imagine your containers are digital backpacks; the heavier the bag, the harder to carry it around while you work. We\\'ve introduced support for Zstandard (zstd) compression of Docker container images in Docker Desktop 4.19 to lighten the load, reducing container image sizes with remarkable results.\"}'), AIMessage(content='Docker introduced several key technical innovations to the field of containerization. One of the significant contributions was the introduction of a lightweight containerization technology in 2013, allowing for more efficient application building, shipping, and deployment. Docker quickly became an industry standard due to its simplicity and efficiency, with developers embracing its ease of use and operations teams appreciating the streamlined deployment process. Additionally, Docker implemented Zstandard (zstd) compression for Docker container images in Docker Desktop 4.19, reducing container image sizes and improving performance.\\n\\nCitations:\\n\\n[1]: https://blackcatdev.medium.com/unlocking-innovation-how-dockers-evolution-reshaped-software-development-f7ce9e87bd03\\n[2]: https://www.linkedin.com/pulse/docker-revolutionizing-containerization-from-inception-himanshu-jha-8iiwc\\n[3]: https://medium.com/@hello_17906/docker-revolutionizing-software-development-and-containerization-cfdc9e705332\\n[4]: https://www.docker.com/blog/dockers-developer-innovation-unveiling-performance-milestones/', name='DrContainer')], references={'https://www.linkedin.com/pulse/docker-revolutionizing-containerization-from-inception-himanshu-jha-8iiwc': 'As Docker gained traction, it quickly became an industry standard for containerization. Developers embraced its simplicity and efficiency, while operations teams appreciated the ease of deployment ...', 'https://blackcatdev.medium.com/unlocking-innovation-how-dockers-evolution-reshaped-software-development-f7ce9e87bd03': 'Over the past decade, Docker has emerged as a transformative force in the realm of software development, revolutionizing how applications are built, shipped, and deployed. Initially released in 2013, Docker introduced a lightweight containerization technology that has since become a cornerstone of modern software development practices.', 'https://medium.com/@hello_17906/docker-revolutionizing-software-development-and-containerization-cfdc9e705332': 'In 2013, Solomon Hykes introduced the world to Docker, a groundbreaking containerization technology that has since become a cornerstone of modern software development. This article traces the ...', 'https://www.docker.com/blog/dockers-developer-innovation-unveiling-performance-milestones/': \"Imagine your containers are digital backpacks; the heavier the bag, the harder to carry it around while you work. We've introduced support for Zstandard (zstd) compression of Docker container images in Docker Desktop 4.19 to lighten the load, reducing container image sizes with remarkable results.\"})\n",
      "InterviewState.from_dict: data is an instance of InterviewState\n",
      "Routing messages for [DrContainer]\n",
      "Continue asking question for [DrContainer] as this is not the last end of the conversation\n",
      "answer_question\n",
      "Processing step: answer_question\n",
      "--  [HumanMessage(content='What are the key technical innovations that Docker introduced to the field of containerization?', response_metadata={'token_usage': {'completion_tokens': 16, 'prompt_tokens': 185, 'total_tokens': 201}, 'model_name': 'gpt-3.5-turbo', 'system_fingerprint': 'fp_c2295e73ad', 'fini\n"
     ]
    },
    {
     "name": "stderr",
     "output_type": "stream",
     "text": [
      "2024-04-20 17:55:09,378 [MainThread  ] [INFO ]  Generated question for DrContainer: What specific technical innovations or features distinguish Docker from other containerization technologies that have contributed to its widespread adoption in the industry?\n",
      "2024-04-20 17:55:09,402 [MainThread  ] [INFO ]  START - Generate answers for [DrContainer]\n"
     ]
    },
    {
     "name": "stdout",
     "output_type": "stream",
     "text": [
      "ask_question\n",
      "Processing step: ask_question\n",
      "--  [HumanMessage(content='What are the key technical innovations that Docker introduced to the field of containerization?', response_metadata={'token_usage': {'completion_tokens': 16, 'prompt_tokens': 185, 'total_tokens': 201}, 'model_name': 'gpt-3.5-turbo', 'system_fingerprint': 'fp_c2295e73ad', 'fini\n"
     ]
    },
    {
     "name": "stderr",
     "output_type": "stream",
     "text": [
      "2024-04-20 17:55:10,138 [MainThread  ] [INFO ]  Got 1 search engine queries for [DrContainer] -\n",
      "\t ['Specific technical innovations or features that distinguish Docker from other containerization technologies and contributed to its widespread adoption in the industry']\n"
     ]
    },
    {
     "name": "stdout",
     "output_type": "stream",
     "text": [
      "Searching DuckDuckGo for [Specific technical innovations or features that distinguish Docker from other containerization technologies and contributed to its widespread adoption in the industry]\n"
     ]
    },
    {
     "name": "stderr",
     "output_type": "stream",
     "text": [
      "2024-04-20 17:55:11,676 [MainThread  ] [INFO ]  Got 1 search engine results for [DrContainer] - \n",
      "\t {'https://www.enablegeek.com/blog/containerization-technologies-docker-kubernetes/': 'Docker and Kubernetes have become leaders among the numerous containerization technologies, providing solid tools for managing and orchestrating containers at scale. This article compares the features, use cases, and contributions of Docker, Kubernetes, and other containerization technologies to examine the advantages of these technologies in ...', 'https://www.rapidbrains.com/blog/docker-vs-kubernetes-selecting-the-right-containerization-solution': \"At their core, both Docker and Kubernetes rely on containerization technology. Docker facilitates the creation, management, and execution of containers, which encapsulate applications and their dependencies. Meanwhile, Kubernetes extends containerization's potential by orchestrating and managing containerized applications on a larger scale.\", 'https://dev.to/documatic/docker-vs-kubernetes-a-comparative-study-4aa2': 'Docker, at its core, revolves around containerization and adept image management, making it a prime choice for the creation and testing of environments in development. Conversely, Kubernetes excels in the orchestration of containers, specializing in tasks like scaling and the management of intricate applications in the realm of production.', 'https://www.educative.io/blog/kubernetes-vs-docker': 'Kubernetes has emerged as the dominant force in container orchestration, offering robust features and a thriving ecosystem. Docker, originally renowned for containerization, now focuses on smaller-scale deployments. The future sees Kubernetes expanding into serverless, edge computing, and automation, while Docker may carve out a niche within Kubernetes ecosystems. Read more to understand the ...', 'https://www.hackerrank.com/blog/what-is-docker-introduction/': 'Docker is a platform designed to simplify the process of developing, shipping, and running applications. It achieves this using containerization, a technology that packages an application and its dependencies together into a single unit called a container.'}\n",
      "2024-04-20 17:55:11,677 [MainThread  ] [INFO ]  Dumped 2084 characters for [DrContainer] - \n",
      "\t {\"https://www.enablegeek.com/blog/containerization-technologies-docker-kubernetes/\": \"Docker and Kubernetes have become leaders among the numerous containerization technologies, providing solid tools for managing and orchestrating containers at scale. This article compares the features, use cases, and contributions of Docker, Kubernetes, and other containerization technologies to examine the advantages of these technologies in ...\", \"https://www.rapidbrains.com/blog/docker-vs-kubernetes-selecting-the-right-containerization-solution\": \"At their core, both Docker and Kubernetes rely on containerization technology. Docker facilitates the creation, management, and execution of containers, which encapsulate applications and their dependencies. Meanwhile, Kubernetes extends containerization's potential by orchestrating and managing containerized applications on a larger scale.\", \"https://dev.to/documatic/docker-vs-kubernetes-a-comparative-study-4aa2\": \"Docker, at its core, revolves around containerization and adept image management, making it a prime choice for the creation and testing of environments in development. Conversely, Kubernetes excels in the orchestration of containers, specializing in tasks like scaling and the management of intricate applications in the realm of production.\", \"https://www.educative.io/blog/kubernetes-vs-docker\": \"Kubernetes has emerged as the dominant force in container orchestration, offering robust features and a thriving ecosystem. Docker, originally renowned for containerization, now focuses on smaller-scale deployments. The future sees Kubernetes expanding into serverless, edge computing, and automation, while Docker may carve out a niche within Kubernetes ecosystems. Read more to understand the ...\", \"https://www.hackerrank.com/blog/what-is-docker-introduction/\": \"Docker is a platform designed to simplify the process of developing, shipping, and running applications. It achieves this using containerization, a technology that packages an application and its dependencies together into a single unit called a container.\"}\n"
     ]
    },
    {
     "name": "stdout",
     "output_type": "stream",
     "text": [
      "Got search engine results: 5 for [Specific technical innovations or features that distinguish Docker from other containerization technologies and contributed to its widespread adoption in the industry]\n"
     ]
    },
    {
     "name": "stderr",
     "output_type": "stream",
     "text": [
      "2024-04-20 17:55:14,727 [MainThread  ] [INFO ]  Genreted final answer answer=\"Docker's key technical innovations and features that distinguish it from other containerization technologies include its focus on containerization and adept image management, making it ideal for creating and testing environments in development. Docker simplifies the process of developing, shipping, and running applications through containerization technology, which packages applications and dependencies into containers. In contrast, Kubernetes excels in container orchestration, specializing in tasks like scaling and managing complex applications in production. While Docker is known for smaller-scale deployments, Kubernetes offers robust features and a thriving ecosystem for container orchestration on a larger scale.\" cited_urls=['https://dev.to/documatic/docker-vs-kubernetes-a-comparative-study-4aa2', 'https://www.hackerrank.com/blog/what-is-docker-introduction/'] for [DrContainer] - \n",
      "\t Docker's key technical innovations and features that distinguish it from other containerization technologies include its focus on containerization and adept image management, making it ideal for creating and testing environments in development. Docker simplifies the process of developing, shipping, and running applications through containerization technology, which packages applications and dependencies into containers. In contrast, Kubernetes excels in container orchestration, specializing in tasks like scaling and managing complex applications in production. While Docker is known for smaller-scale deployments, Kubernetes offers robust features and a thriving ecosystem for container orchestration on a larger scale.\n",
      "\n",
      "Citations:\n",
      "\n",
      "[1]: https://dev.to/documatic/docker-vs-kubernetes-a-comparative-study-4aa2\n",
      "[2]: https://www.hackerrank.com/blog/what-is-docker-introduction/\n",
      "2024-04-20 17:55:14,727 [MainThread  ] [INFO ]  END - generate answer for [DrContainer]\n",
      "2024-04-20 17:55:14,743 [MainThread  ] [INFO ]  Generating question for DrContainer\n"
     ]
    },
    {
     "name": "stdout",
     "output_type": "stream",
     "text": [
      "Routing messages: InterviewState(interview_config=InterviewConfig(long_llm=ChatOpenAI(client=<openai.resources.chat.completions.Completions object at 0x11241f0d0>, async_client=<openai.resources.chat.completions.AsyncCompletions object at 0x112422350>, model_name='gpt-3.5-turbo-0125', openai_api_key=SecretStr('**********'), openai_proxy=''), fast_llm=ChatOpenAI(client=<openai.resources.chat.completions.Completions object at 0x112253590>, async_client=<openai.resources.chat.completions.AsyncCompletions object at 0x1120ded90>, openai_api_key=SecretStr('**********'), openai_proxy=''), max_conversations=5, max_reference_length=10000, tags_to_extract=['p', 'h1', 'h2', 'h3'], embeddings=OpenAIEmbeddings(client=<openai.resources.embeddings.Embeddings object at 0x112423490>, async_client=<openai.resources.embeddings.AsyncEmbeddings object at 0x11243a610>, model='text-embedding-3-small', dimensions=None, deployment='text-embedding-ada-002', openai_api_version='', openai_api_base=None, openai_api_type='', openai_proxy='', embedding_ctx_length=8191, openai_api_key=SecretStr('**********'), openai_organization=None, allowed_special=set(), disallowed_special='all', chunk_size=1000, max_retries=2, request_timeout=None, headers=None, tiktoken_enabled=True, tiktoken_model_name=None, show_progress_bar=False, model_kwargs={}, skip_empty=False, default_headers=None, default_query=None, retry_min_seconds=4, retry_max_seconds=20, http_client=None, http_async_client=None), vectorstore_dir='./data/storm/vectorstore/', vectorstore=<langchain_community.vectorstores.chroma.Chroma object at 0x1124225d0>, runnable_config={}), editor=Editor(affiliation='Academic Institution', name='DrContainer', role='Researcher', description='Dr. Container is an expert in containerization technologies and will focus on the historical development and technical aspects of Docker in the context of containerization.'), messages=[HumanMessage(content='What are the key technical innovations that Docker introduced to the field of containerization?', response_metadata={'token_usage': {'completion_tokens': 16, 'prompt_tokens': 185, 'total_tokens': 201}, 'model_name': 'gpt-3.5-turbo', 'system_fingerprint': 'fp_c2295e73ad', 'finish_reason': 'stop', 'logprobs': None}, name='DrContainer', id='run-bea10abb-8a76-448f-b854-f869b8e7cf78-0', tool_calls=[], invalid_tool_calls=[]), AIMessage(content='{\"queries\": [\"Key technical innovations introduced by Docker in containerization\"]}', name='AI'), HumanMessage(content='{\"https://medium.com/@marwanjaber/docker-in-a-nutshell-a-practical-guide-to-containerization-62d0fce9761d\": \"Building a Docker Image with Our Node.js App. To containerize the Node.js application mentioned earlier, you\\'ll need a Dockerfile. Create a new file named Dockerfile in the root directory of ...\", \"https://www.linkedin.com/pulse/docker-revolutionizing-containerization-from-inception-himanshu-jha-8iiwc\": \"As Docker gained traction, it quickly became an industry standard for containerization. Developers embraced its simplicity and efficiency, while operations teams appreciated the ease of deployment ...\", \"https://blackcatdev.medium.com/unlocking-innovation-how-dockers-evolution-reshaped-software-development-f7ce9e87bd03\": \"Over the past decade, Docker has emerged as a transformative force in the realm of software development, revolutionizing how applications are built, shipped, and deployed. Initially released in 2013, Docker introduced a lightweight containerization technology that has since become a cornerstone of modern software development practices.\", \"https://medium.com/@hello_17906/docker-revolutionizing-software-development-and-containerization-cfdc9e705332\": \"In 2013, Solomon Hykes introduced the world to Docker, a groundbreaking containerization technology that has since become a cornerstone of modern software development. This article traces the ...\", \"https://www.docker.com/blog/dockers-developer-innovation-unveiling-performance-milestones/\": \"Imagine your containers are digital backpacks; the heavier the bag, the harder to carry it around while you work. We\\'ve introduced support for Zstandard (zstd) compression of Docker container images in Docker Desktop 4.19 to lighten the load, reducing container image sizes with remarkable results.\"}'), AIMessage(content='Docker introduced several key technical innovations to the field of containerization. One of the significant contributions was the introduction of a lightweight containerization technology in 2013, allowing for more efficient application building, shipping, and deployment. Docker quickly became an industry standard due to its simplicity and efficiency, with developers embracing its ease of use and operations teams appreciating the streamlined deployment process. Additionally, Docker implemented Zstandard (zstd) compression for Docker container images in Docker Desktop 4.19, reducing container image sizes and improving performance.\\n\\nCitations:\\n\\n[1]: https://blackcatdev.medium.com/unlocking-innovation-how-dockers-evolution-reshaped-software-development-f7ce9e87bd03\\n[2]: https://www.linkedin.com/pulse/docker-revolutionizing-containerization-from-inception-himanshu-jha-8iiwc\\n[3]: https://medium.com/@hello_17906/docker-revolutionizing-software-development-and-containerization-cfdc9e705332\\n[4]: https://www.docker.com/blog/dockers-developer-innovation-unveiling-performance-milestones/', name='DrContainer'), HumanMessage(content='What specific technical innovations or features distinguish Docker from other containerization technologies that have contributed to its widespread adoption in the industry?', response_metadata={'token_usage': {'completion_tokens': 24, 'prompt_tokens': 185, 'total_tokens': 209}, 'model_name': 'gpt-3.5-turbo', 'system_fingerprint': 'fp_c2295e73ad', 'finish_reason': 'stop', 'logprobs': None}, name='DrContainer', id='run-87c6f279-5a84-409e-bb77-eb1d5caaf055-0', tool_calls=[], invalid_tool_calls=[]), AIMessage(content='{\"queries\": [\"Specific technical innovations or features that distinguish Docker from other containerization technologies and contributed to its widespread adoption in the industry\"]}', name='AI'), HumanMessage(content='{\"https://www.enablegeek.com/blog/containerization-technologies-docker-kubernetes/\": \"Docker and Kubernetes have become leaders among the numerous containerization technologies, providing solid tools for managing and orchestrating containers at scale. This article compares the features, use cases, and contributions of Docker, Kubernetes, and other containerization technologies to examine the advantages of these technologies in ...\", \"https://www.rapidbrains.com/blog/docker-vs-kubernetes-selecting-the-right-containerization-solution\": \"At their core, both Docker and Kubernetes rely on containerization technology. Docker facilitates the creation, management, and execution of containers, which encapsulate applications and their dependencies. Meanwhile, Kubernetes extends containerization\\'s potential by orchestrating and managing containerized applications on a larger scale.\", \"https://dev.to/documatic/docker-vs-kubernetes-a-comparative-study-4aa2\": \"Docker, at its core, revolves around containerization and adept image management, making it a prime choice for the creation and testing of environments in development. Conversely, Kubernetes excels in the orchestration of containers, specializing in tasks like scaling and the management of intricate applications in the realm of production.\", \"https://www.educative.io/blog/kubernetes-vs-docker\": \"Kubernetes has emerged as the dominant force in container orchestration, offering robust features and a thriving ecosystem. Docker, originally renowned for containerization, now focuses on smaller-scale deployments. The future sees Kubernetes expanding into serverless, edge computing, and automation, while Docker may carve out a niche within Kubernetes ecosystems. Read more to understand the ...\", \"https://www.hackerrank.com/blog/what-is-docker-introduction/\": \"Docker is a platform designed to simplify the process of developing, shipping, and running applications. It achieves this using containerization, a technology that packages an application and its dependencies together into a single unit called a container.\"}'), AIMessage(content=\"Docker's key technical innovations and features that distinguish it from other containerization technologies include its focus on containerization and adept image management, making it ideal for creating and testing environments in development. Docker simplifies the process of developing, shipping, and running applications through containerization technology, which packages applications and dependencies into containers. In contrast, Kubernetes excels in container orchestration, specializing in tasks like scaling and managing complex applications in production. While Docker is known for smaller-scale deployments, Kubernetes offers robust features and a thriving ecosystem for container orchestration on a larger scale.\\n\\nCitations:\\n\\n[1]: https://dev.to/documatic/docker-vs-kubernetes-a-comparative-study-4aa2\\n[2]: https://www.hackerrank.com/blog/what-is-docker-introduction/\", name='DrContainer')], references={'https://www.linkedin.com/pulse/docker-revolutionizing-containerization-from-inception-himanshu-jha-8iiwc': 'As Docker gained traction, it quickly became an industry standard for containerization. Developers embraced its simplicity and efficiency, while operations teams appreciated the ease of deployment ...', 'https://blackcatdev.medium.com/unlocking-innovation-how-dockers-evolution-reshaped-software-development-f7ce9e87bd03': 'Over the past decade, Docker has emerged as a transformative force in the realm of software development, revolutionizing how applications are built, shipped, and deployed. Initially released in 2013, Docker introduced a lightweight containerization technology that has since become a cornerstone of modern software development practices.', 'https://medium.com/@hello_17906/docker-revolutionizing-software-development-and-containerization-cfdc9e705332': 'In 2013, Solomon Hykes introduced the world to Docker, a groundbreaking containerization technology that has since become a cornerstone of modern software development. This article traces the ...', 'https://www.docker.com/blog/dockers-developer-innovation-unveiling-performance-milestones/': \"Imagine your containers are digital backpacks; the heavier the bag, the harder to carry it around while you work. We've introduced support for Zstandard (zstd) compression of Docker container images in Docker Desktop 4.19 to lighten the load, reducing container image sizes with remarkable results.\", 'https://dev.to/documatic/docker-vs-kubernetes-a-comparative-study-4aa2': 'Docker, at its core, revolves around containerization and adept image management, making it a prime choice for the creation and testing of environments in development. Conversely, Kubernetes excels in the orchestration of containers, specializing in tasks like scaling and the management of intricate applications in the realm of production.', 'https://www.hackerrank.com/blog/what-is-docker-introduction/': 'Docker is a platform designed to simplify the process of developing, shipping, and running applications. It achieves this using containerization, a technology that packages an application and its dependencies together into a single unit called a container.'})\n",
      "InterviewState.from_dict: data is an instance of InterviewState\n",
      "Routing messages for [DrContainer]\n",
      "Continue asking question for [DrContainer] as this is not the last end of the conversation\n",
      "answer_question\n",
      "Processing step: answer_question\n",
      "--  [HumanMessage(content='What are the key technical innovations that Docker introduced to the field of containerization?', response_metadata={'token_usage': {'completion_tokens': 16, 'prompt_tokens': 185, 'total_tokens': 201}, 'model_name': 'gpt-3.5-turbo', 'system_fingerprint': 'fp_c2295e73ad', 'fini\n"
     ]
    },
    {
     "name": "stderr",
     "output_type": "stream",
     "text": [
      "2024-04-20 17:55:15,331 [MainThread  ] [INFO ]  Generated question for DrContainer: What key technical innovations distinguish Docker from other containerization technologies in the market?\n",
      "2024-04-20 17:55:15,354 [MainThread  ] [INFO ]  START - Generate answers for [DrContainer]\n"
     ]
    },
    {
     "name": "stdout",
     "output_type": "stream",
     "text": [
      "ask_question\n",
      "Processing step: ask_question\n",
      "--  [HumanMessage(content='What are the key technical innovations that Docker introduced to the field of containerization?', response_metadata={'token_usage': {'completion_tokens': 16, 'prompt_tokens': 185, 'total_tokens': 201}, 'model_name': 'gpt-3.5-turbo', 'system_fingerprint': 'fp_c2295e73ad', 'fini\n"
     ]
    },
    {
     "name": "stderr",
     "output_type": "stream",
     "text": [
      "2024-04-20 17:55:15,869 [MainThread  ] [INFO ]  Got 1 search engine queries for [DrContainer] -\n",
      "\t ['Key technical innovations distinguishing Docker from other containerization technologies in the market']\n"
     ]
    },
    {
     "name": "stdout",
     "output_type": "stream",
     "text": [
      "Searching DuckDuckGo for [Key technical innovations distinguishing Docker from other containerization technologies in the market]\n"
     ]
    },
    {
     "name": "stderr",
     "output_type": "stream",
     "text": [
      "2024-04-20 17:55:17,568 [MainThread  ] [INFO ]  Got 1 search engine results for [DrContainer] - \n",
      "\t {'https://www.enablegeek.com/blog/containerization-technologies-docker-kubernetes/': 'Docker and Kubernetes have become leaders among the numerous containerization technologies, providing solid tools for managing and orchestrating containers at scale. This article compares the features, use cases, and contributions of Docker, Kubernetes, and other containerization technologies to examine the advantages of these technologies in ...', 'https://www.rapidbrains.com/blog/docker-vs-kubernetes-selecting-the-right-containerization-solution': \"At their core, both Docker and Kubernetes rely on containerization technology. Docker facilitates the creation, management, and execution of containers, which encapsulate applications and their dependencies. Meanwhile, Kubernetes extends containerization's potential by orchestrating and managing containerized applications on a larger scale.\", 'https://www.educative.io/blog/kubernetes-vs-docker': 'Kubernetes has emerged as the dominant force in container orchestration, offering robust features and a thriving ecosystem. Docker, originally renowned for containerization, now focuses on smaller-scale deployments. The future sees Kubernetes expanding into serverless, edge computing, and automation, while Docker may carve out a niche within Kubernetes ecosystems. Read more to understand the ...', 'https://refine.dev/blog/kubernetes-vs-docker/': 'Summary of Key Points: Docker is a container technology that helps create an isolated environment for applications. Kubernetes is a container orchestration platform that manages the cluster of multiple containers. Docker automates building and deploying applications widely used in CI/CD processes.', 'https://learn.g2.com/kubernetes-vs-docker': 'Docker is a containerization platform that can run containers on a host operating system (container runtime). In contrast, Kubernetes is a framework for running and controlling containers from various container runtimes. When Docker was introduced in 2013, it ushered in the modern era of containers and a microservices-based computing model.'}\n",
      "2024-04-20 17:55:17,569 [MainThread  ] [INFO ]  Dumped 2083 characters for [DrContainer] - \n",
      "\t {\"https://www.enablegeek.com/blog/containerization-technologies-docker-kubernetes/\": \"Docker and Kubernetes have become leaders among the numerous containerization technologies, providing solid tools for managing and orchestrating containers at scale. This article compares the features, use cases, and contributions of Docker, Kubernetes, and other containerization technologies to examine the advantages of these technologies in ...\", \"https://www.rapidbrains.com/blog/docker-vs-kubernetes-selecting-the-right-containerization-solution\": \"At their core, both Docker and Kubernetes rely on containerization technology. Docker facilitates the creation, management, and execution of containers, which encapsulate applications and their dependencies. Meanwhile, Kubernetes extends containerization's potential by orchestrating and managing containerized applications on a larger scale.\", \"https://www.educative.io/blog/kubernetes-vs-docker\": \"Kubernetes has emerged as the dominant force in container orchestration, offering robust features and a thriving ecosystem. Docker, originally renowned for containerization, now focuses on smaller-scale deployments. The future sees Kubernetes expanding into serverless, edge computing, and automation, while Docker may carve out a niche within Kubernetes ecosystems. Read more to understand the ...\", \"https://refine.dev/blog/kubernetes-vs-docker/\": \"Summary of Key Points: Docker is a container technology that helps create an isolated environment for applications. Kubernetes is a container orchestration platform that manages the cluster of multiple containers. Docker automates building and deploying applications widely used in CI/CD processes.\", \"https://learn.g2.com/kubernetes-vs-docker\": \"Docker is a containerization platform that can run containers on a host operating system (container runtime). In contrast, Kubernetes is a framework for running and controlling containers from various container runtimes. When Docker was introduced in 2013, it ushered in the modern era of containers and a microservices-based computing model.\"}\n"
     ]
    },
    {
     "name": "stdout",
     "output_type": "stream",
     "text": [
      "Got search engine results: 5 for [Key technical innovations distinguishing Docker from other containerization technologies in the market]\n"
     ]
    },
    {
     "name": "stderr",
     "output_type": "stream",
     "text": [
      "2024-04-20 17:55:22,736 [MainThread  ] [INFO ]  Genreted final answer answer='Docker introduced key technical innovations that distinguish it from other containerization technologies in the market. Docker focuses on facilitating the creation, management, and execution of containers, encapsulating applications and their dependencies efficiently. It automates the building and deploying of applications, making it widely used in Continuous Integration/Continuous Deployment (CI/CD) processes. On the other hand, Kubernetes, while excelling in container orchestration for larger-scale deployments, has emerged as a dominant force in container orchestration, offering robust features and a thriving ecosystem.' cited_urls=['https://www.rapidbrains.com/blog/docker-vs-kubernetes-selecting-the-right-containerization-solution', 'https://refine.dev/blog/kubernetes-vs-docker/'] for [DrContainer] - \n",
      "\t Docker introduced key technical innovations that distinguish it from other containerization technologies in the market. Docker focuses on facilitating the creation, management, and execution of containers, encapsulating applications and their dependencies efficiently. It automates the building and deploying of applications, making it widely used in Continuous Integration/Continuous Deployment (CI/CD) processes. On the other hand, Kubernetes, while excelling in container orchestration for larger-scale deployments, has emerged as a dominant force in container orchestration, offering robust features and a thriving ecosystem.\n",
      "\n",
      "Citations:\n",
      "\n",
      "[1]: https://www.rapidbrains.com/blog/docker-vs-kubernetes-selecting-the-right-containerization-solution\n",
      "[2]: https://refine.dev/blog/kubernetes-vs-docker/\n",
      "2024-04-20 17:55:22,737 [MainThread  ] [INFO ]  END - generate answer for [DrContainer]\n",
      "2024-04-20 17:55:22,755 [MainThread  ] [INFO ]  Generating question for DrContainer\n"
     ]
    },
    {
     "name": "stdout",
     "output_type": "stream",
     "text": [
      "Routing messages: InterviewState(interview_config=InterviewConfig(long_llm=ChatOpenAI(client=<openai.resources.chat.completions.Completions object at 0x11241f0d0>, async_client=<openai.resources.chat.completions.AsyncCompletions object at 0x112422350>, model_name='gpt-3.5-turbo-0125', openai_api_key=SecretStr('**********'), openai_proxy=''), fast_llm=ChatOpenAI(client=<openai.resources.chat.completions.Completions object at 0x112253590>, async_client=<openai.resources.chat.completions.AsyncCompletions object at 0x1120ded90>, openai_api_key=SecretStr('**********'), openai_proxy=''), max_conversations=5, max_reference_length=10000, tags_to_extract=['p', 'h1', 'h2', 'h3'], embeddings=OpenAIEmbeddings(client=<openai.resources.embeddings.Embeddings object at 0x112423490>, async_client=<openai.resources.embeddings.AsyncEmbeddings object at 0x11243a610>, model='text-embedding-3-small', dimensions=None, deployment='text-embedding-ada-002', openai_api_version='', openai_api_base=None, openai_api_type='', openai_proxy='', embedding_ctx_length=8191, openai_api_key=SecretStr('**********'), openai_organization=None, allowed_special=set(), disallowed_special='all', chunk_size=1000, max_retries=2, request_timeout=None, headers=None, tiktoken_enabled=True, tiktoken_model_name=None, show_progress_bar=False, model_kwargs={}, skip_empty=False, default_headers=None, default_query=None, retry_min_seconds=4, retry_max_seconds=20, http_client=None, http_async_client=None), vectorstore_dir='./data/storm/vectorstore/', vectorstore=<langchain_community.vectorstores.chroma.Chroma object at 0x1124225d0>, runnable_config={}), editor=Editor(affiliation='Academic Institution', name='DrContainer', role='Researcher', description='Dr. Container is an expert in containerization technologies and will focus on the historical development and technical aspects of Docker in the context of containerization.'), messages=[HumanMessage(content='What are the key technical innovations that Docker introduced to the field of containerization?', response_metadata={'token_usage': {'completion_tokens': 16, 'prompt_tokens': 185, 'total_tokens': 201}, 'model_name': 'gpt-3.5-turbo', 'system_fingerprint': 'fp_c2295e73ad', 'finish_reason': 'stop', 'logprobs': None}, name='DrContainer', id='run-bea10abb-8a76-448f-b854-f869b8e7cf78-0', tool_calls=[], invalid_tool_calls=[]), AIMessage(content='{\"queries\": [\"Key technical innovations introduced by Docker in containerization\"]}', name='AI'), HumanMessage(content='{\"https://medium.com/@marwanjaber/docker-in-a-nutshell-a-practical-guide-to-containerization-62d0fce9761d\": \"Building a Docker Image with Our Node.js App. To containerize the Node.js application mentioned earlier, you\\'ll need a Dockerfile. Create a new file named Dockerfile in the root directory of ...\", \"https://www.linkedin.com/pulse/docker-revolutionizing-containerization-from-inception-himanshu-jha-8iiwc\": \"As Docker gained traction, it quickly became an industry standard for containerization. Developers embraced its simplicity and efficiency, while operations teams appreciated the ease of deployment ...\", \"https://blackcatdev.medium.com/unlocking-innovation-how-dockers-evolution-reshaped-software-development-f7ce9e87bd03\": \"Over the past decade, Docker has emerged as a transformative force in the realm of software development, revolutionizing how applications are built, shipped, and deployed. Initially released in 2013, Docker introduced a lightweight containerization technology that has since become a cornerstone of modern software development practices.\", \"https://medium.com/@hello_17906/docker-revolutionizing-software-development-and-containerization-cfdc9e705332\": \"In 2013, Solomon Hykes introduced the world to Docker, a groundbreaking containerization technology that has since become a cornerstone of modern software development. This article traces the ...\", \"https://www.docker.com/blog/dockers-developer-innovation-unveiling-performance-milestones/\": \"Imagine your containers are digital backpacks; the heavier the bag, the harder to carry it around while you work. We\\'ve introduced support for Zstandard (zstd) compression of Docker container images in Docker Desktop 4.19 to lighten the load, reducing container image sizes with remarkable results.\"}'), AIMessage(content='Docker introduced several key technical innovations to the field of containerization. One of the significant contributions was the introduction of a lightweight containerization technology in 2013, allowing for more efficient application building, shipping, and deployment. Docker quickly became an industry standard due to its simplicity and efficiency, with developers embracing its ease of use and operations teams appreciating the streamlined deployment process. Additionally, Docker implemented Zstandard (zstd) compression for Docker container images in Docker Desktop 4.19, reducing container image sizes and improving performance.\\n\\nCitations:\\n\\n[1]: https://blackcatdev.medium.com/unlocking-innovation-how-dockers-evolution-reshaped-software-development-f7ce9e87bd03\\n[2]: https://www.linkedin.com/pulse/docker-revolutionizing-containerization-from-inception-himanshu-jha-8iiwc\\n[3]: https://medium.com/@hello_17906/docker-revolutionizing-software-development-and-containerization-cfdc9e705332\\n[4]: https://www.docker.com/blog/dockers-developer-innovation-unveiling-performance-milestones/', name='DrContainer'), HumanMessage(content='What specific technical innovations or features distinguish Docker from other containerization technologies that have contributed to its widespread adoption in the industry?', response_metadata={'token_usage': {'completion_tokens': 24, 'prompt_tokens': 185, 'total_tokens': 209}, 'model_name': 'gpt-3.5-turbo', 'system_fingerprint': 'fp_c2295e73ad', 'finish_reason': 'stop', 'logprobs': None}, name='DrContainer', id='run-87c6f279-5a84-409e-bb77-eb1d5caaf055-0', tool_calls=[], invalid_tool_calls=[]), AIMessage(content='{\"queries\": [\"Specific technical innovations or features that distinguish Docker from other containerization technologies and contributed to its widespread adoption in the industry\"]}', name='AI'), HumanMessage(content='{\"https://www.enablegeek.com/blog/containerization-technologies-docker-kubernetes/\": \"Docker and Kubernetes have become leaders among the numerous containerization technologies, providing solid tools for managing and orchestrating containers at scale. This article compares the features, use cases, and contributions of Docker, Kubernetes, and other containerization technologies to examine the advantages of these technologies in ...\", \"https://www.rapidbrains.com/blog/docker-vs-kubernetes-selecting-the-right-containerization-solution\": \"At their core, both Docker and Kubernetes rely on containerization technology. Docker facilitates the creation, management, and execution of containers, which encapsulate applications and their dependencies. Meanwhile, Kubernetes extends containerization\\'s potential by orchestrating and managing containerized applications on a larger scale.\", \"https://dev.to/documatic/docker-vs-kubernetes-a-comparative-study-4aa2\": \"Docker, at its core, revolves around containerization and adept image management, making it a prime choice for the creation and testing of environments in development. Conversely, Kubernetes excels in the orchestration of containers, specializing in tasks like scaling and the management of intricate applications in the realm of production.\", \"https://www.educative.io/blog/kubernetes-vs-docker\": \"Kubernetes has emerged as the dominant force in container orchestration, offering robust features and a thriving ecosystem. Docker, originally renowned for containerization, now focuses on smaller-scale deployments. The future sees Kubernetes expanding into serverless, edge computing, and automation, while Docker may carve out a niche within Kubernetes ecosystems. Read more to understand the ...\", \"https://www.hackerrank.com/blog/what-is-docker-introduction/\": \"Docker is a platform designed to simplify the process of developing, shipping, and running applications. It achieves this using containerization, a technology that packages an application and its dependencies together into a single unit called a container.\"}'), AIMessage(content=\"Docker's key technical innovations and features that distinguish it from other containerization technologies include its focus on containerization and adept image management, making it ideal for creating and testing environments in development. Docker simplifies the process of developing, shipping, and running applications through containerization technology, which packages applications and dependencies into containers. In contrast, Kubernetes excels in container orchestration, specializing in tasks like scaling and managing complex applications in production. While Docker is known for smaller-scale deployments, Kubernetes offers robust features and a thriving ecosystem for container orchestration on a larger scale.\\n\\nCitations:\\n\\n[1]: https://dev.to/documatic/docker-vs-kubernetes-a-comparative-study-4aa2\\n[2]: https://www.hackerrank.com/blog/what-is-docker-introduction/\", name='DrContainer'), HumanMessage(content='What key technical innovations distinguish Docker from other containerization technologies in the market?', response_metadata={'token_usage': {'completion_tokens': 15, 'prompt_tokens': 185, 'total_tokens': 200}, 'model_name': 'gpt-3.5-turbo', 'system_fingerprint': 'fp_c2295e73ad', 'finish_reason': 'stop', 'logprobs': None}, name='DrContainer', id='run-fa0fd5ba-f9ba-4cdf-971c-d99f843ac607-0', tool_calls=[], invalid_tool_calls=[]), AIMessage(content='{\"queries\": [\"Key technical innovations distinguishing Docker from other containerization technologies in the market\"]}', name='AI'), HumanMessage(content='{\"https://www.enablegeek.com/blog/containerization-technologies-docker-kubernetes/\": \"Docker and Kubernetes have become leaders among the numerous containerization technologies, providing solid tools for managing and orchestrating containers at scale. This article compares the features, use cases, and contributions of Docker, Kubernetes, and other containerization technologies to examine the advantages of these technologies in ...\", \"https://www.rapidbrains.com/blog/docker-vs-kubernetes-selecting-the-right-containerization-solution\": \"At their core, both Docker and Kubernetes rely on containerization technology. Docker facilitates the creation, management, and execution of containers, which encapsulate applications and their dependencies. Meanwhile, Kubernetes extends containerization\\'s potential by orchestrating and managing containerized applications on a larger scale.\", \"https://www.educative.io/blog/kubernetes-vs-docker\": \"Kubernetes has emerged as the dominant force in container orchestration, offering robust features and a thriving ecosystem. Docker, originally renowned for containerization, now focuses on smaller-scale deployments. The future sees Kubernetes expanding into serverless, edge computing, and automation, while Docker may carve out a niche within Kubernetes ecosystems. Read more to understand the ...\", \"https://refine.dev/blog/kubernetes-vs-docker/\": \"Summary of Key Points: Docker is a container technology that helps create an isolated environment for applications. Kubernetes is a container orchestration platform that manages the cluster of multiple containers. Docker automates building and deploying applications widely used in CI/CD processes.\", \"https://learn.g2.com/kubernetes-vs-docker\": \"Docker is a containerization platform that can run containers on a host operating system (container runtime). In contrast, Kubernetes is a framework for running and controlling containers from various container runtimes. When Docker was introduced in 2013, it ushered in the modern era of containers and a microservices-based computing model.\"}'), AIMessage(content='Docker introduced key technical innovations that distinguish it from other containerization technologies in the market. Docker focuses on facilitating the creation, management, and execution of containers, encapsulating applications and their dependencies efficiently. It automates the building and deploying of applications, making it widely used in Continuous Integration/Continuous Deployment (CI/CD) processes. On the other hand, Kubernetes, while excelling in container orchestration for larger-scale deployments, has emerged as a dominant force in container orchestration, offering robust features and a thriving ecosystem.\\n\\nCitations:\\n\\n[1]: https://www.rapidbrains.com/blog/docker-vs-kubernetes-selecting-the-right-containerization-solution\\n[2]: https://refine.dev/blog/kubernetes-vs-docker/', name='DrContainer')], references={'https://www.linkedin.com/pulse/docker-revolutionizing-containerization-from-inception-himanshu-jha-8iiwc': 'As Docker gained traction, it quickly became an industry standard for containerization. Developers embraced its simplicity and efficiency, while operations teams appreciated the ease of deployment ...', 'https://blackcatdev.medium.com/unlocking-innovation-how-dockers-evolution-reshaped-software-development-f7ce9e87bd03': 'Over the past decade, Docker has emerged as a transformative force in the realm of software development, revolutionizing how applications are built, shipped, and deployed. Initially released in 2013, Docker introduced a lightweight containerization technology that has since become a cornerstone of modern software development practices.', 'https://medium.com/@hello_17906/docker-revolutionizing-software-development-and-containerization-cfdc9e705332': 'In 2013, Solomon Hykes introduced the world to Docker, a groundbreaking containerization technology that has since become a cornerstone of modern software development. This article traces the ...', 'https://www.docker.com/blog/dockers-developer-innovation-unveiling-performance-milestones/': \"Imagine your containers are digital backpacks; the heavier the bag, the harder to carry it around while you work. We've introduced support for Zstandard (zstd) compression of Docker container images in Docker Desktop 4.19 to lighten the load, reducing container image sizes with remarkable results.\", 'https://dev.to/documatic/docker-vs-kubernetes-a-comparative-study-4aa2': 'Docker, at its core, revolves around containerization and adept image management, making it a prime choice for the creation and testing of environments in development. Conversely, Kubernetes excels in the orchestration of containers, specializing in tasks like scaling and the management of intricate applications in the realm of production.', 'https://www.hackerrank.com/blog/what-is-docker-introduction/': 'Docker is a platform designed to simplify the process of developing, shipping, and running applications. It achieves this using containerization, a technology that packages an application and its dependencies together into a single unit called a container.', 'https://www.rapidbrains.com/blog/docker-vs-kubernetes-selecting-the-right-containerization-solution': \"At their core, both Docker and Kubernetes rely on containerization technology. Docker facilitates the creation, management, and execution of containers, which encapsulate applications and their dependencies. Meanwhile, Kubernetes extends containerization's potential by orchestrating and managing containerized applications on a larger scale.\", 'https://refine.dev/blog/kubernetes-vs-docker/': 'Summary of Key Points: Docker is a container technology that helps create an isolated environment for applications. Kubernetes is a container orchestration platform that manages the cluster of multiple containers. Docker automates building and deploying applications widely used in CI/CD processes.'})\n",
      "InterviewState.from_dict: data is an instance of InterviewState\n",
      "Routing messages for [DrContainer]\n",
      "Continue asking question for [DrContainer] as this is not the last end of the conversation\n",
      "answer_question\n",
      "Processing step: answer_question\n",
      "--  [HumanMessage(content='What are the key technical innovations that Docker introduced to the field of containerization?', response_metadata={'token_usage': {'completion_tokens': 16, 'prompt_tokens': 185, 'total_tokens': 201}, 'model_name': 'gpt-3.5-turbo', 'system_fingerprint': 'fp_c2295e73ad', 'fini\n"
     ]
    },
    {
     "name": "stderr",
     "output_type": "stream",
     "text": [
      "2024-04-20 17:55:23,607 [MainThread  ] [INFO ]  Generated question for DrContainer: What are some key technical innovations that differentiate Docker from other containerization technologies?\n",
      "2024-04-20 17:55:23,630 [MainThread  ] [INFO ]  START - Generate answers for [DrContainer]\n"
     ]
    },
    {
     "name": "stdout",
     "output_type": "stream",
     "text": [
      "ask_question\n",
      "Processing step: ask_question\n",
      "--  [HumanMessage(content='What are the key technical innovations that Docker introduced to the field of containerization?', response_metadata={'token_usage': {'completion_tokens': 16, 'prompt_tokens': 185, 'total_tokens': 201}, 'model_name': 'gpt-3.5-turbo', 'system_fingerprint': 'fp_c2295e73ad', 'fini\n"
     ]
    },
    {
     "name": "stderr",
     "output_type": "stream",
     "text": [
      "2024-04-20 17:55:24,560 [MainThread  ] [INFO ]  Got 1 search engine queries for [DrContainer] -\n",
      "\t ['Key technical innovations that differentiate Docker from other containerization technologies']\n"
     ]
    },
    {
     "name": "stdout",
     "output_type": "stream",
     "text": [
      "Searching DuckDuckGo for [Key technical innovations that differentiate Docker from other containerization technologies]\n"
     ]
    },
    {
     "name": "stderr",
     "output_type": "stream",
     "text": [
      "2024-04-20 17:55:26,124 [MainThread  ] [INFO ]  Got 1 search engine results for [DrContainer] - \n",
      "\t {'https://www.rapidbrains.com/blog/docker-vs-kubernetes-selecting-the-right-containerization-solution': \"At their core, both Docker and Kubernetes rely on containerization technology. Docker facilitates the creation, management, and execution of containers, which encapsulate applications and their dependencies. Meanwhile, Kubernetes extends containerization's potential by orchestrating and managing containerized applications on a larger scale.\", 'https://www.enablegeek.com/blog/containerization-technologies-docker-kubernetes/': 'Docker and Kubernetes have become leaders among the numerous containerization technologies, providing solid tools for managing and orchestrating containers at scale. This article compares the features, use cases, and contributions of Docker, Kubernetes, and other containerization technologies to examine the advantages of these technologies in ...', 'https://prgmine.com/advancements-in-containerization-technologies-beyond-docker/': 'Conclusion. Advancements in containerization technologies have propelled the industry forward, enabling developers and organizations to leverage the benefits of containers beyond Docker. From lightweight containers and unikernels to serverless containers and service meshes, the containerization ecosystem continues to evolve, offering solutions ...', 'https://www.educative.io/blog/kubernetes-vs-docker': 'Kubernetes has emerged as the dominant force in container orchestration, offering robust features and a thriving ecosystem. Docker, originally renowned for containerization, now focuses on smaller-scale deployments. The future sees Kubernetes expanding into serverless, edge computing, and automation, while Docker may carve out a niche within Kubernetes ecosystems. Read more to understand the ...', 'https://refine.dev/blog/kubernetes-vs-docker/': 'Summary of Key Points: Docker is a container technology that helps create an isolated environment for applications. Kubernetes is a container orchestration platform that manages the cluster of multiple containers. Docker automates building and deploying applications widely used in CI/CD processes.'}\n",
      "2024-04-20 17:55:26,125 [MainThread  ] [INFO ]  Dumped 2129 characters for [DrContainer] - \n",
      "\t {\"https://www.rapidbrains.com/blog/docker-vs-kubernetes-selecting-the-right-containerization-solution\": \"At their core, both Docker and Kubernetes rely on containerization technology. Docker facilitates the creation, management, and execution of containers, which encapsulate applications and their dependencies. Meanwhile, Kubernetes extends containerization's potential by orchestrating and managing containerized applications on a larger scale.\", \"https://www.enablegeek.com/blog/containerization-technologies-docker-kubernetes/\": \"Docker and Kubernetes have become leaders among the numerous containerization technologies, providing solid tools for managing and orchestrating containers at scale. This article compares the features, use cases, and contributions of Docker, Kubernetes, and other containerization technologies to examine the advantages of these technologies in ...\", \"https://prgmine.com/advancements-in-containerization-technologies-beyond-docker/\": \"Conclusion. Advancements in containerization technologies have propelled the industry forward, enabling developers and organizations to leverage the benefits of containers beyond Docker. From lightweight containers and unikernels to serverless containers and service meshes, the containerization ecosystem continues to evolve, offering solutions ...\", \"https://www.educative.io/blog/kubernetes-vs-docker\": \"Kubernetes has emerged as the dominant force in container orchestration, offering robust features and a thriving ecosystem. Docker, originally renowned for containerization, now focuses on smaller-scale deployments. The future sees Kubernetes expanding into serverless, edge computing, and automation, while Docker may carve out a niche within Kubernetes ecosystems. Read more to understand the ...\", \"https://refine.dev/blog/kubernetes-vs-docker/\": \"Summary of Key Points: Docker is a container technology that helps create an isolated environment for applications. Kubernetes is a container orchestration platform that manages the cluster of multiple containers. Docker automates building and deploying applications widely used in CI/CD processes.\"}\n"
     ]
    },
    {
     "name": "stdout",
     "output_type": "stream",
     "text": [
      "Got search engine results: 5 for [Key technical innovations that differentiate Docker from other containerization technologies]\n"
     ]
    },
    {
     "name": "stderr",
     "output_type": "stream",
     "text": [
      "2024-04-20 17:55:30,950 [MainThread  ] [INFO ]  Genreted final answer answer=\"Docker's key technical innovations that differentiate it from other containerization technologies include its focus on facilitating the creation, management, and execution of containers that encapsulate applications and their dependencies efficiently. Docker is particularly known for automating the building and deploying of applications, making it a widely used tool in Continuous Integration/Continuous Deployment (CI/CD) processes. In contrast, Kubernetes excels in container orchestration for larger-scale deployments, offering robust features and a thriving ecosystem for managing and orchestrating containerized applications on a larger scale.\" cited_urls=['https://www.rapidbrains.com/blog/docker-vs-kubernetes-selecting-the-right-containerization-solution', 'https://refine.dev/blog/kubernetes-vs-docker/'] for [DrContainer] - \n",
      "\t Docker's key technical innovations that differentiate it from other containerization technologies include its focus on facilitating the creation, management, and execution of containers that encapsulate applications and their dependencies efficiently. Docker is particularly known for automating the building and deploying of applications, making it a widely used tool in Continuous Integration/Continuous Deployment (CI/CD) processes. In contrast, Kubernetes excels in container orchestration for larger-scale deployments, offering robust features and a thriving ecosystem for managing and orchestrating containerized applications on a larger scale.\n",
      "\n",
      "Citations:\n",
      "\n",
      "[1]: https://www.rapidbrains.com/blog/docker-vs-kubernetes-selecting-the-right-containerization-solution\n",
      "[2]: https://refine.dev/blog/kubernetes-vs-docker/\n",
      "2024-04-20 17:55:30,951 [MainThread  ] [INFO ]  END - generate answer for [DrContainer]\n",
      "2024-04-20 17:55:30,970 [MainThread  ] [INFO ]  Generating question for DrContainer\n"
     ]
    },
    {
     "name": "stdout",
     "output_type": "stream",
     "text": [
      "Routing messages: InterviewState(interview_config=InterviewConfig(long_llm=ChatOpenAI(client=<openai.resources.chat.completions.Completions object at 0x11241f0d0>, async_client=<openai.resources.chat.completions.AsyncCompletions object at 0x112422350>, model_name='gpt-3.5-turbo-0125', openai_api_key=SecretStr('**********'), openai_proxy=''), fast_llm=ChatOpenAI(client=<openai.resources.chat.completions.Completions object at 0x112253590>, async_client=<openai.resources.chat.completions.AsyncCompletions object at 0x1120ded90>, openai_api_key=SecretStr('**********'), openai_proxy=''), max_conversations=5, max_reference_length=10000, tags_to_extract=['p', 'h1', 'h2', 'h3'], embeddings=OpenAIEmbeddings(client=<openai.resources.embeddings.Embeddings object at 0x112423490>, async_client=<openai.resources.embeddings.AsyncEmbeddings object at 0x11243a610>, model='text-embedding-3-small', dimensions=None, deployment='text-embedding-ada-002', openai_api_version='', openai_api_base=None, openai_api_type='', openai_proxy='', embedding_ctx_length=8191, openai_api_key=SecretStr('**********'), openai_organization=None, allowed_special=set(), disallowed_special='all', chunk_size=1000, max_retries=2, request_timeout=None, headers=None, tiktoken_enabled=True, tiktoken_model_name=None, show_progress_bar=False, model_kwargs={}, skip_empty=False, default_headers=None, default_query=None, retry_min_seconds=4, retry_max_seconds=20, http_client=None, http_async_client=None), vectorstore_dir='./data/storm/vectorstore/', vectorstore=<langchain_community.vectorstores.chroma.Chroma object at 0x1124225d0>, runnable_config={}), editor=Editor(affiliation='Academic Institution', name='DrContainer', role='Researcher', description='Dr. Container is an expert in containerization technologies and will focus on the historical development and technical aspects of Docker in the context of containerization.'), messages=[HumanMessage(content='What are the key technical innovations that Docker introduced to the field of containerization?', response_metadata={'token_usage': {'completion_tokens': 16, 'prompt_tokens': 185, 'total_tokens': 201}, 'model_name': 'gpt-3.5-turbo', 'system_fingerprint': 'fp_c2295e73ad', 'finish_reason': 'stop', 'logprobs': None}, name='DrContainer', id='run-bea10abb-8a76-448f-b854-f869b8e7cf78-0', tool_calls=[], invalid_tool_calls=[]), AIMessage(content='{\"queries\": [\"Key technical innovations introduced by Docker in containerization\"]}', name='AI'), HumanMessage(content='{\"https://medium.com/@marwanjaber/docker-in-a-nutshell-a-practical-guide-to-containerization-62d0fce9761d\": \"Building a Docker Image with Our Node.js App. To containerize the Node.js application mentioned earlier, you\\'ll need a Dockerfile. Create a new file named Dockerfile in the root directory of ...\", \"https://www.linkedin.com/pulse/docker-revolutionizing-containerization-from-inception-himanshu-jha-8iiwc\": \"As Docker gained traction, it quickly became an industry standard for containerization. Developers embraced its simplicity and efficiency, while operations teams appreciated the ease of deployment ...\", \"https://blackcatdev.medium.com/unlocking-innovation-how-dockers-evolution-reshaped-software-development-f7ce9e87bd03\": \"Over the past decade, Docker has emerged as a transformative force in the realm of software development, revolutionizing how applications are built, shipped, and deployed. Initially released in 2013, Docker introduced a lightweight containerization technology that has since become a cornerstone of modern software development practices.\", \"https://medium.com/@hello_17906/docker-revolutionizing-software-development-and-containerization-cfdc9e705332\": \"In 2013, Solomon Hykes introduced the world to Docker, a groundbreaking containerization technology that has since become a cornerstone of modern software development. This article traces the ...\", \"https://www.docker.com/blog/dockers-developer-innovation-unveiling-performance-milestones/\": \"Imagine your containers are digital backpacks; the heavier the bag, the harder to carry it around while you work. We\\'ve introduced support for Zstandard (zstd) compression of Docker container images in Docker Desktop 4.19 to lighten the load, reducing container image sizes with remarkable results.\"}'), AIMessage(content='Docker introduced several key technical innovations to the field of containerization. One of the significant contributions was the introduction of a lightweight containerization technology in 2013, allowing for more efficient application building, shipping, and deployment. Docker quickly became an industry standard due to its simplicity and efficiency, with developers embracing its ease of use and operations teams appreciating the streamlined deployment process. Additionally, Docker implemented Zstandard (zstd) compression for Docker container images in Docker Desktop 4.19, reducing container image sizes and improving performance.\\n\\nCitations:\\n\\n[1]: https://blackcatdev.medium.com/unlocking-innovation-how-dockers-evolution-reshaped-software-development-f7ce9e87bd03\\n[2]: https://www.linkedin.com/pulse/docker-revolutionizing-containerization-from-inception-himanshu-jha-8iiwc\\n[3]: https://medium.com/@hello_17906/docker-revolutionizing-software-development-and-containerization-cfdc9e705332\\n[4]: https://www.docker.com/blog/dockers-developer-innovation-unveiling-performance-milestones/', name='DrContainer'), HumanMessage(content='What specific technical innovations or features distinguish Docker from other containerization technologies that have contributed to its widespread adoption in the industry?', response_metadata={'token_usage': {'completion_tokens': 24, 'prompt_tokens': 185, 'total_tokens': 209}, 'model_name': 'gpt-3.5-turbo', 'system_fingerprint': 'fp_c2295e73ad', 'finish_reason': 'stop', 'logprobs': None}, name='DrContainer', id='run-87c6f279-5a84-409e-bb77-eb1d5caaf055-0', tool_calls=[], invalid_tool_calls=[]), AIMessage(content='{\"queries\": [\"Specific technical innovations or features that distinguish Docker from other containerization technologies and contributed to its widespread adoption in the industry\"]}', name='AI'), HumanMessage(content='{\"https://www.enablegeek.com/blog/containerization-technologies-docker-kubernetes/\": \"Docker and Kubernetes have become leaders among the numerous containerization technologies, providing solid tools for managing and orchestrating containers at scale. This article compares the features, use cases, and contributions of Docker, Kubernetes, and other containerization technologies to examine the advantages of these technologies in ...\", \"https://www.rapidbrains.com/blog/docker-vs-kubernetes-selecting-the-right-containerization-solution\": \"At their core, both Docker and Kubernetes rely on containerization technology. Docker facilitates the creation, management, and execution of containers, which encapsulate applications and their dependencies. Meanwhile, Kubernetes extends containerization\\'s potential by orchestrating and managing containerized applications on a larger scale.\", \"https://dev.to/documatic/docker-vs-kubernetes-a-comparative-study-4aa2\": \"Docker, at its core, revolves around containerization and adept image management, making it a prime choice for the creation and testing of environments in development. Conversely, Kubernetes excels in the orchestration of containers, specializing in tasks like scaling and the management of intricate applications in the realm of production.\", \"https://www.educative.io/blog/kubernetes-vs-docker\": \"Kubernetes has emerged as the dominant force in container orchestration, offering robust features and a thriving ecosystem. Docker, originally renowned for containerization, now focuses on smaller-scale deployments. The future sees Kubernetes expanding into serverless, edge computing, and automation, while Docker may carve out a niche within Kubernetes ecosystems. Read more to understand the ...\", \"https://www.hackerrank.com/blog/what-is-docker-introduction/\": \"Docker is a platform designed to simplify the process of developing, shipping, and running applications. It achieves this using containerization, a technology that packages an application and its dependencies together into a single unit called a container.\"}'), AIMessage(content=\"Docker's key technical innovations and features that distinguish it from other containerization technologies include its focus on containerization and adept image management, making it ideal for creating and testing environments in development. Docker simplifies the process of developing, shipping, and running applications through containerization technology, which packages applications and dependencies into containers. In contrast, Kubernetes excels in container orchestration, specializing in tasks like scaling and managing complex applications in production. While Docker is known for smaller-scale deployments, Kubernetes offers robust features and a thriving ecosystem for container orchestration on a larger scale.\\n\\nCitations:\\n\\n[1]: https://dev.to/documatic/docker-vs-kubernetes-a-comparative-study-4aa2\\n[2]: https://www.hackerrank.com/blog/what-is-docker-introduction/\", name='DrContainer'), HumanMessage(content='What key technical innovations distinguish Docker from other containerization technologies in the market?', response_metadata={'token_usage': {'completion_tokens': 15, 'prompt_tokens': 185, 'total_tokens': 200}, 'model_name': 'gpt-3.5-turbo', 'system_fingerprint': 'fp_c2295e73ad', 'finish_reason': 'stop', 'logprobs': None}, name='DrContainer', id='run-fa0fd5ba-f9ba-4cdf-971c-d99f843ac607-0', tool_calls=[], invalid_tool_calls=[]), AIMessage(content='{\"queries\": [\"Key technical innovations distinguishing Docker from other containerization technologies in the market\"]}', name='AI'), HumanMessage(content='{\"https://www.enablegeek.com/blog/containerization-technologies-docker-kubernetes/\": \"Docker and Kubernetes have become leaders among the numerous containerization technologies, providing solid tools for managing and orchestrating containers at scale. This article compares the features, use cases, and contributions of Docker, Kubernetes, and other containerization technologies to examine the advantages of these technologies in ...\", \"https://www.rapidbrains.com/blog/docker-vs-kubernetes-selecting-the-right-containerization-solution\": \"At their core, both Docker and Kubernetes rely on containerization technology. Docker facilitates the creation, management, and execution of containers, which encapsulate applications and their dependencies. Meanwhile, Kubernetes extends containerization\\'s potential by orchestrating and managing containerized applications on a larger scale.\", \"https://www.educative.io/blog/kubernetes-vs-docker\": \"Kubernetes has emerged as the dominant force in container orchestration, offering robust features and a thriving ecosystem. Docker, originally renowned for containerization, now focuses on smaller-scale deployments. The future sees Kubernetes expanding into serverless, edge computing, and automation, while Docker may carve out a niche within Kubernetes ecosystems. Read more to understand the ...\", \"https://refine.dev/blog/kubernetes-vs-docker/\": \"Summary of Key Points: Docker is a container technology that helps create an isolated environment for applications. Kubernetes is a container orchestration platform that manages the cluster of multiple containers. Docker automates building and deploying applications widely used in CI/CD processes.\", \"https://learn.g2.com/kubernetes-vs-docker\": \"Docker is a containerization platform that can run containers on a host operating system (container runtime). In contrast, Kubernetes is a framework for running and controlling containers from various container runtimes. When Docker was introduced in 2013, it ushered in the modern era of containers and a microservices-based computing model.\"}'), AIMessage(content='Docker introduced key technical innovations that distinguish it from other containerization technologies in the market. Docker focuses on facilitating the creation, management, and execution of containers, encapsulating applications and their dependencies efficiently. It automates the building and deploying of applications, making it widely used in Continuous Integration/Continuous Deployment (CI/CD) processes. On the other hand, Kubernetes, while excelling in container orchestration for larger-scale deployments, has emerged as a dominant force in container orchestration, offering robust features and a thriving ecosystem.\\n\\nCitations:\\n\\n[1]: https://www.rapidbrains.com/blog/docker-vs-kubernetes-selecting-the-right-containerization-solution\\n[2]: https://refine.dev/blog/kubernetes-vs-docker/', name='DrContainer'), HumanMessage(content='What are some key technical innovations that differentiate Docker from other containerization technologies?', response_metadata={'token_usage': {'completion_tokens': 15, 'prompt_tokens': 185, 'total_tokens': 200}, 'model_name': 'gpt-3.5-turbo', 'system_fingerprint': 'fp_c2295e73ad', 'finish_reason': 'stop', 'logprobs': None}, name='DrContainer', id='run-cba530c0-539a-4fb0-ba6a-910918a6d5d3-0', tool_calls=[], invalid_tool_calls=[]), AIMessage(content='{\"queries\": [\"Key technical innovations that differentiate Docker from other containerization technologies\"]}', name='AI'), HumanMessage(content='{\"https://www.rapidbrains.com/blog/docker-vs-kubernetes-selecting-the-right-containerization-solution\": \"At their core, both Docker and Kubernetes rely on containerization technology. Docker facilitates the creation, management, and execution of containers, which encapsulate applications and their dependencies. Meanwhile, Kubernetes extends containerization\\'s potential by orchestrating and managing containerized applications on a larger scale.\", \"https://www.enablegeek.com/blog/containerization-technologies-docker-kubernetes/\": \"Docker and Kubernetes have become leaders among the numerous containerization technologies, providing solid tools for managing and orchestrating containers at scale. This article compares the features, use cases, and contributions of Docker, Kubernetes, and other containerization technologies to examine the advantages of these technologies in ...\", \"https://prgmine.com/advancements-in-containerization-technologies-beyond-docker/\": \"Conclusion. Advancements in containerization technologies have propelled the industry forward, enabling developers and organizations to leverage the benefits of containers beyond Docker. From lightweight containers and unikernels to serverless containers and service meshes, the containerization ecosystem continues to evolve, offering solutions ...\", \"https://www.educative.io/blog/kubernetes-vs-docker\": \"Kubernetes has emerged as the dominant force in container orchestration, offering robust features and a thriving ecosystem. Docker, originally renowned for containerization, now focuses on smaller-scale deployments. The future sees Kubernetes expanding into serverless, edge computing, and automation, while Docker may carve out a niche within Kubernetes ecosystems. Read more to understand the ...\", \"https://refine.dev/blog/kubernetes-vs-docker/\": \"Summary of Key Points: Docker is a container technology that helps create an isolated environment for applications. Kubernetes is a container orchestration platform that manages the cluster of multiple containers. Docker automates building and deploying applications widely used in CI/CD processes.\"}'), AIMessage(content=\"Docker's key technical innovations that differentiate it from other containerization technologies include its focus on facilitating the creation, management, and execution of containers that encapsulate applications and their dependencies efficiently. Docker is particularly known for automating the building and deploying of applications, making it a widely used tool in Continuous Integration/Continuous Deployment (CI/CD) processes. In contrast, Kubernetes excels in container orchestration for larger-scale deployments, offering robust features and a thriving ecosystem for managing and orchestrating containerized applications on a larger scale.\\n\\nCitations:\\n\\n[1]: https://www.rapidbrains.com/blog/docker-vs-kubernetes-selecting-the-right-containerization-solution\\n[2]: https://refine.dev/blog/kubernetes-vs-docker/\", name='DrContainer')], references={'https://www.linkedin.com/pulse/docker-revolutionizing-containerization-from-inception-himanshu-jha-8iiwc': 'As Docker gained traction, it quickly became an industry standard for containerization. Developers embraced its simplicity and efficiency, while operations teams appreciated the ease of deployment ...', 'https://blackcatdev.medium.com/unlocking-innovation-how-dockers-evolution-reshaped-software-development-f7ce9e87bd03': 'Over the past decade, Docker has emerged as a transformative force in the realm of software development, revolutionizing how applications are built, shipped, and deployed. Initially released in 2013, Docker introduced a lightweight containerization technology that has since become a cornerstone of modern software development practices.', 'https://medium.com/@hello_17906/docker-revolutionizing-software-development-and-containerization-cfdc9e705332': 'In 2013, Solomon Hykes introduced the world to Docker, a groundbreaking containerization technology that has since become a cornerstone of modern software development. This article traces the ...', 'https://www.docker.com/blog/dockers-developer-innovation-unveiling-performance-milestones/': \"Imagine your containers are digital backpacks; the heavier the bag, the harder to carry it around while you work. We've introduced support for Zstandard (zstd) compression of Docker container images in Docker Desktop 4.19 to lighten the load, reducing container image sizes with remarkable results.\", 'https://dev.to/documatic/docker-vs-kubernetes-a-comparative-study-4aa2': 'Docker, at its core, revolves around containerization and adept image management, making it a prime choice for the creation and testing of environments in development. Conversely, Kubernetes excels in the orchestration of containers, specializing in tasks like scaling and the management of intricate applications in the realm of production.', 'https://www.hackerrank.com/blog/what-is-docker-introduction/': 'Docker is a platform designed to simplify the process of developing, shipping, and running applications. It achieves this using containerization, a technology that packages an application and its dependencies together into a single unit called a container.', 'https://www.rapidbrains.com/blog/docker-vs-kubernetes-selecting-the-right-containerization-solution': \"At their core, both Docker and Kubernetes rely on containerization technology. Docker facilitates the creation, management, and execution of containers, which encapsulate applications and their dependencies. Meanwhile, Kubernetes extends containerization's potential by orchestrating and managing containerized applications on a larger scale.\", 'https://refine.dev/blog/kubernetes-vs-docker/': 'Summary of Key Points: Docker is a container technology that helps create an isolated environment for applications. Kubernetes is a container orchestration platform that manages the cluster of multiple containers. Docker automates building and deploying applications widely used in CI/CD processes.'})\n",
      "InterviewState.from_dict: data is an instance of InterviewState\n",
      "Routing messages for [DrContainer]\n",
      "Continue asking question for [DrContainer] as this is not the last end of the conversation\n",
      "answer_question\n",
      "Processing step: answer_question\n",
      "--  [HumanMessage(content='What are the key technical innovations that Docker introduced to the field of containerization?', response_metadata={'token_usage': {'completion_tokens': 16, 'prompt_tokens': 185, 'total_tokens': 201}, 'model_name': 'gpt-3.5-turbo', 'system_fingerprint': 'fp_c2295e73ad', 'fini\n"
     ]
    },
    {
     "name": "stderr",
     "output_type": "stream",
     "text": [
      "2024-04-20 17:55:31,365 [MainThread  ] [INFO ]  Generated question for DrContainer: What are the key technical advancements that Docker introduced to the field of containerization?\n",
      "2024-04-20 17:55:31,388 [MainThread  ] [INFO ]  START - Generate answers for [DrContainer]\n"
     ]
    },
    {
     "name": "stdout",
     "output_type": "stream",
     "text": [
      "ask_question\n",
      "Processing step: ask_question\n",
      "--  [HumanMessage(content='What are the key technical innovations that Docker introduced to the field of containerization?', response_metadata={'token_usage': {'completion_tokens': 16, 'prompt_tokens': 185, 'total_tokens': 201}, 'model_name': 'gpt-3.5-turbo', 'system_fingerprint': 'fp_c2295e73ad', 'fini\n"
     ]
    },
    {
     "name": "stderr",
     "output_type": "stream",
     "text": [
      "2024-04-20 17:55:31,905 [MainThread  ] [INFO ]  Got 1 search engine queries for [DrContainer] -\n",
      "\t ['Key technical advancements introduced by Docker in containerization']\n"
     ]
    },
    {
     "name": "stdout",
     "output_type": "stream",
     "text": [
      "Searching DuckDuckGo for [Key technical advancements introduced by Docker in containerization]\n"
     ]
    },
    {
     "name": "stderr",
     "output_type": "stream",
     "text": [
      "2024-04-20 17:55:33,199 [MainThread  ] [INFO ]  Got 1 search engine results for [DrContainer] - \n",
      "\t {'https://medium.com/@marwanjaber/docker-in-a-nutshell-a-practical-guide-to-containerization-62d0fce9761d': \"Building a Docker Image with Our Node.js App. To containerize the Node.js application mentioned earlier, you'll need a Dockerfile. Create a new file named Dockerfile in the root directory of ...\", 'https://medium.com/@hello_17906/docker-revolutionizing-software-development-and-containerization-cfdc9e705332': 'In 2013, Solomon Hykes introduced the world to Docker, a groundbreaking containerization technology that has since become a cornerstone of modern software development. This article traces the ...', 'https://www.redswitches.com/blog/containerization-using-docker/': 'Mastering Containerization Docker in 2024: A Quick Guide. Vasav. October 26, 2023. - 2 mins read. Imagine a world where the process of sending goods worldwide was chaotic. Each consignment requires specific packaging, handling guidelines, and a distinct shipping strategy. This caused confusion and inefficiencies as well as slowing down the process.', 'https://nestify.io/blog/docker-technology-revolutionizing-containerization/': 'The key Docker technology utilized is namespaces, which enables the creation of isolated workspaces known as containers. When a container is executed, Docker generates a distinct set of namespaces specific to that container. ... Orchestration Complexity: While Docker technology simplifies container management, orchestrating multiple containers ...', 'https://dev.to/yogini16/docker-unpacked-a-comprehensive-exploration-of-containerization-revolution-4n5a': 'In 2013, they introduced Docker as an open-source project, aiming to address the challenges faced in deploying applications consistently across various environments. Docker revolutionized the approach by introducing containerization, allowing developers to package applications and their dependencies into standardized units called containers.'}\n",
      "2024-04-20 17:55:33,200 [MainThread  ] [INFO ]  Dumped 1924 characters for [DrContainer] - \n",
      "\t {\"https://medium.com/@marwanjaber/docker-in-a-nutshell-a-practical-guide-to-containerization-62d0fce9761d\": \"Building a Docker Image with Our Node.js App. To containerize the Node.js application mentioned earlier, you'll need a Dockerfile. Create a new file named Dockerfile in the root directory of ...\", \"https://medium.com/@hello_17906/docker-revolutionizing-software-development-and-containerization-cfdc9e705332\": \"In 2013, Solomon Hykes introduced the world to Docker, a groundbreaking containerization technology that has since become a cornerstone of modern software development. This article traces the ...\", \"https://www.redswitches.com/blog/containerization-using-docker/\": \"Mastering Containerization Docker in 2024: A Quick Guide. Vasav. October 26, 2023. - 2 mins read. Imagine a world where the process of sending goods worldwide was chaotic. Each consignment requires specific packaging, handling guidelines, and a distinct shipping strategy. This caused confusion and inefficiencies as well as slowing down the process.\", \"https://nestify.io/blog/docker-technology-revolutionizing-containerization/\": \"The key Docker technology utilized is namespaces, which enables the creation of isolated workspaces known as containers. When a container is executed, Docker generates a distinct set of namespaces specific to that container. ... Orchestration Complexity: While Docker technology simplifies container management, orchestrating multiple containers ...\", \"https://dev.to/yogini16/docker-unpacked-a-comprehensive-exploration-of-containerization-revolution-4n5a\": \"In 2013, they introduced Docker as an open-source project, aiming to address the challenges faced in deploying applications consistently across various environments. Docker revolutionized the approach by introducing containerization, allowing developers to package applications and their dependencies into standardized units called containers.\"}\n"
     ]
    },
    {
     "name": "stdout",
     "output_type": "stream",
     "text": [
      "Got search engine results: 5 for [Key technical advancements introduced by Docker in containerization]\n"
     ]
    },
    {
     "name": "stderr",
     "output_type": "stream",
     "text": [
      "2024-04-20 17:55:36,276 [MainThread  ] [INFO ]  Genreted final answer answer='Docker introduced key technical advancements to the field of containerization, revolutionizing software development. In 2013, Solomon Hykes introduced Docker as a groundbreaking containerization technology, which has become a cornerstone of modern software development. Docker simplified the process of deploying applications consistently across different environments by introducing containerization, enabling developers to package applications and dependencies into standardized units called containers. One of the key technologies utilized by Docker is namespaces, which allows the creation of isolated workspaces known as containers. When a container is executed, Docker generates a distinct set of namespaces specific to that container, enhancing isolation and security.' cited_urls=['https://medium.com/@hello_17906/docker-revolutionizing-software-development-and-containerization-cfdc9e705332', 'https://dev.to/yogini16/docker-unpacked-a-comprehensive-exploration-of-containerization-revolution-4n5a', 'https://nestify.io/blog/docker-technology-revolutionizing-containerization/'] for [DrContainer] - \n",
      "\t Docker introduced key technical advancements to the field of containerization, revolutionizing software development. In 2013, Solomon Hykes introduced Docker as a groundbreaking containerization technology, which has become a cornerstone of modern software development. Docker simplified the process of deploying applications consistently across different environments by introducing containerization, enabling developers to package applications and dependencies into standardized units called containers. One of the key technologies utilized by Docker is namespaces, which allows the creation of isolated workspaces known as containers. When a container is executed, Docker generates a distinct set of namespaces specific to that container, enhancing isolation and security.\n",
      "\n",
      "Citations:\n",
      "\n",
      "[1]: https://medium.com/@hello_17906/docker-revolutionizing-software-development-and-containerization-cfdc9e705332\n",
      "[2]: https://dev.to/yogini16/docker-unpacked-a-comprehensive-exploration-of-containerization-revolution-4n5a\n",
      "[3]: https://nestify.io/blog/docker-technology-revolutionizing-containerization/\n",
      "2024-04-20 17:55:36,277 [MainThread  ] [INFO ]  END - generate answer for [DrContainer]\n"
     ]
    },
    {
     "name": "stdout",
     "output_type": "stream",
     "text": [
      "Routing messages: InterviewState(interview_config=InterviewConfig(long_llm=ChatOpenAI(client=<openai.resources.chat.completions.Completions object at 0x11241f0d0>, async_client=<openai.resources.chat.completions.AsyncCompletions object at 0x112422350>, model_name='gpt-3.5-turbo-0125', openai_api_key=SecretStr('**********'), openai_proxy=''), fast_llm=ChatOpenAI(client=<openai.resources.chat.completions.Completions object at 0x112253590>, async_client=<openai.resources.chat.completions.AsyncCompletions object at 0x1120ded90>, openai_api_key=SecretStr('**********'), openai_proxy=''), max_conversations=5, max_reference_length=10000, tags_to_extract=['p', 'h1', 'h2', 'h3'], embeddings=OpenAIEmbeddings(client=<openai.resources.embeddings.Embeddings object at 0x112423490>, async_client=<openai.resources.embeddings.AsyncEmbeddings object at 0x11243a610>, model='text-embedding-3-small', dimensions=None, deployment='text-embedding-ada-002', openai_api_version='', openai_api_base=None, openai_api_type='', openai_proxy='', embedding_ctx_length=8191, openai_api_key=SecretStr('**********'), openai_organization=None, allowed_special=set(), disallowed_special='all', chunk_size=1000, max_retries=2, request_timeout=None, headers=None, tiktoken_enabled=True, tiktoken_model_name=None, show_progress_bar=False, model_kwargs={}, skip_empty=False, default_headers=None, default_query=None, retry_min_seconds=4, retry_max_seconds=20, http_client=None, http_async_client=None), vectorstore_dir='./data/storm/vectorstore/', vectorstore=<langchain_community.vectorstores.chroma.Chroma object at 0x1124225d0>, runnable_config={}), editor=Editor(affiliation='Academic Institution', name='DrContainer', role='Researcher', description='Dr. Container is an expert in containerization technologies and will focus on the historical development and technical aspects of Docker in the context of containerization.'), messages=[HumanMessage(content='What are the key technical innovations that Docker introduced to the field of containerization?', response_metadata={'token_usage': {'completion_tokens': 16, 'prompt_tokens': 185, 'total_tokens': 201}, 'model_name': 'gpt-3.5-turbo', 'system_fingerprint': 'fp_c2295e73ad', 'finish_reason': 'stop', 'logprobs': None}, name='DrContainer', id='run-bea10abb-8a76-448f-b854-f869b8e7cf78-0', tool_calls=[], invalid_tool_calls=[]), AIMessage(content='{\"queries\": [\"Key technical innovations introduced by Docker in containerization\"]}', name='AI'), HumanMessage(content='{\"https://medium.com/@marwanjaber/docker-in-a-nutshell-a-practical-guide-to-containerization-62d0fce9761d\": \"Building a Docker Image with Our Node.js App. To containerize the Node.js application mentioned earlier, you\\'ll need a Dockerfile. Create a new file named Dockerfile in the root directory of ...\", \"https://www.linkedin.com/pulse/docker-revolutionizing-containerization-from-inception-himanshu-jha-8iiwc\": \"As Docker gained traction, it quickly became an industry standard for containerization. Developers embraced its simplicity and efficiency, while operations teams appreciated the ease of deployment ...\", \"https://blackcatdev.medium.com/unlocking-innovation-how-dockers-evolution-reshaped-software-development-f7ce9e87bd03\": \"Over the past decade, Docker has emerged as a transformative force in the realm of software development, revolutionizing how applications are built, shipped, and deployed. Initially released in 2013, Docker introduced a lightweight containerization technology that has since become a cornerstone of modern software development practices.\", \"https://medium.com/@hello_17906/docker-revolutionizing-software-development-and-containerization-cfdc9e705332\": \"In 2013, Solomon Hykes introduced the world to Docker, a groundbreaking containerization technology that has since become a cornerstone of modern software development. This article traces the ...\", \"https://www.docker.com/blog/dockers-developer-innovation-unveiling-performance-milestones/\": \"Imagine your containers are digital backpacks; the heavier the bag, the harder to carry it around while you work. We\\'ve introduced support for Zstandard (zstd) compression of Docker container images in Docker Desktop 4.19 to lighten the load, reducing container image sizes with remarkable results.\"}'), AIMessage(content='Docker introduced several key technical innovations to the field of containerization. One of the significant contributions was the introduction of a lightweight containerization technology in 2013, allowing for more efficient application building, shipping, and deployment. Docker quickly became an industry standard due to its simplicity and efficiency, with developers embracing its ease of use and operations teams appreciating the streamlined deployment process. Additionally, Docker implemented Zstandard (zstd) compression for Docker container images in Docker Desktop 4.19, reducing container image sizes and improving performance.\\n\\nCitations:\\n\\n[1]: https://blackcatdev.medium.com/unlocking-innovation-how-dockers-evolution-reshaped-software-development-f7ce9e87bd03\\n[2]: https://www.linkedin.com/pulse/docker-revolutionizing-containerization-from-inception-himanshu-jha-8iiwc\\n[3]: https://medium.com/@hello_17906/docker-revolutionizing-software-development-and-containerization-cfdc9e705332\\n[4]: https://www.docker.com/blog/dockers-developer-innovation-unveiling-performance-milestones/', name='DrContainer'), HumanMessage(content='What specific technical innovations or features distinguish Docker from other containerization technologies that have contributed to its widespread adoption in the industry?', response_metadata={'token_usage': {'completion_tokens': 24, 'prompt_tokens': 185, 'total_tokens': 209}, 'model_name': 'gpt-3.5-turbo', 'system_fingerprint': 'fp_c2295e73ad', 'finish_reason': 'stop', 'logprobs': None}, name='DrContainer', id='run-87c6f279-5a84-409e-bb77-eb1d5caaf055-0', tool_calls=[], invalid_tool_calls=[]), AIMessage(content='{\"queries\": [\"Specific technical innovations or features that distinguish Docker from other containerization technologies and contributed to its widespread adoption in the industry\"]}', name='AI'), HumanMessage(content='{\"https://www.enablegeek.com/blog/containerization-technologies-docker-kubernetes/\": \"Docker and Kubernetes have become leaders among the numerous containerization technologies, providing solid tools for managing and orchestrating containers at scale. This article compares the features, use cases, and contributions of Docker, Kubernetes, and other containerization technologies to examine the advantages of these technologies in ...\", \"https://www.rapidbrains.com/blog/docker-vs-kubernetes-selecting-the-right-containerization-solution\": \"At their core, both Docker and Kubernetes rely on containerization technology. Docker facilitates the creation, management, and execution of containers, which encapsulate applications and their dependencies. Meanwhile, Kubernetes extends containerization\\'s potential by orchestrating and managing containerized applications on a larger scale.\", \"https://dev.to/documatic/docker-vs-kubernetes-a-comparative-study-4aa2\": \"Docker, at its core, revolves around containerization and adept image management, making it a prime choice for the creation and testing of environments in development. Conversely, Kubernetes excels in the orchestration of containers, specializing in tasks like scaling and the management of intricate applications in the realm of production.\", \"https://www.educative.io/blog/kubernetes-vs-docker\": \"Kubernetes has emerged as the dominant force in container orchestration, offering robust features and a thriving ecosystem. Docker, originally renowned for containerization, now focuses on smaller-scale deployments. The future sees Kubernetes expanding into serverless, edge computing, and automation, while Docker may carve out a niche within Kubernetes ecosystems. Read more to understand the ...\", \"https://www.hackerrank.com/blog/what-is-docker-introduction/\": \"Docker is a platform designed to simplify the process of developing, shipping, and running applications. It achieves this using containerization, a technology that packages an application and its dependencies together into a single unit called a container.\"}'), AIMessage(content=\"Docker's key technical innovations and features that distinguish it from other containerization technologies include its focus on containerization and adept image management, making it ideal for creating and testing environments in development. Docker simplifies the process of developing, shipping, and running applications through containerization technology, which packages applications and dependencies into containers. In contrast, Kubernetes excels in container orchestration, specializing in tasks like scaling and managing complex applications in production. While Docker is known for smaller-scale deployments, Kubernetes offers robust features and a thriving ecosystem for container orchestration on a larger scale.\\n\\nCitations:\\n\\n[1]: https://dev.to/documatic/docker-vs-kubernetes-a-comparative-study-4aa2\\n[2]: https://www.hackerrank.com/blog/what-is-docker-introduction/\", name='DrContainer'), HumanMessage(content='What key technical innovations distinguish Docker from other containerization technologies in the market?', response_metadata={'token_usage': {'completion_tokens': 15, 'prompt_tokens': 185, 'total_tokens': 200}, 'model_name': 'gpt-3.5-turbo', 'system_fingerprint': 'fp_c2295e73ad', 'finish_reason': 'stop', 'logprobs': None}, name='DrContainer', id='run-fa0fd5ba-f9ba-4cdf-971c-d99f843ac607-0', tool_calls=[], invalid_tool_calls=[]), AIMessage(content='{\"queries\": [\"Key technical innovations distinguishing Docker from other containerization technologies in the market\"]}', name='AI'), HumanMessage(content='{\"https://www.enablegeek.com/blog/containerization-technologies-docker-kubernetes/\": \"Docker and Kubernetes have become leaders among the numerous containerization technologies, providing solid tools for managing and orchestrating containers at scale. This article compares the features, use cases, and contributions of Docker, Kubernetes, and other containerization technologies to examine the advantages of these technologies in ...\", \"https://www.rapidbrains.com/blog/docker-vs-kubernetes-selecting-the-right-containerization-solution\": \"At their core, both Docker and Kubernetes rely on containerization technology. Docker facilitates the creation, management, and execution of containers, which encapsulate applications and their dependencies. Meanwhile, Kubernetes extends containerization\\'s potential by orchestrating and managing containerized applications on a larger scale.\", \"https://www.educative.io/blog/kubernetes-vs-docker\": \"Kubernetes has emerged as the dominant force in container orchestration, offering robust features and a thriving ecosystem. Docker, originally renowned for containerization, now focuses on smaller-scale deployments. The future sees Kubernetes expanding into serverless, edge computing, and automation, while Docker may carve out a niche within Kubernetes ecosystems. Read more to understand the ...\", \"https://refine.dev/blog/kubernetes-vs-docker/\": \"Summary of Key Points: Docker is a container technology that helps create an isolated environment for applications. Kubernetes is a container orchestration platform that manages the cluster of multiple containers. Docker automates building and deploying applications widely used in CI/CD processes.\", \"https://learn.g2.com/kubernetes-vs-docker\": \"Docker is a containerization platform that can run containers on a host operating system (container runtime). In contrast, Kubernetes is a framework for running and controlling containers from various container runtimes. When Docker was introduced in 2013, it ushered in the modern era of containers and a microservices-based computing model.\"}'), AIMessage(content='Docker introduced key technical innovations that distinguish it from other containerization technologies in the market. Docker focuses on facilitating the creation, management, and execution of containers, encapsulating applications and their dependencies efficiently. It automates the building and deploying of applications, making it widely used in Continuous Integration/Continuous Deployment (CI/CD) processes. On the other hand, Kubernetes, while excelling in container orchestration for larger-scale deployments, has emerged as a dominant force in container orchestration, offering robust features and a thriving ecosystem.\\n\\nCitations:\\n\\n[1]: https://www.rapidbrains.com/blog/docker-vs-kubernetes-selecting-the-right-containerization-solution\\n[2]: https://refine.dev/blog/kubernetes-vs-docker/', name='DrContainer'), HumanMessage(content='What are some key technical innovations that differentiate Docker from other containerization technologies?', response_metadata={'token_usage': {'completion_tokens': 15, 'prompt_tokens': 185, 'total_tokens': 200}, 'model_name': 'gpt-3.5-turbo', 'system_fingerprint': 'fp_c2295e73ad', 'finish_reason': 'stop', 'logprobs': None}, name='DrContainer', id='run-cba530c0-539a-4fb0-ba6a-910918a6d5d3-0', tool_calls=[], invalid_tool_calls=[]), AIMessage(content='{\"queries\": [\"Key technical innovations that differentiate Docker from other containerization technologies\"]}', name='AI'), HumanMessage(content='{\"https://www.rapidbrains.com/blog/docker-vs-kubernetes-selecting-the-right-containerization-solution\": \"At their core, both Docker and Kubernetes rely on containerization technology. Docker facilitates the creation, management, and execution of containers, which encapsulate applications and their dependencies. Meanwhile, Kubernetes extends containerization\\'s potential by orchestrating and managing containerized applications on a larger scale.\", \"https://www.enablegeek.com/blog/containerization-technologies-docker-kubernetes/\": \"Docker and Kubernetes have become leaders among the numerous containerization technologies, providing solid tools for managing and orchestrating containers at scale. This article compares the features, use cases, and contributions of Docker, Kubernetes, and other containerization technologies to examine the advantages of these technologies in ...\", \"https://prgmine.com/advancements-in-containerization-technologies-beyond-docker/\": \"Conclusion. Advancements in containerization technologies have propelled the industry forward, enabling developers and organizations to leverage the benefits of containers beyond Docker. From lightweight containers and unikernels to serverless containers and service meshes, the containerization ecosystem continues to evolve, offering solutions ...\", \"https://www.educative.io/blog/kubernetes-vs-docker\": \"Kubernetes has emerged as the dominant force in container orchestration, offering robust features and a thriving ecosystem. Docker, originally renowned for containerization, now focuses on smaller-scale deployments. The future sees Kubernetes expanding into serverless, edge computing, and automation, while Docker may carve out a niche within Kubernetes ecosystems. Read more to understand the ...\", \"https://refine.dev/blog/kubernetes-vs-docker/\": \"Summary of Key Points: Docker is a container technology that helps create an isolated environment for applications. Kubernetes is a container orchestration platform that manages the cluster of multiple containers. Docker automates building and deploying applications widely used in CI/CD processes.\"}'), AIMessage(content=\"Docker's key technical innovations that differentiate it from other containerization technologies include its focus on facilitating the creation, management, and execution of containers that encapsulate applications and their dependencies efficiently. Docker is particularly known for automating the building and deploying of applications, making it a widely used tool in Continuous Integration/Continuous Deployment (CI/CD) processes. In contrast, Kubernetes excels in container orchestration for larger-scale deployments, offering robust features and a thriving ecosystem for managing and orchestrating containerized applications on a larger scale.\\n\\nCitations:\\n\\n[1]: https://www.rapidbrains.com/blog/docker-vs-kubernetes-selecting-the-right-containerization-solution\\n[2]: https://refine.dev/blog/kubernetes-vs-docker/\", name='DrContainer'), HumanMessage(content='What are the key technical advancements that Docker introduced to the field of containerization?', response_metadata={'token_usage': {'completion_tokens': 16, 'prompt_tokens': 185, 'total_tokens': 201}, 'model_name': 'gpt-3.5-turbo', 'system_fingerprint': 'fp_c2295e73ad', 'finish_reason': 'stop', 'logprobs': None}, name='DrContainer', id='run-f20884ad-9ee7-4fe8-8196-06ee9f8dc744-0', tool_calls=[], invalid_tool_calls=[]), AIMessage(content='{\"queries\": [\"Key technical advancements introduced by Docker in containerization\"]}', name='AI'), HumanMessage(content='{\"https://medium.com/@marwanjaber/docker-in-a-nutshell-a-practical-guide-to-containerization-62d0fce9761d\": \"Building a Docker Image with Our Node.js App. To containerize the Node.js application mentioned earlier, you\\'ll need a Dockerfile. Create a new file named Dockerfile in the root directory of ...\", \"https://medium.com/@hello_17906/docker-revolutionizing-software-development-and-containerization-cfdc9e705332\": \"In 2013, Solomon Hykes introduced the world to Docker, a groundbreaking containerization technology that has since become a cornerstone of modern software development. This article traces the ...\", \"https://www.redswitches.com/blog/containerization-using-docker/\": \"Mastering Containerization Docker in 2024: A Quick Guide. Vasav. October 26, 2023. - 2 mins read. Imagine a world where the process of sending goods worldwide was chaotic. Each consignment requires specific packaging, handling guidelines, and a distinct shipping strategy. This caused confusion and inefficiencies as well as slowing down the process.\", \"https://nestify.io/blog/docker-technology-revolutionizing-containerization/\": \"The key Docker technology utilized is namespaces, which enables the creation of isolated workspaces known as containers. When a container is executed, Docker generates a distinct set of namespaces specific to that container. ... Orchestration Complexity: While Docker technology simplifies container management, orchestrating multiple containers ...\", \"https://dev.to/yogini16/docker-unpacked-a-comprehensive-exploration-of-containerization-revolution-4n5a\": \"In 2013, they introduced Docker as an open-source project, aiming to address the challenges faced in deploying applications consistently across various environments. Docker revolutionized the approach by introducing containerization, allowing developers to package applications and their dependencies into standardized units called containers.\"}'), AIMessage(content='Docker introduced key technical advancements to the field of containerization, revolutionizing software development. In 2013, Solomon Hykes introduced Docker as a groundbreaking containerization technology, which has become a cornerstone of modern software development. Docker simplified the process of deploying applications consistently across different environments by introducing containerization, enabling developers to package applications and dependencies into standardized units called containers. One of the key technologies utilized by Docker is namespaces, which allows the creation of isolated workspaces known as containers. When a container is executed, Docker generates a distinct set of namespaces specific to that container, enhancing isolation and security.\\n\\nCitations:\\n\\n[1]: https://medium.com/@hello_17906/docker-revolutionizing-software-development-and-containerization-cfdc9e705332\\n[2]: https://dev.to/yogini16/docker-unpacked-a-comprehensive-exploration-of-containerization-revolution-4n5a\\n[3]: https://nestify.io/blog/docker-technology-revolutionizing-containerization/', name='DrContainer')], references={'https://www.linkedin.com/pulse/docker-revolutionizing-containerization-from-inception-himanshu-jha-8iiwc': 'As Docker gained traction, it quickly became an industry standard for containerization. Developers embraced its simplicity and efficiency, while operations teams appreciated the ease of deployment ...', 'https://blackcatdev.medium.com/unlocking-innovation-how-dockers-evolution-reshaped-software-development-f7ce9e87bd03': 'Over the past decade, Docker has emerged as a transformative force in the realm of software development, revolutionizing how applications are built, shipped, and deployed. Initially released in 2013, Docker introduced a lightweight containerization technology that has since become a cornerstone of modern software development practices.', 'https://medium.com/@hello_17906/docker-revolutionizing-software-development-and-containerization-cfdc9e705332': 'In 2013, Solomon Hykes introduced the world to Docker, a groundbreaking containerization technology that has since become a cornerstone of modern software development. This article traces the ...', 'https://www.docker.com/blog/dockers-developer-innovation-unveiling-performance-milestones/': \"Imagine your containers are digital backpacks; the heavier the bag, the harder to carry it around while you work. We've introduced support for Zstandard (zstd) compression of Docker container images in Docker Desktop 4.19 to lighten the load, reducing container image sizes with remarkable results.\", 'https://dev.to/documatic/docker-vs-kubernetes-a-comparative-study-4aa2': 'Docker, at its core, revolves around containerization and adept image management, making it a prime choice for the creation and testing of environments in development. Conversely, Kubernetes excels in the orchestration of containers, specializing in tasks like scaling and the management of intricate applications in the realm of production.', 'https://www.hackerrank.com/blog/what-is-docker-introduction/': 'Docker is a platform designed to simplify the process of developing, shipping, and running applications. It achieves this using containerization, a technology that packages an application and its dependencies together into a single unit called a container.', 'https://www.rapidbrains.com/blog/docker-vs-kubernetes-selecting-the-right-containerization-solution': \"At their core, both Docker and Kubernetes rely on containerization technology. Docker facilitates the creation, management, and execution of containers, which encapsulate applications and their dependencies. Meanwhile, Kubernetes extends containerization's potential by orchestrating and managing containerized applications on a larger scale.\", 'https://refine.dev/blog/kubernetes-vs-docker/': 'Summary of Key Points: Docker is a container technology that helps create an isolated environment for applications. Kubernetes is a container orchestration platform that manages the cluster of multiple containers. Docker automates building and deploying applications widely used in CI/CD processes.', 'https://nestify.io/blog/docker-technology-revolutionizing-containerization/': 'The key Docker technology utilized is namespaces, which enables the creation of isolated workspaces known as containers. When a container is executed, Docker generates a distinct set of namespaces specific to that container. ... Orchestration Complexity: While Docker technology simplifies container management, orchestrating multiple containers ...', 'https://dev.to/yogini16/docker-unpacked-a-comprehensive-exploration-of-containerization-revolution-4n5a': 'In 2013, they introduced Docker as an open-source project, aiming to address the challenges faced in deploying applications consistently across various environments. Docker revolutionized the approach by introducing containerization, allowing developers to package applications and their dependencies into standardized units called containers.'})\n",
      "InterviewState.from_dict: data is an instance of InterviewState\n",
      "Routing messages for [DrContainer]\n",
      "answer_question\n",
      "Processing step: answer_question\n",
      "--  [HumanMessage(content='What are the key technical innovations that Docker introduced to the field of containerization?', response_metadata={'token_usage': {'completion_tokens': 16, 'prompt_tokens': 185, 'total_tokens': 201}, 'model_name': 'gpt-3.5-turbo', 'system_fingerprint': 'fp_c2295e73ad', 'fini\n"
     ]
    },
    {
     "ename": "AttributeError",
     "evalue": "'NoneType' object has no attribute 'values'",
     "output_type": "error",
     "traceback": [
      "\u001b[0;31m---------------------------------------------------------------------------\u001b[0m",
      "\u001b[0;31mAttributeError\u001b[0m                            Traceback (most recent call last)",
      "Cell \u001b[0;32mIn[16], line 26\u001b[0m\n\u001b[1;32m     23\u001b[0m     \u001b[38;5;28;01mif\u001b[39;00m END \u001b[38;5;129;01min\u001b[39;00m step:\n\u001b[1;32m     24\u001b[0m         final_step \u001b[38;5;241m=\u001b[39m step\n\u001b[0;32m---> 26\u001b[0m final_state \u001b[38;5;241m=\u001b[39m \u001b[38;5;28mnext\u001b[39m(\u001b[38;5;28miter\u001b[39m(final_step\u001b[38;5;241m.\u001b[39mvalues()))\n",
      "\u001b[0;31mAttributeError\u001b[0m: 'NoneType' object has no attribute 'values'"
     ]
    }
   ],
   "source": [
    "# Run interview\n",
    "\n",
    "final_step = None\n",
    "# await interview_graph.stream_and_return_results(\n",
    "#     {\"editor\": perspectives.editors[0], \"messages\": []}\n",
    "# )\n",
    "\n",
    "initial_state : InterviewState = InterviewState(interview_config=interview_config, editor=p1.editors[0], messages=[], references={})\n",
    "# {\n",
    "#     \"editor\": p1.editors[0],\n",
    "#     \"messages\": [\n",
    "#         AIMessage(\n",
    "#             content=f\"So you said you were writing an article on {example_topic}?\",\n",
    "#             name=\"SubjectMatterExpert\",\n",
    "#         )\n",
    "#     ],\n",
    "# }\n",
    "async for step in interview_graph.graph.astream(initial_state.as_dict()):\n",
    "    name = next(iter(step))\n",
    "    print(name)\n",
    "    print(f\"Processing step: {name}\")\n",
    "    print(\"-- \", str(step[name][\"messages\"])[:300])\n",
    "    if END in step:\n",
    "        final_step = step\n",
    "        \n",
    "final_state = next(iter(final_step.values()))"
   ]
  },
  {
   "cell_type": "code",
   "execution_count": null,
   "id": "9a09011a",
   "metadata": {},
   "outputs": [],
   "source": [
    "# final_state = next(iter(step.values()))\n"
   ]
  },
  {
   "cell_type": "code",
   "execution_count": null,
   "id": "5e6a4851",
   "metadata": {},
   "outputs": [
    {
     "name": "stdout",
     "output_type": "stream",
     "text": [
      "InterviewState.from_dict: data is an instance of dict\n",
      "InterviewState.from_dict: error: 'summary'\n"
     ]
    },
    {
     "name": "stderr",
     "output_type": "stream",
     "text": [
      "Traceback (most recent call last):\n",
      "  File \"/Users/tapiwamaruni/Documents/projects/llm/storm-researcher/storm/models.py\", line 169, in from_dict\n",
      "    summary=data[\"summary\"]\n",
      "            ~~~~^^^^^^^^^^^\n",
      "KeyError: 'summary'\n"
     ]
    }
   ],
   "source": [
    "state2 = InterviewState.from_dict(final_state)\n",
    "state2"
   ]
  },
  {
   "cell_type": "code",
   "execution_count": null,
   "id": "59b02cf8",
   "metadata": {},
   "outputs": [
    {
     "ename": "TypeError",
     "evalue": "'dict_values' object is not subscriptable",
     "output_type": "error",
     "traceback": [
      "\u001b[0;31m---------------------------------------------------------------------------\u001b[0m",
      "\u001b[0;31mTypeError\u001b[0m                                 Traceback (most recent call last)",
      "Cell \u001b[0;32mIn[33], line 2\u001b[0m\n\u001b[1;32m      1\u001b[0m \u001b[38;5;66;03m# state2.trim_messages(max_characters=1000)\u001b[39;00m\n\u001b[0;32m----> 2\u001b[0m final_state[\u001b[38;5;124m'\u001b[39m\u001b[38;5;124manswer_question\u001b[39m\u001b[38;5;124m'\u001b[39m]\n",
      "\u001b[0;31mTypeError\u001b[0m: 'dict_values' object is not subscriptable"
     ]
    }
   ],
   "source": [
    "# state2.trim_messages(max_characters=1000)\n",
    "# final_state"
   ]
  },
  {
   "cell_type": "code",
   "execution_count": null,
   "id": "2244c235",
   "metadata": {},
   "outputs": [],
   "source": []
  },
  {
   "cell_type": "code",
   "execution_count": null,
   "id": "01bad132",
   "metadata": {},
   "outputs": [],
   "source": []
  },
  {
   "cell_type": "code",
   "execution_count": null,
   "id": "0ca82998",
   "metadata": {},
   "outputs": [],
   "source": []
  },
  {
   "cell_type": "code",
   "execution_count": null,
   "id": "cd7e9c1a",
   "metadata": {},
   "outputs": [],
   "source": []
  },
  {
   "cell_type": "code",
   "execution_count": null,
   "id": "5c1ef45f",
   "metadata": {},
   "outputs": [],
   "source": []
  },
  {
   "cell_type": "code",
   "execution_count": null,
   "id": "ed88d122",
   "metadata": {},
   "outputs": [],
   "source": []
  },
  {
   "cell_type": "code",
   "execution_count": null,
   "id": "5b278d8c-9e34-42ab-9649-bc7b3570bb52",
   "metadata": {},
   "outputs": [],
   "source": [
    "\n",
    "## Generate Initial Outline\n",
    "\n",
    "from langchain_core.pydantic_v1 import BaseModel, Field\n",
    "from typing import List, Optional\n",
    "from langchain_core.prompts import ChatPromptTemplate\n",
    "from langchain.output_parsers import PydanticOutputParser\n",
    "\n",
    "direct_gen_outline_prompt = ChatPromptTemplate.from_messages(\n",
    "    [\n",
    "        (\n",
    "            \"system\",\n",
    "            \"You are a Wikipedia writer. Write an outline for a Wikipedia page about a user-provided topic. Be comprehensive and specific.\",\n",
    "        ),\n",
    "        (\"user\", \"{topic}\\n{format_instructions}\"),\n",
    "    ]\n",
    ")\n",
    "\n",
    "\n",
    "class Subsection(BaseModel):\n",
    "    subsection_title: str = Field(..., title=\"Title of the subsection\")\n",
    "    description: str = Field(..., title=\"Content of the subsection\")\n",
    "\n",
    "    @property\n",
    "    def as_str(self) -> str:\n",
    "        return f\"### {self.subsection_title}\\n\\n{self.description}\".strip()\n",
    "\n",
    "\n",
    "class Section(BaseModel):\n",
    "    section_title: str = Field(..., title=\"Title of the section\")\n",
    "    description: str = Field(..., title=\"Content of the section\")\n",
    "    subsections: Optional[List[Subsection]] = Field(\n",
    "        default=None,\n",
    "        title=\"Titles and descriptions for each subsection of the Wikipedia page.\",\n",
    "    )\n",
    "\n",
    "    @property\n",
    "    def as_str(self) -> str:\n",
    "        subsections = \"\\n\\n\".join(\n",
    "            f\"### {subsection.subsection_title}\\n\\n{subsection.description}\"\n",
    "            for subsection in self.subsections or []\n",
    "        )\n",
    "        return f\"## {self.section_title}\\n\\n{self.description}\\n\\n{subsections}\".strip()\n",
    "\n",
    "\n",
    "class Outline(BaseModel):\n",
    "    page_title: str = Field(..., title=\"Title of the Wikipedia page\")\n",
    "    sections: List[Section] = Field(\n",
    "        default_factory=list,\n",
    "        title=\"Titles and descriptions for each section of the Wikipedia page.\",\n",
    "    )\n",
    "\n",
    "    @property\n",
    "    def as_str(self) -> str:\n",
    "        sections = \"\\n\\n\".join(section.as_str for section in self.sections)\n",
    "        return f\"# {self.page_title}\\n\\n{sections}\".strip()\n",
    "\n",
    "\n",
    "outline_parser = PydanticOutputParser(pydantic_object=Outline)\n",
    "\n",
    "generate_outline_direct = direct_gen_outline_prompt.partial(format_instructions=outline_parser.get_format_instructions()) | fast_llm | outline_parser\n"
   ]
  },
  {
   "cell_type": "code",
   "execution_count": null,
   "id": "90ee8329-896b-4085-a1fa-fec0a15937ef",
   "metadata": {},
   "outputs": [],
   "source": [
    "\n",
    "example_topic = \"Impact of million-plus token context window language models on RAG\"\n",
    "\n",
    "initial_outline = generate_outline_direct.invoke({\"topic\": example_topic})\n",
    "\n",
    "print(initial_outline.as_str)"
   ]
  },
  {
   "cell_type": "code",
   "execution_count": null,
   "id": "64c37266-d5d5-4fbb-831f-8f809e966236",
   "metadata": {},
   "outputs": [],
   "source": [
    "## Expand Topics\\\n",
    "\n"
   ]
  },
  {
   "cell_type": "code",
   "execution_count": null,
   "id": "27f63ad0-7e07-48ac-85a9-80a53b528c02",
   "metadata": {},
   "outputs": [],
   "source": [
    "gen_related_topics_prompt = ChatPromptTemplate.from_template(\n",
    "    \"\"\"I'm writing a Wikipedia page for a topic mentioned below. Please identify and recommend some Wikipedia pages on closely related subjects. I'm looking for examples that provide insights into interesting aspects commonly associated with this topic, or examples that help me understand the typical content and structure included in Wikipedia pages for similar topics.\n",
    "\n",
    "Please list the as many subjects and urls as you can.\n",
    "\n",
    "Topic of interest: {topic}\n",
    "{format_instructions}\n",
    "\"\"\"\n",
    ")\n",
    "\n",
    "\n",
    "class RelatedSubjects(BaseModel):\n",
    "    topics: List[str] = Field(\n",
    "        description=\"Comprehensive list of related subjects as background research.\",\n",
    "    )\n",
    "\n",
    "\n",
    "related_topics_parser = PydanticOutputParser(pydantic_object=RelatedSubjects)\n",
    "\n",
    "expand_chain = gen_related_topics_prompt.partial(format_instructions=related_topics_parser.get_format_instructions()) | fast_llm | related_topics_parser\n"
   ]
  },
  {
   "cell_type": "code",
   "execution_count": null,
   "id": "8f801936-f6f7-44a0-bc79-4f0132fba79b",
   "metadata": {},
   "outputs": [],
   "source": [
    "related_subjects = await expand_chain.ainvoke({\"topic\": example_topic})\n",
    "related_subjects"
   ]
  },
  {
   "cell_type": "markdown",
   "id": "95cc42a4-45f1-470c-a3f6-20a5661d5b43",
   "metadata": {},
   "source": [
    "## Generate Perspectives\n",
    "\n",
    "From these related subjects, we can select representative Wikipedia editors as \"subject matter experts\" with distinct backgrounds and affiliations. These will help distribute the search process to encourage a more well-rounded final report.\n"
   ]
  },
  {
   "cell_type": "code",
   "execution_count": null,
   "id": "d79ea824-c561-4949-bbd4-127281f3eeb6",
   "metadata": {},
   "outputs": [],
   "source": [
    "class Editor(BaseModel):\n",
    "    affiliation: str = Field(\n",
    "        description=\"Primary affiliation of the editor.\",\n",
    "    )\n",
    "    name: str = Field(\n",
    "        description=\"Name of the editor.\",\n",
    "    )\n",
    "    role: str = Field(\n",
    "        description=\"Role of the editor in the context of the topic.\",\n",
    "    )\n",
    "    description: str = Field(\n",
    "        description=\"Description of the editor's focus, concerns, and motives.\",\n",
    "    )\n",
    "\n",
    "    @property\n",
    "    def persona(self) -> str:\n",
    "        return f\"Name: {self.name}\\nRole: {self.role}\\nAffiliation: {self.affiliation}\\nDescription: {self.description}\\n\"\n",
    "\n",
    "\n",
    "class Perspectives(BaseModel):\n",
    "    editors: List[Editor] = Field(\n",
    "        description=\"Comprehensive list of editors with their roles and affiliations.\",\n",
    "        # Add a pydantic validation/restriction to be at most M editors\n",
    "    )\n",
    "\n",
    "gen_perspectives_prompt = ChatPromptTemplate.from_messages(\n",
    "    [\n",
    "        (\n",
    "            \"system\",\n",
    "            \"\"\"You need to select a diverse (and distinct) group of Wikipedia editors who will work together to create a comprehensive article on the topic. Each of them represents a different perspective, role, or affiliation related to this topic.\\\n",
    "    You can use other Wikipedia pages of related topics for inspiration. For each editor, add a description of what they will focus on.\n",
    "\n",
    "    Wiki page outlines of related topics for inspiration:\n",
    "    {examples}\"\"\",\n",
    "        ),\n",
    "        (\"user\", \"Topic of interest: {topic}\\n\\n{format_instructions}\"),\n",
    "    ]\n",
    ")\n",
    "\n",
    "perspectives_parser = PydanticOutputParser(pydantic_object=Perspectives)\n",
    "\n",
    "gen_perspectives_chain = gen_perspectives_prompt.partial(format_instructions=perspectives_parser.get_format_instructions()) | fast_llm | perspectives_parser\n"
   ]
  },
  {
   "cell_type": "code",
   "execution_count": null,
   "id": "df5a87f7-a867-42f7-ac98-da7ce1110daf",
   "metadata": {},
   "outputs": [],
   "source": [
    "from langchain_community.retrievers import WikipediaRetriever\n",
    "from langchain_core.runnables import RunnableLambda, chain as as_runnable\n",
    "\n",
    "wikipedia_retriever = WikipediaRetriever(load_all_available_meta=True, top_k_results=1)\n",
    "\n",
    "\n",
    "def format_doc(doc, max_length=1000)-> str:\n",
    "    related = \"- \".join(doc.metadata[\"categories\"])\n",
    "    return f\"### {doc.metadata['title']}\\n\\nSummary: {doc.page_content}\\n\\nRelated\\n{related}\"[\n",
    "        :max_length\n",
    "    ]\n",
    "\n",
    "\n",
    "def format_docs(docs):\n",
    "    return \"\\n\\n\".join(format_doc(doc) for doc in docs)\n",
    "\n",
    "\n",
    "@as_runnable\n",
    "async def survey_subjects(topic: str)-> Perspectives:\n",
    "    print(f\"Survey Subjects for Topic: {topic}\")\n",
    "    related_subjects = await expand_chain.ainvoke({\"topic\": topic})\n",
    "    retrieved_docs = await wikipedia_retriever.abatch(\n",
    "        related_subjects.topics, return_exceptions=True\n",
    "    )\n",
    "    all_docs = []\n",
    "    for docs in retrieved_docs:\n",
    "        if isinstance(docs, BaseException):\n",
    "            continue\n",
    "        all_docs.extend(docs)\n",
    "    print(f\"Retrieved {len(all_docs)} docs for Topic: {topic}\")\n",
    "    \n",
    "    formatted = format_docs(all_docs)\n",
    "    return await gen_perspectives_chain.ainvoke({\"examples\": formatted, \"topic\": topic})"
   ]
  },
  {
   "cell_type": "code",
   "execution_count": null,
   "id": "8ff2b5eb-46cb-410f-8b15-6fc8ead58382",
   "metadata": {},
   "outputs": [],
   "source": [
    "perspectives = await survey_subjects.ainvoke(example_topic)\n"
   ]
  },
  {
   "cell_type": "code",
   "execution_count": null,
   "id": "fc90dd94-b215-4a5d-83b2-498e969ff7b2",
   "metadata": {},
   "outputs": [],
   "source": [
    "\n",
    "perspectives.dict()\n"
   ]
  },
  {
   "cell_type": "markdown",
   "id": "35abdf40-80dc-434c-8116-d6b9cbde5572",
   "metadata": {},
   "source": [
    "## Expert Dialog\n",
    "\n",
    "Each wikipedia writer is primed to role-play using the perspectives presented above. It will ask a series of questions of a second \"domain expert\" with access to a search engine. This generate content to generate a refined outline as well as an updated index of reference documents.\n",
    "\n",
    "### Interview State\n",
    "\n",
    "The conversation is cyclic, so we will construct it within its own graph. The State will contain messages, the reference docs, and the editor (with its own \"persona\") to make it easy to parallelize these conversations.\n"
   ]
  },
  {
   "cell_type": "code",
   "execution_count": null,
   "id": "9a1fa250-8b81-465b-ba06-fe7b33e4d8a7",
   "metadata": {},
   "outputs": [],
   "source": [
    "from langgraph.graph import StateGraph, END\n",
    "from typing_extensions import TypedDict\n",
    "from langchain_core.messages import AnyMessage\n",
    "from typing import Annotated, Sequence\n",
    "\n",
    "\n",
    "def add_messages(left, right):\n",
    "    if not isinstance(left, list):\n",
    "        left = [left]\n",
    "    if not isinstance(right, list):\n",
    "        right = [right]\n",
    "    return left + right\n",
    "\n",
    "\n",
    "def update_references(references, new_references):\n",
    "    if not references:\n",
    "        references = {}\n",
    "    references.update(new_references)\n",
    "    return references\n",
    "\n",
    "\n",
    "def update_editor(editor, new_editor):\n",
    "    # Can only set at the outset\n",
    "    if not editor:\n",
    "        return new_editor\n",
    "    return editor\n",
    "\n",
    "\n",
    "class InterviewState(TypedDict):\n",
    "    messages: Annotated[List[AnyMessage], add_messages]\n",
    "    references: Annotated[Optional[dict], update_references]\n",
    "    editor: Annotated[Optional[Editor], update_editor]"
   ]
  },
  {
   "cell_type": "markdown",
   "id": "dc0639d2-e8a6-43d4-8e9a-eb5f4051578c",
   "metadata": {},
   "source": [
    "# Dialog Roles\n",
    "\n",
    "The graph will have two participants: the wikipedia editor (generate_question), who asks questions based on its assigned role, and a domain expert (`gen_answer_chain), who uses a search engine to answer the questions as accurately as possible.\n"
   ]
  },
  {
   "cell_type": "code",
   "execution_count": null,
   "id": "d644c46c-4d23-49e1-9093-39b4f6c8c157",
   "metadata": {},
   "outputs": [],
   "source": [
    "from langchain_core.prompts import MessagesPlaceholder\n",
    "from langchain_core.messages import AIMessage, BaseMessage, HumanMessage, ToolMessage\n",
    "\n",
    "\n",
    "gen_qn_prompt = ChatPromptTemplate.from_messages(\n",
    "    [\n",
    "        (\n",
    "            \"system\",\n",
    "            \"\"\"You are an experienced Wikipedia writer and want to edit a specific page. \\\n",
    "Besides your identity as a Wikipedia writer, you have a specific focus when researching the topic. \\\n",
    "Now, you are chatting with an expert to get information. Ask good questions to get more useful information.\n",
    "\n",
    "When you have no more questions to ask, say \"Thank you so much for your help!\" to end the conversation.\\\n",
    "Please only ask one question at a time and don't ask what you have asked before.\\\n",
    "Your questions should be related to the topic you want to write.\n",
    "Be comprehensive and curious, gaining as much unique insight from the expert as possible.\\\n",
    "\n",
    "Stay true to your specific perspective:\n",
    "\n",
    "{persona}\"\"\",\n",
    "        ),\n",
    "        MessagesPlaceholder(variable_name=\"messages\", optional=True),\n",
    "    ]\n",
    ")\n",
    "\n",
    "\n",
    "def tag_with_name(ai_message: AIMessage, name: str) -> AIMessage:\n",
    "    ai_message.name = name\n",
    "    return ai_message\n",
    "\n",
    "\n",
    "def swap_roles(state: InterviewState, name: str) -> InterviewState:\n",
    "\n",
    "    # Normalize name\n",
    "    name = cleanup_name(name)\n",
    "\n",
    "    print(f'Swapping roles for {name}')\n",
    "\n",
    "    converted = []\n",
    "    for message in state[\"messages\"]:\n",
    "        if isinstance(message, AIMessage) and message.name != name:\n",
    "            message = HumanMessage(**message.dict(exclude={\"type\"}))\n",
    "        converted.append(message)\n",
    "    \n",
    "    print(f'Converted messages for {name} while swapping roles: {len(converted)} messages')\n",
    "\n",
    "    return {\"messages\": converted}\n",
    "\n",
    "\n",
    "@as_runnable\n",
    "async def generate_question(state: InterviewState) -> InterviewState:\n",
    "    editor = state[\"editor\"]\n",
    "\n",
    "    name = cleanup_name(editor.name)\n",
    "\n",
    "    print(f'Generating question for {name}')\n",
    "\n",
    "    gn_chain = (\n",
    "        RunnableLambda(swap_roles).bind(name=name)\n",
    "        | gen_qn_prompt.partial(persona=editor.persona)\n",
    "        | fast_llm\n",
    "        | RunnableLambda(tag_with_name).bind(name=name)\n",
    "    )\n",
    "    result:AIMessage = await gn_chain.ainvoke(state)\n",
    "\n",
    "    print(f'Generated question for {name}')\n",
    "    return {\"messages\": [result]}"
   ]
  },
  {
   "cell_type": "code",
   "execution_count": null,
   "id": "29ac2384-a123-467f-bbc6-828be9dc04fd",
   "metadata": {},
   "outputs": [],
   "source": [
    "messages = [\n",
    "    HumanMessage(f\"So you said you were writing an article on {example_topic}?\")\n",
    "]\n",
    "question = await generate_question.ainvoke(\n",
    "    {\n",
    "        \"editor\": perspectives.editors[0],\n",
    "        \"messages\": messages,\n",
    "    }\n",
    ")\n",
    "\n",
    "question[\"messages\"][0]"
   ]
  },
  {
   "cell_type": "markdown",
   "id": "c95e50f7-4e2c-4307-853d-2fc8f0b3dd82",
   "metadata": {},
   "source": [
    "### Answer questions\n",
    "\n",
    "The `gen_answer_chain` first generates queries (query expansion) to answer the editor's question, then responds with citations.\n"
   ]
  },
  {
   "cell_type": "code",
   "execution_count": null,
   "id": "a7fa969e-920f-487e-b124-6495777a1466",
   "metadata": {},
   "outputs": [],
   "source": [
    "class Queries(BaseModel):\n",
    "    queries: List[str] = Field(\n",
    "        description=\"Comprehensive list of search engine queries to answer the user's questions.\",\n",
    "    )\n",
    "\n",
    "\n",
    "gen_queries_prompt = ChatPromptTemplate.from_messages(\n",
    "    [\n",
    "        (\n",
    "            \"system\",\n",
    "            \"You are a helpful research assistant. Query the search engine to answer the user's questions.\\n{format_instructions}\",\n",
    "        ),\n",
    "        MessagesPlaceholder(variable_name=\"messages\", optional=True),\n",
    "    ]\n",
    ")\n",
    "\n",
    "queries_parser = PydanticOutputParser(pydantic_object=Queries)\n",
    "\n",
    "gen_queries_chain = gen_queries_prompt.partial(format_instructions=queries_parser.get_format_instructions()) | fast_llm | queries_parser"
   ]
  },
  {
   "cell_type": "code",
   "execution_count": null,
   "id": "b25baa82-da8e-41ec-b4e0-8a24c7cf737d",
   "metadata": {
    "scrolled": true
   },
   "outputs": [],
   "source": [
    "\n",
    "queries = await gen_queries_chain.ainvoke(\n",
    "    {\"messages\": [HumanMessage(content=question[\"messages\"][0].content)]}\n",
    ")\n",
    "\n",
    "queries"
   ]
  },
  {
   "cell_type": "code",
   "execution_count": null,
   "id": "22273c9a-a505-40c3-bd6b-70f74393a61d",
   "metadata": {},
   "outputs": [],
   "source": [
    "\n",
    "class AnswerWithCitations(BaseModel):\n",
    "    answer: str = Field(\n",
    "        description=\"Comprehensive answer to the user's question with citations.\",\n",
    "    )\n",
    "    cited_urls: List[str] = Field(\n",
    "        description=\"List of urls cited in the answer.\",\n",
    "    )\n",
    "\n",
    "    @property\n",
    "    def as_str(self) -> str:\n",
    "        return f\"{self.answer}\\n\\nCitations:\\n\\n\" + \"\\n\".join(\n",
    "            f\"[{i+1}]: {url}\" for i, url in enumerate(self.cited_urls)\n",
    "        )\n",
    "\n",
    "\n",
    "gen_answer_prompt = ChatPromptTemplate.from_messages(\n",
    "    [\n",
    "        (\n",
    "            \"system\",\n",
    "            \"\"\"You are an expert who can use information effectively. You are chatting with a Wikipedia writer who wants\\\n",
    " to write a Wikipedia page on the topic you know. You have gathered the related information and will now use the information to form a response.\n",
    "\n",
    "Make your response as informative as possible and make sure every sentence is supported by the gathered information.\n",
    "Each response must be backed up by a citation from a reliable source, formatted as a footnote, reproducing the URLS after your response.\n",
    "{format_instructions}\"\"\",\n",
    "        ),\n",
    "        MessagesPlaceholder(variable_name=\"messages\", optional=True),\n",
    "    ]\n",
    ")\n",
    "\n",
    "ac_parser = PydanticOutputParser(pydantic_object=AnswerWithCitations)\n",
    "\n",
    "gen_answer_chain = gen_answer_prompt.partial(format_instructions=ac_parser.get_format_instructions()) | fast_llm | ac_parser \n",
    "\n",
    "# .with_structured_output(\n",
    "#     AnswerWithCitations, include_raw=True\n",
    "# ).with_config(run_name=\"GenerateAnswer\")\n",
    "                                             "
   ]
  },
  {
   "cell_type": "code",
   "execution_count": null,
   "id": "1a39c4f4-f2ca-4504-84f9-ff1a86b01d5e",
   "metadata": {},
   "outputs": [],
   "source": [
    "from langchain_community.utilities.duckduckgo_search import DuckDuckGoSearchAPIWrapper\n",
    "from langchain_core.tools import tool\n",
    "\n",
    "# DDG \n",
    "search_engine = DuckDuckGoSearchAPIWrapper()\n",
    "\n",
    "@tool\n",
    "async def search_engine(query: str):\n",
    "    \"\"\"Search engine to the internet.\"\"\"\n",
    "\n",
    "    print(f\"Searching DuckDuckGo for [{query}]\")\n",
    "\n",
    "    results = DuckDuckGoSearchAPIWrapper()._ddgs_text(query)\n",
    "\n",
    "    print(f\"Got search engine results: {len(results)} for [{query}]\")\n",
    "    \n",
    "    return [{\"content\": r[\"body\"], \"url\": r[\"href\"]} for r in results]"
   ]
  },
  {
   "cell_type": "code",
   "execution_count": null,
   "id": "ca74edcc-a272-4ec1-92fc-756bf0690e4b",
   "metadata": {},
   "outputs": [],
   "source": [
    "from langchain_core.runnables import RunnableConfig\n",
    "import json, re\n",
    "\n",
    "\n",
    "async def gen_answer(\n",
    "    state: InterviewState,\n",
    "    config: Optional[RunnableConfig] = None,\n",
    "    name: str = \"SubjectMatterExpert\",\n",
    "    max_str_len: int = 15000,\n",
    "):\n",
    "    name = cleanup_name(name)\n",
    "\n",
    "    print(f'Generating answers for [{name}]')\n",
    "\n",
    "\n",
    "    swapped_state = swap_roles(state, name)  # Convert all other AI messages\n",
    "    \n",
    "    queries:Queries = await gen_queries_chain.ainvoke(swapped_state)\n",
    "\n",
    "    print(f\"Got {len(queries.queries)} search engine queries for [{name}]\")\n",
    "\n",
    "    query_results = await search_engine.abatch(\n",
    "        queries.queries, config, return_exceptions=True\n",
    "    )\n",
    "    successful_results = [\n",
    "        res for res in query_results if not isinstance(res, Exception)\n",
    "    ]\n",
    "\n",
    "    print(f\"Got {len(successful_results)} search engine results for [{name}]\")\n",
    "\n",
    "    all_query_results = {\n",
    "        res[\"url\"]: res[\"content\"] for results in successful_results for res in results\n",
    "    }\n",
    "\n",
    "    # We could be more precise about handling max token length if we wanted to here\n",
    "    dumped = json.dumps(all_query_results)[:max_str_len]\n",
    "    \n",
    "    ai_message: AIMessage = str(queries)\n",
    "    # print(f\"Got {ai_message} for [{name}]\")\n",
    "    \n",
    "    # tool_call = queries[\"raw\"].additional_kwargs[\"tool_calls\"][0]\n",
    "    # tool_id = tool_call[\"id\"]\n",
    "\n",
    "    # tool_message = ToolMessage(tool_call_id=tool_id, content=dumped)\n",
    "    tool_message = HumanMessage(content=dumped)\n",
    "\n",
    "    swapped_state[\"messages\"].extend([ai_message, tool_message])\n",
    "    \n",
    "    # Only update the shared state with the final answer to avoid\n",
    "    # polluting the dialogue history with intermediate messages\n",
    "    try:\n",
    "        generated: AnswerWithCitations = await gen_answer_chain.ainvoke(swapped_state)\n",
    "    except Exception as e:\n",
    "        print(f\"Error generating answer for [{name}] - {e}\")\n",
    "        generated = AnswerWithCitations(answer=\"\", cited_urls=[])\n",
    "    \n",
    "    cited_urls = set(generated.cited_urls)\n",
    "    \n",
    "    # Save the retrieved information to a the shared state for future reference\n",
    "    cited_references = {k: v for k, v in all_query_results.items() if k in cited_urls}\n",
    "    \n",
    "    formatted_message = AIMessage(name=name, content=generated.as_str)\n",
    "\n",
    "    print(f'Finished generating answer for [{name}]')\n",
    "    return {\"messages\": [formatted_message], \"references\": cited_references}\n",
    "    "
   ]
  },
  {
   "cell_type": "code",
   "execution_count": null,
   "id": "934aafd6-7f0d-4a1b-8a52-45b89d8b3742",
   "metadata": {},
   "outputs": [],
   "source": [
    "\n",
    "example_answer = await gen_answer(\n",
    "    {\"messages\": [HumanMessage(content=question[\"messages\"][0].content)]}\n",
    ")\n",
    "example_answer[\"messages\"][-1].content"
   ]
  },
  {
   "cell_type": "markdown",
   "id": "998671bf-958d-44c0-8421-523a71bea01a",
   "metadata": {},
   "source": [
    "# Construct the Interview Graph\n",
    "\n",
    "Now that we've defined the editor and domain expert, we can compose them in a graph.\n"
   ]
  },
  {
   "cell_type": "code",
   "execution_count": null,
   "id": "4800f958-00e0-4913-a246-c34dc3f0a00c",
   "metadata": {},
   "outputs": [],
   "source": [
    "max_num_turns = 5\n",
    "\n",
    "\n",
    "\n",
    "\n",
    "builder = StateGraph(InterviewState)\n",
    "\n",
    "builder.add_node(\"ask_question\", generate_question)\n",
    "builder.add_node(\"answer_question\", gen_answer)\n",
    "builder.add_conditional_edges(\"answer_question\", route_messages)\n",
    "builder.add_edge(\"ask_question\", \"answer_question\")\n",
    "\n",
    "builder.set_entry_point(\"ask_question\")\n",
    "interview_graph = builder.compile().with_config(run_name=\"Conduct Interviews\")"
   ]
  },
  {
   "cell_type": "code",
   "execution_count": null,
   "id": "63c405fc-5b1c-44f5-b860-a10fe0d6616d",
   "metadata": {},
   "outputs": [],
   "source": [
    "from IPython.display import Image\n",
    "\n",
    "# comment out if you have not installed pygraphviz\n",
    "# Image(interview_graph.get_graph().draw_png())"
   ]
  },
  {
   "cell_type": "code",
   "execution_count": null,
   "id": "96d47607-6c0b-493a-aebc-48356d0e0302",
   "metadata": {},
   "outputs": [],
   "source": [
    "\n",
    "final_step = None\n",
    "\n",
    "initial_state = {\n",
    "    \"editor\": perspectives.editors[0],\n",
    "    \"messages\": [\n",
    "        AIMessage(\n",
    "            content=f\"So you said you were writing an article on {example_topic}?\",\n",
    "            name=\"SubjectMatterExpert\",\n",
    "        )\n",
    "    ],\n",
    "}\n",
    "async for step in interview_graph.astream(initial_state):\n",
    "    name = next(iter(step))\n",
    "    print(name)\n",
    "    print(f\"Processing step: {name}\")\n",
    "    print(\"-- \", str(step[name][\"messages\"])[:300])\n",
    "    if END in step:\n",
    "        final_step = step\n",
    "        \n",
    "final_state = next(iter(final_step.values()))"
   ]
  },
  {
   "cell_type": "code",
   "execution_count": null,
   "id": "8c7a97ec-09a1-4873-b559-275526971a00",
   "metadata": {},
   "outputs": [],
   "source": [
    "\n"
   ]
  },
  {
   "cell_type": "code",
   "execution_count": null,
   "id": "f22e50cf",
   "metadata": {},
   "outputs": [],
   "source": [
    "final_state"
   ]
  },
  {
   "cell_type": "markdown",
   "id": "45e14dcb",
   "metadata": {},
   "source": [
    "## Refine Outline\n",
    "\n",
    "At this point in STORM, we've conducted a large amount of research from different perspectives. It's time to refine the original outline based on these investigations. Below, create a chain using the LLM with a long context window to update the original outline.\n"
   ]
  },
  {
   "cell_type": "code",
   "execution_count": null,
   "id": "c284eb72-3856-406d-8582-5a1c92fd292e",
   "metadata": {},
   "outputs": [],
   "source": [
    "refine_outline_prompt = ChatPromptTemplate.from_messages(\n",
    "    [\n",
    "        (\n",
    "            \"system\",\n",
    "            \"\"\"You are a Wikipedia writer. You have gathered information from experts and search engines. Now, you are refining the outline of the Wikipedia page. \\\n",
    "You need to make sure that the outline is comprehensive and specific. \\\n",
    "Topic you are writing about: {topic} \n",
    "\n",
    "Old outline:\n",
    "\n",
    "{old_outline}\n",
    "\"\"\",\n",
    "        ),\n",
    "        (\n",
    "            \"user\",\n",
    "            \"Refine the outline based on your conversations with subject-matter experts:\\n\\nConversations:\\n\\n{conversations}\\n\\n{format_instructions}\\n\\nWrite the refined Wikipedia outline:\",\n",
    "        ),\n",
    "    ]\n",
    ")\n",
    "\n",
    "\n",
    "# Using turbo preview since the context can get quite long\n",
    "refine_outline_chain = refine_outline_prompt.partial(format_instructions=outline_parser.get_format_instructions()) | long_context_llm | outline_parser"
   ]
  },
  {
   "cell_type": "code",
   "execution_count": null,
   "id": "d19e58c5-086f-49ba-b921-791669d04b2f",
   "metadata": {},
   "outputs": [],
   "source": [
    "refined_outline = refine_outline_chain.invoke(\n",
    "    {\n",
    "        \"topic\": example_topic,\n",
    "        \"old_outline\": initial_outline.as_str,\n",
    "        \"conversations\": \"\\n\\n\".join(\n",
    "            f\"### {m.name}\\n\\n{m.content}\" for m in final_state[\"messages\"]\n",
    "        ),\n",
    "    }\n",
    ")"
   ]
  },
  {
   "cell_type": "code",
   "execution_count": null,
   "id": "4c397dc5-e614-4a7f-9f78-67dffc9b8c59",
   "metadata": {},
   "outputs": [],
   "source": [
    "print(refined_outline.as_str)"
   ]
  },
  {
   "cell_type": "code",
   "execution_count": null,
   "id": "bb8b76b6",
   "metadata": {},
   "outputs": [],
   "source": [
    "## Generate Article"
   ]
  },
  {
   "cell_type": "code",
   "execution_count": null,
   "id": "563b2a40",
   "metadata": {},
   "outputs": [],
   "source": [
    "from langchain_core.documents import Document\n",
    "\n",
    "from langchain_community.vectorstores import SKLearnVectorStore\n",
    "from langchain_openai import OpenAIEmbeddings\n",
    "\n",
    "embeddings = OpenAIEmbeddings(model=\"text-embedding-3-small\")\n",
    "reference_docs = [\n",
    "    Document(page_content=v, metadata={\"source\": k})\n",
    "    for k, v in final_state[\"references\"].items()\n",
    "]\n",
    "\n",
    "print(f\"Number of references: {len(reference_docs)}\")\n",
    "\n",
    "# This really doesn't need to be a vectorstore for this size of data.\n",
    "# It could just be a numpy matrix. Or you could store documents\n",
    "# across requests if you want.\n",
    "vectorstore = SKLearnVectorStore.from_documents(\n",
    "    reference_docs,\n",
    "    embedding=embeddings,\n",
    ")\n",
    "retriever = vectorstore.as_retriever(k=10)"
   ]
  },
  {
   "cell_type": "code",
   "execution_count": null,
   "id": "b05496dd",
   "metadata": {},
   "outputs": [],
   "source": [
    "retriever.invoke(\"What's a long context LLM anyway?\")"
   ]
  },
  {
   "cell_type": "markdown",
   "id": "e708d31a",
   "metadata": {},
   "source": [
    "#### Generate Sections\n",
    "\n",
    "Now you can generate the sections using the indexed docs.\n"
   ]
  },
  {
   "cell_type": "code",
   "execution_count": null,
   "id": "524f4c87",
   "metadata": {},
   "outputs": [],
   "source": [
    "class SubSection(BaseModel):\n",
    "    subsection_title: str = Field(..., title=\"Title of the subsection\")\n",
    "    content: str = Field(\n",
    "        ...,\n",
    "        title=\"Full content of the subsection. Include [#] citations to the cited sources where relevant.\",\n",
    "    )\n",
    "\n",
    "    @property\n",
    "    def as_str(self) -> str:\n",
    "        return f\"### {self.subsection_title}\\n\\n{self.content}\".strip()\n",
    "\n",
    "\n",
    "class WikiSection(BaseModel):\n",
    "    section_title: str = Field(..., title=\"Title of the section\")\n",
    "    content: str = Field(..., title=\"Full content of the section\")\n",
    "    subsections: Optional[List[Subsection]] = Field(\n",
    "        default=None,\n",
    "        title=\"Titles and descriptions for each subsection of the Wikipedia page.\",\n",
    "    )\n",
    "    citations: List[str] = Field(default_factory=list)\n",
    "\n",
    "    @property\n",
    "    def as_str(self) -> str:\n",
    "        subsections = \"\\n\\n\".join(\n",
    "            subsection.as_str for subsection in self.subsections or []\n",
    "        )\n",
    "        citations = \"\\n\".join([f\" [{i}] {cit}\" for i, cit in enumerate(self.citations)])\n",
    "        return (\n",
    "            f\"## {self.section_title}\\n\\n{self.content}\\n\\n{subsections}\".strip()\n",
    "            + f\"\\n\\n{citations}\".strip()\n",
    "        )\n",
    "\n",
    "\n",
    "section_writer_prompt = ChatPromptTemplate.from_messages(\n",
    "    [\n",
    "        (\n",
    "            \"system\",\n",
    "            \"You are an expert Wikipedia writer. Complete your assigned WikiSection from the following outline:\\n\\n\"\n",
    "            \"{outline}\\n\\nCite your sources, using the following references:\\n\\n<Documents>\\n{docs}\\n<Documents>\",\n",
    "        ),\n",
    "        (\"user\", \"Write the full WikiSection for the {section} section.\\n{format_instructions}\"),\n",
    "    ]\n",
    ")\n",
    "\n",
    "\n",
    "async def retrieve(inputs: dict):\n",
    "    docs = await retriever.ainvoke(inputs[\"topic\"] + \": \" + inputs[\"section\"])\n",
    "    formatted = \"\\n\".join(\n",
    "        [\n",
    "            f'<Document href=\"{doc.metadata[\"source\"]}\"/>\\n{doc.page_content}\\n</Document>'\n",
    "            for doc in docs\n",
    "        ]\n",
    "    )\n",
    "    return {\"docs\": formatted, **inputs}\n",
    "\n",
    "wiki_parser = PydanticOutputParser(pydantic_object=WikiSection)\n",
    "\n",
    "section_writer = (\n",
    "    retrieve\n",
    "    | section_writer_prompt.partial(format_instructions=wiki_parser.get_format_instructions())\n",
    "    | long_context_llm\n",
    "    | wiki_parser\n",
    ")"
   ]
  },
  {
   "cell_type": "code",
   "execution_count": null,
   "id": "03723e96",
   "metadata": {},
   "outputs": [],
   "source": [
    "section = await section_writer.ainvoke(\n",
    "    {\n",
    "        \"outline\": refined_outline.as_str,\n",
    "        \"section\": refined_outline.sections[1].section_title,\n",
    "        \"topic\": example_topic,\n",
    "    }\n",
    ")\n",
    "print(section.as_str)"
   ]
  },
  {
   "cell_type": "markdown",
   "id": "0afd728d",
   "metadata": {},
   "source": [
    "#### Generate final article\n",
    "\n",
    "Now we can rewrite the draft to appropriately group all the citations and maintain a consistent voice.\n"
   ]
  },
  {
   "cell_type": "code",
   "execution_count": null,
   "id": "05089f2d",
   "metadata": {},
   "outputs": [],
   "source": [
    "from langchain_core.output_parsers import StrOutputParser\n",
    "\n",
    "writer_prompt = ChatPromptTemplate.from_messages(\n",
    "    [\n",
    "        (\n",
    "            \"system\",\n",
    "            \"You are an expert Wikipedia author. Write the complete wiki article on {topic} using the following section drafts:\\n\\n\"\n",
    "            \"{draft}\\n\\nStrictly follow Wikipedia format guidelines.\",\n",
    "        ),\n",
    "        (\n",
    "            \"user\",\n",
    "            'Write the complete Wiki article using markdown format. Organize citations using footnotes like \"[1]\",\"\" avoiding duplicates in the footer. Include URLs in the footer.',\n",
    "        ),\n",
    "    ]\n",
    ")\n",
    "\n",
    "writer = writer_prompt | long_context_llm | StrOutputParser()"
   ]
  },
  {
   "cell_type": "code",
   "execution_count": null,
   "id": "0e6e6e5a",
   "metadata": {},
   "outputs": [],
   "source": [
    "for tok in writer.stream({\"topic\": example_topic, \"draft\": section.as_str}):\n",
    "    print(tok, end=\"\")"
   ]
  },
  {
   "cell_type": "markdown",
   "id": "4f6ab734",
   "metadata": {},
   "source": [
    "## Final Flow\n",
    "\n",
    "Now it's time to string everything together. We will have 6 main stages in sequence:\n",
    ".\n",
    "\n",
    "1. Generate the initial outline + perspectives\n",
    "2. Batch converse with each perspective to expand the content for the article\n",
    "3. Refine the outline based on the conversations\n",
    "4. Index the reference docs from the conversations\n",
    "5. Write the individual sections of the article\n",
    "6. Write the final wiki\n",
    "\n",
    "The state tracks the outputs of each stage.\n"
   ]
  },
  {
   "cell_type": "code",
   "execution_count": null,
   "id": "e775ba8c",
   "metadata": {},
   "outputs": [],
   "source": [
    "class ResearchState(TypedDict):\n",
    "    topic: str\n",
    "    outline: Outline\n",
    "    editors: List[Editor]\n",
    "    interview_results: List[InterviewState]\n",
    "    # The final sections output\n",
    "    sections: List[WikiSection]\n",
    "    article: str"
   ]
  },
  {
   "cell_type": "code",
   "execution_count": null,
   "id": "ed1854d6",
   "metadata": {},
   "outputs": [],
   "source": [
    "import asyncio\n",
    "\n",
    "\n",
    "async def initialize_research(state: ResearchState):\n",
    "    topic = state[\"topic\"]\n",
    "    coros = (\n",
    "        generate_outline_direct.ainvoke({\"topic\": topic}),\n",
    "        survey_subjects.ainvoke(topic),\n",
    "    )\n",
    "    results = await asyncio.gather(*coros)\n",
    "    return {\n",
    "        **state,\n",
    "        \"outline\": results[0],\n",
    "        \"editors\": results[1].editors,\n",
    "    }\n",
    "\n",
    "\n",
    "async def conduct_interviews(state: ResearchState):\n",
    "    topic = state[\"topic\"]\n",
    "    initial_states = [\n",
    "        {\n",
    "            \"editor\": editor,\n",
    "            \"messages\": [\n",
    "                AIMessage(\n",
    "                    content=f\"So you said you were writing an article on {topic}?\",\n",
    "                    name=\"SubjectMatterExpert\",\n",
    "                )\n",
    "            ],\n",
    "        }\n",
    "        for editor in state[\"editors\"]\n",
    "    ]\n",
    "    # We call in to the sub-graph here to parallelize the interviews\n",
    "    interview_results = await interview_graph.abatch(initial_states)\n",
    "\n",
    "    return {\n",
    "        **state,\n",
    "        \"interview_results\": interview_results,\n",
    "    }\n",
    "\n",
    "\n",
    "def format_conversation(interview_state):\n",
    "    messages = interview_state[\"messages\"]\n",
    "    convo = \"\\n\".join(f\"{m.name}: {m.content}\" for m in messages)\n",
    "    return f'Conversation with {interview_state[\"editor\"].name}\\n\\n' + convo\n",
    "\n",
    "\n",
    "async def refine_outline(state: ResearchState):\n",
    "    convos = \"\\n\\n\".join(\n",
    "        [\n",
    "            format_conversation(interview_state)\n",
    "            for interview_state in state[\"interview_results\"]\n",
    "        ]\n",
    "    )\n",
    "\n",
    "    updated_outline = await refine_outline_chain.ainvoke(\n",
    "        {\n",
    "            \"topic\": state[\"topic\"],\n",
    "            \"old_outline\": state[\"outline\"].as_str,\n",
    "            \"conversations\": convos,\n",
    "        }\n",
    "    )\n",
    "    return {**state, \"outline\": updated_outline}\n",
    "\n",
    "\n",
    "async def index_references(state: ResearchState):\n",
    "    all_docs = []\n",
    "    for interview_state in state[\"interview_results\"]:\n",
    "        reference_docs = [\n",
    "            Document(page_content=v, metadata={\"source\": k})\n",
    "            for k, v in interview_state[\"references\"].items()\n",
    "        ]\n",
    "        all_docs.extend(reference_docs)\n",
    "    await vectorstore.aadd_documents(all_docs)\n",
    "    return state\n",
    "\n",
    "\n",
    "async def write_sections(state: ResearchState):\n",
    "    outline = state[\"outline\"]\n",
    "    sections = await section_writer.abatch(\n",
    "        [\n",
    "            {\n",
    "                \"outline\": refined_outline.as_str,\n",
    "                \"section\": section.section_title,\n",
    "                \"topic\": state[\"topic\"],\n",
    "            }\n",
    "            for section in outline.sections\n",
    "        ]\n",
    "    )\n",
    "    return {\n",
    "        **state,\n",
    "        \"sections\": sections,\n",
    "    }\n",
    "\n",
    "\n",
    "async def write_article(state: ResearchState):\n",
    "    topic = state[\"topic\"]\n",
    "    sections = state[\"sections\"]\n",
    "    draft = \"\\n\\n\".join([section.as_str for section in sections])\n",
    "    article = await writer.ainvoke({\"topic\": topic, \"draft\": draft})\n",
    "    return {\n",
    "        **state,\n",
    "        \"article\": article,\n",
    "    }"
   ]
  },
  {
   "cell_type": "markdown",
   "id": "f87881e3",
   "metadata": {},
   "source": [
    "#### Create the graph\n"
   ]
  },
  {
   "cell_type": "code",
   "execution_count": null,
   "id": "af3b4be1",
   "metadata": {},
   "outputs": [],
   "source": [
    "builder_of_storm = StateGraph(ResearchState)\n",
    "\n",
    "nodes = [\n",
    "    (\"init_research\", initialize_research),\n",
    "    (\"conduct_interviews\", conduct_interviews),\n",
    "    (\"refine_outline\", refine_outline),\n",
    "    (\"index_references\", index_references),\n",
    "    (\"write_sections\", write_sections),\n",
    "    (\"write_article\", write_article),\n",
    "]\n",
    "for i in range(len(nodes)):\n",
    "    name, node = nodes[i]\n",
    "    builder_of_storm.add_node(name, node)\n",
    "    if i > 0:\n",
    "        builder_of_storm.add_edge(nodes[i - 1][0], name)\n",
    "\n",
    "builder_of_storm.set_entry_point(nodes[0][0])\n",
    "builder_of_storm.set_finish_point(nodes[-1][0])\n",
    "storm = builder_of_storm.compile()"
   ]
  },
  {
   "cell_type": "code",
   "execution_count": null,
   "id": "2a815f1b",
   "metadata": {},
   "outputs": [],
   "source": [
    "async for step in storm.astream(\n",
    "    {\n",
    "        \"topic\": \"Building better slack bots using LLMs\",\n",
    "    }\n",
    "):\n",
    "    name = next(iter(step))\n",
    "    print(name)\n",
    "    print(\"-- \", str(step[name])[:300])\n",
    "    if END in step:\n",
    "        results = step"
   ]
  },
  {
   "cell_type": "code",
   "execution_count": null,
   "id": "1bef7021",
   "metadata": {},
   "outputs": [],
   "source": [
    "article = results[END][\"article\"]"
   ]
  },
  {
   "cell_type": "markdown",
   "id": "3b094067",
   "metadata": {},
   "source": [
    "## Render the Wiki\n",
    "\n",
    "Now we can render the final wiki page!\n"
   ]
  },
  {
   "cell_type": "code",
   "execution_count": null,
   "id": "f7750c83",
   "metadata": {},
   "outputs": [],
   "source": [
    "from IPython.display import Markdown\n",
    "\n",
    "# We will down-header the sections to create less confusion in this notebook\n",
    "Markdown(article.replace(\"\\n#\", \"\\n##\"))"
   ]
  },
  {
   "cell_type": "code",
   "execution_count": null,
   "id": "00e24611",
   "metadata": {},
   "outputs": [],
   "source": []
  }
 ],
 "metadata": {
  "kernelspec": {
   "display_name": "Python 3 (ipykernel)",
   "language": "python",
   "name": "python3"
  },
  "language_info": {
   "codemirror_mode": {
    "name": "ipython",
    "version": 3
   },
   "file_extension": ".py",
   "mimetype": "text/x-python",
   "name": "python",
   "nbconvert_exporter": "python",
   "pygments_lexer": "ipython3",
   "version": "3.11.5"
  }
 },
 "nbformat": 4,
 "nbformat_minor": 5
}

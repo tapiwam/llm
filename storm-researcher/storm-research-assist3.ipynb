{
 "cells": [
  {
   "cell_type": "markdown",
   "id": "3b912966-4dce-4685-a5b2-a39c5229a0f1",
   "metadata": {},
   "source": [
    "# Storm Research Assistant\n",
    "\n",
    "Reference\n",
    "https://github.com/langchain-ai/langgraph/blob/main/examples/storm/storm.ipynb\n"
   ]
  },
  {
   "cell_type": "code",
   "execution_count": 1,
   "id": "54832538-aa97-4e40-9713-eaae1e62852a",
   "metadata": {},
   "outputs": [],
   "source": [
    "## Prereqs\n",
    "\n",
    "# %pip install -U langchain_community langchain_openai langgraph wikipedia  scikit-learn  langchain_fireworks\n",
    "# We use one or the other search engine below\n",
    "# %pip install -U tavily-python\n",
    "# %pip install -U duckduckgo-search\n",
    "# ! apt-get install graphviz graphviz-dev\n",
    "# %pip install pygraphviz\n",
    "\n"
   ]
  },
  {
   "cell_type": "code",
   "execution_count": 2,
   "id": "f32108c2-977f-450d-82cb-90aa21f09171",
   "metadata": {},
   "outputs": [],
   "source": [
    "from storm import *\n",
    "from langchain_openai import ChatOpenAI, OpenAIEmbeddings\n",
    "\n",
    "\n",
    "fast_llm = ChatOpenAI(model=\"gpt-3.5-turbo\")\n",
    "# long_context_llm = ChatOpenAI(model=\"gpt-4-turbo-preview\")\n",
    "long_context_llm = ChatOpenAI(model=\"gpt-3.5-turbo-0125\")\n",
    "\n",
    "\n",
    "embeddings = OpenAIEmbeddings(model=\"text-embedding-3-small\")\n",
    "\n",
    "vectorstore_dir = \"./data/storm/vectorstore/\"\n",
    "vectorstore = Chroma(persist_directory=vectorstore_dir, embedding_function=embeddings)\n",
    "\n",
    "interview_config = InterviewConfig(long_llm=long_context_llm, \n",
    "                                   fast_llm=fast_llm, \n",
    "                                   max_conversations=5, \n",
    "                                   max_reference_length=10000,\n",
    "                                   tags_to_extract=[ \"p\", \"h1\", \"h2\", \"h3\"],\n",
    "                                   embeddings=embeddings,\n",
    "                                   vectorstore=vectorstore,\n",
    "                                   vectorstore_dir=vectorstore_dir,\n",
    "                                   runnable_config=RunnableConfig()\n",
    "                                   )"
   ]
  },
  {
   "cell_type": "code",
   "execution_count": 3,
   "id": "1c8209e0",
   "metadata": {},
   "outputs": [],
   "source": [
    "example_topic = \"Covid-19 impact in 2024\"\n"
   ]
  },
  {
   "cell_type": "code",
   "execution_count": 4,
   "id": "7cade58d",
   "metadata": {},
   "outputs": [
    {
     "name": "stderr",
     "output_type": "stream",
     "text": [
      "2024-04-03 09:47:57,512 [MainThread  ] [INFO ]  Generating question for JohnDoe\n",
      "2024-04-03 09:47:59,566 [MainThread  ] [INFO ]  Generated question for JohnDoe: What are some recent advancements in the field of molecular biology that have had a significant impact on our understanding of genetic regulation?\n"
     ]
    },
    {
     "data": {
      "text/plain": [
       "{'interview_config': InterviewConfig(long_llm=ChatOpenAI(client=<openai.resources.chat.completions.Completions object at 0x118ba1de0>, async_client=<openai.resources.chat.completions.AsyncCompletions object at 0x118ba3520>, model_name='gpt-3.5-turbo-0125', openai_api_key=SecretStr('**********'), openai_proxy=''), fast_llm=ChatOpenAI(client=<openai.resources.chat.completions.Completions object at 0x118b5b430>, async_client=<openai.resources.chat.completions.AsyncCompletions object at 0x118ba08e0>, openai_api_key=SecretStr('**********'), openai_proxy=''), max_conversations=5, max_reference_length=10000, tags_to_extract=['p', 'h1', 'h2', 'h3'], embeddings=OpenAIEmbeddings(client=<openai.resources.embeddings.Embeddings object at 0x118ba3730>, async_client=<openai.resources.embeddings.AsyncEmbeddings object at 0x118c010f0>, model='text-embedding-3-small', dimensions=None, deployment='text-embedding-ada-002', openai_api_version='', openai_api_base=None, openai_api_type='', openai_proxy='', embedding_ctx_length=8191, openai_api_key=SecretStr('**********'), openai_organization=None, allowed_special=set(), disallowed_special='all', chunk_size=1000, max_retries=2, request_timeout=None, headers=None, tiktoken_enabled=True, tiktoken_model_name=None, show_progress_bar=False, model_kwargs={}, skip_empty=False, default_headers=None, default_query=None, retry_min_seconds=4, retry_max_seconds=20, http_client=None, http_async_client=None), vectorstore_dir='./data/storm/vectorstore/', vectorstore=<langchain_community.vectorstores.chroma.Chroma object at 0x1070bfac0>, runnable_config={}),\n",
       " 'editor': Editor(affiliation='Example University', name='JohnDoe', role='Lead Editor', description='Experienced in the field of biology.'),\n",
       " 'messages': [HumanMessage(content='What are some recent advancements in the field of molecular biology that have had a significant impact on our understanding of genetic regulation?', response_metadata={'token_usage': {'completion_tokens': 24, 'prompt_tokens': 164, 'total_tokens': 188}, 'model_name': 'gpt-3.5-turbo', 'system_fingerprint': 'fp_b28b39ffa8', 'finish_reason': 'stop', 'logprobs': None}, name='JohnDoe')],\n",
       " 'references': {},\n",
       " 'summary': ''}"
      ]
     },
     "execution_count": 4,
     "metadata": {},
     "output_type": "execute_result"
    }
   ],
   "source": [
    "\n",
    "\n",
    "# Test generate question\n",
    "\n",
    "state = InterviewState(\n",
    "    interview_config=interview_config,\n",
    "    editor=Editor(affiliation=\"Example University\", name=\"John Doe\", role=\"Lead Editor\", description=\"Experienced in the field of biology.\"),\n",
    "    messages=[],\n",
    "    references={},\n",
    "    summary=\"\"\n",
    ")\n",
    "\n",
    "await node_generate_question.ainvoke(state)"
   ]
  },
  {
   "cell_type": "code",
   "execution_count": 5,
   "id": "2ae994dc",
   "metadata": {},
   "outputs": [
    {
     "name": "stderr",
     "output_type": "stream",
     "text": [
      "2024-04-03 09:47:59,588 [MainThread  ] [INFO ]  START - Generate answers for [JohnDoe]\n",
      "2024-04-03 09:48:00,538 [MainThread  ] [INFO ]  Got 2 search engine queries for [JohnDoe] -\n",
      "\t ['Recent advancements in molecular biology impacting genetic regulation', 'Significant discoveries in genetic regulation in molecular biology']\n"
     ]
    },
    {
     "name": "stdout",
     "output_type": "stream",
     "text": [
      "Searching DuckDuckGo for [Recent advancements in molecular biology impacting genetic regulation]\n",
      "Got search engine results: 5 for [Recent advancements in molecular biology impacting genetic regulation]\n",
      "Searching DuckDuckGo for [Significant discoveries in genetic regulation in molecular biology]\n"
     ]
    },
    {
     "name": "stderr",
     "output_type": "stream",
     "text": [
      "2024-04-03 09:48:02,894 [MainThread  ] [INFO ]  Got 2 search engine results for [JohnDoe] - \n",
      "\t {'https://www.ncbi.nlm.nih.gov/pmc/articles/PMC10376292/': 'Next-generation sequencing (NGS) is a powerful tool used in genomics research. NGS can sequence millions of DNA fragments at once, providing detailed information about the structure of genomes, genetic variations, gene activity, and changes in gene behavior. Recent advancements have focused on faster and more accurate sequencing, reduced costs ...', 'https://www.nature.com/articles/s41576-024-00709-x': 'Advancements in genetic research from 1977 to 2023 have enabled high-resolution variant identification, large-scale DNA sequencing, cell-type-specific regulation understanding and breakthroughs in ...', 'https://www.nature.com/subjects/gene-regulation/nrg': 'In this Review, Preissl, Gaulton and Ren discuss single-cell epigenomic methods and data analysis tools, their readiness for profiling cis -regulatory elements in human tissues and the insight ...', 'https://www.nature.com/subjects/molecular-biology': 'Molecular Biology is the field of biology that studies the composition, structure and interactions of cellular molecules such as nucleic acids and proteins that carry out the biological processes ...', 'https://link.springer.com/article/10.1007/s11033-024-09300-3': 'In eukaryotes, transcriptional regulation is determined by the DNA sequence and is facilitated through sophisticated and complex chromatin alterations and histone remodelling. Recent research has shown that the histone acetylation dynamic, an intermittent and reversible substitution, constitutes a prerequisite for chromatin modification. These changes in chromatin structure modulate genome ...', 'https://www.nature.com/articles/s41580-024-00706-2': 'Alternative splicing has emerged as an important gene regulation mechanism in response to temperature fluctuation in yeast, plants, fruit flies and mammals 122,183,184,185,186,187,188,189 ...', 'https://www.nature.com/articles/s41576-024-00706-0': 'Thus, the TRIP profile of a gene can provide insight into its transcriptional regulation. These findings indicate a key role for gene replication in driving cell cycle transcriptional dynamics and ...', 'https://bmcgenomics.biomedcentral.com/articles/10.1186/s12864-024-10116-5': 'Background Telomere length is a critical metric linked to aging, health, and disease. Currently, the exploration of target proteins related to telomere length is usually limited to the context of aging and specific diseases, which limits the discovery of more relevant drug targets. This study integrated large-scale plasma cis-pQTLs data and telomere length GWAS datasets. We used Mendelian ...', 'https://genomebiology.biomedcentral.com/articles/10.1186/s13059-023-03152-z': 'Genetic regulation of gene expression is a complex process, with genetic effects known to vary across cellular contexts such as cell types and environmental conditions. We developed SURGE, a method for unsupervised discovery of context-specific expression quantitative trait loci (eQTLs) from single-cell transcriptomic data. This allows discovery of the contexts or cell types modulating genetic ...', 'https://phys.org/news/2024-02-technique-reveals-layer-human-gene.html': 'Published online February 9 in Molecular Cell, the study results support the theory that backtracking represents a widespread form of gene regulation, which influences thousands of human genes ...'}\n",
      "2024-04-03 09:48:02,895 [MainThread  ] [INFO ]  Dumped 3383 characters for [JohnDoe] - \n",
      "\t {\"https://www.ncbi.nlm.nih.gov/pmc/articles/PMC10376292/\": \"Next-generation sequencing (NGS) is a powerful tool used in genomics research. NGS can sequence millions of DNA fragments at once, providing detailed information about the structure of genomes, genetic variations, gene activity, and changes in gene behavior. Recent advancements have focused on faster and more accurate sequencing, reduced costs ...\", \"https://www.nature.com/articles/s41576-024-00709-x\": \"Advancements in genetic research from 1977 to 2023 have enabled high-resolution variant identification, large-scale DNA sequencing, cell-type-specific regulation understanding and breakthroughs in ...\", \"https://www.nature.com/subjects/gene-regulation/nrg\": \"In this Review, Preissl, Gaulton and Ren discuss single-cell epigenomic methods and data analysis tools, their readiness for profiling cis -regulatory elements in human tissues and the insight ...\", \"https://www.nature.com/subjects/molecular-biology\": \"Molecular Biology is the field of biology that studies the composition, structure and interactions of cellular molecules such as nucleic acids and proteins that carry out the biological processes ...\", \"https://link.springer.com/article/10.1007/s11033-024-09300-3\": \"In eukaryotes, transcriptional regulation is determined by the DNA sequence and is facilitated through sophisticated and complex chromatin alterations and histone remodelling. Recent research has shown that the histone acetylation dynamic, an intermittent and reversible substitution, constitutes a prerequisite for chromatin modification. These changes in chromatin structure modulate genome ...\", \"https://www.nature.com/articles/s41580-024-00706-2\": \"Alternative splicing has emerged as an important gene regulation mechanism in response to temperature fluctuation in yeast, plants, fruit flies and mammals 122,183,184,185,186,187,188,189 ...\", \"https://www.nature.com/articles/s41576-024-00706-0\": \"Thus, the TRIP profile of a gene can provide insight into its transcriptional regulation. These findings indicate a key role for gene replication in driving cell cycle transcriptional dynamics and ...\", \"https://bmcgenomics.biomedcentral.com/articles/10.1186/s12864-024-10116-5\": \"Background Telomere length is a critical metric linked to aging, health, and disease. Currently, the exploration of target proteins related to telomere length is usually limited to the context of aging and specific diseases, which limits the discovery of more relevant drug targets. This study integrated large-scale plasma cis-pQTLs data and telomere length GWAS datasets. We used Mendelian ...\", \"https://genomebiology.biomedcentral.com/articles/10.1186/s13059-023-03152-z\": \"Genetic regulation of gene expression is a complex process, with genetic effects known to vary across cellular contexts such as cell types and environmental conditions. We developed SURGE, a method for unsupervised discovery of context-specific expression quantitative trait loci (eQTLs) from single-cell transcriptomic data. This allows discovery of the contexts or cell types modulating genetic ...\", \"https://phys.org/news/2024-02-technique-reveals-layer-human-gene.html\": \"Published online February 9 in Molecular Cell, the study results support the theory that backtracking represents a widespread form of gene regulation, which influences thousands of human genes ...\"}\n"
     ]
    },
    {
     "name": "stdout",
     "output_type": "stream",
     "text": [
      "Got search engine results: 5 for [Significant discoveries in genetic regulation in molecular biology]\n"
     ]
    },
    {
     "name": "stderr",
     "output_type": "stream",
     "text": [
      "2024-04-03 09:48:10,304 [MainThread  ] [INFO ]  Genreted final answer answer='Next-generation sequencing (NGS) has revolutionized genomics research by enabling detailed sequencing of DNA fragments, providing insights into genetic variations, gene activity, and changes in gene behavior. Advancements in genetic research from 1977 to 2023 have led to high-resolution variant identification, large-scale DNA sequencing, and understanding cell-type-specific regulation. Recent research in molecular biology has focused on single-cell epigenomic methods, profiling cis-regulatory elements in human tissues, and understanding gene regulation mechanisms through histone modifications and chromatin alterations. Alternative splicing has been identified as an important gene regulation mechanism in response to environmental factors. Studies have also shown the significance of gene replication in driving cell cycle transcriptional dynamics. Additionally, research has integrated large-scale data to explore target proteins related to telomere length, aging, and disease. Techniques like SURGE have been developed to identify context-specific expression quantitative trait loci (eQTLs) from single-cell transcriptomic data. Recent studies have revealed the widespread impact of gene regulation mechanisms, such as backtracking, on human genes.' cited_urls=['https://www.ncbi.nlm.nih.gov/pmc/articles/PMC10376292/', 'https://www.nature.com/articles/s41576-024-00709-x', 'https://www.nature.com/subjects/gene-regulation/nrg', 'https://link.springer.com/article/10.1007/s11033-024-09300-3', 'https://www.nature.com/articles/s41580-024-00706-2', 'https://www.nature.com/articles/s41576-024-00706-0', 'https://bmcgenomics.biomedcentral.com/articles/10.1186/s12864-024-10116-5', 'https://genomebiology.biomedcentral.com/articles/10.1186/s13059-023-03152-z', 'https://phys.org/news/2024-02-technique-reveals-layer-human-gene.html'] for [JohnDoe] - \n",
      "\t Next-generation sequencing (NGS) has revolutionized genomics research by enabling detailed sequencing of DNA fragments, providing insights into genetic variations, gene activity, and changes in gene behavior. Advancements in genetic research from 1977 to 2023 have led to high-resolution variant identification, large-scale DNA sequencing, and understanding cell-type-specific regulation. Recent research in molecular biology has focused on single-cell epigenomic methods, profiling cis-regulatory elements in human tissues, and understanding gene regulation mechanisms through histone modifications and chromatin alterations. Alternative splicing has been identified as an important gene regulation mechanism in response to environmental factors. Studies have also shown the significance of gene replication in driving cell cycle transcriptional dynamics. Additionally, research has integrated large-scale data to explore target proteins related to telomere length, aging, and disease. Techniques like SURGE have been developed to identify context-specific expression quantitative trait loci (eQTLs) from single-cell transcriptomic data. Recent studies have revealed the widespread impact of gene regulation mechanisms, such as backtracking, on human genes.\n",
      "\n",
      "Citations:\n",
      "\n",
      "[1]: https://www.ncbi.nlm.nih.gov/pmc/articles/PMC10376292/\n",
      "[2]: https://www.nature.com/articles/s41576-024-00709-x\n",
      "[3]: https://www.nature.com/subjects/gene-regulation/nrg\n",
      "[4]: https://link.springer.com/article/10.1007/s11033-024-09300-3\n",
      "[5]: https://www.nature.com/articles/s41580-024-00706-2\n",
      "[6]: https://www.nature.com/articles/s41576-024-00706-0\n",
      "[7]: https://bmcgenomics.biomedcentral.com/articles/10.1186/s12864-024-10116-5\n",
      "[8]: https://genomebiology.biomedcentral.com/articles/10.1186/s13059-023-03152-z\n",
      "[9]: https://phys.org/news/2024-02-technique-reveals-layer-human-gene.html\n",
      "2024-04-03 09:48:10,306 [MainThread  ] [INFO ]  END - generate answer for [JohnDoe]\n"
     ]
    },
    {
     "data": {
      "text/plain": [
       "{'interview_config': InterviewConfig(long_llm=ChatOpenAI(client=<openai.resources.chat.completions.Completions object at 0x118ba1de0>, async_client=<openai.resources.chat.completions.AsyncCompletions object at 0x118ba3520>, model_name='gpt-3.5-turbo-0125', openai_api_key=SecretStr('**********'), openai_proxy=''), fast_llm=ChatOpenAI(client=<openai.resources.chat.completions.Completions object at 0x118b5b430>, async_client=<openai.resources.chat.completions.AsyncCompletions object at 0x118ba08e0>, openai_api_key=SecretStr('**********'), openai_proxy=''), max_conversations=5, max_reference_length=10000, tags_to_extract=['p', 'h1', 'h2', 'h3'], embeddings=OpenAIEmbeddings(client=<openai.resources.embeddings.Embeddings object at 0x118ba3730>, async_client=<openai.resources.embeddings.AsyncEmbeddings object at 0x118c010f0>, model='text-embedding-3-small', dimensions=None, deployment='text-embedding-ada-002', openai_api_version='', openai_api_base=None, openai_api_type='', openai_proxy='', embedding_ctx_length=8191, openai_api_key=SecretStr('**********'), openai_organization=None, allowed_special=set(), disallowed_special='all', chunk_size=1000, max_retries=2, request_timeout=None, headers=None, tiktoken_enabled=True, tiktoken_model_name=None, show_progress_bar=False, model_kwargs={}, skip_empty=False, default_headers=None, default_query=None, retry_min_seconds=4, retry_max_seconds=20, http_client=None, http_async_client=None), vectorstore_dir='./data/storm/vectorstore/', vectorstore=<langchain_community.vectorstores.chroma.Chroma object at 0x1070bfac0>, runnable_config={}),\n",
       " 'editor': Editor(affiliation='Example University', name='JohnDoe', role='Lead Editor', description='Experienced in the field of biology.'),\n",
       " 'messages': [HumanMessage(content='What are some recent advancements in the field of molecular biology that have had a significant impact on our understanding of genetic regulation?', response_metadata={'token_usage': {'completion_tokens': 24, 'prompt_tokens': 164, 'total_tokens': 188}, 'model_name': 'gpt-3.5-turbo', 'system_fingerprint': 'fp_b28b39ffa8', 'finish_reason': 'stop', 'logprobs': None}, name='JohnDoe'),\n",
       "  AIMessage(content='{\"queries\": [\"Recent advancements in molecular biology impacting genetic regulation\", \"Significant discoveries in genetic regulation in molecular biology\"]}', name='AI'),\n",
       "  HumanMessage(content='{\"https://www.ncbi.nlm.nih.gov/pmc/articles/PMC10376292/\": \"Next-generation sequencing (NGS) is a powerful tool used in genomics research. NGS can sequence millions of DNA fragments at once, providing detailed information about the structure of genomes, genetic variations, gene activity, and changes in gene behavior. Recent advancements have focused on faster and more accurate sequencing, reduced costs ...\", \"https://www.nature.com/articles/s41576-024-00709-x\": \"Advancements in genetic research from 1977 to 2023 have enabled high-resolution variant identification, large-scale DNA sequencing, cell-type-specific regulation understanding and breakthroughs in ...\", \"https://www.nature.com/subjects/gene-regulation/nrg\": \"In this Review, Preissl, Gaulton and Ren discuss single-cell epigenomic methods and data analysis tools, their readiness for profiling cis -regulatory elements in human tissues and the insight ...\", \"https://www.nature.com/subjects/molecular-biology\": \"Molecular Biology is the field of biology that studies the composition, structure and interactions of cellular molecules such as nucleic acids and proteins that carry out the biological processes ...\", \"https://link.springer.com/article/10.1007/s11033-024-09300-3\": \"In eukaryotes, transcriptional regulation is determined by the DNA sequence and is facilitated through sophisticated and complex chromatin alterations and histone remodelling. Recent research has shown that the histone acetylation dynamic, an intermittent and reversible substitution, constitutes a prerequisite for chromatin modification. These changes in chromatin structure modulate genome ...\", \"https://www.nature.com/articles/s41580-024-00706-2\": \"Alternative splicing has emerged as an important gene regulation mechanism in response to temperature fluctuation in yeast, plants, fruit flies and mammals 122,183,184,185,186,187,188,189 ...\", \"https://www.nature.com/articles/s41576-024-00706-0\": \"Thus, the TRIP profile of a gene can provide insight into its transcriptional regulation. These findings indicate a key role for gene replication in driving cell cycle transcriptional dynamics and ...\", \"https://bmcgenomics.biomedcentral.com/articles/10.1186/s12864-024-10116-5\": \"Background Telomere length is a critical metric linked to aging, health, and disease. Currently, the exploration of target proteins related to telomere length is usually limited to the context of aging and specific diseases, which limits the discovery of more relevant drug targets. This study integrated large-scale plasma cis-pQTLs data and telomere length GWAS datasets. We used Mendelian ...\", \"https://genomebiology.biomedcentral.com/articles/10.1186/s13059-023-03152-z\": \"Genetic regulation of gene expression is a complex process, with genetic effects known to vary across cellular contexts such as cell types and environmental conditions. We developed SURGE, a method for unsupervised discovery of context-specific expression quantitative trait loci (eQTLs) from single-cell transcriptomic data. This allows discovery of the contexts or cell types modulating genetic ...\", \"https://phys.org/news/2024-02-technique-reveals-layer-human-gene.html\": \"Published online February 9 in Molecular Cell, the study results support the theory that backtracking represents a widespread form of gene regulation, which influences thousands of human genes ...\"}'),\n",
       "  AIMessage(content='Next-generation sequencing (NGS) has revolutionized genomics research by enabling detailed sequencing of DNA fragments, providing insights into genetic variations, gene activity, and changes in gene behavior. Advancements in genetic research from 1977 to 2023 have led to high-resolution variant identification, large-scale DNA sequencing, and understanding cell-type-specific regulation. Recent research in molecular biology has focused on single-cell epigenomic methods, profiling cis-regulatory elements in human tissues, and understanding gene regulation mechanisms through histone modifications and chromatin alterations. Alternative splicing has been identified as an important gene regulation mechanism in response to environmental factors. Studies have also shown the significance of gene replication in driving cell cycle transcriptional dynamics. Additionally, research has integrated large-scale data to explore target proteins related to telomere length, aging, and disease. Techniques like SURGE have been developed to identify context-specific expression quantitative trait loci (eQTLs) from single-cell transcriptomic data. Recent studies have revealed the widespread impact of gene regulation mechanisms, such as backtracking, on human genes.\\n\\nCitations:\\n\\n[1]: https://www.ncbi.nlm.nih.gov/pmc/articles/PMC10376292/\\n[2]: https://www.nature.com/articles/s41576-024-00709-x\\n[3]: https://www.nature.com/subjects/gene-regulation/nrg\\n[4]: https://link.springer.com/article/10.1007/s11033-024-09300-3\\n[5]: https://www.nature.com/articles/s41580-024-00706-2\\n[6]: https://www.nature.com/articles/s41576-024-00706-0\\n[7]: https://bmcgenomics.biomedcentral.com/articles/10.1186/s12864-024-10116-5\\n[8]: https://genomebiology.biomedcentral.com/articles/10.1186/s13059-023-03152-z\\n[9]: https://phys.org/news/2024-02-technique-reveals-layer-human-gene.html', name='JohnDoe')],\n",
       " 'references': {'https://www.ncbi.nlm.nih.gov/pmc/articles/PMC10376292/': Reference(url='https://www.ncbi.nlm.nih.gov/pmc/articles/PMC10376292/', title='Next-generation sequencing (NGS) is a powerful tool used in genomics research. NGS can sequence millions of DNA fragments at once, providing detailed information about the structure of genomes, genetic variations, gene activity, and changes in gene behavior. Recent advancements have focused on faster and more accurate sequencing, reduced costs ...', summary=None, html=None, md=None, txt=None),\n",
       "  'https://www.nature.com/articles/s41576-024-00709-x': Reference(url='https://www.nature.com/articles/s41576-024-00709-x', title='Advancements in genetic research from 1977 to 2023 have enabled high-resolution variant identification, large-scale DNA sequencing, cell-type-specific regulation understanding and breakthroughs in ...', summary=None, html=None, md=None, txt=None),\n",
       "  'https://www.nature.com/subjects/gene-regulation/nrg': Reference(url='https://www.nature.com/subjects/gene-regulation/nrg', title='In this Review, Preissl, Gaulton and Ren discuss single-cell epigenomic methods and data analysis tools, their readiness for profiling cis -regulatory elements in human tissues and the insight ...', summary=None, html=None, md=None, txt=None),\n",
       "  'https://link.springer.com/article/10.1007/s11033-024-09300-3': Reference(url='https://link.springer.com/article/10.1007/s11033-024-09300-3', title='In eukaryotes, transcriptional regulation is determined by the DNA sequence and is facilitated through sophisticated and complex chromatin alterations and histone remodelling. Recent research has shown that the histone acetylation dynamic, an intermittent and reversible substitution, constitutes a prerequisite for chromatin modification. These changes in chromatin structure modulate genome ...', summary=None, html=None, md=None, txt=None),\n",
       "  'https://www.nature.com/articles/s41580-024-00706-2': Reference(url='https://www.nature.com/articles/s41580-024-00706-2', title='Alternative splicing has emerged as an important gene regulation mechanism in response to temperature fluctuation in yeast, plants, fruit flies and mammals 122,183,184,185,186,187,188,189 ...', summary=None, html=None, md=None, txt=None),\n",
       "  'https://www.nature.com/articles/s41576-024-00706-0': Reference(url='https://www.nature.com/articles/s41576-024-00706-0', title='Thus, the TRIP profile of a gene can provide insight into its transcriptional regulation. These findings indicate a key role for gene replication in driving cell cycle transcriptional dynamics and ...', summary=None, html=None, md=None, txt=None),\n",
       "  'https://bmcgenomics.biomedcentral.com/articles/10.1186/s12864-024-10116-5': Reference(url='https://bmcgenomics.biomedcentral.com/articles/10.1186/s12864-024-10116-5', title='Background Telomere length is a critical metric linked to aging, health, and disease. Currently, the exploration of target proteins related to telomere length is usually limited to the context of aging and specific diseases, which limits the discovery of more relevant drug targets. This study integrated large-scale plasma cis-pQTLs data and telomere length GWAS datasets. We used Mendelian ...', summary=None, html=None, md=None, txt=None),\n",
       "  'https://genomebiology.biomedcentral.com/articles/10.1186/s13059-023-03152-z': Reference(url='https://genomebiology.biomedcentral.com/articles/10.1186/s13059-023-03152-z', title='Genetic regulation of gene expression is a complex process, with genetic effects known to vary across cellular contexts such as cell types and environmental conditions. We developed SURGE, a method for unsupervised discovery of context-specific expression quantitative trait loci (eQTLs) from single-cell transcriptomic data. This allows discovery of the contexts or cell types modulating genetic ...', summary=None, html=None, md=None, txt=None),\n",
       "  'https://phys.org/news/2024-02-technique-reveals-layer-human-gene.html': Reference(url='https://phys.org/news/2024-02-technique-reveals-layer-human-gene.html', title='Published online February 9 in Molecular Cell, the study results support the theory that backtracking represents a widespread form of gene regulation, which influences thousands of human genes ...', summary=None, html=None, md=None, txt=None)},\n",
       " 'summary': ''}"
      ]
     },
     "execution_count": 5,
     "metadata": {},
     "output_type": "execute_result"
    }
   ],
   "source": [
    "\n",
    "# Test generate answer\n",
    "\n",
    "ax1 = await node_generate_answer.ainvoke(state)\n",
    "ax1"
   ]
  },
  {
   "cell_type": "code",
   "execution_count": 6,
   "id": "63098a6a",
   "metadata": {},
   "outputs": [],
   "source": [
    "\n",
    "# interview_graph = StormInterviewGraph1(interview_config=interview_config)\n",
    "\n",
    "# # Generate perspectives\n",
    "# perspectives = await survey_subjects.ainvoke(\"Machine Learning\")\n",
    "\n",
    "# # Set perspectives\n",
    "# interview_graph.interviews.perspectives = perspectives\n",
    "# interview_graph.initialize_conversations()\n",
    "# logger.info(interview_graph.interviews.conversations.keys())\n",
    "\n"
   ]
  },
  {
   "cell_type": "code",
   "execution_count": 7,
   "id": "28b5a66f",
   "metadata": {},
   "outputs": [],
   "source": [
    "# # Run interview\n",
    "\n",
    "# final_step = None\n",
    "\n",
    "# initial_state : InterviewState = InterviewState(interview_config=interview_config, editor=p1.editors[0], messages=[], references={})\n",
    "\n",
    "# async for step in interview_graph.graph.astream(initial_state.as_dict()):\n",
    "#     name = next(iter(step))\n",
    "#     print(name)\n",
    "#     print(f\"Processing step: {name}\")\n",
    "#     print(\"-- \", str(step[name][\"messages\"])[:300])\n",
    "#     if END in step:\n",
    "#         final_step = step\n",
    "        \n",
    "# final_state = next(iter(final_step.values()))\n",
    "# final_state"
   ]
  },
  {
   "cell_type": "code",
   "execution_count": 8,
   "id": "5e6a4851",
   "metadata": {},
   "outputs": [],
   "source": [
    "# state2 = InterviewState.from_dict(final_state)\n",
    "# state2"
   ]
  },
  {
   "cell_type": "markdown",
   "id": "59b02cf8",
   "metadata": {},
   "source": [
    "# Full Graph\n"
   ]
  },
  {
   "cell_type": "code",
   "execution_count": 9,
   "id": "5c1ef45f",
   "metadata": {},
   "outputs": [
    {
     "data": {
      "text/plain": [
       "ResearchState(topic='Covid-19 impact in 2024', interview_config=InterviewConfig(long_llm=ChatOpenAI(client=<openai.resources.chat.completions.Completions object at 0x118ba1de0>, async_client=<openai.resources.chat.completions.AsyncCompletions object at 0x118ba3520>, model_name='gpt-3.5-turbo-0125', openai_api_key=SecretStr('**********'), openai_proxy=''), fast_llm=ChatOpenAI(client=<openai.resources.chat.completions.Completions object at 0x118b5b430>, async_client=<openai.resources.chat.completions.AsyncCompletions object at 0x118ba08e0>, openai_api_key=SecretStr('**********'), openai_proxy=''), max_conversations=5, max_reference_length=10000, tags_to_extract=['p', 'h1', 'h2', 'h3'], embeddings=OpenAIEmbeddings(client=<openai.resources.embeddings.Embeddings object at 0x118ba3730>, async_client=<openai.resources.embeddings.AsyncEmbeddings object at 0x118c010f0>, model='text-embedding-3-small', dimensions=None, deployment='text-embedding-ada-002', openai_api_version='', openai_api_base=None, openai_api_type='', openai_proxy='', embedding_ctx_length=8191, openai_api_key=SecretStr('**********'), openai_organization=None, allowed_special=set(), disallowed_special='all', chunk_size=1000, max_retries=2, request_timeout=None, headers=None, tiktoken_enabled=True, tiktoken_model_name=None, show_progress_bar=False, model_kwargs={}, skip_empty=False, default_headers=None, default_query=None, retry_min_seconds=4, retry_max_seconds=20, http_client=None, http_async_client=None), vectorstore_dir='./data/storm/vectorstore/', vectorstore=<langchain_community.vectorstores.chroma.Chroma object at 0x1070bfac0>, runnable_config={}), initial_outline=Outline(page_title='Covid-19 Impact in 2024', sections=[Section(section_title='Introduction', description='Overview of the global impact of Covid-19 in 2024.', subsections=None), Section(section_title='Economic Impact', description='Analysis of the economic repercussions of the pandemic in 2024.', subsections=None), Section(section_title='Healthcare System', description='Assessment of the strain on healthcare systems due to Covid-19 in 2024.', subsections=[Subsection(subsection_title='Hospital Capacities', description='Information on the capacity and challenges faced by hospitals.'), Subsection(subsection_title='Vaccine Distribution', description='Details on the distribution and administration of vaccines.')]), Section(section_title='Social Impact', description='Exploration of the societal changes brought about by the pandemic in 2024.', subsections=None)]), outline=Outline(page_title='Covid-19 Impact in 2024', sections=[Section(section_title='Introduction', description='Overview of the global impact of Covid-19 in 2024.', subsections=None), Section(section_title='Economic Impact', description='Analysis of the economic repercussions of the pandemic in 2024.', subsections=None), Section(section_title='Healthcare System', description='Assessment of the strain on healthcare systems due to Covid-19 in 2024.', subsections=[Subsection(subsection_title='Hospital Capacities', description='Information on the capacity and challenges faced by hospitals.'), Subsection(subsection_title='Vaccine Distribution', description='Details on the distribution and administration of vaccines.')]), Section(section_title='Social Impact', description='Exploration of the societal changes brought about by the pandemic in 2024.', subsections=None)]), related_subjects=None, perspectives=None, conversations={}, sections=[], article='')"
      ]
     },
     "execution_count": 9,
     "metadata": {},
     "output_type": "execute_result"
    }
   ],
   "source": [
    "# # Test generate outline\n",
    "# i = ResearchState(topic=example_topic, interview_config=interview_config)\n",
    "# o = await node_generate_outline.ainvoke(i)\n",
    "\n",
    "# i = ResearchState.from_dict(o)\n",
    "# i"
   ]
  },
  {
   "cell_type": "code",
   "execution_count": 11,
   "id": "ed88d122",
   "metadata": {},
   "outputs": [
    {
     "name": "stderr",
     "output_type": "stream",
     "text": [
      "2024-04-03 09:48:15,324 [MainThread  ] [INFO ]  Related Subjects for [Covid-19 impact in 2024]: topics=['COVID-19 pandemic', 'Impact of COVID-19 on economy', 'Health effects of COVID-19', 'COVID-19 vaccines', 'Global response to COVID-19', 'COVID-19 misinformation']\n",
      "2024-04-03 09:48:26,074 [MainThread  ] [INFO ]  Generated 5 perspectives for topic: [Covid-19 impact in 2024] \n",
      "\t- ['DrSarahEpidemiologist', 'DrJamesNeurologist', 'DrEmilyVaccinologist', 'MsSofiaHumanitarian', 'MrAlexFact-Checker']\n",
      "2024-04-03 09:48:26,076 [MainThread  ] [INFO ]  Initialized 5 conversations.\n"
     ]
    },
    {
     "data": {
      "text/plain": [
       "ResearchState(topic='Covid-19 impact in 2024', interview_config=InterviewConfig(long_llm=ChatOpenAI(client=<openai.resources.chat.completions.Completions object at 0x118ba1de0>, async_client=<openai.resources.chat.completions.AsyncCompletions object at 0x118ba3520>, model_name='gpt-3.5-turbo-0125', openai_api_key=SecretStr('**********'), openai_proxy=''), fast_llm=ChatOpenAI(client=<openai.resources.chat.completions.Completions object at 0x118b5b430>, async_client=<openai.resources.chat.completions.AsyncCompletions object at 0x118ba08e0>, openai_api_key=SecretStr('**********'), openai_proxy=''), max_conversations=5, max_reference_length=10000, tags_to_extract=['p', 'h1', 'h2', 'h3'], embeddings=OpenAIEmbeddings(client=<openai.resources.embeddings.Embeddings object at 0x118ba3730>, async_client=<openai.resources.embeddings.AsyncEmbeddings object at 0x118c010f0>, model='text-embedding-3-small', dimensions=None, deployment='text-embedding-ada-002', openai_api_version='', openai_api_base=None, openai_api_type='', openai_proxy='', embedding_ctx_length=8191, openai_api_key=SecretStr('**********'), openai_organization=None, allowed_special=set(), disallowed_special='all', chunk_size=1000, max_retries=2, request_timeout=None, headers=None, tiktoken_enabled=True, tiktoken_model_name=None, show_progress_bar=False, model_kwargs={}, skip_empty=False, default_headers=None, default_query=None, retry_min_seconds=4, retry_max_seconds=20, http_client=None, http_async_client=None), vectorstore_dir='./data/storm/vectorstore/', vectorstore=<langchain_community.vectorstores.chroma.Chroma object at 0x1070bfac0>, runnable_config={}), initial_outline=Outline(page_title='Covid-19 Impact in 2024', sections=[Section(section_title='Introduction', description='Overview of the global impact of Covid-19 in 2024.', subsections=None), Section(section_title='Economic Impact', description='Analysis of the economic repercussions of the pandemic in 2024.', subsections=None), Section(section_title='Healthcare System', description='Assessment of the strain on healthcare systems due to Covid-19 in 2024.', subsections=[Subsection(subsection_title='Hospital Capacities', description='Information on the capacity and challenges faced by hospitals.'), Subsection(subsection_title='Vaccine Distribution', description='Details on the distribution and administration of vaccines.')]), Section(section_title='Social Impact', description='Exploration of the societal changes brought about by the pandemic in 2024.', subsections=None)]), outline=Outline(page_title='Covid-19 Impact in 2024', sections=[Section(section_title='Introduction', description='Overview of the global impact of Covid-19 in 2024.', subsections=None), Section(section_title='Economic Impact', description='Analysis of the economic repercussions of the pandemic in 2024.', subsections=None), Section(section_title='Healthcare System', description='Assessment of the strain on healthcare systems due to Covid-19 in 2024.', subsections=[Subsection(subsection_title='Hospital Capacities', description='Information on the capacity and challenges faced by hospitals.'), Subsection(subsection_title='Vaccine Distribution', description='Details on the distribution and administration of vaccines.')]), Section(section_title='Social Impact', description='Exploration of the societal changes brought about by the pandemic in 2024.', subsections=None)]), related_subjects=RelatedSubjects(topics=['COVID-19 pandemic', 'Impact of COVID-19 on economy', 'Health effects of COVID-19', 'COVID-19 vaccines', 'Global response to COVID-19', 'COVID-19 misinformation']), perspectives=Perspectives(editors=[Editor(affiliation='World Health Organization (WHO)', name='DrSarahEpidemiologist', role='Epidemiologist', description='Dr. Sarah will focus on the spread, transmission dynamics, and epidemiological aspects of the COVID-19 pandemic, providing insights into how the virus has evolved and impacted global health.'), Editor(affiliation='Neurological Institute', name='DrJamesNeurologist', role='Neurologist', description='Dr. James will concentrate on the neurological and psychological impacts of COVID-19, exploring the effects on the brain, nervous system, and mental health of patients infected with the virus.'), Editor(affiliation='Center for Disease Control (CDC)', name='DrEmilyVaccinologist', role='Vaccinologist', description='Dr. Emily will delve into COVID-19 vaccine development, efficacy, distribution, and the role of vaccines in controlling the spread of the virus, addressing concerns and advancements in vaccination efforts.'), Editor(affiliation='United Nations', name='MsSofiaHumanitarian', role='Humanitarian Response Coordinator', description=\"Ms. Sofia will focus on the UN's response to the COVID-19 pandemic, highlighting the organization's efforts in global health, humanitarian aid, economic stability, and vaccination initiatives to combat the impacts of the virus.\"), Editor(affiliation='Fact-Checking Organization', name='MrAlexFact-Checker', role='Misinformation Analyst', description='Mr. Alex will address COVID-19 misinformation, debunking myths, analyzing false claims, and discussing the impact of fake news on public health and safety during the pandemic.')]), conversations={Editor(affiliation='World Health Organization (WHO)', name='DrSarahEpidemiologist', role='Epidemiologist', description='Dr. Sarah will focus on the spread, transmission dynamics, and epidemiological aspects of the COVID-19 pandemic, providing insights into how the virus has evolved and impacted global health.'): InterviewState(interview_config=InterviewConfig(long_llm=ChatOpenAI(client=<openai.resources.chat.completions.Completions object at 0x118ba1de0>, async_client=<openai.resources.chat.completions.AsyncCompletions object at 0x118ba3520>, model_name='gpt-3.5-turbo-0125', openai_api_key=SecretStr('**********'), openai_proxy=''), fast_llm=ChatOpenAI(client=<openai.resources.chat.completions.Completions object at 0x118b5b430>, async_client=<openai.resources.chat.completions.AsyncCompletions object at 0x118ba08e0>, openai_api_key=SecretStr('**********'), openai_proxy=''), max_conversations=5, max_reference_length=10000, tags_to_extract=['p', 'h1', 'h2', 'h3'], embeddings=OpenAIEmbeddings(client=<openai.resources.embeddings.Embeddings object at 0x118ba3730>, async_client=<openai.resources.embeddings.AsyncEmbeddings object at 0x118c010f0>, model='text-embedding-3-small', dimensions=None, deployment='text-embedding-ada-002', openai_api_version='', openai_api_base=None, openai_api_type='', openai_proxy='', embedding_ctx_length=8191, openai_api_key=SecretStr('**********'), openai_organization=None, allowed_special=set(), disallowed_special='all', chunk_size=1000, max_retries=2, request_timeout=None, headers=None, tiktoken_enabled=True, tiktoken_model_name=None, show_progress_bar=False, model_kwargs={}, skip_empty=False, default_headers=None, default_query=None, retry_min_seconds=4, retry_max_seconds=20, http_client=None, http_async_client=None), vectorstore_dir='./data/storm/vectorstore/', vectorstore=<langchain_community.vectorstores.chroma.Chroma object at 0x1070bfac0>, runnable_config={}), editor=Editor(affiliation='World Health Organization (WHO)', name='DrSarahEpidemiologist', role='Epidemiologist', description='Dr. Sarah will focus on the spread, transmission dynamics, and epidemiological aspects of the COVID-19 pandemic, providing insights into how the virus has evolved and impacted global health.'), messages=[], references={}, summary=''), Editor(affiliation='Neurological Institute', name='DrJamesNeurologist', role='Neurologist', description='Dr. James will concentrate on the neurological and psychological impacts of COVID-19, exploring the effects on the brain, nervous system, and mental health of patients infected with the virus.'): InterviewState(interview_config=InterviewConfig(long_llm=ChatOpenAI(client=<openai.resources.chat.completions.Completions object at 0x118ba1de0>, async_client=<openai.resources.chat.completions.AsyncCompletions object at 0x118ba3520>, model_name='gpt-3.5-turbo-0125', openai_api_key=SecretStr('**********'), openai_proxy=''), fast_llm=ChatOpenAI(client=<openai.resources.chat.completions.Completions object at 0x118b5b430>, async_client=<openai.resources.chat.completions.AsyncCompletions object at 0x118ba08e0>, openai_api_key=SecretStr('**********'), openai_proxy=''), max_conversations=5, max_reference_length=10000, tags_to_extract=['p', 'h1', 'h2', 'h3'], embeddings=OpenAIEmbeddings(client=<openai.resources.embeddings.Embeddings object at 0x118ba3730>, async_client=<openai.resources.embeddings.AsyncEmbeddings object at 0x118c010f0>, model='text-embedding-3-small', dimensions=None, deployment='text-embedding-ada-002', openai_api_version='', openai_api_base=None, openai_api_type='', openai_proxy='', embedding_ctx_length=8191, openai_api_key=SecretStr('**********'), openai_organization=None, allowed_special=set(), disallowed_special='all', chunk_size=1000, max_retries=2, request_timeout=None, headers=None, tiktoken_enabled=True, tiktoken_model_name=None, show_progress_bar=False, model_kwargs={}, skip_empty=False, default_headers=None, default_query=None, retry_min_seconds=4, retry_max_seconds=20, http_client=None, http_async_client=None), vectorstore_dir='./data/storm/vectorstore/', vectorstore=<langchain_community.vectorstores.chroma.Chroma object at 0x1070bfac0>, runnable_config={}), editor=Editor(affiliation='Neurological Institute', name='DrJamesNeurologist', role='Neurologist', description='Dr. James will concentrate on the neurological and psychological impacts of COVID-19, exploring the effects on the brain, nervous system, and mental health of patients infected with the virus.'), messages=[], references={}, summary=''), Editor(affiliation='Center for Disease Control (CDC)', name='DrEmilyVaccinologist', role='Vaccinologist', description='Dr. Emily will delve into COVID-19 vaccine development, efficacy, distribution, and the role of vaccines in controlling the spread of the virus, addressing concerns and advancements in vaccination efforts.'): InterviewState(interview_config=InterviewConfig(long_llm=ChatOpenAI(client=<openai.resources.chat.completions.Completions object at 0x118ba1de0>, async_client=<openai.resources.chat.completions.AsyncCompletions object at 0x118ba3520>, model_name='gpt-3.5-turbo-0125', openai_api_key=SecretStr('**********'), openai_proxy=''), fast_llm=ChatOpenAI(client=<openai.resources.chat.completions.Completions object at 0x118b5b430>, async_client=<openai.resources.chat.completions.AsyncCompletions object at 0x118ba08e0>, openai_api_key=SecretStr('**********'), openai_proxy=''), max_conversations=5, max_reference_length=10000, tags_to_extract=['p', 'h1', 'h2', 'h3'], embeddings=OpenAIEmbeddings(client=<openai.resources.embeddings.Embeddings object at 0x118ba3730>, async_client=<openai.resources.embeddings.AsyncEmbeddings object at 0x118c010f0>, model='text-embedding-3-small', dimensions=None, deployment='text-embedding-ada-002', openai_api_version='', openai_api_base=None, openai_api_type='', openai_proxy='', embedding_ctx_length=8191, openai_api_key=SecretStr('**********'), openai_organization=None, allowed_special=set(), disallowed_special='all', chunk_size=1000, max_retries=2, request_timeout=None, headers=None, tiktoken_enabled=True, tiktoken_model_name=None, show_progress_bar=False, model_kwargs={}, skip_empty=False, default_headers=None, default_query=None, retry_min_seconds=4, retry_max_seconds=20, http_client=None, http_async_client=None), vectorstore_dir='./data/storm/vectorstore/', vectorstore=<langchain_community.vectorstores.chroma.Chroma object at 0x1070bfac0>, runnable_config={}), editor=Editor(affiliation='Center for Disease Control (CDC)', name='DrEmilyVaccinologist', role='Vaccinologist', description='Dr. Emily will delve into COVID-19 vaccine development, efficacy, distribution, and the role of vaccines in controlling the spread of the virus, addressing concerns and advancements in vaccination efforts.'), messages=[], references={}, summary=''), Editor(affiliation='United Nations', name='MsSofiaHumanitarian', role='Humanitarian Response Coordinator', description=\"Ms. Sofia will focus on the UN's response to the COVID-19 pandemic, highlighting the organization's efforts in global health, humanitarian aid, economic stability, and vaccination initiatives to combat the impacts of the virus.\"): InterviewState(interview_config=InterviewConfig(long_llm=ChatOpenAI(client=<openai.resources.chat.completions.Completions object at 0x118ba1de0>, async_client=<openai.resources.chat.completions.AsyncCompletions object at 0x118ba3520>, model_name='gpt-3.5-turbo-0125', openai_api_key=SecretStr('**********'), openai_proxy=''), fast_llm=ChatOpenAI(client=<openai.resources.chat.completions.Completions object at 0x118b5b430>, async_client=<openai.resources.chat.completions.AsyncCompletions object at 0x118ba08e0>, openai_api_key=SecretStr('**********'), openai_proxy=''), max_conversations=5, max_reference_length=10000, tags_to_extract=['p', 'h1', 'h2', 'h3'], embeddings=OpenAIEmbeddings(client=<openai.resources.embeddings.Embeddings object at 0x118ba3730>, async_client=<openai.resources.embeddings.AsyncEmbeddings object at 0x118c010f0>, model='text-embedding-3-small', dimensions=None, deployment='text-embedding-ada-002', openai_api_version='', openai_api_base=None, openai_api_type='', openai_proxy='', embedding_ctx_length=8191, openai_api_key=SecretStr('**********'), openai_organization=None, allowed_special=set(), disallowed_special='all', chunk_size=1000, max_retries=2, request_timeout=None, headers=None, tiktoken_enabled=True, tiktoken_model_name=None, show_progress_bar=False, model_kwargs={}, skip_empty=False, default_headers=None, default_query=None, retry_min_seconds=4, retry_max_seconds=20, http_client=None, http_async_client=None), vectorstore_dir='./data/storm/vectorstore/', vectorstore=<langchain_community.vectorstores.chroma.Chroma object at 0x1070bfac0>, runnable_config={}), editor=Editor(affiliation='United Nations', name='MsSofiaHumanitarian', role='Humanitarian Response Coordinator', description=\"Ms. Sofia will focus on the UN's response to the COVID-19 pandemic, highlighting the organization's efforts in global health, humanitarian aid, economic stability, and vaccination initiatives to combat the impacts of the virus.\"), messages=[], references={}, summary=''), Editor(affiliation='Fact-Checking Organization', name='MrAlexFact-Checker', role='Misinformation Analyst', description='Mr. Alex will address COVID-19 misinformation, debunking myths, analyzing false claims, and discussing the impact of fake news on public health and safety during the pandemic.'): InterviewState(interview_config=InterviewConfig(long_llm=ChatOpenAI(client=<openai.resources.chat.completions.Completions object at 0x118ba1de0>, async_client=<openai.resources.chat.completions.AsyncCompletions object at 0x118ba3520>, model_name='gpt-3.5-turbo-0125', openai_api_key=SecretStr('**********'), openai_proxy=''), fast_llm=ChatOpenAI(client=<openai.resources.chat.completions.Completions object at 0x118b5b430>, async_client=<openai.resources.chat.completions.AsyncCompletions object at 0x118ba08e0>, openai_api_key=SecretStr('**********'), openai_proxy=''), max_conversations=5, max_reference_length=10000, tags_to_extract=['p', 'h1', 'h2', 'h3'], embeddings=OpenAIEmbeddings(client=<openai.resources.embeddings.Embeddings object at 0x118ba3730>, async_client=<openai.resources.embeddings.AsyncEmbeddings object at 0x118c010f0>, model='text-embedding-3-small', dimensions=None, deployment='text-embedding-ada-002', openai_api_version='', openai_api_base=None, openai_api_type='', openai_proxy='', embedding_ctx_length=8191, openai_api_key=SecretStr('**********'), openai_organization=None, allowed_special=set(), disallowed_special='all', chunk_size=1000, max_retries=2, request_timeout=None, headers=None, tiktoken_enabled=True, tiktoken_model_name=None, show_progress_bar=False, model_kwargs={}, skip_empty=False, default_headers=None, default_query=None, retry_min_seconds=4, retry_max_seconds=20, http_client=None, http_async_client=None), vectorstore_dir='./data/storm/vectorstore/', vectorstore=<langchain_community.vectorstores.chroma.Chroma object at 0x1070bfac0>, runnable_config={}), editor=Editor(affiliation='Fact-Checking Organization', name='MrAlexFact-Checker', role='Misinformation Analyst', description='Mr. Alex will address COVID-19 misinformation, debunking myths, analyzing false claims, and discussing the impact of fake news on public health and safety during the pandemic.'), messages=[], references={}, summary='')}, sections=[], article='')"
      ]
     },
     "execution_count": 11,
     "metadata": {},
     "output_type": "execute_result"
    }
   ],
   "source": [
    "# # Test generate perspectives\n",
    "# o = await node_generate_perspectives.ainvoke(i)\n",
    "\n",
    "# i = ResearchState.from_dict(o)\n",
    "# i"
   ]
  },
  {
   "cell_type": "code",
   "execution_count": 13,
   "id": "5b278d8c-9e34-42ab-9649-bc7b3570bb52",
   "metadata": {},
   "outputs": [
    {
     "data": {
      "text/plain": [
       "ResearchState(topic='Covid-19 impact in 2024', interview_config=InterviewConfig(long_llm=ChatOpenAI(client=<openai.resources.chat.completions.Completions object at 0x118ba1de0>, async_client=<openai.resources.chat.completions.AsyncCompletions object at 0x118ba3520>, model_name='gpt-3.5-turbo-0125', openai_api_key=SecretStr('**********'), openai_proxy=''), fast_llm=ChatOpenAI(client=<openai.resources.chat.completions.Completions object at 0x118b5b430>, async_client=<openai.resources.chat.completions.AsyncCompletions object at 0x118ba08e0>, openai_api_key=SecretStr('**********'), openai_proxy=''), max_conversations=5, max_reference_length=10000, tags_to_extract=['p', 'h1', 'h2', 'h3'], embeddings=OpenAIEmbeddings(client=<openai.resources.embeddings.Embeddings object at 0x118ba3730>, async_client=<openai.resources.embeddings.AsyncEmbeddings object at 0x118c010f0>, model='text-embedding-3-small', dimensions=None, deployment='text-embedding-ada-002', openai_api_version='', openai_api_base=None, openai_api_type='', openai_proxy='', embedding_ctx_length=8191, openai_api_key=SecretStr('**********'), openai_organization=None, allowed_special=set(), disallowed_special='all', chunk_size=1000, max_retries=2, request_timeout=None, headers=None, tiktoken_enabled=True, tiktoken_model_name=None, show_progress_bar=False, model_kwargs={}, skip_empty=False, default_headers=None, default_query=None, retry_min_seconds=4, retry_max_seconds=20, http_client=None, http_async_client=None), vectorstore_dir='./data/storm/vectorstore/', vectorstore=<langchain_community.vectorstores.chroma.Chroma object at 0x1070bfac0>, runnable_config={}), initial_outline=Outline(page_title='Covid-19 Impact in 2024', sections=[Section(section_title='Introduction', description='Overview of the global impact of Covid-19 in 2024.', subsections=None), Section(section_title='Economic Impact', description='Analysis of the economic repercussions of the pandemic in 2024.', subsections=None), Section(section_title='Healthcare System', description='Assessment of the strain on healthcare systems due to Covid-19 in 2024.', subsections=[Subsection(subsection_title='Hospital Capacities', description='Information on the capacity and challenges faced by hospitals.'), Subsection(subsection_title='Vaccine Distribution', description='Details on the distribution and administration of vaccines.')]), Section(section_title='Social Impact', description='Exploration of the societal changes brought about by the pandemic in 2024.', subsections=None)]), outline=Outline(page_title='Covid-19 Impact in 2024', sections=[Section(section_title='Introduction', description='An overview of the global impact of Covid-19 in 2024.', subsections=None), Section(section_title='Economic Impact', description='In-depth analysis of the economic repercussions of the pandemic in 2024.', subsections=None), Section(section_title='Healthcare Impact', description='Assessment of the strain on healthcare systems due to Covid-19 in 2024.', subsections=[Subsection(subsection_title='Hospital Capacities', description='Insight into the challenges faced by hospitals such as overcrowding, resource shortages, and staff fatigue.'), Subsection(subsection_title='Vaccine Distribution', description='Details on the progress, challenges, and effectiveness of vaccine distribution efforts worldwide in 2024.')]), Section(section_title='Social Impact', description='Exploration of the societal changes brought about by the pandemic in 2024, including shifts in behavior, mental health implications, and community resilience.', subsections=None)]), related_subjects=RelatedSubjects(topics=['COVID-19 pandemic', 'Impact of COVID-19 on economy', 'Health effects of COVID-19', 'COVID-19 vaccines', 'Global response to COVID-19', 'COVID-19 misinformation']), perspectives=Perspectives(editors=[Editor(affiliation='World Health Organization (WHO)', name='DrSarahEpidemiologist', role='Epidemiologist', description='Dr. Sarah will focus on the spread, transmission dynamics, and epidemiological aspects of the COVID-19 pandemic, providing insights into how the virus has evolved and impacted global health.'), Editor(affiliation='Neurological Institute', name='DrJamesNeurologist', role='Neurologist', description='Dr. James will concentrate on the neurological and psychological impacts of COVID-19, exploring the effects on the brain, nervous system, and mental health of patients infected with the virus.'), Editor(affiliation='Center for Disease Control (CDC)', name='DrEmilyVaccinologist', role='Vaccinologist', description='Dr. Emily will delve into COVID-19 vaccine development, efficacy, distribution, and the role of vaccines in controlling the spread of the virus, addressing concerns and advancements in vaccination efforts.'), Editor(affiliation='United Nations', name='MsSofiaHumanitarian', role='Humanitarian Response Coordinator', description=\"Ms. Sofia will focus on the UN's response to the COVID-19 pandemic, highlighting the organization's efforts in global health, humanitarian aid, economic stability, and vaccination initiatives to combat the impacts of the virus.\"), Editor(affiliation='Fact-Checking Organization', name='MrAlexFact-Checker', role='Misinformation Analyst', description='Mr. Alex will address COVID-19 misinformation, debunking myths, analyzing false claims, and discussing the impact of fake news on public health and safety during the pandemic.')]), conversations={Editor(affiliation='World Health Organization (WHO)', name='DrSarahEpidemiologist', role='Epidemiologist', description='Dr. Sarah will focus on the spread, transmission dynamics, and epidemiological aspects of the COVID-19 pandemic, providing insights into how the virus has evolved and impacted global health.'): InterviewState(interview_config=InterviewConfig(long_llm=ChatOpenAI(client=<openai.resources.chat.completions.Completions object at 0x118ba1de0>, async_client=<openai.resources.chat.completions.AsyncCompletions object at 0x118ba3520>, model_name='gpt-3.5-turbo-0125', openai_api_key=SecretStr('**********'), openai_proxy=''), fast_llm=ChatOpenAI(client=<openai.resources.chat.completions.Completions object at 0x118b5b430>, async_client=<openai.resources.chat.completions.AsyncCompletions object at 0x118ba08e0>, openai_api_key=SecretStr('**********'), openai_proxy=''), max_conversations=5, max_reference_length=10000, tags_to_extract=['p', 'h1', 'h2', 'h3'], embeddings=OpenAIEmbeddings(client=<openai.resources.embeddings.Embeddings object at 0x118ba3730>, async_client=<openai.resources.embeddings.AsyncEmbeddings object at 0x118c010f0>, model='text-embedding-3-small', dimensions=None, deployment='text-embedding-ada-002', openai_api_version='', openai_api_base=None, openai_api_type='', openai_proxy='', embedding_ctx_length=8191, openai_api_key=SecretStr('**********'), openai_organization=None, allowed_special=set(), disallowed_special='all', chunk_size=1000, max_retries=2, request_timeout=None, headers=None, tiktoken_enabled=True, tiktoken_model_name=None, show_progress_bar=False, model_kwargs={}, skip_empty=False, default_headers=None, default_query=None, retry_min_seconds=4, retry_max_seconds=20, http_client=None, http_async_client=None), vectorstore_dir='./data/storm/vectorstore/', vectorstore=<langchain_community.vectorstores.chroma.Chroma object at 0x1070bfac0>, runnable_config={}), editor=Editor(affiliation='World Health Organization (WHO)', name='DrSarahEpidemiologist', role='Epidemiologist', description='Dr. Sarah will focus on the spread, transmission dynamics, and epidemiological aspects of the COVID-19 pandemic, providing insights into how the virus has evolved and impacted global health.'), messages=[], references={}, summary=''), Editor(affiliation='Neurological Institute', name='DrJamesNeurologist', role='Neurologist', description='Dr. James will concentrate on the neurological and psychological impacts of COVID-19, exploring the effects on the brain, nervous system, and mental health of patients infected with the virus.'): InterviewState(interview_config=InterviewConfig(long_llm=ChatOpenAI(client=<openai.resources.chat.completions.Completions object at 0x118ba1de0>, async_client=<openai.resources.chat.completions.AsyncCompletions object at 0x118ba3520>, model_name='gpt-3.5-turbo-0125', openai_api_key=SecretStr('**********'), openai_proxy=''), fast_llm=ChatOpenAI(client=<openai.resources.chat.completions.Completions object at 0x118b5b430>, async_client=<openai.resources.chat.completions.AsyncCompletions object at 0x118ba08e0>, openai_api_key=SecretStr('**********'), openai_proxy=''), max_conversations=5, max_reference_length=10000, tags_to_extract=['p', 'h1', 'h2', 'h3'], embeddings=OpenAIEmbeddings(client=<openai.resources.embeddings.Embeddings object at 0x118ba3730>, async_client=<openai.resources.embeddings.AsyncEmbeddings object at 0x118c010f0>, model='text-embedding-3-small', dimensions=None, deployment='text-embedding-ada-002', openai_api_version='', openai_api_base=None, openai_api_type='', openai_proxy='', embedding_ctx_length=8191, openai_api_key=SecretStr('**********'), openai_organization=None, allowed_special=set(), disallowed_special='all', chunk_size=1000, max_retries=2, request_timeout=None, headers=None, tiktoken_enabled=True, tiktoken_model_name=None, show_progress_bar=False, model_kwargs={}, skip_empty=False, default_headers=None, default_query=None, retry_min_seconds=4, retry_max_seconds=20, http_client=None, http_async_client=None), vectorstore_dir='./data/storm/vectorstore/', vectorstore=<langchain_community.vectorstores.chroma.Chroma object at 0x1070bfac0>, runnable_config={}), editor=Editor(affiliation='Neurological Institute', name='DrJamesNeurologist', role='Neurologist', description='Dr. James will concentrate on the neurological and psychological impacts of COVID-19, exploring the effects on the brain, nervous system, and mental health of patients infected with the virus.'), messages=[], references={}, summary=''), Editor(affiliation='Center for Disease Control (CDC)', name='DrEmilyVaccinologist', role='Vaccinologist', description='Dr. Emily will delve into COVID-19 vaccine development, efficacy, distribution, and the role of vaccines in controlling the spread of the virus, addressing concerns and advancements in vaccination efforts.'): InterviewState(interview_config=InterviewConfig(long_llm=ChatOpenAI(client=<openai.resources.chat.completions.Completions object at 0x118ba1de0>, async_client=<openai.resources.chat.completions.AsyncCompletions object at 0x118ba3520>, model_name='gpt-3.5-turbo-0125', openai_api_key=SecretStr('**********'), openai_proxy=''), fast_llm=ChatOpenAI(client=<openai.resources.chat.completions.Completions object at 0x118b5b430>, async_client=<openai.resources.chat.completions.AsyncCompletions object at 0x118ba08e0>, openai_api_key=SecretStr('**********'), openai_proxy=''), max_conversations=5, max_reference_length=10000, tags_to_extract=['p', 'h1', 'h2', 'h3'], embeddings=OpenAIEmbeddings(client=<openai.resources.embeddings.Embeddings object at 0x118ba3730>, async_client=<openai.resources.embeddings.AsyncEmbeddings object at 0x118c010f0>, model='text-embedding-3-small', dimensions=None, deployment='text-embedding-ada-002', openai_api_version='', openai_api_base=None, openai_api_type='', openai_proxy='', embedding_ctx_length=8191, openai_api_key=SecretStr('**********'), openai_organization=None, allowed_special=set(), disallowed_special='all', chunk_size=1000, max_retries=2, request_timeout=None, headers=None, tiktoken_enabled=True, tiktoken_model_name=None, show_progress_bar=False, model_kwargs={}, skip_empty=False, default_headers=None, default_query=None, retry_min_seconds=4, retry_max_seconds=20, http_client=None, http_async_client=None), vectorstore_dir='./data/storm/vectorstore/', vectorstore=<langchain_community.vectorstores.chroma.Chroma object at 0x1070bfac0>, runnable_config={}), editor=Editor(affiliation='Center for Disease Control (CDC)', name='DrEmilyVaccinologist', role='Vaccinologist', description='Dr. Emily will delve into COVID-19 vaccine development, efficacy, distribution, and the role of vaccines in controlling the spread of the virus, addressing concerns and advancements in vaccination efforts.'), messages=[], references={}, summary=''), Editor(affiliation='United Nations', name='MsSofiaHumanitarian', role='Humanitarian Response Coordinator', description=\"Ms. Sofia will focus on the UN's response to the COVID-19 pandemic, highlighting the organization's efforts in global health, humanitarian aid, economic stability, and vaccination initiatives to combat the impacts of the virus.\"): InterviewState(interview_config=InterviewConfig(long_llm=ChatOpenAI(client=<openai.resources.chat.completions.Completions object at 0x118ba1de0>, async_client=<openai.resources.chat.completions.AsyncCompletions object at 0x118ba3520>, model_name='gpt-3.5-turbo-0125', openai_api_key=SecretStr('**********'), openai_proxy=''), fast_llm=ChatOpenAI(client=<openai.resources.chat.completions.Completions object at 0x118b5b430>, async_client=<openai.resources.chat.completions.AsyncCompletions object at 0x118ba08e0>, openai_api_key=SecretStr('**********'), openai_proxy=''), max_conversations=5, max_reference_length=10000, tags_to_extract=['p', 'h1', 'h2', 'h3'], embeddings=OpenAIEmbeddings(client=<openai.resources.embeddings.Embeddings object at 0x118ba3730>, async_client=<openai.resources.embeddings.AsyncEmbeddings object at 0x118c010f0>, model='text-embedding-3-small', dimensions=None, deployment='text-embedding-ada-002', openai_api_version='', openai_api_base=None, openai_api_type='', openai_proxy='', embedding_ctx_length=8191, openai_api_key=SecretStr('**********'), openai_organization=None, allowed_special=set(), disallowed_special='all', chunk_size=1000, max_retries=2, request_timeout=None, headers=None, tiktoken_enabled=True, tiktoken_model_name=None, show_progress_bar=False, model_kwargs={}, skip_empty=False, default_headers=None, default_query=None, retry_min_seconds=4, retry_max_seconds=20, http_client=None, http_async_client=None), vectorstore_dir='./data/storm/vectorstore/', vectorstore=<langchain_community.vectorstores.chroma.Chroma object at 0x1070bfac0>, runnable_config={}), editor=Editor(affiliation='United Nations', name='MsSofiaHumanitarian', role='Humanitarian Response Coordinator', description=\"Ms. Sofia will focus on the UN's response to the COVID-19 pandemic, highlighting the organization's efforts in global health, humanitarian aid, economic stability, and vaccination initiatives to combat the impacts of the virus.\"), messages=[], references={}, summary=''), Editor(affiliation='Fact-Checking Organization', name='MrAlexFact-Checker', role='Misinformation Analyst', description='Mr. Alex will address COVID-19 misinformation, debunking myths, analyzing false claims, and discussing the impact of fake news on public health and safety during the pandemic.'): InterviewState(interview_config=InterviewConfig(long_llm=ChatOpenAI(client=<openai.resources.chat.completions.Completions object at 0x118ba1de0>, async_client=<openai.resources.chat.completions.AsyncCompletions object at 0x118ba3520>, model_name='gpt-3.5-turbo-0125', openai_api_key=SecretStr('**********'), openai_proxy=''), fast_llm=ChatOpenAI(client=<openai.resources.chat.completions.Completions object at 0x118b5b430>, async_client=<openai.resources.chat.completions.AsyncCompletions object at 0x118ba08e0>, openai_api_key=SecretStr('**********'), openai_proxy=''), max_conversations=5, max_reference_length=10000, tags_to_extract=['p', 'h1', 'h2', 'h3'], embeddings=OpenAIEmbeddings(client=<openai.resources.embeddings.Embeddings object at 0x118ba3730>, async_client=<openai.resources.embeddings.AsyncEmbeddings object at 0x118c010f0>, model='text-embedding-3-small', dimensions=None, deployment='text-embedding-ada-002', openai_api_version='', openai_api_base=None, openai_api_type='', openai_proxy='', embedding_ctx_length=8191, openai_api_key=SecretStr('**********'), openai_organization=None, allowed_special=set(), disallowed_special='all', chunk_size=1000, max_retries=2, request_timeout=None, headers=None, tiktoken_enabled=True, tiktoken_model_name=None, show_progress_bar=False, model_kwargs={}, skip_empty=False, default_headers=None, default_query=None, retry_min_seconds=4, retry_max_seconds=20, http_client=None, http_async_client=None), vectorstore_dir='./data/storm/vectorstore/', vectorstore=<langchain_community.vectorstores.chroma.Chroma object at 0x1070bfac0>, runnable_config={}), editor=Editor(affiliation='Fact-Checking Organization', name='MrAlexFact-Checker', role='Misinformation Analyst', description='Mr. Alex will address COVID-19 misinformation, debunking myths, analyzing false claims, and discussing the impact of fake news on public health and safety during the pandemic.'), messages=[], references={}, summary='')}, sections=[], article='')"
      ]
     },
     "execution_count": 13,
     "metadata": {},
     "output_type": "execute_result"
    },
    {
     "name": "stderr",
     "output_type": "stream",
     "text": [
      "Failed to batch ingest runs: TypeError('keys must be str, int, float, bool or None, not Editor')\n"
     ]
    }
   ],
   "source": [
    "# # Test\n",
    "# o = await node_refine_outline.ainvoke(i)\n",
    "\n",
    "# i = ResearchState.from_dict(o)\n",
    "# i"
   ]
  },
  {
   "cell_type": "code",
   "execution_count": 14,
   "id": "4e447335",
   "metadata": {},
   "outputs": [
    {
     "ename": "NameError",
     "evalue": "name 'StormResearchGraph' is not defined",
     "output_type": "error",
     "traceback": [
      "\u001b[0;31m---------------------------------------------------------------------------\u001b[0m",
      "\u001b[0;31mNameError\u001b[0m                                 Traceback (most recent call last)",
      "Cell \u001b[0;32mIn[14], line 2\u001b[0m\n\u001b[1;32m      1\u001b[0m i \u001b[38;5;241m=\u001b[39m ResearchState(topic\u001b[38;5;241m=\u001b[39mexample_topic, interview_config\u001b[38;5;241m=\u001b[39minterview_config)\n\u001b[0;32m----> 2\u001b[0m storm1 \u001b[38;5;241m=\u001b[39m \u001b[43mStormResearchGraph\u001b[49m(interview_config\u001b[38;5;241m=\u001b[39minterview_config, topic\u001b[38;5;241m=\u001b[39mexample_topic)\n\u001b[1;32m      4\u001b[0m o \u001b[38;5;241m=\u001b[39m storm1\u001b[38;5;241m.\u001b[39mstream_and_return_results(i)\n",
      "\u001b[0;31mNameError\u001b[0m: name 'StormResearchGraph' is not defined"
     ]
    }
   ],
   "source": [
    "i = ResearchState(topic=example_topic, interview_config=interview_config)\n",
    "storm1 = StormResearchGraph(interview_config=interview_config, topic=example_topic)\n",
    "\n",
    "o = storm1.stream_and_return_results(i)\n"
   ]
  },
  {
   "cell_type": "markdown",
   "id": "95cc42a4-45f1-470c-a3f6-20a5661d5b43",
   "metadata": {},
   "source": [
    "## Generate Perspectives\n",
    "\n",
    "From these related subjects, we can select representative Wikipedia editors as \"subject matter experts\" with distinct backgrounds and affiliations. These will help distribute the search process to encourage a more well-rounded final report.\n"
   ]
  },
  {
   "cell_type": "markdown",
   "id": "35abdf40-80dc-434c-8116-d6b9cbde5572",
   "metadata": {},
   "source": [
    "## Expert Dialog\n",
    "\n",
    "Each wikipedia writer is primed to role-play using the perspectives presented above. It will ask a series of questions of a second \"domain expert\" with access to a search engine. This generate content to generate a refined outline as well as an updated index of reference documents.\n",
    "\n",
    "### Interview State\n",
    "\n",
    "The conversation is cyclic, so we will construct it within its own graph. The State will contain messages, the reference docs, and the editor (with its own \"persona\") to make it easy to parallelize these conversations.\n"
   ]
  },
  {
   "cell_type": "markdown",
   "id": "dc0639d2-e8a6-43d4-8e9a-eb5f4051578c",
   "metadata": {},
   "source": [
    "# Dialog Roles\n",
    "\n",
    "The graph will have two participants: the wikipedia editor (generate_question), who asks questions based on its assigned role, and a domain expert (`gen_answer_chain), who uses a search engine to answer the questions as accurately as possible.\n"
   ]
  },
  {
   "cell_type": "markdown",
   "id": "c95e50f7-4e2c-4307-853d-2fc8f0b3dd82",
   "metadata": {},
   "source": [
    "### Answer questions\n",
    "\n",
    "The `gen_answer_chain` first generates queries (query expansion) to answer the editor's question, then responds with citations.\n"
   ]
  },
  {
   "cell_type": "markdown",
   "id": "998671bf-958d-44c0-8421-523a71bea01a",
   "metadata": {},
   "source": [
    "# Construct the Interview Graph\n",
    "\n",
    "Now that we've defined the editor and domain expert, we can compose them in a graph.\n"
   ]
  },
  {
   "cell_type": "markdown",
   "id": "45e14dcb",
   "metadata": {},
   "source": [
    "## Refine Outline\n",
    "\n",
    "At this point in STORM, we've conducted a large amount of research from different perspectives. It's time to refine the original outline based on these investigations. Below, create a chain using the LLM with a long context window to update the original outline.\n"
   ]
  },
  {
   "cell_type": "code",
   "execution_count": null,
   "id": "bb8b76b6",
   "metadata": {},
   "outputs": [],
   "source": [
    "## Generate Article"
   ]
  },
  {
   "cell_type": "code",
   "execution_count": null,
   "id": "563b2a40",
   "metadata": {},
   "outputs": [],
   "source": [
    "from langchain_core.documents import Document\n",
    "\n",
    "from langchain_community.vectorstores import SKLearnVectorStore\n",
    "from langchain_openai import OpenAIEmbeddings\n",
    "\n",
    "embeddings = OpenAIEmbeddings(model=\"text-embedding-3-small\")\n",
    "reference_docs = [\n",
    "    Document(page_content=v, metadata={\"source\": k})\n",
    "    for k, v in final_state[\"references\"].items()\n",
    "]\n",
    "\n",
    "print(f\"Number of references: {len(reference_docs)}\")\n",
    "\n",
    "# This really doesn't need to be a vectorstore for this size of data.\n",
    "# It could just be a numpy matrix. Or you could store documents\n",
    "# across requests if you want.\n",
    "vectorstore = SKLearnVectorStore.from_documents(\n",
    "    reference_docs,\n",
    "    embedding=embeddings,\n",
    ")\n",
    "retriever = vectorstore.as_retriever(k=10)"
   ]
  },
  {
   "cell_type": "code",
   "execution_count": null,
   "id": "b05496dd",
   "metadata": {},
   "outputs": [],
   "source": [
    "retriever.invoke(\"What's a long context LLM anyway?\")"
   ]
  },
  {
   "cell_type": "markdown",
   "id": "e708d31a",
   "metadata": {},
   "source": [
    "#### Generate Sections\n",
    "\n",
    "Now you can generate the sections using the indexed docs.\n"
   ]
  },
  {
   "cell_type": "code",
   "execution_count": null,
   "id": "524f4c87",
   "metadata": {},
   "outputs": [],
   "source": [
    "class SubSection(BaseModel):\n",
    "    subsection_title: str = Field(..., title=\"Title of the subsection\")\n",
    "    content: str = Field(\n",
    "        ...,\n",
    "        title=\"Full content of the subsection. Include [#] citations to the cited sources where relevant.\",\n",
    "    )\n",
    "\n",
    "    @property\n",
    "    def as_str(self) -> str:\n",
    "        return f\"### {self.subsection_title}\\n\\n{self.content}\".strip()\n",
    "\n",
    "\n",
    "class WikiSection(BaseModel):\n",
    "    section_title: str = Field(..., title=\"Title of the section\")\n",
    "    content: str = Field(..., title=\"Full content of the section\")\n",
    "    subsections: Optional[List[Subsection]] = Field(\n",
    "        default=None,\n",
    "        title=\"Titles and descriptions for each subsection of the Wikipedia page.\",\n",
    "    )\n",
    "    citations: List[str] = Field(default_factory=list)\n",
    "\n",
    "    @property\n",
    "    def as_str(self) -> str:\n",
    "        subsections = \"\\n\\n\".join(\n",
    "            subsection.as_str for subsection in self.subsections or []\n",
    "        )\n",
    "        citations = \"\\n\".join([f\" [{i}] {cit}\" for i, cit in enumerate(self.citations)])\n",
    "        return (\n",
    "            f\"## {self.section_title}\\n\\n{self.content}\\n\\n{subsections}\".strip()\n",
    "            + f\"\\n\\n{citations}\".strip()\n",
    "        )\n",
    "\n",
    "\n",
    "section_writer_prompt = ChatPromptTemplate.from_messages(\n",
    "    [\n",
    "        (\n",
    "            \"system\",\n",
    "            \"You are an expert Wikipedia writer. Complete your assigned WikiSection from the following outline:\\n\\n\"\n",
    "            \"{outline}\\n\\nCite your sources, using the following references:\\n\\n<Documents>\\n{docs}\\n<Documents>\",\n",
    "        ),\n",
    "        (\"user\", \"Write the full WikiSection for the {section} section.\\n{format_instructions}\"),\n",
    "    ]\n",
    ")\n",
    "\n",
    "\n",
    "async def retrieve(inputs: dict):\n",
    "    docs = await retriever.ainvoke(inputs[\"topic\"] + \": \" + inputs[\"section\"])\n",
    "    formatted = \"\\n\".join(\n",
    "        [\n",
    "            f'<Document href=\"{doc.metadata[\"source\"]}\"/>\\n{doc.page_content}\\n</Document>'\n",
    "            for doc in docs\n",
    "        ]\n",
    "    )\n",
    "    return {\"docs\": formatted, **inputs}\n",
    "\n",
    "wiki_parser = PydanticOutputParser(pydantic_object=WikiSection)\n",
    "\n",
    "section_writer = (\n",
    "    retrieve\n",
    "    | section_writer_prompt.partial(format_instructions=wiki_parser.get_format_instructions())\n",
    "    | long_context_llm\n",
    "    | wiki_parser\n",
    ")"
   ]
  },
  {
   "cell_type": "code",
   "execution_count": null,
   "id": "03723e96",
   "metadata": {},
   "outputs": [],
   "source": [
    "section = await section_writer.ainvoke(\n",
    "    {\n",
    "        \"outline\": refined_outline.as_str,\n",
    "        \"section\": refined_outline.sections[1].section_title,\n",
    "        \"topic\": example_topic,\n",
    "    }\n",
    ")\n",
    "print(section.as_str)"
   ]
  },
  {
   "cell_type": "markdown",
   "id": "0afd728d",
   "metadata": {},
   "source": [
    "#### Generate final article\n",
    "\n",
    "Now we can rewrite the draft to appropriately group all the citations and maintain a consistent voice.\n"
   ]
  },
  {
   "cell_type": "code",
   "execution_count": null,
   "id": "05089f2d",
   "metadata": {},
   "outputs": [],
   "source": [
    "from langchain_core.output_parsers import StrOutputParser\n",
    "\n",
    "writer_prompt = ChatPromptTemplate.from_messages(\n",
    "    [\n",
    "        (\n",
    "            \"system\",\n",
    "            \"You are an expert Wikipedia author. Write the complete wiki article on {topic} using the following section drafts:\\n\\n\"\n",
    "            \"{draft}\\n\\nStrictly follow Wikipedia format guidelines.\",\n",
    "        ),\n",
    "        (\n",
    "            \"user\",\n",
    "            'Write the complete Wiki article using markdown format. Organize citations using footnotes like \"[1]\",\"\" avoiding duplicates in the footer. Include URLs in the footer.',\n",
    "        ),\n",
    "    ]\n",
    ")\n",
    "\n",
    "writer = writer_prompt | long_context_llm | StrOutputParser()"
   ]
  },
  {
   "cell_type": "code",
   "execution_count": null,
   "id": "0e6e6e5a",
   "metadata": {},
   "outputs": [],
   "source": [
    "for tok in writer.stream({\"topic\": example_topic, \"draft\": section.as_str}):\n",
    "    print(tok, end=\"\")"
   ]
  },
  {
   "cell_type": "markdown",
   "id": "4f6ab734",
   "metadata": {},
   "source": [
    "## Final Flow\n",
    "\n",
    "Now it's time to string everything together. We will have 6 main stages in sequence:\n",
    ".\n",
    "\n",
    "1. Generate the initial outline + perspectives\n",
    "2. Batch converse with each perspective to expand the content for the article\n",
    "3. Refine the outline based on the conversations\n",
    "4. Index the reference docs from the conversations\n",
    "5. Write the individual sections of the article\n",
    "6. Write the final wiki\n",
    "\n",
    "The state tracks the outputs of each stage.\n"
   ]
  },
  {
   "cell_type": "code",
   "execution_count": null,
   "id": "e775ba8c",
   "metadata": {},
   "outputs": [],
   "source": [
    "class ResearchState(TypedDict):\n",
    "    topic: str\n",
    "    outline: Outline\n",
    "    editors: List[Editor]\n",
    "    interview_results: List[InterviewState]\n",
    "    # The final sections output\n",
    "    sections: List[WikiSection]\n",
    "    article: str"
   ]
  },
  {
   "cell_type": "code",
   "execution_count": null,
   "id": "ed1854d6",
   "metadata": {},
   "outputs": [],
   "source": [
    "import asyncio\n",
    "\n",
    "\n",
    "async def initialize_research(state: ResearchState):\n",
    "    topic = state[\"topic\"]\n",
    "    coros = (\n",
    "        generate_outline_direct.ainvoke({\"topic\": topic}),\n",
    "        survey_subjects.ainvoke(topic),\n",
    "    )\n",
    "    results = await asyncio.gather(*coros)\n",
    "    return {\n",
    "        **state,\n",
    "        \"outline\": results[0],\n",
    "        \"editors\": results[1].editors,\n",
    "    }\n",
    "\n",
    "\n",
    "async def conduct_interviews(state: ResearchState):\n",
    "    topic = state[\"topic\"]\n",
    "    initial_states = [\n",
    "        {\n",
    "            \"editor\": editor,\n",
    "            \"messages\": [\n",
    "                AIMessage(\n",
    "                    content=f\"So you said you were writing an article on {topic}?\",\n",
    "                    name=\"SubjectMatterExpert\",\n",
    "                )\n",
    "            ],\n",
    "        }\n",
    "        for editor in state[\"editors\"]\n",
    "    ]\n",
    "    # We call in to the sub-graph here to parallelize the interviews\n",
    "    interview_results = await interview_graph.abatch(initial_states)\n",
    "\n",
    "    return {\n",
    "        **state,\n",
    "        \"interview_results\": interview_results,\n",
    "    }\n",
    "\n",
    "\n",
    "def format_conversation(interview_state):\n",
    "    messages = interview_state[\"messages\"]\n",
    "    convo = \"\\n\".join(f\"{m.name}: {m.content}\" for m in messages)\n",
    "    return f'Conversation with {interview_state[\"editor\"].name}\\n\\n' + convo\n",
    "\n",
    "\n",
    "async def refine_outline(state: ResearchState):\n",
    "    convos = \"\\n\\n\".join(\n",
    "        [\n",
    "            format_conversation(interview_state)\n",
    "            for interview_state in state[\"interview_results\"]\n",
    "        ]\n",
    "    )\n",
    "\n",
    "    updated_outline = await refine_outline_chain.ainvoke(\n",
    "        {\n",
    "            \"topic\": state[\"topic\"],\n",
    "            \"old_outline\": state[\"outline\"].as_str,\n",
    "            \"conversations\": convos,\n",
    "        }\n",
    "    )\n",
    "    return {**state, \"outline\": updated_outline}\n",
    "\n",
    "\n",
    "async def index_references(state: ResearchState):\n",
    "    all_docs = []\n",
    "    for interview_state in state[\"interview_results\"]:\n",
    "        reference_docs = [\n",
    "            Document(page_content=v, metadata={\"source\": k})\n",
    "            for k, v in interview_state[\"references\"].items()\n",
    "        ]\n",
    "        all_docs.extend(reference_docs)\n",
    "    await vectorstore.aadd_documents(all_docs)\n",
    "    return state\n",
    "\n",
    "\n",
    "async def write_sections(state: ResearchState):\n",
    "    outline = state[\"outline\"]\n",
    "    sections = await section_writer.abatch(\n",
    "        [\n",
    "            {\n",
    "                \"outline\": refined_outline.as_str,\n",
    "                \"section\": section.section_title,\n",
    "                \"topic\": state[\"topic\"],\n",
    "            }\n",
    "            for section in outline.sections\n",
    "        ]\n",
    "    )\n",
    "    return {\n",
    "        **state,\n",
    "        \"sections\": sections,\n",
    "    }\n",
    "\n",
    "\n",
    "async def write_article(state: ResearchState):\n",
    "    topic = state[\"topic\"]\n",
    "    sections = state[\"sections\"]\n",
    "    draft = \"\\n\\n\".join([section.as_str for section in sections])\n",
    "    article = await writer.ainvoke({\"topic\": topic, \"draft\": draft})\n",
    "    return {\n",
    "        **state,\n",
    "        \"article\": article,\n",
    "    }"
   ]
  },
  {
   "cell_type": "markdown",
   "id": "f87881e3",
   "metadata": {},
   "source": [
    "#### Create the graph\n"
   ]
  },
  {
   "cell_type": "code",
   "execution_count": null,
   "id": "af3b4be1",
   "metadata": {},
   "outputs": [],
   "source": [
    "builder_of_storm = StateGraph(ResearchState)\n",
    "\n",
    "nodes = [\n",
    "    (\"init_research\", initialize_research),\n",
    "    (\"conduct_interviews\", conduct_interviews),\n",
    "    (\"refine_outline\", refine_outline),\n",
    "    (\"index_references\", index_references),\n",
    "    (\"write_sections\", write_sections),\n",
    "    (\"write_article\", write_article),\n",
    "]\n",
    "for i in range(len(nodes)):\n",
    "    name, node = nodes[i]\n",
    "    builder_of_storm.add_node(name, node)\n",
    "    if i > 0:\n",
    "        builder_of_storm.add_edge(nodes[i - 1][0], name)\n",
    "\n",
    "builder_of_storm.set_entry_point(nodes[0][0])\n",
    "builder_of_storm.set_finish_point(nodes[-1][0])\n",
    "storm = builder_of_storm.compile()"
   ]
  },
  {
   "cell_type": "code",
   "execution_count": null,
   "id": "2a815f1b",
   "metadata": {},
   "outputs": [],
   "source": [
    "async for step in storm.astream(\n",
    "    {\n",
    "        \"topic\": \"Building better slack bots using LLMs\",\n",
    "    }\n",
    "):\n",
    "    name = next(iter(step))\n",
    "    print(name)\n",
    "    print(\"-- \", str(step[name])[:300])\n",
    "    if END in step:\n",
    "        results = step"
   ]
  },
  {
   "cell_type": "code",
   "execution_count": null,
   "id": "1bef7021",
   "metadata": {},
   "outputs": [],
   "source": [
    "article = results[END][\"article\"]"
   ]
  },
  {
   "cell_type": "markdown",
   "id": "3b094067",
   "metadata": {},
   "source": [
    "## Render the Wiki\n",
    "\n",
    "Now we can render the final wiki page!\n"
   ]
  },
  {
   "cell_type": "code",
   "execution_count": null,
   "id": "f7750c83",
   "metadata": {},
   "outputs": [],
   "source": [
    "from IPython.display import Markdown\n",
    "\n",
    "# We will down-header the sections to create less confusion in this notebook\n",
    "Markdown(article.replace(\"\\n#\", \"\\n##\"))"
   ]
  },
  {
   "cell_type": "code",
   "execution_count": null,
   "id": "00e24611",
   "metadata": {},
   "outputs": [],
   "source": []
  }
 ],
 "metadata": {
  "kernelspec": {
   "display_name": "Python 3 (ipykernel)",
   "language": "python",
   "name": "python3"
  },
  "language_info": {
   "codemirror_mode": {
    "name": "ipython",
    "version": 3
   },
   "file_extension": ".py",
   "mimetype": "text/x-python",
   "name": "python",
   "nbconvert_exporter": "python",
   "pygments_lexer": "ipython3",
   "version": "3.10.13"
  }
 },
 "nbformat": 4,
 "nbformat_minor": 5
}

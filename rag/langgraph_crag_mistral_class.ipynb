{
 "cells": [
  {
   "cell_type": "code",
   "execution_count": 1,
   "metadata": {},
   "outputs": [],
   "source": [
    "# ! pip install --quiet langchain_community tiktoken langchain-openai langchainhub chromadb langchain langgraph tavily-python langchain-mistralai gpt4all duckduckgo-search"
   ]
  },
  {
   "cell_type": "code",
   "execution_count": 25,
   "metadata": {},
   "outputs": [],
   "source": [
    "from langchain_community.embeddings import GPT4AllEmbeddings\n",
    "from langchain_community.vectorstores import Chroma\n",
    "from langchain.chat_models import ChatOllama\n",
    "import pprint"
   ]
  },
  {
   "cell_type": "code",
   "execution_count": 3,
   "metadata": {},
   "outputs": [
    {
     "name": "stderr",
     "output_type": "stream",
     "text": [
      "2024-02-20 12:28:15,166 [MainThread  ] [INFO ]  ---Setup logging---\n",
      "2024-02-20 12:28:15,166 INFO rootLogger: ---Setup logging---\n",
      "2024-02-20 12:28:15,170 [MainThread  ] [INFO ]  Set environmental variables.\n",
      "2024-02-20 12:28:15,170 INFO rootLogger: Set environmental variables.\n"
     ]
    }
   ],
   "source": [
    "import sys\n",
    "sys.path.append('..')\n",
    "\n",
    "import llmtools as t\n",
    "logger = t.setup_logging()\n",
    "\n",
    "\n",
    "from dotenv import load_dotenv\n",
    "load_dotenv()\n",
    "logger.info('Set environmental variables.')"
   ]
  },
  {
   "cell_type": "code",
   "execution_count": 4,
   "metadata": {},
   "outputs": [
    {
     "name": "stdout",
     "output_type": "stream",
     "text": [
      "bert_load_from_file: gguf version     = 2\n",
      "bert_load_from_file: gguf alignment   = 32\n",
      "bert_load_from_file: gguf data offset = 695552\n",
      "bert_load_from_file: model name           = BERT\n",
      "bert_load_from_file: model architecture   = bert\n",
      "bert_load_from_file: model file type      = 1\n",
      "bert_load_from_file: bert tokenizer vocab = 30522\n"
     ]
    }
   ],
   "source": [
    "embeddings = GPT4AllEmbeddings()\n",
    "db_name = \"history_article_db\"\n",
    "ollama_base_url = \"http://192.168.68.99:11434\"\n",
    "llm_model_name = \"mistral:instruct\"\n",
    "\n",
    "llm = ChatOllama(base_url=ollama_base_url, \n",
    "                model=llm_model_name,\n",
    "                temperature=0, \n",
    "                verbose=True)\n"
   ]
  },
  {
   "cell_type": "code",
   "execution_count": 5,
   "metadata": {},
   "outputs": [
    {
     "name": "stderr",
     "output_type": "stream",
     "text": [
      "2024-02-20 12:28:15,550 [MainThread  ] [WARNI]  Reset db set to true: history_article_db\n",
      "2024-02-20 12:28:15,550 WARNING rootLogger: Reset db set to true: history_article_db\n",
      "2024-02-20 12:28:15,551 [MainThread  ] [WARNI]  Deleting db: history_article_db\n",
      "2024-02-20 12:28:15,551 WARNING rootLogger: Deleting db: history_article_db\n",
      "2024-02-20 12:28:15,965 [MainThread  ] [INFO ]  Loading data from url: https://en.wikipedia.org/wiki/History_of_Zimbabwe\n",
      "2024-02-20 12:28:15,965 INFO rootLogger: Loading data from url: https://en.wikipedia.org/wiki/History_of_Zimbabwe\n",
      "2024-02-20 12:28:16,428 [MainThread  ] [INFO ]  Split text into chunks: 212\n",
      "2024-02-20 12:28:16,428 INFO rootLogger: Split text into chunks: 212\n",
      "2024-02-20 12:28:19,058 [MainThread  ] [INFO ]  Data loaded into vector store. Collection name: history_article_db, Chunks: 212\n",
      "2024-02-20 12:28:19,058 INFO rootLogger: Data loaded into vector store. Collection name: history_article_db, Chunks: 212\n",
      "2024-02-20 12:28:19,059 [MainThread  ] [INFO ]  Data loaded into vector store. URL: https://en.wikipedia.org/wiki/History_of_Zimbabwe, Collection name: history_article_db\n",
      "2024-02-20 12:28:19,059 INFO rootLogger: Data loaded into vector store. URL: https://en.wikipedia.org/wiki/History_of_Zimbabwe, Collection name: history_article_db\n",
      "2024-02-20 12:28:19,060 [MainThread  ] [INFO ]  Loading data from url: https://en.wikipedia.org/wiki/Zimbabwehttps://www.zim.gov.zw/index.php/en/my-government/government-ministries/about-zimbabwe/460-history-of-zimbabwe?showall=1\n",
      "2024-02-20 12:28:19,060 INFO rootLogger: Loading data from url: https://en.wikipedia.org/wiki/Zimbabwehttps://www.zim.gov.zw/index.php/en/my-government/government-ministries/about-zimbabwe/460-history-of-zimbabwe?showall=1\n",
      "2024-02-20 12:28:19,172 [MainThread  ] [INFO ]  Split text into chunks: 8\n",
      "2024-02-20 12:28:19,172 INFO rootLogger: Split text into chunks: 8\n",
      "2024-02-20 12:28:19,280 [MainThread  ] [INFO ]  Data loaded into vector store. Collection name: history_article_db, Chunks: 8\n",
      "2024-02-20 12:28:19,280 INFO rootLogger: Data loaded into vector store. Collection name: history_article_db, Chunks: 8\n",
      "2024-02-20 12:28:19,281 [MainThread  ] [INFO ]  Data loaded into vector store. URL: https://en.wikipedia.org/wiki/Zimbabwehttps://www.zim.gov.zw/index.php/en/my-government/government-ministries/about-zimbabwe/460-history-of-zimbabwe?showall=1, Collection name: history_article_db\n",
      "2024-02-20 12:28:19,281 INFO rootLogger: Data loaded into vector store. URL: https://en.wikipedia.org/wiki/Zimbabwehttps://www.zim.gov.zw/index.php/en/my-government/government-ministries/about-zimbabwe/460-history-of-zimbabwe?showall=1, Collection name: history_article_db\n"
     ]
    }
   ],
   "source": [
    "loader = t.ChromaDbWebLoader(logger, reset_db=True, db_name=db_name, embeddings=embeddings, chunk_size=500, chunk_overlap=25)\n",
    "\n",
    "articles = [\n",
    "    \"https://en.wikipedia.org/wiki/History_of_Zimbabwe\",\n",
    "    \"https://en.wikipedia.org/wiki/Zimbabwe\"\n",
    "    \"https://www.zim.gov.zw/index.php/en/my-government/government-ministries/about-zimbabwe/460-history-of-zimbabwe?showall=1\"\n",
    "]\n",
    "\n",
    "for url in articles:\n",
    "    loader.load(url)\n"
   ]
  },
  {
   "cell_type": "code",
   "execution_count": 6,
   "metadata": {},
   "outputs": [
    {
     "name": "stderr",
     "output_type": "stream",
     "text": [
      "2024-02-20 12:28:19,286 [MainThread  ] [INFO ]  --- Building Graph ---\n",
      "2024-02-20 12:28:19,286 INFO rootLogger: --- Building Graph ---\n",
      "2024-02-20 12:28:19,290 [MainThread  ] [INFO ]  --- Graph Built ---\n",
      "2024-02-20 12:28:19,290 INFO rootLogger: --- Graph Built ---\n"
     ]
    }
   ],
   "source": [
    "vector_store = loader.vectorstore\n",
    "\n",
    "# vector_store = Chroma(embedding_function=embeddings, persist_directory=db_name)\n",
    "\n",
    "crag = t.LangGraphContextualRag(logger=logger, llm=llm, vectorstore=vector_store)\n",
    "\n",
    "# crag\n",
    "\n",
    "# vector_store.similarity_search(\"What is the history of Zimbabwe?\")\n",
    "\n",
    "# vector_store.as_retriever().get_relevant_documents(\"Zimbabwe?\")"
   ]
  },
  {
   "cell_type": "code",
   "execution_count": 7,
   "metadata": {},
   "outputs": [
    {
     "name": "stderr",
     "output_type": "stream",
     "text": [
      "2024-02-20 12:28:19,295 [MainThread  ] [INFO ]  --- Invoking Graph ---\n",
      "2024-02-20 12:28:19,295 INFO rootLogger: --- Invoking Graph ---\n",
      "2024-02-20 12:28:19,296 [MainThread  ] [INFO ]  Question: What is the history of Zimbabwe?\n",
      "2024-02-20 12:28:19,296 INFO rootLogger: Question: What is the history of Zimbabwe?\n",
      "2024-02-20 12:28:19,458 [ThreadPoolEx] [INFO ]  --- Retrieving documents ---\n",
      "2024-02-20 12:28:19,458 INFO rootLogger: --- Retrieving documents ---\n",
      "2024-02-20 12:28:19,469 [ThreadPoolEx] [INFO ]  Retrieved 4 documents from vector store\n",
      "2024-02-20 12:28:19,469 INFO rootLogger: Retrieved 4 documents from vector store\n",
      "2024-02-20 12:28:19,477 [MainThread  ] [INFO ]  Currently processing node: retrieve\n",
      "2024-02-20 12:28:19,477 INFO rootLogger: Currently processing node: retrieve\n",
      "2024-02-20 12:28:19,479 [MainThread  ] [INFO ]  \n",
      " ====== Stage Name: retrieve ======\n",
      "Question: What is the history of Zimbabwe?\n",
      "Document Count: 4\n",
      "Generation: Pending\n",
      "2024-02-20 12:28:19,479 INFO rootLogger: \n",
      " ====== Stage Name: retrieve ======\n",
      "Question: What is the history of Zimbabwe?\n",
      "Document Count: 4\n",
      "Generation: Pending\n",
      "2024-02-20 12:28:19,493 [ThreadPoolEx] [INFO ]  --- Grading documents - Checking relevance ---\n",
      "2024-02-20 12:28:19,493 INFO rootLogger: --- Grading documents - Checking relevance ---\n",
      "2024-02-20 12:28:19,495 [ThreadPoolEx] [INFO ]  STATE: \n",
      "\n",
      "{'keys': {'documents': [Document(page_content='Wikimedia Commons has media related to History of Zimbabwe.', metadata={'language': 'en', 'source': 'https://en.wikipedia.org/wiki/History_of_Zimbabwe', 'title': 'History of Zimbabwe - Wikipedia'}), Document(page_content='History of Zimbabwe - Wikipedia\\n\\n\\n\\n\\n\\n\\n\\n\\n\\n\\n\\n\\n\\n\\n\\n\\n\\n\\n\\n\\n\\n\\n\\n\\n\\n\\n\\nJump to content\\n\\n\\n\\n\\n\\n\\n\\nMain menu\\n\\n\\n\\n\\n\\nMain menu\\nmove to sidebar\\nhide\\n\\n\\n\\n\\t\\tNavigation\\n\\t\\n\\n\\nMain pageContentsCurrent eventsRandom articleAbout WikipediaContact usDonate\\n\\n\\n\\n\\n\\n\\t\\tContribute\\n\\t\\n\\n\\nHelpLearn to editCommunity portalRecent changesUpload file\\n\\n\\n\\n\\n\\nLanguages\\n\\nLanguage links are at the top of the page.\\n\\n\\n\\n\\n\\n\\n\\n\\n\\n\\n\\n\\n\\n\\n\\n\\n\\n\\n\\nSearch\\n\\n\\n\\n\\n\\n\\n\\n\\n\\n\\n\\nSearch\\n\\n\\n\\n\\n\\n\\n\\n\\n\\n\\n\\n\\n\\n\\n\\n\\n\\n\\n\\n\\n\\n\\n\\n\\n\\n\\n\\n\\n\\nCreate account\\n\\nLog in\\n\\n\\n\\n\\n\\n\\n\\n\\nPersonal tools', metadata={'language': 'en', 'source': 'https://en.wikipedia.org/wiki/History_of_Zimbabwe', 'title': 'History of Zimbabwe - Wikipedia'}), Document(page_content=\"History of Zimbabwe\\n\\nAncient history Leopard's Kopje c.\\u2009900\\xa0– c.\\u20091075 Mapungubwe Kingdom c.\\u20091075\\xa0– c.\\u20091220 Zimbabwe Kingdom c.\\u20091220\\xa0– c.\\u20091450 Butua Kingdom c.\\u20091450–1683 Mutapa Kingdom c.\\u20091450–1760\", metadata={'language': 'en', 'source': 'https://en.wikipedia.org/wiki/History_of_Zimbabwe', 'title': 'History of Zimbabwe - Wikipedia'}), Document(page_content='Retrieved from \"https://en.wikipedia.org/w/index.php?title=History_of_Zimbabwe&oldid=1209151737\"', metadata={'language': 'en', 'source': 'https://en.wikipedia.org/wiki/History_of_Zimbabwe', 'title': 'History of Zimbabwe - Wikipedia'})], 'question': 'What is the history of Zimbabwe?'}}\n",
      "2024-02-20 12:28:19,495 INFO rootLogger: STATE: \n",
      "\n",
      "{'keys': {'documents': [Document(page_content='Wikimedia Commons has media related to History of Zimbabwe.', metadata={'language': 'en', 'source': 'https://en.wikipedia.org/wiki/History_of_Zimbabwe', 'title': 'History of Zimbabwe - Wikipedia'}), Document(page_content='History of Zimbabwe - Wikipedia\\n\\n\\n\\n\\n\\n\\n\\n\\n\\n\\n\\n\\n\\n\\n\\n\\n\\n\\n\\n\\n\\n\\n\\n\\n\\n\\n\\nJump to content\\n\\n\\n\\n\\n\\n\\n\\nMain menu\\n\\n\\n\\n\\n\\nMain menu\\nmove to sidebar\\nhide\\n\\n\\n\\n\\t\\tNavigation\\n\\t\\n\\n\\nMain pageContentsCurrent eventsRandom articleAbout WikipediaContact usDonate\\n\\n\\n\\n\\n\\n\\t\\tContribute\\n\\t\\n\\n\\nHelpLearn to editCommunity portalRecent changesUpload file\\n\\n\\n\\n\\n\\nLanguages\\n\\nLanguage links are at the top of the page.\\n\\n\\n\\n\\n\\n\\n\\n\\n\\n\\n\\n\\n\\n\\n\\n\\n\\n\\n\\nSearch\\n\\n\\n\\n\\n\\n\\n\\n\\n\\n\\n\\nSearch\\n\\n\\n\\n\\n\\n\\n\\n\\n\\n\\n\\n\\n\\n\\n\\n\\n\\n\\n\\n\\n\\n\\n\\n\\n\\n\\n\\n\\n\\nCreate account\\n\\nLog in\\n\\n\\n\\n\\n\\n\\n\\n\\nPersonal tools', metadata={'language': 'en', 'source': 'https://en.wikipedia.org/wiki/History_of_Zimbabwe', 'title': 'History of Zimbabwe - Wikipedia'}), Document(page_content=\"History of Zimbabwe\\n\\nAncient history Leopard's Kopje c.\\u2009900\\xa0– c.\\u20091075 Mapungubwe Kingdom c.\\u20091075\\xa0– c.\\u20091220 Zimbabwe Kingdom c.\\u20091220\\xa0– c.\\u20091450 Butua Kingdom c.\\u20091450–1683 Mutapa Kingdom c.\\u20091450–1760\", metadata={'language': 'en', 'source': 'https://en.wikipedia.org/wiki/History_of_Zimbabwe', 'title': 'History of Zimbabwe - Wikipedia'}), Document(page_content='Retrieved from \"https://en.wikipedia.org/w/index.php?title=History_of_Zimbabwe&oldid=1209151737\"', metadata={'language': 'en', 'source': 'https://en.wikipedia.org/wiki/History_of_Zimbabwe', 'title': 'History of Zimbabwe - Wikipedia'})], 'question': 'What is the history of Zimbabwe?'}}\n",
      "2024-02-20 12:28:19,496 [ThreadPoolEx] [INFO ]  Grading 4 documents for relevance\n",
      "2024-02-20 12:28:19,496 INFO rootLogger: Grading 4 documents for relevance\n",
      "2024-02-20 12:28:19,498 [ThreadPoolEx] [INFO ]  0 Grading document: {'language': 'en', 'source': 'https://en.wikipedia.org/wiki/History_of_Zimbabwe', 'title': 'History of Zimbabwe - Wikipedia'}\n",
      "2024-02-20 12:28:19,498 INFO rootLogger: 0 Grading document: {'language': 'en', 'source': 'https://en.wikipedia.org/wiki/History_of_Zimbabwe', 'title': 'History of Zimbabwe - Wikipedia'}\n"
     ]
    },
    {
     "name": "stdout",
     "output_type": "stream",
     "text": [
      "{'retrieve': {'keys': {'documents': [Document(page_content='Wikimedia Commons has media related to History of Zimbabwe.', metadata={'language': 'en', 'source': 'https://en.wikipedia.org/wiki/History_of_Zimbabwe', 'title': 'History of Zimbabwe - Wikipedia'}), Document(page_content='History of Zimbabwe - Wikipedia\\n\\n\\n\\n\\n\\n\\n\\n\\n\\n\\n\\n\\n\\n\\n\\n\\n\\n\\n\\n\\n\\n\\n\\n\\n\\n\\n\\nJump to content\\n\\n\\n\\n\\n\\n\\n\\nMain menu\\n\\n\\n\\n\\n\\nMain menu\\nmove to sidebar\\nhide\\n\\n\\n\\n\\t\\tNavigation\\n\\t\\n\\n\\nMain pageContentsCurrent eventsRandom articleAbout WikipediaContact usDonate\\n\\n\\n\\n\\n\\n\\t\\tContribute\\n\\t\\n\\n\\nHelpLearn to editCommunity portalRecent changesUpload file\\n\\n\\n\\n\\n\\nLanguages\\n\\nLanguage links are at the top of the page.\\n\\n\\n\\n\\n\\n\\n\\n\\n\\n\\n\\n\\n\\n\\n\\n\\n\\n\\n\\nSearch\\n\\n\\n\\n\\n\\n\\n\\n\\n\\n\\n\\nSearch\\n\\n\\n\\n\\n\\n\\n\\n\\n\\n\\n\\n\\n\\n\\n\\n\\n\\n\\n\\n\\n\\n\\n\\n\\n\\n\\n\\n\\n\\nCreate account\\n\\nLog in\\n\\n\\n\\n\\n\\n\\n\\n\\nPersonal tools', metadata={'language': 'en', 'source': 'https://en.wikipedia.org/wiki/History_of_Zimbabwe', 'title': 'History of Zimbabwe - Wikipedia'}), Document(page_content=\"History of Zimbabwe\\n\\nAncient history Leopard's Kopje c.\\u2009900\\xa0– c.\\u20091075 Mapungubwe Kingdom c.\\u20091075\\xa0– c.\\u20091220 Zimbabwe Kingdom c.\\u20091220\\xa0– c.\\u20091450 Butua Kingdom c.\\u20091450–1683 Mutapa Kingdom c.\\u20091450–1760\", metadata={'language': 'en', 'source': 'https://en.wikipedia.org/wiki/History_of_Zimbabwe', 'title': 'History of Zimbabwe - Wikipedia'}), Document(page_content='Retrieved from \"https://en.wikipedia.org/w/index.php?title=History_of_Zimbabwe&oldid=1209151737\"', metadata={'language': 'en', 'source': 'https://en.wikipedia.org/wiki/History_of_Zimbabwe', 'title': 'History of Zimbabwe - Wikipedia'})], 'question': 'What is the history of Zimbabwe?'}}}\n"
     ]
    },
    {
     "name": "stderr",
     "output_type": "stream",
     "text": [
      "2024-02-20 12:28:20,148 [ThreadPoolEx] [INFO ]  0 Document is relevant to the question\n",
      "2024-02-20 12:28:20,148 INFO rootLogger: 0 Document is relevant to the question\n",
      "2024-02-20 12:28:20,148 [ThreadPoolEx] [INFO ]  1 Grading document: {'language': 'en', 'source': 'https://en.wikipedia.org/wiki/History_of_Zimbabwe', 'title': 'History of Zimbabwe - Wikipedia'}\n",
      "2024-02-20 12:28:20,148 INFO rootLogger: 1 Grading document: {'language': 'en', 'source': 'https://en.wikipedia.org/wiki/History_of_Zimbabwe', 'title': 'History of Zimbabwe - Wikipedia'}\n",
      "2024-02-20 12:28:20,857 [ThreadPoolEx] [INFO ]  1 Document is relevant to the question\n",
      "2024-02-20 12:28:20,857 INFO rootLogger: 1 Document is relevant to the question\n",
      "2024-02-20 12:28:20,858 [ThreadPoolEx] [INFO ]  2 Grading document: {'language': 'en', 'source': 'https://en.wikipedia.org/wiki/History_of_Zimbabwe', 'title': 'History of Zimbabwe - Wikipedia'}\n",
      "2024-02-20 12:28:20,858 INFO rootLogger: 2 Grading document: {'language': 'en', 'source': 'https://en.wikipedia.org/wiki/History_of_Zimbabwe', 'title': 'History of Zimbabwe - Wikipedia'}\n",
      "2024-02-20 12:28:21,475 [ThreadPoolEx] [INFO ]  2 Document is relevant to the question\n",
      "2024-02-20 12:28:21,475 INFO rootLogger: 2 Document is relevant to the question\n",
      "2024-02-20 12:28:21,476 [ThreadPoolEx] [INFO ]  3 Grading document: {'language': 'en', 'source': 'https://en.wikipedia.org/wiki/History_of_Zimbabwe', 'title': 'History of Zimbabwe - Wikipedia'}\n",
      "2024-02-20 12:28:21,476 INFO rootLogger: 3 Grading document: {'language': 'en', 'source': 'https://en.wikipedia.org/wiki/History_of_Zimbabwe', 'title': 'History of Zimbabwe - Wikipedia'}\n",
      "2024-02-20 12:28:21,990 [ThreadPoolEx] [INFO ]  3 Document is relevant to the question\n",
      "2024-02-20 12:28:21,990 INFO rootLogger: 3 Document is relevant to the question\n",
      "2024-02-20 12:28:21,996 [MainThread  ] [INFO ]  Currently processing node: grade_documents\n",
      "2024-02-20 12:28:21,996 INFO rootLogger: Currently processing node: grade_documents\n",
      "2024-02-20 12:28:21,997 [MainThread  ] [INFO ]  \n",
      " ====== Stage Name: grade_documents ======\n",
      "Question: What is the history of Zimbabwe?\n",
      "Document Count: 4\n",
      "Generation: Pending\n",
      "2024-02-20 12:28:21,997 INFO rootLogger: \n",
      " ====== Stage Name: grade_documents ======\n",
      "Question: What is the history of Zimbabwe?\n",
      "Document Count: 4\n",
      "Generation: Pending\n",
      "2024-02-20 12:28:22,006 [ThreadPoolEx] [INFO ]  --- Deciding to generate new question ---\n",
      "2024-02-20 12:28:22,006 INFO rootLogger: --- Deciding to generate new question ---\n",
      "2024-02-20 12:28:22,008 [ThreadPoolEx] [INFO ]  --- DECISION: GENERATE\n",
      "2024-02-20 12:28:22,008 INFO rootLogger: --- DECISION: GENERATE\n",
      "2024-02-20 12:28:22,018 [ThreadPoolEx] [INFO ]  --- Generating answer ---\n",
      "2024-02-20 12:28:22,018 INFO rootLogger: --- Generating answer ---\n"
     ]
    },
    {
     "name": "stdout",
     "output_type": "stream",
     "text": [
      "{'grade_documents': {'keys': {'documents': [Document(page_content='Wikimedia Commons has media related to History of Zimbabwe.', metadata={'language': 'en', 'source': 'https://en.wikipedia.org/wiki/History_of_Zimbabwe', 'title': 'History of Zimbabwe - Wikipedia'}), Document(page_content='History of Zimbabwe - Wikipedia\\n\\n\\n\\n\\n\\n\\n\\n\\n\\n\\n\\n\\n\\n\\n\\n\\n\\n\\n\\n\\n\\n\\n\\n\\n\\n\\n\\nJump to content\\n\\n\\n\\n\\n\\n\\n\\nMain menu\\n\\n\\n\\n\\n\\nMain menu\\nmove to sidebar\\nhide\\n\\n\\n\\n\\t\\tNavigation\\n\\t\\n\\n\\nMain pageContentsCurrent eventsRandom articleAbout WikipediaContact usDonate\\n\\n\\n\\n\\n\\n\\t\\tContribute\\n\\t\\n\\n\\nHelpLearn to editCommunity portalRecent changesUpload file\\n\\n\\n\\n\\n\\nLanguages\\n\\nLanguage links are at the top of the page.\\n\\n\\n\\n\\n\\n\\n\\n\\n\\n\\n\\n\\n\\n\\n\\n\\n\\n\\n\\nSearch\\n\\n\\n\\n\\n\\n\\n\\n\\n\\n\\n\\nSearch\\n\\n\\n\\n\\n\\n\\n\\n\\n\\n\\n\\n\\n\\n\\n\\n\\n\\n\\n\\n\\n\\n\\n\\n\\n\\n\\n\\n\\n\\nCreate account\\n\\nLog in\\n\\n\\n\\n\\n\\n\\n\\n\\nPersonal tools', metadata={'language': 'en', 'source': 'https://en.wikipedia.org/wiki/History_of_Zimbabwe', 'title': 'History of Zimbabwe - Wikipedia'}), Document(page_content=\"History of Zimbabwe\\n\\nAncient history Leopard's Kopje c.\\u2009900\\xa0– c.\\u20091075 Mapungubwe Kingdom c.\\u20091075\\xa0– c.\\u20091220 Zimbabwe Kingdom c.\\u20091220\\xa0– c.\\u20091450 Butua Kingdom c.\\u20091450–1683 Mutapa Kingdom c.\\u20091450–1760\", metadata={'language': 'en', 'source': 'https://en.wikipedia.org/wiki/History_of_Zimbabwe', 'title': 'History of Zimbabwe - Wikipedia'}), Document(page_content='Retrieved from \"https://en.wikipedia.org/w/index.php?title=History_of_Zimbabwe&oldid=1209151737\"', metadata={'language': 'en', 'source': 'https://en.wikipedia.org/wiki/History_of_Zimbabwe', 'title': 'History of Zimbabwe - Wikipedia'})], 'question': 'What is the history of Zimbabwe?', 'run_web_search': 'No'}}}\n"
     ]
    },
    {
     "name": "stderr",
     "output_type": "stream",
     "text": [
      "2024-02-20 12:28:25,872 [MainThread  ] [INFO ]  Currently processing node: generate\n",
      "2024-02-20 12:28:25,872 INFO rootLogger: Currently processing node: generate\n",
      "2024-02-20 12:28:25,873 [MainThread  ] [INFO ]  \n",
      " ====== Stage Name: generate ======\n",
      "Question: What is the history of Zimbabwe?\n",
      "Document Count: 4\n",
      "Generation: Done\n",
      "2024-02-20 12:28:25,873 INFO rootLogger: \n",
      " ====== Stage Name: generate ======\n",
      "Question: What is the history of Zimbabwe?\n",
      "Document Count: 4\n",
      "Generation: Done\n",
      "2024-02-20 12:28:25,880 [MainThread  ] [INFO ]  Currently processing node: __end__\n",
      "2024-02-20 12:28:25,880 INFO rootLogger: Currently processing node: __end__\n",
      "2024-02-20 12:28:25,881 [MainThread  ] [INFO ]  \n",
      " ====== Stage Name: __end__ ======\n",
      "Question: What is the history of Zimbabwe?\n",
      "Document Count: 4\n",
      "Generation: Done\n",
      "2024-02-20 12:28:25,881 INFO rootLogger: \n",
      " ====== Stage Name: __end__ ======\n",
      "Question: What is the history of Zimbabwe?\n",
      "Document Count: 4\n",
      "Generation: Done\n"
     ]
    },
    {
     "name": "stdout",
     "output_type": "stream",
     "text": [
      "{'generate': {'keys': {'documents': [Document(page_content='Wikimedia Commons has media related to History of Zimbabwe.', metadata={'language': 'en', 'source': 'https://en.wikipedia.org/wiki/History_of_Zimbabwe', 'title': 'History of Zimbabwe - Wikipedia'}), Document(page_content='History of Zimbabwe - Wikipedia\\n\\n\\n\\n\\n\\n\\n\\n\\n\\n\\n\\n\\n\\n\\n\\n\\n\\n\\n\\n\\n\\n\\n\\n\\n\\n\\n\\nJump to content\\n\\n\\n\\n\\n\\n\\n\\nMain menu\\n\\n\\n\\n\\n\\nMain menu\\nmove to sidebar\\nhide\\n\\n\\n\\n\\t\\tNavigation\\n\\t\\n\\n\\nMain pageContentsCurrent eventsRandom articleAbout WikipediaContact usDonate\\n\\n\\n\\n\\n\\n\\t\\tContribute\\n\\t\\n\\n\\nHelpLearn to editCommunity portalRecent changesUpload file\\n\\n\\n\\n\\n\\nLanguages\\n\\nLanguage links are at the top of the page.\\n\\n\\n\\n\\n\\n\\n\\n\\n\\n\\n\\n\\n\\n\\n\\n\\n\\n\\n\\nSearch\\n\\n\\n\\n\\n\\n\\n\\n\\n\\n\\n\\nSearch\\n\\n\\n\\n\\n\\n\\n\\n\\n\\n\\n\\n\\n\\n\\n\\n\\n\\n\\n\\n\\n\\n\\n\\n\\n\\n\\n\\n\\n\\nCreate account\\n\\nLog in\\n\\n\\n\\n\\n\\n\\n\\n\\nPersonal tools', metadata={'language': 'en', 'source': 'https://en.wikipedia.org/wiki/History_of_Zimbabwe', 'title': 'History of Zimbabwe - Wikipedia'}), Document(page_content=\"History of Zimbabwe\\n\\nAncient history Leopard's Kopje c.\\u2009900\\xa0– c.\\u20091075 Mapungubwe Kingdom c.\\u20091075\\xa0– c.\\u20091220 Zimbabwe Kingdom c.\\u20091220\\xa0– c.\\u20091450 Butua Kingdom c.\\u20091450–1683 Mutapa Kingdom c.\\u20091450–1760\", metadata={'language': 'en', 'source': 'https://en.wikipedia.org/wiki/History_of_Zimbabwe', 'title': 'History of Zimbabwe - Wikipedia'}), Document(page_content='Retrieved from \"https://en.wikipedia.org/w/index.php?title=History_of_Zimbabwe&oldid=1209151737\"', metadata={'language': 'en', 'source': 'https://en.wikipedia.org/wiki/History_of_Zimbabwe', 'title': 'History of Zimbabwe - Wikipedia'})], 'question': 'What is the history of Zimbabwe?', 'generation': \" The history of Zimbabwe dates back to ancient times, with the first known civilization being the Leopard's Kopje culture around 900-1075 AD. Subsequently, there were the Mapungubwe and Zimbabwe Kingdoms, both around the 11th to 13th centuries. The Butua Kingdom existed from the 15th to 17th centuries, followed by the Mutapa Kingdom until 1760.\"}}}\n",
      "{'__end__': {'keys': {'documents': [Document(page_content='Wikimedia Commons has media related to History of Zimbabwe.', metadata={'language': 'en', 'source': 'https://en.wikipedia.org/wiki/History_of_Zimbabwe', 'title': 'History of Zimbabwe - Wikipedia'}), Document(page_content='History of Zimbabwe - Wikipedia\\n\\n\\n\\n\\n\\n\\n\\n\\n\\n\\n\\n\\n\\n\\n\\n\\n\\n\\n\\n\\n\\n\\n\\n\\n\\n\\n\\nJump to content\\n\\n\\n\\n\\n\\n\\n\\nMain menu\\n\\n\\n\\n\\n\\nMain menu\\nmove to sidebar\\nhide\\n\\n\\n\\n\\t\\tNavigation\\n\\t\\n\\n\\nMain pageContentsCurrent eventsRandom articleAbout WikipediaContact usDonate\\n\\n\\n\\n\\n\\n\\t\\tContribute\\n\\t\\n\\n\\nHelpLearn to editCommunity portalRecent changesUpload file\\n\\n\\n\\n\\n\\nLanguages\\n\\nLanguage links are at the top of the page.\\n\\n\\n\\n\\n\\n\\n\\n\\n\\n\\n\\n\\n\\n\\n\\n\\n\\n\\n\\nSearch\\n\\n\\n\\n\\n\\n\\n\\n\\n\\n\\n\\nSearch\\n\\n\\n\\n\\n\\n\\n\\n\\n\\n\\n\\n\\n\\n\\n\\n\\n\\n\\n\\n\\n\\n\\n\\n\\n\\n\\n\\n\\n\\nCreate account\\n\\nLog in\\n\\n\\n\\n\\n\\n\\n\\n\\nPersonal tools', metadata={'language': 'en', 'source': 'https://en.wikipedia.org/wiki/History_of_Zimbabwe', 'title': 'History of Zimbabwe - Wikipedia'}), Document(page_content=\"History of Zimbabwe\\n\\nAncient history Leopard's Kopje c.\\u2009900\\xa0– c.\\u20091075 Mapungubwe Kingdom c.\\u20091075\\xa0– c.\\u20091220 Zimbabwe Kingdom c.\\u20091220\\xa0– c.\\u20091450 Butua Kingdom c.\\u20091450–1683 Mutapa Kingdom c.\\u20091450–1760\", metadata={'language': 'en', 'source': 'https://en.wikipedia.org/wiki/History_of_Zimbabwe', 'title': 'History of Zimbabwe - Wikipedia'}), Document(page_content='Retrieved from \"https://en.wikipedia.org/w/index.php?title=History_of_Zimbabwe&oldid=1209151737\"', metadata={'language': 'en', 'source': 'https://en.wikipedia.org/wiki/History_of_Zimbabwe', 'title': 'History of Zimbabwe - Wikipedia'})], 'question': 'What is the history of Zimbabwe?', 'generation': \" The history of Zimbabwe dates back to ancient times, with the first known civilization being the Leopard's Kopje culture around 900-1075 AD. Subsequently, there were the Mapungubwe and Zimbabwe Kingdoms, both around the 11th to 13th centuries. The Butua Kingdom existed from the 15th to 17th centuries, followed by the Mutapa Kingdom until 1760.\"}}}\n"
     ]
    }
   ],
   "source": [
    "crag.invoke(\"What is the history of Zimbabwe?\")"
   ]
  },
  {
   "cell_type": "code",
   "execution_count": 30,
   "metadata": {},
   "outputs": [
    {
     "name": "stdout",
     "output_type": "stream",
     "text": [
      "\n",
      " ====== Stage Name: __end__ ======\n",
      "Question: What is the history of Zimbabwe?\n",
      "Document Count: 4\n",
      "Generation: Done\n",
      "(' The history of Zimbabwe dates back to ancient times, with the first known '\n",
      " \"civilization being the Leopard's Kopje culture around 900-1075 AD. \"\n",
      " 'Subsequently, there were the Mapungubwe and Zimbabwe Kingdoms, both around '\n",
      " 'the 11th to 13th centuries. The Butua Kingdom existed from the 15th to 17th '\n",
      " 'centuries, followed by the Mutapa Kingdom until 1760.')\n"
     ]
    }
   ],
   "source": [
    "print(crag.format_state(crag.stage_name, crag.state))\n",
    "pprint.pprint(crag.state['keys']['generation'])"
   ]
  },
  {
   "cell_type": "code",
   "execution_count": null,
   "metadata": {},
   "outputs": [],
   "source": []
  }
 ],
 "metadata": {
  "kernelspec": {
   "display_name": "base",
   "language": "python",
   "name": "python3"
  },
  "language_info": {
   "codemirror_mode": {
    "name": "ipython",
    "version": 3
   },
   "file_extension": ".py",
   "mimetype": "text/x-python",
   "name": "python",
   "nbconvert_exporter": "python",
   "pygments_lexer": "ipython3",
   "version": "3.10.13"
  }
 },
 "nbformat": 4,
 "nbformat_minor": 2
}

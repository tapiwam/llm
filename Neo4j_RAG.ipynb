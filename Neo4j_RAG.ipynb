{
 "cells": [
  {
   "cell_type": "code",
   "execution_count": 1,
   "id": "94a0b16b-65e9-4196-bcf6-7e6a25b06ac7",
   "metadata": {},
   "outputs": [],
   "source": [
    "# !pip install -q neo4j wikipedia lxml gpt4all\n"
   ]
  },
  {
   "cell_type": "code",
   "execution_count": 2,
   "id": "ab045de8-58e9-43b8-afb0-a22584121784",
   "metadata": {},
   "outputs": [],
   "source": [
    "import os\n",
    "from dotenv import load_dotenv\n",
    "\n",
    "load_dotenv()\n",
    "\n",
    "NEO_DB = os.getenv('NEO_DB')\n",
    "NEO_USER = os.getenv('NEO_USER')\n",
    "NEO_PASS = os.getenv('NEO_PASS')\n",
    "\n"
   ]
  },
  {
   "cell_type": "code",
   "execution_count": 3,
   "id": "dc4ed38a-8700-42ef-8421-cb0703ec54d5",
   "metadata": {},
   "outputs": [],
   "source": [
    "from langchain.document_loaders import WikipediaLoader\n",
    "from langchain.text_splitter import CharacterTextSplitter\n",
    "from langchain_community.vectorstores import Neo4jVector\n",
    "from langchain_community.embeddings import GPT4AllEmbeddings"
   ]
  },
  {
   "cell_type": "markdown",
   "id": "8973154e-dec1-4a28-bd3d-914406651445",
   "metadata": {},
   "source": [
    "# Load documents"
   ]
  },
  {
   "cell_type": "code",
   "execution_count": 4,
   "id": "5156e17d-cbef-460e-9797-dc7c07c16154",
   "metadata": {},
   "outputs": [
    {
     "name": "stderr",
     "output_type": "stream",
     "text": [
      "/opt/conda/lib/python3.11/site-packages/wikipedia/wikipedia.py:389: GuessedAtParserWarning: No parser was explicitly specified, so I'm using the best available HTML parser for this system (\"lxml\"). This usually isn't a problem, but if you run this code on another system, or in a different virtual environment, it may use a different parser and behave differently.\n",
      "\n",
      "The code that caused this warning is on line 389 of the file /opt/conda/lib/python3.11/site-packages/wikipedia/wikipedia.py. To get rid of this warning, pass the additional argument 'features=\"lxml\"' to the BeautifulSoup constructor.\n",
      "\n",
      "  lis = BeautifulSoup(html).find_all('li')\n"
     ]
    }
   ],
   "source": [
    "\n",
    "\n",
    "# Read the wikipedia article\n",
    "raw_documents = WikipediaLoader(query=\"The Witcher\").load()\n",
    "# Define chunking strategy\n",
    "text_splitter = CharacterTextSplitter.from_tiktoken_encoder(\n",
    "    chunk_size=1000, chunk_overlap=20\n",
    ")\n",
    "# Chunk the document\n",
    "documents = text_splitter.split_documents(raw_documents)\n",
    "# Remove the summary\n",
    "for d in documents:\n",
    "    del d.metadata[\"summary\"]\n",
    "\n"
   ]
  },
  {
   "cell_type": "code",
   "execution_count": 5,
   "id": "74057c55-a65f-4491-989e-b35b05ec286d",
   "metadata": {},
   "outputs": [
    {
     "name": "stdout",
     "output_type": "stream",
     "text": [
      "bert_load_from_file: gguf version     = 2\n",
      "bert_load_from_file: gguf alignment   = 32\n",
      "bert_load_from_file: gguf data offset = 695552\n",
      "bert_load_from_file: model name           = BERT\n",
      "bert_load_from_file: model architecture   = bert\n",
      "bert_load_from_file: model file type      = 1\n",
      "bert_load_from_file: bert tokenizer vocab = 30522\n"
     ]
    }
   ],
   "source": [
    "embeddings = GPT4AllEmbeddings()"
   ]
  },
  {
   "cell_type": "code",
   "execution_count": 6,
   "id": "c8b87671-f76f-403d-9702-32c821cb335a",
   "metadata": {},
   "outputs": [],
   "source": [
    "url=\"neo4j://192.168.68.84:7687/\"\n",
    "\n",
    "neo4j_db = Neo4jVector.from_documents(\n",
    "    documents,\n",
    "    embeddings,\n",
    "    url=url,\n",
    "    username=NEO_USER,\n",
    "    password= NEO_PASS,\n",
    "    #database=NEO_DB,  # neo4j by default\n",
    "    index_name=\"wikipedia\",  # vector by default\n",
    "    node_label=\"WikipediaArticle\",  # Chunk by default\n",
    "    text_node_property=\"info\",  # text by default\n",
    "    embedding_node_property=\"vector\",  # embedding by default\n",
    "    create_id_index=True,  # True by default\n",
    ")"
   ]
  },
  {
   "cell_type": "code",
   "execution_count": 7,
   "id": "45dc4362-b91c-4284-90fb-7ea111176806",
   "metadata": {},
   "outputs": [],
   "source": [
    "existing_index = Neo4jVector.from_existing_index(\n",
    "    embedding=embeddings,\n",
    "    url=url,\n",
    "    username=NEO_USER,\n",
    "    password=NEO_PASS,\n",
    "    index_name=\"wikipedia\",\n",
    "    text_node_property=\"info\",  # Need to define if it is not default\n",
    ")"
   ]
  },
  {
   "cell_type": "code",
   "execution_count": 8,
   "id": "f64d2f04-f96c-4c1a-b648-a7b9cd276835",
   "metadata": {},
   "outputs": [
    {
     "name": "stdout",
     "output_type": "stream",
     "text": [
      "WikipediaArticle\n",
      "vector\n"
     ]
    }
   ],
   "source": [
    "print(existing_index.node_label) # WikipediaArticle\n",
    "print(existing_index.embedding_node_property) # vector"
   ]
  },
  {
   "cell_type": "code",
   "execution_count": 9,
   "id": "1f98846e-ab83-4ccb-bad3-cac8effcb79f",
   "metadata": {},
   "outputs": [],
   "source": [
    "query = \"Who was the witcher in the video game?\"\n",
    "docs_with_score = existing_index.similarity_search_with_score(query, k=3)"
   ]
  },
  {
   "cell_type": "code",
   "execution_count": 10,
   "id": "5f316307-86dc-474c-83d8-c99dd80bde68",
   "metadata": {},
   "outputs": [
    {
     "data": {
      "text/plain": [
       "3"
      ]
     },
     "execution_count": 10,
     "metadata": {},
     "output_type": "execute_result"
    }
   ],
   "source": [
    "len(docs_with_score)"
   ]
  },
  {
   "cell_type": "code",
   "execution_count": 11,
   "id": "bb7d4c36-b241-4f48-9c97-cc636311eae4",
   "metadata": {},
   "outputs": [
    {
     "name": "stdout",
     "output_type": "stream",
     "text": [
      "--------------------------------------------------------------------------------\n",
      "Score:  0.8134828805923462\n",
      "The Witcher (Polish: Wiedźmin) is a fantasy action role-playing game series developed by CD Projekt Red and published by CD Projekt. It is based on the book series of the same name by Polish writer An\n",
      "--------------------------------------------------------------------------------\n",
      "--------------------------------------------------------------------------------\n",
      "Score:  0.8134828805923462\n",
      "The Witcher (Polish: Wiedźmin) is a fantasy action role-playing game series developed by CD Projekt Red and published by CD Projekt. It is based on the book series of the same name by Polish writer An\n",
      "--------------------------------------------------------------------------------\n",
      "--------------------------------------------------------------------------------\n",
      "Score:  0.8134828805923462\n",
      "The Witcher (Polish: Wiedźmin) is a fantasy action role-playing game series developed by CD Projekt Red and published by CD Projekt. It is based on the book series of the same name by Polish writer An\n",
      "--------------------------------------------------------------------------------\n"
     ]
    }
   ],
   "source": [
    "for doc, score in docs_with_score:\n",
    "    print(\"-\" * 80)\n",
    "    print(\"Score: \", score)\n",
    "    print(doc.page_content[:200])\n",
    "    print(\"-\" * 80)"
   ]
  },
  {
   "cell_type": "code",
   "execution_count": null,
   "id": "97781dec-0851-4770-9dbe-04dc0297550e",
   "metadata": {},
   "outputs": [],
   "source": []
  },
  {
   "cell_type": "markdown",
   "id": "01c0c288-6502-4bad-88dd-25063d4078d1",
   "metadata": {},
   "source": [
    "# Information Extraction "
   ]
  },
  {
   "cell_type": "code",
   "execution_count": 12,
   "id": "e3415adf-7566-4cf2-9be8-2c58c4f749b5",
   "metadata": {},
   "outputs": [],
   "source": [
    "# GET DOCS\n",
    "\n",
    "# CHUNK \n",
    "\n",
    "# LLM TO CLEAN \n",
    "\n",
    "# LLM TO FORMAT "
   ]
  },
  {
   "cell_type": "code",
   "execution_count": 13,
   "id": "346322aa-16b4-4122-93eb-c378f6edaa22",
   "metadata": {},
   "outputs": [
    {
     "data": {
      "text/plain": [
       "23"
      ]
     },
     "execution_count": 13,
     "metadata": {},
     "output_type": "execute_result"
    }
   ],
   "source": [
    "len(raw_documents)"
   ]
  },
  {
   "cell_type": "code",
   "execution_count": 14,
   "id": "6f22c83d-bcc0-4768-8cd4-a2777ad927e3",
   "metadata": {},
   "outputs": [],
   "source": [
    "#!pip -q install -U pip setuptools wheel\n",
    "#!python -m -q spacy download en_core_web_sm\n",
    "#!pip install jupyter_contrib_nbextensions\n",
    "#!pip install --upgrade --no-deps --force-reinstall crosslingual_coreference \n",
    "#!pip install -U  allennlp nltk 'spacy[cuda12x,lookups]'\n"
   ]
  },
  {
   "cell_type": "code",
   "execution_count": 18,
   "id": "71eaafe9-097c-46a5-838a-dd8142fdf5e9",
   "metadata": {},
   "outputs": [
    {
     "name": "stderr",
     "output_type": "stream",
     "text": [
      "[nltk_data] Downloading package omw-1.4 to /home/jovyan/nltk_data...\n",
      "[nltk_data]   Package omw-1.4 is already up-to-date!\n"
     ]
    },
    {
     "ename": "ModuleNotFoundError",
     "evalue": "No module named 'allennlp'",
     "output_type": "error",
     "traceback": [
      "\u001b[0;31m---------------------------------------------------------------------------\u001b[0m",
      "\u001b[0;31mModuleNotFoundError\u001b[0m                       Traceback (most recent call last)",
      "Cell \u001b[0;32mIn[18], line 2\u001b[0m\n\u001b[1;32m      1\u001b[0m \u001b[38;5;28;01mimport\u001b[39;00m \u001b[38;5;21;01mspacy\u001b[39;00m\n\u001b[0;32m----> 2\u001b[0m \u001b[38;5;28;01mimport\u001b[39;00m \u001b[38;5;21;01mcrosslingual_coreference\u001b[39;00m\n\u001b[1;32m      4\u001b[0m DEVICE \u001b[38;5;241m=\u001b[39m \u001b[38;5;241m0\u001b[39m \u001b[38;5;66;03m# Number of the GPU, -1 if want to use CPU\u001b[39;00m\n\u001b[1;32m      6\u001b[0m \u001b[38;5;66;03m# Add coreference resolution model\u001b[39;00m\n",
      "File \u001b[0;32m/opt/conda/lib/python3.11/site-packages/crosslingual_coreference/__init__.py:10\u001b[0m\n\u001b[1;32m      6\u001b[0m \u001b[38;5;28;01mfrom\u001b[39;00m \u001b[38;5;21;01mtyping\u001b[39;00m \u001b[38;5;28;01mimport\u001b[39;00m Union  \u001b[38;5;66;03m# noqa: E402\u001b[39;00m\n\u001b[1;32m      8\u001b[0m \u001b[38;5;28;01mfrom\u001b[39;00m \u001b[38;5;21;01mspacy\u001b[39;00m\u001b[38;5;21;01m.\u001b[39;00m\u001b[38;5;21;01mlanguage\u001b[39;00m \u001b[38;5;28;01mimport\u001b[39;00m Language  \u001b[38;5;66;03m# noqa: E402\u001b[39;00m\n\u001b[0;32m---> 10\u001b[0m \u001b[38;5;28;01mfrom\u001b[39;00m \u001b[38;5;21;01m.\u001b[39;00m\u001b[38;5;21;01mCrossLingualPredictor\u001b[39;00m \u001b[38;5;28;01mimport\u001b[39;00m CrossLingualPredictor \u001b[38;5;28;01mas\u001b[39;00m Predictor  \u001b[38;5;66;03m# noqa: E402\u001b[39;00m\n\u001b[1;32m     11\u001b[0m \u001b[38;5;28;01mfrom\u001b[39;00m \u001b[38;5;21;01m.\u001b[39;00m\u001b[38;5;21;01mCrossLingualPredictorSpacy\u001b[39;00m \u001b[38;5;28;01mimport\u001b[39;00m (  \u001b[38;5;66;03m# noqa: E402\u001b[39;00m\n\u001b[1;32m     12\u001b[0m     CrossLingualPredictorSpacy \u001b[38;5;28;01mas\u001b[39;00m SpacyPredictor,\n\u001b[1;32m     13\u001b[0m )\n\u001b[1;32m     15\u001b[0m warnings\u001b[38;5;241m.\u001b[39mfilterwarnings(\u001b[38;5;124m\"\u001b[39m\u001b[38;5;124mignore\u001b[39m\u001b[38;5;124m\"\u001b[39m, category\u001b[38;5;241m=\u001b[39m\u001b[38;5;167;01mUserWarning\u001b[39;00m)\n",
      "File \u001b[0;32m/opt/conda/lib/python3.11/site-packages/crosslingual_coreference/CrossLingualPredictor.py:7\u001b[0m\n\u001b[1;32m      5\u001b[0m \u001b[38;5;28;01mimport\u001b[39;00m \u001b[38;5;21;01mrequests\u001b[39;00m\n\u001b[1;32m      6\u001b[0m \u001b[38;5;28;01mimport\u001b[39;00m \u001b[38;5;21;01mtqdm\u001b[39;00m  \u001b[38;5;66;03m# progress bar\u001b[39;00m\n\u001b[0;32m----> 7\u001b[0m \u001b[38;5;28;01mfrom\u001b[39;00m \u001b[38;5;21;01mallennlp\u001b[39;00m\u001b[38;5;21;01m.\u001b[39;00m\u001b[38;5;21;01mpredictors\u001b[39;00m\u001b[38;5;21;01m.\u001b[39;00m\u001b[38;5;21;01mpredictor\u001b[39;00m \u001b[38;5;28;01mimport\u001b[39;00m Predictor\n\u001b[1;32m      8\u001b[0m \u001b[38;5;28;01mfrom\u001b[39;00m \u001b[38;5;21;01mspacy\u001b[39;00m\u001b[38;5;21;01m.\u001b[39;00m\u001b[38;5;21;01mtokens\u001b[39;00m \u001b[38;5;28;01mimport\u001b[39;00m Doc, Span\n\u001b[1;32m     10\u001b[0m \u001b[38;5;28;01mfrom\u001b[39;00m \u001b[38;5;21;01m.\u001b[39;00m\u001b[38;5;21;01mCorefResolver\u001b[39;00m \u001b[38;5;28;01mimport\u001b[39;00m CorefResolver \u001b[38;5;28;01mas\u001b[39;00m Resolver\n",
      "\u001b[0;31mModuleNotFoundError\u001b[0m: No module named 'allennlp'"
     ]
    }
   ],
   "source": [
    "\n",
    "import spacy\n",
    "import crosslingual_coreference\n",
    "\n",
    "DEVICE = 0 # Number of the GPU, -1 if want to use CPU\n",
    "\n",
    "# Add coreference resolution model\n",
    "coref = spacy.load('en_core_web_sm', disable=['ner', 'tagger', 'parser', 'attribute_ruler', 'lemmatizer'])\n",
    "coref.add_pipe(\"xx_coref\", config={\"chunk_size\": 2500, \"chunk_overlap\": 2, \"device\": DEVICE})"
   ]
  },
  {
   "cell_type": "code",
   "execution_count": null,
   "id": "86e55b44-4cb8-4fe3-9ab4-0d852357382f",
   "metadata": {},
   "outputs": [],
   "source": []
  }
 ],
 "metadata": {
  "kernelspec": {
   "display_name": "Python 3 (ipykernel)",
   "language": "python",
   "name": "python3"
  },
  "language_info": {
   "codemirror_mode": {
    "name": "ipython",
    "version": 3
   },
   "file_extension": ".py",
   "mimetype": "text/x-python",
   "name": "python",
   "nbconvert_exporter": "python",
   "pygments_lexer": "ipython3",
   "version": "3.11.6"
  }
 },
 "nbformat": 4,
 "nbformat_minor": 5
}
